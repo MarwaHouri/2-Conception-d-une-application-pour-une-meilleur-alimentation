{
 "cells": [
  {
   "cell_type": "code",
   "execution_count": 238,
   "id": "730c0110",
   "metadata": {},
   "outputs": [],
   "source": [
    "import numpy as np\n",
    "import seaborn as sns\n",
    "import pandas as pd\n",
    "import matplotlib.pyplot as plt\n",
    "import warnings\n",
    "warnings.filterwarnings('ignore')"
   ]
  },
  {
   "cell_type": "code",
   "execution_count": 239,
   "id": "c25c73cb",
   "metadata": {},
   "outputs": [],
   "source": [
    "df=pd.read_csv('fr.openfoodfacts.org.products.csv', sep='\\t')"
   ]
  },
  {
   "cell_type": "markdown",
   "id": "e86253b0",
   "metadata": {},
   "source": [
    "# Exploration des donnees"
   ]
  },
  {
   "cell_type": "code",
   "execution_count": 240,
   "id": "b8af629e",
   "metadata": {},
   "outputs": [
    {
     "data": {
      "text/plain": [
       "(320772, 162)"
      ]
     },
     "execution_count": 240,
     "metadata": {},
     "output_type": "execute_result"
    }
   ],
   "source": [
    "df.shape"
   ]
  },
  {
   "cell_type": "code",
   "execution_count": 241,
   "id": "466f8ef6",
   "metadata": {},
   "outputs": [
    {
     "name": "stdout",
     "output_type": "stream",
     "text": [
      "<class 'pandas.core.frame.DataFrame'>\n",
      "RangeIndex: 320772 entries, 0 to 320771\n",
      "Columns: 162 entries, code to water-hardness_100g\n",
      "dtypes: float64(106), object(56)\n",
      "memory usage: 396.5+ MB\n"
     ]
    }
   ],
   "source": [
    "df.info()"
   ]
  },
  {
   "cell_type": "code",
   "execution_count": 242,
   "id": "274dceb6",
   "metadata": {},
   "outputs": [
    {
     "data": {
      "text/plain": [
       "code                        object\n",
       "url                         object\n",
       "creator                     object\n",
       "created_t                   object\n",
       "created_datetime            object\n",
       "                            ...   \n",
       "carbon-footprint_100g      float64\n",
       "nutrition-score-fr_100g    float64\n",
       "nutrition-score-uk_100g    float64\n",
       "glycemic-index_100g        float64\n",
       "water-hardness_100g        float64\n",
       "Length: 162, dtype: object"
      ]
     },
     "execution_count": 242,
     "metadata": {},
     "output_type": "execute_result"
    }
   ],
   "source": [
    "df.dtypes"
   ]
  },
  {
   "cell_type": "markdown",
   "id": "3e6ac877",
   "metadata": {},
   "source": [
    "Lors de la manipulation des donnes, j'ai remarque que le typage de **code** varie entre les differentes ligne. Je choisis donc de convertir **code** en chaine de caracteres "
   ]
  },
  {
   "cell_type": "code",
   "execution_count": 243,
   "id": "fc465f46",
   "metadata": {},
   "outputs": [],
   "source": [
    "df['code']=df['code'].astype('str')"
   ]
  },
  {
   "cell_type": "markdown",
   "id": "75652975",
   "metadata": {},
   "source": [
    "# Valeurs manquantes"
   ]
  },
  {
   "cell_type": "markdown",
   "id": "b5262707",
   "metadata": {},
   "source": [
    "On regarde dans un premier temps le remplissage des indicateurs du dataset, on choisit d'eliminer les colonnes dont le temps de remplissage est inferieur a 80% comme les informations contenues dans ces colonnes ne seront pas pertinentes"
   ]
  },
  {
   "cell_type": "code",
   "execution_count": 244,
   "id": "3a7c7526",
   "metadata": {},
   "outputs": [
    {
     "data": {
      "text/plain": [
       "108"
      ]
     },
     "execution_count": 244,
     "metadata": {},
     "output_type": "execute_result"
    }
   ],
   "source": [
    "na_values=df.isna().mean()\n",
    "na_values=na_values[na_values>0.8]\n",
    "len(na_values)"
   ]
  },
  {
   "cell_type": "code",
   "execution_count": 245,
   "id": "b7e9c8e2",
   "metadata": {},
   "outputs": [
    {
     "data": {
      "text/plain": [
       "['generic_name',\n",
       " 'origins',\n",
       " 'origins_tags',\n",
       " 'manufacturing_places',\n",
       " 'manufacturing_places_tags',\n",
       " 'labels',\n",
       " 'labels_tags',\n",
       " 'labels_fr',\n",
       " 'emb_codes',\n",
       " 'emb_codes_tags',\n",
       " 'first_packaging_code_geo',\n",
       " 'cities',\n",
       " 'cities_tags',\n",
       " 'purchase_places',\n",
       " 'stores',\n",
       " 'allergens',\n",
       " 'allergens_fr',\n",
       " 'traces',\n",
       " 'traces_tags',\n",
       " 'traces_fr',\n",
       " 'no_nutriments',\n",
       " 'ingredients_from_palm_oil',\n",
       " 'ingredients_from_palm_oil_tags',\n",
       " 'ingredients_that_may_be_from_palm_oil',\n",
       " 'ingredients_that_may_be_from_palm_oil_tags',\n",
       " 'nutrition_grade_uk',\n",
       " 'energy-from-fat_100g',\n",
       " 'butyric-acid_100g',\n",
       " 'caproic-acid_100g',\n",
       " 'caprylic-acid_100g',\n",
       " 'capric-acid_100g',\n",
       " 'lauric-acid_100g',\n",
       " 'myristic-acid_100g',\n",
       " 'palmitic-acid_100g',\n",
       " 'stearic-acid_100g',\n",
       " 'arachidic-acid_100g',\n",
       " 'behenic-acid_100g',\n",
       " 'lignoceric-acid_100g',\n",
       " 'cerotic-acid_100g',\n",
       " 'montanic-acid_100g',\n",
       " 'melissic-acid_100g',\n",
       " 'monounsaturated-fat_100g',\n",
       " 'polyunsaturated-fat_100g',\n",
       " 'omega-3-fat_100g',\n",
       " 'alpha-linolenic-acid_100g',\n",
       " 'eicosapentaenoic-acid_100g',\n",
       " 'docosahexaenoic-acid_100g',\n",
       " 'omega-6-fat_100g',\n",
       " 'linoleic-acid_100g',\n",
       " 'arachidonic-acid_100g',\n",
       " 'gamma-linolenic-acid_100g',\n",
       " 'dihomo-gamma-linolenic-acid_100g',\n",
       " 'omega-9-fat_100g',\n",
       " 'oleic-acid_100g',\n",
       " 'elaidic-acid_100g',\n",
       " 'gondoic-acid_100g',\n",
       " 'mead-acid_100g',\n",
       " 'erucic-acid_100g',\n",
       " 'nervonic-acid_100g',\n",
       " 'sucrose_100g',\n",
       " 'glucose_100g',\n",
       " 'fructose_100g',\n",
       " 'lactose_100g',\n",
       " 'maltose_100g',\n",
       " 'maltodextrins_100g',\n",
       " 'starch_100g',\n",
       " 'polyols_100g',\n",
       " 'casein_100g',\n",
       " 'serum-proteins_100g',\n",
       " 'nucleotides_100g',\n",
       " 'alcohol_100g',\n",
       " 'beta-carotene_100g',\n",
       " 'vitamin-d_100g',\n",
       " 'vitamin-e_100g',\n",
       " 'vitamin-k_100g',\n",
       " 'vitamin-b1_100g',\n",
       " 'vitamin-b2_100g',\n",
       " 'vitamin-pp_100g',\n",
       " 'vitamin-b6_100g',\n",
       " 'vitamin-b9_100g',\n",
       " 'folates_100g',\n",
       " 'vitamin-b12_100g',\n",
       " 'biotin_100g',\n",
       " 'pantothenic-acid_100g',\n",
       " 'silica_100g',\n",
       " 'bicarbonate_100g',\n",
       " 'potassium_100g',\n",
       " 'chloride_100g',\n",
       " 'phosphorus_100g',\n",
       " 'magnesium_100g',\n",
       " 'zinc_100g',\n",
       " 'copper_100g',\n",
       " 'manganese_100g',\n",
       " 'fluoride_100g',\n",
       " 'selenium_100g',\n",
       " 'chromium_100g',\n",
       " 'molybdenum_100g',\n",
       " 'iodine_100g',\n",
       " 'caffeine_100g',\n",
       " 'taurine_100g',\n",
       " 'ph_100g',\n",
       " 'fruits-vegetables-nuts_100g',\n",
       " 'collagen-meat-protein-ratio_100g',\n",
       " 'cocoa_100g',\n",
       " 'chlorophyl_100g',\n",
       " 'carbon-footprint_100g',\n",
       " 'glycemic-index_100g',\n",
       " 'water-hardness_100g']"
      ]
     },
     "execution_count": 245,
     "metadata": {},
     "output_type": "execute_result"
    }
   ],
   "source": [
    "list(na_values.index)"
   ]
  },
  {
   "cell_type": "code",
   "execution_count": 246,
   "id": "35251678",
   "metadata": {},
   "outputs": [],
   "source": [
    "df.drop(columns=list(na_values.index), inplace=True)"
   ]
  },
  {
   "cell_type": "code",
   "execution_count": 247,
   "id": "378b3296",
   "metadata": {},
   "outputs": [],
   "source": [
    "df.drop(columns=['creator', 'created_t', 'created_datetime',\n",
    "       'last_modified_t', 'last_modified_datetime'], inplace=True)"
   ]
  },
  {
   "cell_type": "code",
   "execution_count": 248,
   "id": "d9a4981e",
   "metadata": {},
   "outputs": [
    {
     "data": {
      "text/plain": [
       "(320772, 49)"
      ]
     },
     "execution_count": 248,
     "metadata": {},
     "output_type": "execute_result"
    }
   ],
   "source": [
    "df.shape"
   ]
  },
  {
   "cell_type": "code",
   "execution_count": 249,
   "id": "d26ef745",
   "metadata": {},
   "outputs": [
    {
     "data": {
      "text/plain": [
       "code                23\n",
       "url                 23\n",
       "product_name     17762\n",
       "quantity        215953\n",
       "packaging       241812\n",
       "dtype: int64"
      ]
     },
     "execution_count": 249,
     "metadata": {},
     "output_type": "execute_result"
    }
   ],
   "source": [
    "df.isna().sum().head(5)"
   ]
  },
  {
   "cell_type": "markdown",
   "id": "ca01fa93",
   "metadata": {},
   "source": [
    "# Enlever les valeurs non-pertinentes\n",
    "On commence par enlever les donnees dont le code ou le nom du produit sont manquants"
   ]
  },
  {
   "cell_type": "code",
   "execution_count": 250,
   "id": "6f937286",
   "metadata": {},
   "outputs": [],
   "source": [
    "df=df[~df['product_name'].isna()]\n",
    "df=df[~df['code'].isna()]"
   ]
  },
  {
   "cell_type": "markdown",
   "id": "40e084ec",
   "metadata": {},
   "source": [
    "On regarde le taux valeurs moyennes dans les colonnes restantes"
   ]
  },
  {
   "cell_type": "code",
   "execution_count": 251,
   "id": "42cc31cc",
   "metadata": {},
   "outputs": [
    {
     "data": {
      "text/plain": [
       "image_url           0.768492\n",
       "image_small_url     0.768492\n",
       "packaging           0.740877\n",
       "packaging_tags      0.740873\n",
       "main_category       0.724853\n",
       "main_category_fr    0.724853\n",
       "categories_fr       0.724777\n",
       "categories          0.724777\n",
       "categories_tags     0.724777\n",
       "pnns_groups_1       0.707915\n",
       "dtype: float64"
      ]
     },
     "execution_count": 251,
     "metadata": {},
     "output_type": "execute_result"
    }
   ],
   "source": [
    "na_values=df.isna().mean().sort_values(ascending=False)\n",
    "na_values=na_values[na_values>0]\n",
    "na_values.head(10)"
   ]
  },
  {
   "cell_type": "code",
   "execution_count": 252,
   "id": "a19f164a",
   "metadata": {},
   "outputs": [
    {
     "data": {
      "image/png": "[encoded data removed]",
      "text/plain": [
       "<Figure size 432x288 with 1 Axes>"
      ]
     },
     "metadata": {
      "needs_background": "light"
     },
     "output_type": "display_data"
    }
   ],
   "source": [
    "plt.boxplot(na_values)\n",
    "plt.show()"
   ]
  },
  {
   "cell_type": "code",
   "execution_count": 253,
   "id": "d8869a6a",
   "metadata": {},
   "outputs": [
    {
     "data": {
      "text/plain": [
       "<AxesSubplot:>"
      ]
     },
     "execution_count": 253,
     "metadata": {},
     "output_type": "execute_result"
    },
    {
     "data": {
      "image/png": "[encoded data removed]",
      "text/plain": [
       "<Figure size 1440x576 with 1 Axes>"
      ]
     },
     "metadata": {
      "needs_background": "light"
     },
     "output_type": "display_data"
    }
   ],
   "source": [
    "na_values.plot(kind='bar',figsize=(20,8))"
   ]
  },
  {
   "cell_type": "code",
   "execution_count": 254,
   "id": "dd66b431",
   "metadata": {},
   "outputs": [],
   "source": [
    "df.drop(columns=['image_url','image_small_url', 'packaging','packaging_tags'], inplace=True)\n",
    "# ces colonnes ne sont pas bien remplis ni pertinent pour l'etude"
   ]
  },
  {
   "cell_type": "code",
   "execution_count": 255,
   "id": "fdedf092",
   "metadata": {},
   "outputs": [
    {
     "data": {
      "text/plain": [
       "(302987, 45)"
      ]
     },
     "execution_count": 255,
     "metadata": {},
     "output_type": "execute_result"
    }
   ],
   "source": [
    "df.shape"
   ]
  },
  {
   "cell_type": "markdown",
   "id": "3644e950",
   "metadata": {},
   "source": [
    "## Valeurs manquantes par lignes\n",
    "On efface les lignes dont les valeurs nutritionelles ne sont pas indiques"
   ]
  },
  {
   "cell_type": "code",
   "execution_count": 256,
   "id": "d9c9e185",
   "metadata": {},
   "outputs": [
    {
     "data": {
      "text/plain": [
       "Index(['additives_n', 'ingredients_from_palm_oil_n',\n",
       "       'ingredients_that_may_be_from_palm_oil_n', 'energy_100g', 'fat_100g',\n",
       "       'saturated-fat_100g', 'trans-fat_100g', 'cholesterol_100g',\n",
       "       'carbohydrates_100g', 'sugars_100g', 'fiber_100g', 'proteins_100g',\n",
       "       'salt_100g', 'sodium_100g', 'vitamin-a_100g', 'vitamin-c_100g',\n",
       "       'calcium_100g', 'iron_100g', 'nutrition-score-fr_100g',\n",
       "       'nutrition-score-uk_100g'],\n",
       "      dtype='object')"
      ]
     },
     "execution_count": 256,
     "metadata": {},
     "output_type": "execute_result"
    }
   ],
   "source": [
    "num=df.dtypes\n",
    "num=num[num=='float64']\n",
    "num=num.index\n",
    "num"
   ]
  },
  {
   "cell_type": "code",
   "execution_count": 257,
   "id": "7cafee54",
   "metadata": {},
   "outputs": [
    {
     "data": {
      "text/plain": [
       "(272591, 45)"
      ]
     },
     "execution_count": 257,
     "metadata": {},
     "output_type": "execute_result"
    }
   ],
   "source": [
    "df.dropna(axis=0, how='all', subset=num, inplace=True)\n",
    "df.shape"
   ]
  },
  {
   "cell_type": "markdown",
   "id": "f8de66f9",
   "metadata": {},
   "source": [
    "## Les valeurs dupliquees"
   ]
  },
  {
   "cell_type": "code",
   "execution_count": 258,
   "id": "dde53a09",
   "metadata": {},
   "outputs": [
    {
     "data": {
      "text/plain": [
       "(272591, 45)"
      ]
     },
     "execution_count": 258,
     "metadata": {},
     "output_type": "execute_result"
    }
   ],
   "source": [
    "df.shape"
   ]
  },
  {
   "cell_type": "code",
   "execution_count": 259,
   "id": "d9968874",
   "metadata": {},
   "outputs": [
    {
     "data": {
      "text/plain": [
       "272504"
      ]
     },
     "execution_count": 259,
     "metadata": {},
     "output_type": "execute_result"
    }
   ],
   "source": [
    "len(df['code'].unique())"
   ]
  },
  {
   "cell_type": "code",
   "execution_count": 260,
   "id": "5b46724d",
   "metadata": {},
   "outputs": [
    {
     "data": {
      "text/plain": [
       "197720"
      ]
     },
     "execution_count": 260,
     "metadata": {},
     "output_type": "execute_result"
    }
   ],
   "source": [
    "len(df['product_name'].unique())"
   ]
  },
  {
   "cell_type": "code",
   "execution_count": 261,
   "id": "744f5953",
   "metadata": {},
   "outputs": [
    {
     "data": {
      "text/plain": [
       "272591"
      ]
     },
     "execution_count": 261,
     "metadata": {},
     "output_type": "execute_result"
    }
   ],
   "source": [
    "len(df['url'].unique())"
   ]
  },
  {
   "cell_type": "markdown",
   "id": "e0e2aeff",
   "metadata": {},
   "source": [
    "On remarque la presence de plusieurs formes de dupplication. \n",
    "### Duplication par code et nom:"
   ]
  },
  {
   "cell_type": "code",
   "execution_count": 262,
   "id": "557a7250",
   "metadata": {},
   "outputs": [
    {
     "data": {
      "text/plain": [
       "(17, 45)"
      ]
     },
     "execution_count": 262,
     "metadata": {},
     "output_type": "execute_result"
    }
   ],
   "source": [
    "df[df.duplicated(subset=['code','product_name'])].shape"
   ]
  },
  {
   "cell_type": "code",
   "execution_count": 263,
   "id": "07decb9e",
   "metadata": {},
   "outputs": [],
   "source": [
    "df=df.drop_duplicates(subset=['code','product_name'], keep='first')"
   ]
  },
  {
   "cell_type": "markdown",
   "id": "abe640b5",
   "metadata": {},
   "source": [
    "### Duplication par nom du produits et ces valeurs nutritionelles"
   ]
  },
  {
   "cell_type": "code",
   "execution_count": 264,
   "id": "d0247740",
   "metadata": {},
   "outputs": [
    {
     "data": {
      "text/plain": [
       "(26830, 45)"
      ]
     },
     "execution_count": 264,
     "metadata": {},
     "output_type": "execute_result"
    }
   ],
   "source": [
    "df[df.duplicated(subset=['product_name','proteins_100g','sodium_100g','nutrition-score-fr_100g'])].shape"
   ]
  },
  {
   "cell_type": "code",
   "execution_count": 265,
   "id": "5dbd1ecf",
   "metadata": {},
   "outputs": [
    {
     "data": {
      "text/plain": [
       "(245744, 45)"
      ]
     },
     "execution_count": 265,
     "metadata": {},
     "output_type": "execute_result"
    }
   ],
   "source": [
    "to_drop=df[df.duplicated(subset=['product_name','proteins_100g','sodium_100g','nutrition-score-fr_100g'])].index\n",
    "\n",
    "df=df.drop(index=to_drop)\n",
    "\n",
    "df.shape"
   ]
  },
  {
   "cell_type": "markdown",
   "id": "d8f02253",
   "metadata": {},
   "source": [
    "On a egalement des produits qui sont dupliques par toutes leurs valeurs nutritionelles mais ayant un nom de produit differents (pour la plupart c'est des colonnes de 0)"
   ]
  },
  {
   "cell_type": "code",
   "execution_count": 266,
   "id": "58fc8bc0",
   "metadata": {},
   "outputs": [
    {
     "data": {
      "text/plain": [
       "(49519, 45)"
      ]
     },
     "execution_count": 266,
     "metadata": {},
     "output_type": "execute_result"
    }
   ],
   "source": [
    "df[df.duplicated(subset=num)].shape"
   ]
  },
  {
   "cell_type": "code",
   "execution_count": 267,
   "id": "c66a7e87",
   "metadata": {},
   "outputs": [
    {
     "data": {
      "text/plain": [
       "(196225, 45)"
      ]
     },
     "execution_count": 267,
     "metadata": {},
     "output_type": "execute_result"
    }
   ],
   "source": [
    "to_drop=df[df.duplicated(subset=num)].index\n",
    "df=df.drop(index=to_drop)\n",
    "df.shape"
   ]
  },
  {
   "cell_type": "markdown",
   "id": "49927af5",
   "metadata": {},
   "source": [
    "## Taux de valeurs manquantes apres ce netoyage"
   ]
  },
  {
   "cell_type": "code",
   "execution_count": 268,
   "id": "337a5a2b",
   "metadata": {},
   "outputs": [
    {
     "data": {
      "text/plain": [
       "categories          0.707474\n",
       "main_category       0.707474\n",
       "main_category_fr    0.707474\n",
       "categories_fr       0.707474\n",
       "categories_tags     0.707474\n",
       "dtype: float64"
      ]
     },
     "execution_count": 268,
     "metadata": {},
     "output_type": "execute_result"
    }
   ],
   "source": [
    "df.isna().mean().sort_values(ascending=False).head()"
   ]
  },
  {
   "cell_type": "markdown",
   "id": "353bb051",
   "metadata": {},
   "source": [
    "# Les categories\n",
    "Nous avons 7 colonnes dans notre dataset concernant les categories : 'categories','categories_tags','categories_fr','pnns_groups_1','pnns_groups_2','main_category','main_category_fr'. Nous allons explorer leur contenu"
   ]
  },
  {
   "cell_type": "code",
   "execution_count": 269,
   "id": "b8797a15",
   "metadata": {},
   "outputs": [],
   "source": [
    "categ=['categories','categories_tags','categories_fr',\n",
    "       'pnns_groups_1','pnns_groups_2',\n",
    "       'main_category','main_category_fr']"
   ]
  },
  {
   "cell_type": "code",
   "execution_count": 270,
   "id": "70a53764",
   "metadata": {},
   "outputs": [
    {
     "data": {
      "text/plain": [
       "pnns_groups_2       0.687104\n",
       "pnns_groups_1       0.687996\n",
       "categories          0.707474\n",
       "categories_tags     0.707474\n",
       "categories_fr       0.707474\n",
       "main_category       0.707474\n",
       "main_category_fr    0.707474\n",
       "dtype: float64"
      ]
     },
     "execution_count": 270,
     "metadata": {},
     "output_type": "execute_result"
    }
   ],
   "source": [
    "df[categ].isna().mean().sort_values()"
   ]
  },
  {
   "cell_type": "markdown",
   "id": "18b102c8",
   "metadata": {},
   "source": [
    "### Remarques: \n",
    "Les colonnes **categories, categories_tags, categories_fr** contiennent les memes informations. Il est de meme pour les colonnes **main_category, main_category_fr**. La colonne **pnns_groups_2** possede le moins de valeurs manquantes. On commence donc par explorer cette colonne \n",
    "### pnns_groups_2"
   ]
  },
  {
   "cell_type": "code",
   "execution_count": 271,
   "id": "1e1a5520",
   "metadata": {},
   "outputs": [
    {
     "data": {
      "text/plain": [
       "unknown               11693\n",
       "One-dish meals         4788\n",
       "Biscuits and cakes     3846\n",
       "Sweets                 3082\n",
       "Cereals                2988\n",
       "Name: pnns_groups_2, dtype: int64"
      ]
     },
     "execution_count": 271,
     "metadata": {},
     "output_type": "execute_result"
    }
   ],
   "source": [
    "df['pnns_groups_2'].value_counts().head()"
   ]
  },
  {
   "cell_type": "markdown",
   "id": "7715dbe4",
   "metadata": {},
   "source": [
    "On homogenise les categories:"
   ]
  },
  {
   "cell_type": "code",
   "execution_count": 272,
   "id": "0e3f366c",
   "metadata": {},
   "outputs": [],
   "source": [
    "df['pnns_groups_2'].replace(regex=['legumes','vegetables','Legumes'], value='Vegetables', inplace=True)"
   ]
  },
  {
   "cell_type": "code",
   "execution_count": 273,
   "id": "c88d8ff7",
   "metadata": {},
   "outputs": [
    {
     "data": {
      "text/plain": [
       "unknown               11693\n",
       "One-dish meals         4788\n",
       "Biscuits and cakes     3846\n",
       "Sweets                 3082\n",
       "Vegetables             3025\n",
       "Name: pnns_groups_2, dtype: int64"
      ]
     },
     "execution_count": 273,
     "metadata": {},
     "output_type": "execute_result"
    }
   ],
   "source": [
    "df['pnns_groups_2'].replace({'fruits': 'Fruits', 'cereals' :'Cereals', 'nuts':'Nuts'}, inplace=True)\n",
    "df['pnns_groups_2'].value_counts().head()"
   ]
  },
  {
   "cell_type": "markdown",
   "id": "51755cd4",
   "metadata": {},
   "source": [
    "### pnns_groups_1"
   ]
  },
  {
   "cell_type": "code",
   "execution_count": 274,
   "id": "7ea00765",
   "metadata": {},
   "outputs": [
    {
     "data": {
      "text/plain": [
       "unknown                    11693\n",
       "Sugary snacks               9364\n",
       "Milk and dairy products     6647\n",
       "Cereals and potatoes        6449\n",
       "Composite foods             5871\n",
       "Beverages                   5630\n",
       "Fish Meat Eggs              5110\n",
       "Fruits and vegetables       3641\n",
       "Fat and sauces              3448\n",
       "Salty snacks                2251\n",
       "fruits-and-vegetables        714\n",
       "sugary-snacks                389\n",
       "cereals-and-potatoes          15\n",
       "salty-snacks                   1\n",
       "Name: pnns_groups_1, dtype: int64"
      ]
     },
     "execution_count": 274,
     "metadata": {},
     "output_type": "execute_result"
    }
   ],
   "source": [
    "df['pnns_groups_1'].value_counts()"
   ]
  },
  {
   "cell_type": "markdown",
   "id": "193af7ca",
   "metadata": {},
   "source": [
    "On homogenise les categories:"
   ]
  },
  {
   "cell_type": "code",
   "execution_count": 275,
   "id": "6693521b",
   "metadata": {},
   "outputs": [
    {
     "data": {
      "text/plain": [
       "unknown                    11693\n",
       "Sugary snacks               9753\n",
       "Milk and dairy products     6647\n",
       "Cereals and potatoes        6464\n",
       "Composite foods             5871\n",
       "Beverages                   5630\n",
       "Fish Meat Eggs              5110\n",
       "Fruits and vegetables       4355\n",
       "Fat and sauces              3448\n",
       "Salty snacks                2252\n",
       "Name: pnns_groups_1, dtype: int64"
      ]
     },
     "execution_count": 275,
     "metadata": {},
     "output_type": "execute_result"
    }
   ],
   "source": [
    "df['pnns_groups_1'].replace({'salty-snacks':'Salty snacks', 'cereals-and-potatoes':'Cereals and potatoes','sugary-snacks':'Sugary snacks','fruits-and-vegetables':'Fruits and vegetables'}, inplace=True)\n",
    "df['pnns_groups_1'].value_counts()"
   ]
  },
  {
   "cell_type": "markdown",
   "id": "cfff0889",
   "metadata": {},
   "source": [
    "### categories-tags\n",
    "contient beaucoup d'informations sur le produits. Je la laisse de cote pour le moment"
   ]
  },
  {
   "cell_type": "code",
   "execution_count": 276,
   "id": "71687725",
   "metadata": {},
   "outputs": [
    {
     "data": {
      "text/plain": [
       "en:sugary-snacks,en:biscuits-and-cakes,en:biscuits                                                                                                  685\n",
       "en:sugary-snacks,en:chocolates,en:dark-chocolates                                                                                                   504\n",
       "en:plant-based-foods-and-beverages,en:plant-based-foods,en:breakfasts,en:cereals-and-potatoes,en:cereals-and-their-products,en:breakfast-cereals    444\n",
       "en:sugary-snacks,en:biscuits-and-cakes,en:biscuits,en:chocolate-biscuits                                                                            407\n",
       "en:salty-snacks,en:appetizers,en:crackers                                                                                                           397\n",
       "Name: categories_tags, dtype: int64"
      ]
     },
     "execution_count": 276,
     "metadata": {},
     "output_type": "execute_result"
    }
   ],
   "source": [
    "df['categories_tags'].value_counts().head()"
   ]
  },
  {
   "cell_type": "markdown",
   "id": "674e3549",
   "metadata": {},
   "source": [
    "### main_category\n",
    "Contient des informations plus scpecifiques sur la categorie du produit mais on compte 3355 categories en plusieurs langues la pluparts des valeurs dans cette categorie ne sont pas pris en compte plaus qu'une dizaine de fois. A verifier en fonction des categories pnn1 et 2 qui semplent plus pertinents pour notre etude"
   ]
  },
  {
   "cell_type": "code",
   "execution_count": 277,
   "id": "f9d2073f",
   "metadata": {},
   "outputs": [
    {
     "data": {
      "text/plain": [
       "(2268,)"
      ]
     },
     "execution_count": 277,
     "metadata": {},
     "output_type": "execute_result"
    }
   ],
   "source": [
    "df['main_category'].value_counts().shape"
   ]
  },
  {
   "cell_type": "code",
   "execution_count": 278,
   "id": "cf23d7f8",
   "metadata": {},
   "outputs": [
    {
     "data": {
      "text/plain": [
       "en:groceries                          2195\n",
       "en:beverages                          2182\n",
       "en:plant-based-foods-and-beverages    2180\n",
       "en:chocolates                         2173\n",
       "en:canned-foods                       1904\n",
       "                                      ... \n",
       "en:crackers-sans-gluten                  1\n",
       "fr:creme-de-sarrasin                     1\n",
       "fr:anchoiade                             1\n",
       "fr:biscuits-pur-beurre                   1\n",
       "fr:sauce-a-l-ail                         1\n",
       "Name: main_category, Length: 2268, dtype: int64"
      ]
     },
     "execution_count": 278,
     "metadata": {},
     "output_type": "execute_result"
    }
   ],
   "source": [
    "df['main_category'].value_counts()"
   ]
  },
  {
   "cell_type": "code",
   "execution_count": 279,
   "id": "dfb736c5",
   "metadata": {},
   "outputs": [
    {
     "data": {
      "text/plain": [
       "count    2268.000000\n",
       "mean       25.309083\n",
       "std       157.607454\n",
       "min         1.000000\n",
       "25%         1.000000\n",
       "50%         1.000000\n",
       "75%         1.000000\n",
       "max      2195.000000\n",
       "Name: main_category, dtype: float64"
      ]
     },
     "execution_count": 279,
     "metadata": {},
     "output_type": "execute_result"
    }
   ],
   "source": [
    "main=df['main_category'].value_counts()\n",
    "main.describe()"
   ]
  },
  {
   "cell_type": "markdown",
   "id": "31e5e9fb",
   "metadata": {},
   "source": [
    "Les categories utilisees plus que 20 fois dans le dataset:"
   ]
  },
  {
   "cell_type": "code",
   "execution_count": 280,
   "id": "a6310f51",
   "metadata": {},
   "outputs": [
    {
     "data": {
      "text/plain": [
       "count     134.000000\n",
       "mean      405.850746\n",
       "std       517.984026\n",
       "min        21.000000\n",
       "25%        88.000000\n",
       "50%       214.000000\n",
       "75%       462.250000\n",
       "max      2195.000000\n",
       "Name: main_category, dtype: float64"
      ]
     },
     "execution_count": 280,
     "metadata": {},
     "output_type": "execute_result"
    }
   ],
   "source": [
    "main=main[main>20]\n",
    "main.describe()"
   ]
  },
  {
   "cell_type": "code",
   "execution_count": 281,
   "id": "bbce3e30",
   "metadata": {},
   "outputs": [
    {
     "data": {
      "text/plain": [
       "<AxesSubplot:>"
      ]
     },
     "execution_count": 281,
     "metadata": {},
     "output_type": "execute_result"
    },
    {
     "data": {
      "image/png": "[encoded data removed]",
      "text/plain": [
       "<Figure size 1440x576 with 1 Axes>"
      ]
     },
     "metadata": {
      "needs_background": "light"
     },
     "output_type": "display_data"
    }
   ],
   "source": [
    "main.plot(kind='bar',figsize=(20,8))"
   ]
  },
  {
   "cell_type": "markdown",
   "id": "f8d6deac",
   "metadata": {},
   "source": [
    "# Etude des valeurs \"unknown' dans les categories pnn\n",
    "La categorisation la plus pertinentes pour ces produits est celle utilise dans les groupes pnns. Avant de commencer on changera toutes les valeurs Nan dans les categories pnn en **unknown**"
   ]
  },
  {
   "cell_type": "code",
   "execution_count": 282,
   "id": "0476f4f5",
   "metadata": {},
   "outputs": [],
   "source": [
    "df['pnns_groups_1'].fillna(value='unknown', inplace=True)\n",
    "df['pnns_groups_2'].fillna(value='unknown', inplace=True)\n"
   ]
  },
  {
   "cell_type": "code",
   "execution_count": 283,
   "id": "08aade46",
   "metadata": {},
   "outputs": [],
   "source": [
    "groupe_categ=df.groupby(['pnns_groups_1'])"
   ]
  },
  {
   "cell_type": "markdown",
   "id": "fb7c330a",
   "metadata": {},
   "source": [
    "Je vais essayer d'ajouter les informations manquantes dans **pnns_groups_1** a partir des colonnes categories pour remedier aux **unknown** "
   ]
  },
  {
   "cell_type": "code",
   "execution_count": 284,
   "id": "232a3974",
   "metadata": {},
   "outputs": [
    {
     "data": {
      "text/plain": [
       "(7871, 45)"
      ]
     },
     "execution_count": 284,
     "metadata": {},
     "output_type": "execute_result"
    }
   ],
   "source": [
    "categNetoyer=groupe_categ.get_group('unknown')\n",
    "categNetoyer=categNetoyer[~categNetoyer['main_category'].isna()]\n",
    "categNetoyer.shape"
   ]
  },
  {
   "cell_type": "markdown",
   "id": "b886407d",
   "metadata": {},
   "source": [
    "Pour les valeurs unknown dans **pnns_groups_1** je regarde les informations contenus dans la variable **main_category**"
   ]
  },
  {
   "cell_type": "code",
   "execution_count": 285,
   "id": "0e3ebeb3",
   "metadata": {},
   "outputs": [
    {
     "data": {
      "text/plain": [
       "en:baby-foods                         444\n",
       "en:frozen-foods                       426\n",
       "en:sugary-snacks                      376\n",
       "en:plant-based-foods-and-beverages    348\n",
       "en:spreads                            274\n",
       "Name: main_category, dtype: int64"
      ]
     },
     "execution_count": 285,
     "metadata": {},
     "output_type": "execute_result"
    }
   ],
   "source": [
    "categNetoyer['main_category'].value_counts().head()"
   ]
  },
  {
   "cell_type": "code",
   "execution_count": 286,
   "id": "6a2a2533",
   "metadata": {},
   "outputs": [
    {
     "data": {
      "text/plain": [
       "array(['unknown', 'Fruits and vegetables', 'Sugary snacks',\n",
       "       'Cereals and potatoes', 'Composite foods', 'Fish Meat Eggs',\n",
       "       'Beverages', 'Fat and sauces', 'Milk and dairy products',\n",
       "       'Salty snacks'], dtype=object)"
      ]
     },
     "execution_count": 286,
     "metadata": {},
     "output_type": "execute_result"
    }
   ],
   "source": [
    "df['pnns_groups_1'].unique()"
   ]
  },
  {
   "cell_type": "markdown",
   "id": "6175d1e7",
   "metadata": {},
   "source": [
    "Je recupere les informations de **main_category** en les ajoutant aux categories existantes dans **pnns_groups_1**"
   ]
  },
  {
   "cell_type": "code",
   "execution_count": 287,
   "id": "f2d0130c",
   "metadata": {},
   "outputs": [],
   "source": [
    "df.loc[df['main_category']=='en:beverages', 'pnns_groups_1']='Beverages'   \n",
    "df.loc[df['main_category']=='en:spices', 'pnns_groups_1']='Spices'\n",
    "df.loc[df['main_category']=='en:baby-foods', 'pnns_groups_1']='Baby food'\n",
    "df.loc[df['main_category']=='en:frozen-foods', 'pnns_groups_1']='Frozen food'\n",
    "df.loc[df['main_category']=='en:sugary-snacks', 'pnns_groups_1']='Sugary snacks'\n",
    "df.loc[df['main_category']=='en:plant-based-foods-and-beverages', 'pnns_groups_1']='Plant based food and beverages'\n",
    "df.loc[df['main_category']=='en:aliments-d-origine-vegetale', 'pnns_groups_1']='Plant based food and beverages'\n",
    "df.loc[df['main_category']=='en:condiments', 'pnns_groups_1']='Condiments'\n",
    "df.loc[df['main_category']=='en:spreads', 'pnns_groups_1']='Spreads'\n",
    "df.loc[df['main_category']=='en:desserts', 'pnns_groups_1']='Desserts'\n",
    "df.loc[df['main_category']=='en:groceries', 'pnns_groups_1']='Groceries'\n",
    "df.loc[df['main_category']=='en:dietary-supplements', 'pnns_groups_1']='Dietary supplements'\n",
    "df.loc[df['main_category']=='en:salted-spreads', 'pnns_groups_1']='Salted spreads'\n",
    "df.loc[df['main_category']=='en:waffles', 'pnns_groups_1']='Desserts'\n",
    "df.loc[df['main_category']=='en:crepes-and-galettes', 'pnns_groups_1']='Desserts'\n",
    "df.loc[df['main_category']=='en:fish-and-meat-and-eggs', 'pnns_groups_1']='Fish Meat Eggs'\n",
    "df.loc[df['main_category']=='en:canned-foods', 'pnns_groups_1']='Canned foods'"
   ]
  },
  {
   "cell_type": "code",
   "execution_count": 288,
   "id": "424bae07",
   "metadata": {},
   "outputs": [
    {
     "data": {
      "text/plain": [
       "en:chips-and-fries    138\n",
       "en:dairies            138\n",
       "en:sweeteners         135\n",
       "en:pie-dough          120\n",
       "en:green-olives       111\n",
       "Name: main_category, dtype: int64"
      ]
     },
     "execution_count": 288,
     "metadata": {},
     "output_type": "execute_result"
    }
   ],
   "source": [
    "groupe_categ=df.groupby(['pnns_groups_1'])\n",
    "categNetoyer=groupe_categ[categ].get_group('unknown')\n",
    "categNetoyer=categNetoyer[~categNetoyer['main_category'].isna()]\n",
    "categNetoyer['main_category'].value_counts().head()"
   ]
  },
  {
   "cell_type": "code",
   "execution_count": 289,
   "id": "3d222570",
   "metadata": {},
   "outputs": [
    {
     "data": {
      "text/plain": [
       "array(['unknown', 'Vegetables', 'Biscuits and cakes', 'Bread',\n",
       "       'Pizza pies and quiche', 'Meat', 'Sweets', 'Sweetened beverages',\n",
       "       'Dressings and sauces', 'One-dish meals', 'Soups', 'Cereals',\n",
       "       'Fruits', 'Milk and yogurt', 'Fats', 'Non-sugared beverages',\n",
       "       'Cheese', 'Chocolate products', 'Sandwich', 'Nuts',\n",
       "       'Breakfast cereals', 'Appetizers',\n",
       "       'Artificially sweetened beverages', 'Fruit juices', 'Eggs',\n",
       "       'Fish and seafood', 'Dried fruits', 'Ice cream', 'Processed meat',\n",
       "       'Potatoes', 'pastries', 'Alcoholic beverages', 'Dairy desserts',\n",
       "       'Fruit nectars', 'Salty and fatty products', 'Tripe dishes'],\n",
       "      dtype=object)"
      ]
     },
     "execution_count": 289,
     "metadata": {},
     "output_type": "execute_result"
    }
   ],
   "source": [
    "df['pnns_groups_2'].unique()"
   ]
  },
  {
   "cell_type": "code",
   "execution_count": 290,
   "id": "e255d3b4",
   "metadata": {},
   "outputs": [],
   "source": [
    "df.loc[df['main_category']=='en:salts', 'pnns_groups_1']='Salts'\n",
    "df.loc[df['main_category']=='en:sweeteners', 'pnns_groups_1']='Sweeteners'\n",
    "df.loc[df['main_category']=='en:dairies', 'pnns_groups_1']='Milk and dairy products'\n",
    "df.loc[df['main_category']=='en:chips-and-fries', 'pnns_groups_1']='Salty snacks'\n",
    "df.loc[df['main_category']=='en:green-olives', 'pnns_groups_1']='Appetizers'\n",
    "df.loc[df['main_category']=='en:terrine', 'pnns_groups_1']='Fish Meat Eggs'\n",
    "df.loc[df['main_category']=='en:pie-dough', 'pnns_groups_1']='Pizza pies and quiche'\n",
    "df.loc[df['main_category']=='en:pickles', 'pnns_groups_1']='Appetizers'\n",
    "df.loc[df['main_category']=='en:food-additives', 'pnns_groups_1']='Food additives'\n",
    "df.loc[df['main_category']=='en:pies', 'pnns_groups_1']='Pizza pies and quiche'\n",
    "df.loc[df['main_category']=='en:non-food-products', 'pnns_groups_1']='Non food products'\n",
    "df.loc[df['main_category']=='en:flours', 'pnns_groups_1']='Cereals and potatoes'\n",
    "df.loc[df['main_category']=='en:dried-products', 'pnns_groups_1']='Dried products'\n",
    "df.loc[df['main_category']=='en:tabbouleh', 'pnns_groups_1']='Composite foods'\n",
    "df.loc[df['main_category']=='fr:pates', 'pnns_groups_1']='Cereals and potatoes'\n",
    "df.loc[df['main_category']=='en:salty-snacks', 'pnns_groups_1']='Salty snacks'\n",
    "df.loc[df['main_category']=='en:whole-olives', 'pnns_groups_1']='Appetizers'\n",
    "df.loc[df['main_category']=='en:pizza-dough', 'pnns_groups_1']='Pizza pies and quiche'\n"
   ]
  },
  {
   "cell_type": "code",
   "execution_count": 291,
   "id": "572cde72",
   "metadata": {},
   "outputs": [
    {
     "data": {
      "text/plain": [
       "en:syrups              34\n",
       "en:snacks              25\n",
       "en:prepared-meats      23\n",
       "en:breakfasts          22\n",
       "it:biscotti            21\n",
       "en:meals-with-meat     16\n",
       "en:marinated-olives    13\n",
       "en:thes-glaces         13\n",
       "fr:pate                13\n",
       "en:breaded-products    13\n",
       "Name: main_category, dtype: int64"
      ]
     },
     "execution_count": 291,
     "metadata": {},
     "output_type": "execute_result"
    }
   ],
   "source": [
    "groupe_categ=df.groupby(['pnns_groups_1'])\n",
    "categNetoyer=groupe_categ.get_group('unknown')\n",
    "categNetoyer=categNetoyer[~categNetoyer['main_category'].isna()]\n",
    "categNetoyer['main_category'].value_counts().head(10)"
   ]
  },
  {
   "cell_type": "code",
   "execution_count": 292,
   "id": "0841da12",
   "metadata": {},
   "outputs": [],
   "source": [
    "df.loc[df['main_category']=='en:syrups', 'pnns_groups_1']='Syrups'\n",
    "df.loc[df['main_category']=='en:snacks', 'pnns_groups_1']='Snacks'\n",
    "df.loc[df['main_category']=='en:breakfasts', 'pnns_groups_1']='Breakfast cereals'\n",
    "df.loc[df['main_category']=='en:petit-dejeuners', 'pnns_groups_1']='Breakfast cereals'\n",
    "df.loc[df['main_category']=='en:breakfast-biscuits', 'pnns_groups_1']='Breakfast cereals'\n",
    "df.loc[df['main_category']=='en:thes-glaces', 'pnns_groups_1']='Beverages'\n",
    "df.loc[df['main_category']=='it:biscotti', 'pnns_groups_1']='Snacks'"
   ]
  },
  {
   "cell_type": "markdown",
   "id": "341714cf",
   "metadata": {},
   "source": [
    "### Groupement par mots cles\n",
    "Pour le reste des categories, j'essaie de grouper par mot cle dans les label de **main_category**"
   ]
  },
  {
   "cell_type": "markdown",
   "id": "9fdbdd0c",
   "metadata": {},
   "source": [
    "#### Beverages:"
   ]
  },
  {
   "cell_type": "code",
   "execution_count": 293,
   "id": "467ad4b1",
   "metadata": {},
   "outputs": [],
   "source": [
    "bev=['boisson','drink','juice','jus','water','cola']\n",
    "for b in bev:\n",
    "    beverages=categNetoyer[categNetoyer['main_category'].str.contains(b,case=False)]['code']\n",
    "    df.loc[df['code'].isin(beverages), 'pnns_groups_1']='Beverages'"
   ]
  },
  {
   "cell_type": "markdown",
   "id": "6a5748cc",
   "metadata": {},
   "source": [
    "#### Sugary snacks"
   ]
  },
  {
   "cell_type": "code",
   "execution_count": 294,
   "id": "43114312",
   "metadata": {},
   "outputs": [],
   "source": [
    "sug=['chocolat', 'cocoa','cookies', 'candy', 'bonbon']\n",
    "for s in sug:\n",
    "    Sugary_snacks=categNetoyer[categNetoyer['main_category'].str.contains(s,case=False)]['code']\n",
    "    df.loc[df['code'].isin(Sugary_snacks),'pnns_groups_1']='Sugary snacks'"
   ]
  },
  {
   "cell_type": "markdown",
   "id": "694ac52a",
   "metadata": {},
   "source": [
    "#### Desserts"
   ]
  },
  {
   "cell_type": "code",
   "execution_count": 295,
   "id": "01456e37",
   "metadata": {},
   "outputs": [],
   "source": [
    "dess=['cake', 'gateau','brownie', 'dessert', 'desert']\n",
    "for d in dess:\n",
    "    desserts=categNetoyer[categNetoyer['main_category'].str.contains('cake',case=False)]['code']\n",
    "    df.loc[df['code'].isin(desserts),'pnns_groups_1']='Desserts'"
   ]
  },
  {
   "cell_type": "markdown",
   "id": "82de889f",
   "metadata": {},
   "source": [
    "#### Fish Meat Eggs"
   ]
  },
  {
   "cell_type": "code",
   "execution_count": 296,
   "id": "e7257e8f",
   "metadata": {},
   "outputs": [],
   "source": [
    "egg=['egg', 'oeuf', 'chicken', 'poulet', 'meat', 'viande', 'filet', 'steak', 'lamb', 'beef', 'pork', 'veau', 'boeuf', 'porc']\n",
    "for eg in egg:\n",
    "    eggs=categNetoyer[categNetoyer['main_category'].str.contains(eg,case=False)]['code']\n",
    "    df.loc[df['code'].isin(eggs),'pnns_groups_1']='Fish Meat Eggs'"
   ]
  },
  {
   "cell_type": "markdown",
   "id": "c086df44",
   "metadata": {},
   "source": [
    "#### Fat and sauces"
   ]
  },
  {
   "cell_type": "code",
   "execution_count": 297,
   "id": "5df2756a",
   "metadata": {},
   "outputs": [],
   "source": [
    "oil=['oil', 'huile','sauce', 'butter', 'beurre', 'dressing', 'ghee']\n",
    "for o in oil:\n",
    "    oils=categNetoyer[categNetoyer['main_category'].str.contains(o,case=False)]['code']\n",
    "    df.loc[df['code'].isin(oils),'pnns_groups_1']='Fat and sauces'"
   ]
  },
  {
   "cell_type": "markdown",
   "id": "5e8ff86e",
   "metadata": {},
   "source": [
    "#### Cereals and potatoes"
   ]
  },
  {
   "cell_type": "code",
   "execution_count": 298,
   "id": "811c49ff",
   "metadata": {},
   "outputs": [],
   "source": [
    "cereal=['bread', 'pain', 'cereal', 'rice', 'riz', 'flour', 'farine', 'wrap', 'potato']\n",
    "for c in cereal:\n",
    "    bread=categNetoyer[categNetoyer['main_category'].str.contains(c,case=False)]['code']\n",
    "    df.loc[df['code'].isin(bread),'pnns_groups_1']='Cereals and potatoes'\n"
   ]
  },
  {
   "cell_type": "markdown",
   "id": "197c9985",
   "metadata": {},
   "source": [
    "#### Milk and dairy products"
   ]
  },
  {
   "cell_type": "code",
   "execution_count": 299,
   "id": "fc9ab7e9",
   "metadata": {},
   "outputs": [],
   "source": [
    "dairy=['milk','lait','cheese','fromage', 'yogurt', 'yaourt' ]\n",
    "for d in dairy:\n",
    "    milk=categNetoyer[categNetoyer['main_category'].str.contains(d,case=False)]['code']\n",
    "    df.loc[df['code'].isin(milk),'pnns_groups_1']='Milk and dairy products'"
   ]
  },
  {
   "cell_type": "markdown",
   "id": "5a997b9c",
   "metadata": {},
   "source": [
    "#### Pizza pies and quiche"
   ]
  },
  {
   "cell_type": "code",
   "execution_count": 300,
   "id": "975189e0",
   "metadata": {},
   "outputs": [],
   "source": [
    "pie=['pie', 'pizza', 'tarte', 'quiche']\n",
    "for p in pie:\n",
    "    pies=categNetoyer[categNetoyer['main_category'].str.contains(p,case=False)]['code']\n",
    "    df.loc[df['code'].isin(pies),'pnns_groups_1']='Pizza pies and quiche'"
   ]
  },
  {
   "cell_type": "markdown",
   "id": "ebba5570",
   "metadata": {},
   "source": [
    "#### Salty snacks"
   ]
  },
  {
   "cell_type": "code",
   "execution_count": 301,
   "id": "0b8c428b",
   "metadata": {},
   "outputs": [],
   "source": [
    "snacks=['chips', 'popcorn', 'peanuts']\n",
    "for s in snacks:\n",
    "    snack=categNetoyer[categNetoyer['main_category'].str.contains(s,case=False)]['code']\n",
    "    df.loc[df['code'].isin(snack),'pnns_groups_1']='Salty snacks'"
   ]
  },
  {
   "cell_type": "markdown",
   "id": "0ebc0951",
   "metadata": {},
   "source": [
    "#### Condiments"
   ]
  },
  {
   "cell_type": "code",
   "execution_count": 302,
   "id": "3c45ac29",
   "metadata": {},
   "outputs": [],
   "source": [
    "condiments=['vinaigre', 'vinegar', 'ketshup', 'mustard', 'moutarde', 'mayo']\n",
    "for c in condiments:\n",
    "    condiment=categNetoyer[categNetoyer['main_category'].str.contains(c,case=False)]['code']\n",
    "    df.loc[df['code'].isin(condiment),'pnns_groups_1']='Condiments'"
   ]
  },
  {
   "cell_type": "markdown",
   "id": "55c1bd3a",
   "metadata": {},
   "source": [
    "#### Appetizers"
   ]
  },
  {
   "cell_type": "code",
   "execution_count": 303,
   "id": "d6c38cd3",
   "metadata": {},
   "outputs": [],
   "source": [
    "apetizer=['olive']\n",
    "for a in apetizer:\n",
    "    aperitif=categNetoyer[categNetoyer['main_category'].str.contains(a,case=False)]['code']\n",
    "    df.loc[df['code'].isin(aperitif),'pnns_groups_1']='Appetizers'"
   ]
  },
  {
   "cell_type": "markdown",
   "id": "9b224275",
   "metadata": {},
   "source": [
    "Apres ce premier netoyage :"
   ]
  },
  {
   "cell_type": "code",
   "execution_count": 304,
   "id": "b099fdce",
   "metadata": {},
   "outputs": [
    {
     "data": {
      "text/plain": [
       "unknown                    140911\n",
       "Sugary snacks                9615\n",
       "Milk and dairy products      6352\n",
       "Beverages                    5741\n",
       "Fish Meat Eggs               4875\n",
       "Name: pnns_groups_1, dtype: int64"
      ]
     },
     "execution_count": 304,
     "metadata": {},
     "output_type": "execute_result"
    }
   ],
   "source": [
    "df['pnns_groups_1'].value_counts().head()"
   ]
  },
  {
   "cell_type": "markdown",
   "id": "ed87b941",
   "metadata": {},
   "source": [
    "Je remet les memes valeurs regroupes de **unknown** dans le groupe **pnns_groups_2** aussi"
   ]
  },
  {
   "cell_type": "code",
   "execution_count": 305,
   "id": "ddea7ae9",
   "metadata": {},
   "outputs": [],
   "source": [
    "df.loc[df['pnns_groups_2']=='unknown','pnns_groups_2']=df.loc[df['pnns_groups_2']=='unknown']['pnns_groups_1'].values"
   ]
  },
  {
   "cell_type": "markdown",
   "id": "e028ab7a",
   "metadata": {},
   "source": [
    "## Distribution des pnns groups"
   ]
  },
  {
   "cell_type": "code",
   "execution_count": 306,
   "id": "0f0309f6",
   "metadata": {},
   "outputs": [
    {
     "data": {
      "image/png": "[encoded data removed]",
      "text/plain": [
       "<Figure size 432x288 with 1 Axes>"
      ]
     },
     "metadata": {
      "needs_background": "light"
     },
     "output_type": "display_data"
    }
   ],
   "source": [
    "pnn1=df['pnns_groups_1'].value_counts()\n",
    "sns.boxplot(data=pnn1, x=pnn1.index, showfliers=False)\n",
    "plt.show()"
   ]
  },
  {
   "cell_type": "code",
   "execution_count": 307,
   "id": "d520dbff",
   "metadata": {},
   "outputs": [
    {
     "data": {
      "text/plain": [
       "count        31.000000\n",
       "mean       6329.838710\n",
       "std       25081.680048\n",
       "min           3.000000\n",
       "25%         139.500000\n",
       "50%         988.000000\n",
       "75%        2292.500000\n",
       "max      140911.000000\n",
       "Name: pnns_groups_1, dtype: float64"
      ]
     },
     "execution_count": 307,
     "metadata": {},
     "output_type": "execute_result"
    }
   ],
   "source": [
    "pnn1.describe()"
   ]
  },
  {
   "cell_type": "code",
   "execution_count": 308,
   "id": "796101de",
   "metadata": {},
   "outputs": [
    {
     "data": {
      "image/png": "[encoded data removed]",
      "text/plain": [
       "<Figure size 432x288 with 1 Axes>"
      ]
     },
     "metadata": {
      "needs_background": "light"
     },
     "output_type": "display_data"
    }
   ],
   "source": [
    "pnn2=df['pnns_groups_2'].value_counts()\n",
    "sns.boxplot(data=pnn2, x=pnn2.index, showfliers=False)\n",
    "plt.show()"
   ]
  },
  {
   "cell_type": "code",
   "execution_count": 309,
   "id": "05e81682",
   "metadata": {},
   "outputs": [
    {
     "data": {
      "text/plain": [
       "count        62.000000\n",
       "mean       3164.919355\n",
       "std       17814.154204\n",
       "min           3.000000\n",
       "25%         134.250000\n",
       "50%         407.000000\n",
       "75%        1526.750000\n",
       "max      140909.000000\n",
       "Name: pnns_groups_2, dtype: float64"
      ]
     },
     "execution_count": 309,
     "metadata": {},
     "output_type": "execute_result"
    }
   ],
   "source": [
    "pnn2.describe()"
   ]
  },
  {
   "cell_type": "markdown",
   "id": "bbb8cbfc",
   "metadata": {},
   "source": [
    "### Conclusion:\n",
    "Apres ce premier netoyage des categories on remarque aussi l'existance d'une categorie **Non food products** "
   ]
  },
  {
   "cell_type": "code",
   "execution_count": 310,
   "id": "ba6283fa",
   "metadata": {},
   "outputs": [
    {
     "data": {
      "text/html": [
       "<div>\n",
       "<style scoped>\n",
       "    .dataframe tbody tr th:only-of-type {\n",
       "        vertical-align: middle;\n",
       "    }\n",
       "\n",
       "    .dataframe tbody tr th {\n",
       "        vertical-align: top;\n",
       "    }\n",
       "\n",
       "    .dataframe thead th {\n",
       "        text-align: right;\n",
       "    }\n",
       "</style>\n",
       "<table border=\"1\" class=\"dataframe\">\n",
       "  <thead>\n",
       "    <tr style=\"text-align: right;\">\n",
       "      <th></th>\n",
       "      <th>code</th>\n",
       "      <th>url</th>\n",
       "      <th>product_name</th>\n",
       "      <th>quantity</th>\n",
       "      <th>brands</th>\n",
       "      <th>brands_tags</th>\n",
       "      <th>categories</th>\n",
       "      <th>categories_tags</th>\n",
       "      <th>categories_fr</th>\n",
       "      <th>countries</th>\n",
       "      <th>...</th>\n",
       "      <th>fiber_100g</th>\n",
       "      <th>proteins_100g</th>\n",
       "      <th>salt_100g</th>\n",
       "      <th>sodium_100g</th>\n",
       "      <th>vitamin-a_100g</th>\n",
       "      <th>vitamin-c_100g</th>\n",
       "      <th>calcium_100g</th>\n",
       "      <th>iron_100g</th>\n",
       "      <th>nutrition-score-fr_100g</th>\n",
       "      <th>nutrition-score-uk_100g</th>\n",
       "    </tr>\n",
       "  </thead>\n",
       "  <tbody>\n",
       "    <tr>\n",
       "      <th>170118</th>\n",
       "      <td>883929140886</td>\n",
       "      <td>http://world-fr.openfoodfacts.org/produit/0883...</td>\n",
       "      <td>Harry Potter &amp; The Deathly Hallows Radcliffe /...</td>\n",
       "      <td>NaN</td>\n",
       "      <td>Harry's</td>\n",
       "      <td>harry-s</td>\n",
       "      <td>Non alimentaire</td>\n",
       "      <td>en:non-food-products</td>\n",
       "      <td>Non alimentaire</td>\n",
       "      <td>France</td>\n",
       "      <td>...</td>\n",
       "      <td>100.0</td>\n",
       "      <td>100.0</td>\n",
       "      <td>0.0</td>\n",
       "      <td>0.000000</td>\n",
       "      <td>NaN</td>\n",
       "      <td>NaN</td>\n",
       "      <td>NaN</td>\n",
       "      <td>NaN</td>\n",
       "      <td>-10.0</td>\n",
       "      <td>-10.0</td>\n",
       "    </tr>\n",
       "    <tr>\n",
       "      <th>222741</th>\n",
       "      <td>3286011051744</td>\n",
       "      <td>http://world-fr.openfoodfacts.org/produit/3286...</td>\n",
       "      <td>Lingettes pocket pour visage et mains, biodégr...</td>\n",
       "      <td>NaN</td>\n",
       "      <td>Biolane</td>\n",
       "      <td>biolane</td>\n",
       "      <td>Open Beauty Facts</td>\n",
       "      <td>en:non-food-products,en:open-beauty-facts</td>\n",
       "      <td>Non alimentaire,Open Beauty Facts</td>\n",
       "      <td>France</td>\n",
       "      <td>...</td>\n",
       "      <td>1.0</td>\n",
       "      <td>99.0</td>\n",
       "      <td>2.0</td>\n",
       "      <td>0.787402</td>\n",
       "      <td>NaN</td>\n",
       "      <td>NaN</td>\n",
       "      <td>NaN</td>\n",
       "      <td>NaN</td>\n",
       "      <td>18.0</td>\n",
       "      <td>18.0</td>\n",
       "    </tr>\n",
       "    <tr>\n",
       "      <th>315115</th>\n",
       "      <td>8714789913940</td>\n",
       "      <td>http://world-fr.openfoodfacts.org/produit/8714...</td>\n",
       "      <td>OBF</td>\n",
       "      <td>NaN</td>\n",
       "      <td>Sanex</td>\n",
       "      <td>sanex</td>\n",
       "      <td>Non alimentaire,Open Beauty Facts</td>\n",
       "      <td>en:non-food-products,en:open-beauty-facts</td>\n",
       "      <td>Non alimentaire,Open Beauty Facts</td>\n",
       "      <td>France</td>\n",
       "      <td>...</td>\n",
       "      <td>0.0</td>\n",
       "      <td>0.0</td>\n",
       "      <td>0.0</td>\n",
       "      <td>0.000000</td>\n",
       "      <td>NaN</td>\n",
       "      <td>NaN</td>\n",
       "      <td>NaN</td>\n",
       "      <td>NaN</td>\n",
       "      <td>0.0</td>\n",
       "      <td>0.0</td>\n",
       "    </tr>\n",
       "  </tbody>\n",
       "</table>\n",
       "<p>3 rows × 45 columns</p>\n",
       "</div>"
      ],
      "text/plain": [
       "                 code                                                url  \\\n",
       "170118   883929140886  http://world-fr.openfoodfacts.org/produit/0883...   \n",
       "222741  3286011051744  http://world-fr.openfoodfacts.org/produit/3286...   \n",
       "315115  8714789913940  http://world-fr.openfoodfacts.org/produit/8714...   \n",
       "\n",
       "                                             product_name quantity   brands  \\\n",
       "170118  Harry Potter & The Deathly Hallows Radcliffe /...      NaN  Harry's   \n",
       "222741  Lingettes pocket pour visage et mains, biodégr...      NaN  Biolane   \n",
       "315115                                                OBF      NaN    Sanex   \n",
       "\n",
       "       brands_tags                         categories  \\\n",
       "170118     harry-s                    Non alimentaire   \n",
       "222741     biolane                  Open Beauty Facts   \n",
       "315115       sanex  Non alimentaire,Open Beauty Facts   \n",
       "\n",
       "                                  categories_tags  \\\n",
       "170118                       en:non-food-products   \n",
       "222741  en:non-food-products,en:open-beauty-facts   \n",
       "315115  en:non-food-products,en:open-beauty-facts   \n",
       "\n",
       "                            categories_fr countries  ... fiber_100g  \\\n",
       "170118                    Non alimentaire    France  ...      100.0   \n",
       "222741  Non alimentaire,Open Beauty Facts    France  ...        1.0   \n",
       "315115  Non alimentaire,Open Beauty Facts    France  ...        0.0   \n",
       "\n",
       "       proteins_100g salt_100g sodium_100g  vitamin-a_100g vitamin-c_100g  \\\n",
       "170118         100.0       0.0    0.000000             NaN            NaN   \n",
       "222741          99.0       2.0    0.787402             NaN            NaN   \n",
       "315115           0.0       0.0    0.000000             NaN            NaN   \n",
       "\n",
       "       calcium_100g iron_100g  nutrition-score-fr_100g  \\\n",
       "170118          NaN       NaN                    -10.0   \n",
       "222741          NaN       NaN                     18.0   \n",
       "315115          NaN       NaN                      0.0   \n",
       "\n",
       "        nutrition-score-uk_100g  \n",
       "170118                    -10.0  \n",
       "222741                     18.0  \n",
       "315115                      0.0  \n",
       "\n",
       "[3 rows x 45 columns]"
      ]
     },
     "execution_count": 310,
     "metadata": {},
     "output_type": "execute_result"
    }
   ],
   "source": [
    "df[df['pnns_groups_2']=='Non food products'].head()"
   ]
  },
  {
   "cell_type": "markdown",
   "id": "3022a86f",
   "metadata": {},
   "source": [
    "Ces produits ne sont pas d'interet pour notre etude, je vais donc les enlever du dataset"
   ]
  },
  {
   "cell_type": "code",
   "execution_count": 311,
   "id": "2c640775",
   "metadata": {},
   "outputs": [],
   "source": [
    "df.drop(index=df[df['pnns_groups_2']=='Non food products'].index, inplace=True)"
   ]
  },
  {
   "cell_type": "code",
   "execution_count": 312,
   "id": "118599fc",
   "metadata": {},
   "outputs": [
    {
     "data": {
      "text/plain": [
       "(196222, 45)"
      ]
     },
     "execution_count": 312,
     "metadata": {},
     "output_type": "execute_result"
    }
   ],
   "source": [
    "df.shape"
   ]
  },
  {
   "cell_type": "markdown",
   "id": "7a38ecb4",
   "metadata": {},
   "source": [
    "# Les variables qualitatives a garder:\n",
    "Les infos sur le code, nom du produit,  le pays de vente et la categorie "
   ]
  },
  {
   "cell_type": "code",
   "execution_count": 313,
   "id": "90d5f140",
   "metadata": {},
   "outputs": [],
   "source": [
    "obj=df.dtypes[df.dtypes=='object']"
   ]
  },
  {
   "cell_type": "code",
   "execution_count": 314,
   "id": "5b9dbf1a",
   "metadata": {},
   "outputs": [
    {
     "data": {
      "text/plain": [
       "main_category_fr      0.707484\n",
       "main_category         0.707484\n",
       "categories            0.707484\n",
       "categories_tags       0.707484\n",
       "categories_fr         0.707484\n",
       "quantity              0.682808\n",
       "additives_fr          0.417573\n",
       "additives_tags        0.417573\n",
       "serving_size          0.237298\n",
       "nutrition_grade_fr    0.125394\n",
       "additives             0.121281\n",
       "ingredients_text      0.121189\n",
       "brands_tags           0.014652\n",
       "brands                0.014652\n",
       "countries_fr          0.000311\n",
       "countries_tags        0.000311\n",
       "countries             0.000311\n",
       "url                   0.000000\n",
       "pnns_groups_1         0.000000\n",
       "pnns_groups_2         0.000000\n",
       "states                0.000000\n",
       "states_tags           0.000000\n",
       "states_fr             0.000000\n",
       "product_name          0.000000\n",
       "code                  0.000000\n",
       "dtype: float64"
      ]
     },
     "execution_count": 314,
     "metadata": {},
     "output_type": "execute_result"
    }
   ],
   "source": [
    "df[obj.index].isna().mean().sort_values(ascending=False)"
   ]
  },
  {
   "cell_type": "markdown",
   "id": "ddb1cc39",
   "metadata": {},
   "source": [
    "En regardant la pertinence des indicateurs et leur taux de remplissafge, je garde les infos suivantes"
   ]
  },
  {
   "cell_type": "code",
   "execution_count": 315,
   "id": "c0eb5ba0",
   "metadata": {},
   "outputs": [],
   "source": [
    "Basic_info=df[['code','url','product_name','countries_tags','pnns_groups_1', 'pnns_groups_2' ]]"
   ]
  },
  {
   "cell_type": "code",
   "execution_count": 316,
   "id": "a59fc0ed",
   "metadata": {},
   "outputs": [
    {
     "data": {
      "text/plain": [
       "code              0.000000\n",
       "url               0.000000\n",
       "product_name      0.000000\n",
       "countries_tags    0.000311\n",
       "pnns_groups_1     0.000000\n",
       "pnns_groups_2     0.000000\n",
       "dtype: float64"
      ]
     },
     "execution_count": 316,
     "metadata": {},
     "output_type": "execute_result"
    }
   ],
   "source": [
    "Basic_info.isna().mean()"
   ]
  },
  {
   "cell_type": "markdown",
   "id": "789be163",
   "metadata": {},
   "source": [
    "## Les informations sur les pays de vente"
   ]
  },
  {
   "cell_type": "code",
   "execution_count": 317,
   "id": "6b7dcb5e",
   "metadata": {},
   "outputs": [
    {
     "data": {
      "text/plain": [
       "en:united-states                                                       116428\n",
       "en:france                                                               55840\n",
       "en:switzerland                                                           7916\n",
       "en:germany                                                               4017\n",
       "en:spain                                                                 2738\n",
       "                                                                        ...  \n",
       "en:france,en:french-polynesia,en:spain                                      1\n",
       "en:france,en:greece,en:spain                                                1\n",
       "en:algeria,en:belgium,en:canada,en:france,en:morocco,en:switzerland         1\n",
       "en:belgium,en:france,en:guadeloupe                                          1\n",
       "en:china,en:hong-kong                                                       1\n",
       "Name: countries_tags, Length: 491, dtype: int64"
      ]
     },
     "execution_count": 317,
     "metadata": {},
     "output_type": "execute_result"
    }
   ],
   "source": [
    "Basic_info['countries_tags'].value_counts()"
   ]
  },
  {
   "cell_type": "code",
   "execution_count": 318,
   "id": "bff31040",
   "metadata": {},
   "outputs": [
    {
     "data": {
      "text/plain": [
       "count       491.000000\n",
       "mean        399.513238\n",
       "std        5835.596343\n",
       "min           1.000000\n",
       "25%           1.000000\n",
       "50%           1.000000\n",
       "75%           5.000000\n",
       "max      116428.000000\n",
       "Name: countries_tags, dtype: float64"
      ]
     },
     "execution_count": 318,
     "metadata": {},
     "output_type": "execute_result"
    }
   ],
   "source": [
    "pays=Basic_info['countries_tags'].value_counts()\n",
    "pays.describe()"
   ]
  },
  {
   "cell_type": "code",
   "execution_count": 319,
   "id": "a91f0d68",
   "metadata": {},
   "outputs": [
    {
     "data": {
      "text/plain": [
       "<AxesSubplot:>"
      ]
     },
     "execution_count": 319,
     "metadata": {},
     "output_type": "execute_result"
    },
    {
     "data": {
      "image/png": "[encoded data removed]",
      "text/plain": [
       "<Figure size 1440x432 with 1 Axes>"
      ]
     },
     "metadata": {
      "needs_background": "light"
     },
     "output_type": "display_data"
    }
   ],
   "source": [
    "pays=pays[pays>400]\n",
    "pays.plot(kind='bar', figsize=(20, 6))"
   ]
  },
  {
   "cell_type": "markdown",
   "id": "ba82565a",
   "metadata": {},
   "source": [
    "il y a des produits commercialises dans plusieurs pays, mais la majorite des informations sont pour les produits commercialise au etats-unis puis en france"
   ]
  },
  {
   "cell_type": "code",
   "execution_count": 320,
   "id": "8245bba8",
   "metadata": {},
   "outputs": [
    {
     "data": {
      "text/plain": [
       "58632"
      ]
     },
     "execution_count": 320,
     "metadata": {},
     "output_type": "execute_result"
    }
   ],
   "source": [
    "(df['countries_tags'].str.contains('france')== True).sum()"
   ]
  },
  {
   "cell_type": "markdown",
   "id": "25ad68e4",
   "metadata": {},
   "source": [
    "# Les donnees quantitatives"
   ]
  },
  {
   "cell_type": "markdown",
   "id": "94523707",
   "metadata": {},
   "source": [
    "Ces donnees quantitatives vont nous aider a classifier nos produits selon leur valeurs nutritionnelles. Il existe beaucoup de valeurs manquantes dans ce jeu de donnees."
   ]
  },
  {
   "cell_type": "code",
   "execution_count": 321,
   "id": "de715019",
   "metadata": {},
   "outputs": [],
   "source": [
    "types=df.dtypes\n",
    "types=types[types=='float64']\n",
    "types\n",
    "quant_df=df[types.index]"
   ]
  },
  {
   "cell_type": "code",
   "execution_count": 322,
   "id": "4b65f1a7",
   "metadata": {},
   "outputs": [
    {
     "data": {
      "text/plain": [
       "(196222, 45)"
      ]
     },
     "execution_count": 322,
     "metadata": {},
     "output_type": "execute_result"
    }
   ],
   "source": [
    "df.shape"
   ]
  },
  {
   "cell_type": "code",
   "execution_count": 323,
   "id": "f330d66d",
   "metadata": {},
   "outputs": [
    {
     "data": {
      "text/plain": [
       "vitamin-a_100g                 0.497080\n",
       "trans-fat_100g                 0.486750\n",
       "vitamin-c_100g                 0.485267\n",
       "iron_100g                      0.484854\n",
       "calcium_100g                   0.481735\n",
       "cholesterol_100g               0.479931\n",
       "fiber_100g                     0.212290\n",
       "nutrition-score-fr_100g        0.125394\n",
       "nutrition-score-uk_100g        0.125394\n",
       "ingredients_from_palm_oil_n    0.121189\n",
       "dtype: float64"
      ]
     },
     "execution_count": 323,
     "metadata": {},
     "output_type": "execute_result"
    }
   ],
   "source": [
    "quant_df.isna().mean().sort_values(ascending=False).head(10)"
   ]
  },
  {
   "cell_type": "code",
   "execution_count": 324,
   "id": "f1c5d9d3",
   "metadata": {},
   "outputs": [
    {
     "data": {
      "text/plain": [
       "ingredients_from_palm_oil_n                   0.00000\n",
       "ingredients_that_may_be_from_palm_oil_n       0.00000\n",
       "trans-fat_100g                                0.00000\n",
       "cholesterol_100g                              0.00000\n",
       "vitamin-c_100g                                0.00000\n",
       "vitamin-a_100g                                0.00000\n",
       "iron_100g                                     0.00109\n",
       "calcium_100g                                  0.03800\n",
       "sodium_100g                                   0.25700\n",
       "salt_100g                                     0.65278\n",
       "additives_n                                   1.00000\n",
       "fiber_100g                                    1.50000\n",
       "saturated-fat_100g                            2.00000\n",
       "proteins_100g                                 5.17000\n",
       "sugars_100g                                   6.15000\n",
       "fat_100g                                      6.30000\n",
       "nutrition-score-fr_100g                      10.00000\n",
       "nutrition-score-uk_100g                      10.00000\n",
       "carbohydrates_100g                           23.08000\n",
       "energy_100g                                1084.00000\n",
       "dtype: float64"
      ]
     },
     "execution_count": 324,
     "metadata": {},
     "output_type": "execute_result"
    }
   ],
   "source": [
    "quant_df.median().sort_values()"
   ]
  },
  {
   "cell_type": "code",
   "execution_count": 325,
   "id": "820b4770",
   "metadata": {},
   "outputs": [
    {
     "data": {
      "text/plain": [
       "vitamin-a_100g                             7.484597e-03\n",
       "ingredients_from_palm_oil_n                2.416796e-02\n",
       "iron_100g                                  3.892475e-02\n",
       "ingredients_that_may_be_from_palm_oil_n    8.773336e-02\n",
       "cholesterol_100g                           1.314959e-01\n",
       "trans-fat_100g                             2.887688e+00\n",
       "vitamin-c_100g                             6.699544e+00\n",
       "additives_n                                6.802256e+00\n",
       "calcium_100g                               1.522527e+01\n",
       "saturated-fat_100g                         5.879271e+01\n",
       "proteins_100g                              6.857908e+01\n",
       "nutrition-score-fr_100g                    7.965254e+01\n",
       "nutrition-score-uk_100g                    8.216658e+01\n",
       "fiber_100g                                 2.090217e+02\n",
       "fat_100g                                   2.449406e+02\n",
       "sugars_100g                                4.648443e+02\n",
       "carbohydrates_100g                         8.286194e+02\n",
       "sodium_100g                                3.418456e+03\n",
       "salt_100g                                  2.205069e+04\n",
       "energy_100g                                5.529962e+07\n",
       "dtype: float64"
      ]
     },
     "execution_count": 325,
     "metadata": {},
     "output_type": "execute_result"
    }
   ],
   "source": [
    "quant_df.var().sort_values()"
   ]
  },
  {
   "cell_type": "code",
   "execution_count": 326,
   "id": "2379f030",
   "metadata": {},
   "outputs": [
    {
     "data": {
      "text/html": [
       "<div>\n",
       "<style scoped>\n",
       "    .dataframe tbody tr th:only-of-type {\n",
       "        vertical-align: middle;\n",
       "    }\n",
       "\n",
       "    .dataframe tbody tr th {\n",
       "        vertical-align: top;\n",
       "    }\n",
       "\n",
       "    .dataframe thead th {\n",
       "        text-align: right;\n",
       "    }\n",
       "</style>\n",
       "<table border=\"1\" class=\"dataframe\">\n",
       "  <thead>\n",
       "    <tr style=\"text-align: right;\">\n",
       "      <th></th>\n",
       "      <th>count</th>\n",
       "      <th>mean</th>\n",
       "      <th>std</th>\n",
       "      <th>min</th>\n",
       "      <th>25%</th>\n",
       "      <th>50%</th>\n",
       "      <th>75%</th>\n",
       "      <th>max</th>\n",
       "    </tr>\n",
       "  </thead>\n",
       "  <tbody>\n",
       "    <tr>\n",
       "      <th>additives_n</th>\n",
       "      <td>172442.0</td>\n",
       "      <td>2.098740</td>\n",
       "      <td>2.608113</td>\n",
       "      <td>0.00000</td>\n",
       "      <td>0.00000</td>\n",
       "      <td>1.00000</td>\n",
       "      <td>3.000000</td>\n",
       "      <td>3.100000e+01</td>\n",
       "    </tr>\n",
       "    <tr>\n",
       "      <th>ingredients_from_palm_oil_n</th>\n",
       "      <td>172442.0</td>\n",
       "      <td>0.024136</td>\n",
       "      <td>0.155460</td>\n",
       "      <td>0.00000</td>\n",
       "      <td>0.00000</td>\n",
       "      <td>0.00000</td>\n",
       "      <td>0.000000</td>\n",
       "      <td>2.000000e+00</td>\n",
       "    </tr>\n",
       "    <tr>\n",
       "      <th>ingredients_that_may_be_from_palm_oil_n</th>\n",
       "      <td>172442.0</td>\n",
       "      <td>0.065471</td>\n",
       "      <td>0.296198</td>\n",
       "      <td>0.00000</td>\n",
       "      <td>0.00000</td>\n",
       "      <td>0.00000</td>\n",
       "      <td>0.000000</td>\n",
       "      <td>6.000000e+00</td>\n",
       "    </tr>\n",
       "    <tr>\n",
       "      <th>energy_100g</th>\n",
       "      <td>195058.0</td>\n",
       "      <td>1146.911926</td>\n",
       "      <td>7436.371671</td>\n",
       "      <td>0.00000</td>\n",
       "      <td>418.00000</td>\n",
       "      <td>1084.00000</td>\n",
       "      <td>1674.000000</td>\n",
       "      <td>3.251373e+06</td>\n",
       "    </tr>\n",
       "    <tr>\n",
       "      <th>fat_100g</th>\n",
       "      <td>178715.0</td>\n",
       "      <td>12.454317</td>\n",
       "      <td>15.650578</td>\n",
       "      <td>0.00000</td>\n",
       "      <td>0.50000</td>\n",
       "      <td>6.30000</td>\n",
       "      <td>20.000000</td>\n",
       "      <td>7.142900e+02</td>\n",
       "    </tr>\n",
       "    <tr>\n",
       "      <th>saturated-fat_100g</th>\n",
       "      <td>176837.0</td>\n",
       "      <td>5.031986</td>\n",
       "      <td>7.667640</td>\n",
       "      <td>0.00000</td>\n",
       "      <td>0.00000</td>\n",
       "      <td>2.00000</td>\n",
       "      <td>7.140000</td>\n",
       "      <td>5.500000e+02</td>\n",
       "    </tr>\n",
       "    <tr>\n",
       "      <th>trans-fat_100g</th>\n",
       "      <td>100711.0</td>\n",
       "      <td>0.085287</td>\n",
       "      <td>1.699320</td>\n",
       "      <td>-3.57000</td>\n",
       "      <td>0.00000</td>\n",
       "      <td>0.00000</td>\n",
       "      <td>0.000000</td>\n",
       "      <td>3.690000e+02</td>\n",
       "    </tr>\n",
       "    <tr>\n",
       "      <th>cholesterol_100g</th>\n",
       "      <td>102049.0</td>\n",
       "      <td>0.019762</td>\n",
       "      <td>0.362624</td>\n",
       "      <td>0.00000</td>\n",
       "      <td>0.00000</td>\n",
       "      <td>0.00000</td>\n",
       "      <td>0.023000</td>\n",
       "      <td>9.523800e+01</td>\n",
       "    </tr>\n",
       "    <tr>\n",
       "      <th>carbohydrates_100g</th>\n",
       "      <td>178690.0</td>\n",
       "      <td>32.413654</td>\n",
       "      <td>28.785749</td>\n",
       "      <td>0.00000</td>\n",
       "      <td>7.00000</td>\n",
       "      <td>23.08000</td>\n",
       "      <td>57.140000</td>\n",
       "      <td>2.916670e+03</td>\n",
       "    </tr>\n",
       "    <tr>\n",
       "      <th>sugars_100g</th>\n",
       "      <td>185534.0</td>\n",
       "      <td>15.632526</td>\n",
       "      <td>21.560249</td>\n",
       "      <td>-17.86000</td>\n",
       "      <td>1.50000</td>\n",
       "      <td>6.15000</td>\n",
       "      <td>24.000000</td>\n",
       "      <td>3.520000e+03</td>\n",
       "    </tr>\n",
       "    <tr>\n",
       "      <th>fiber_100g</th>\n",
       "      <td>154566.0</td>\n",
       "      <td>2.895138</td>\n",
       "      <td>14.457582</td>\n",
       "      <td>-6.70000</td>\n",
       "      <td>0.00000</td>\n",
       "      <td>1.50000</td>\n",
       "      <td>3.600000</td>\n",
       "      <td>5.380000e+03</td>\n",
       "    </tr>\n",
       "    <tr>\n",
       "      <th>proteins_100g</th>\n",
       "      <td>193961.0</td>\n",
       "      <td>7.239226</td>\n",
       "      <td>8.281249</td>\n",
       "      <td>-800.00000</td>\n",
       "      <td>1.20000</td>\n",
       "      <td>5.17000</td>\n",
       "      <td>10.000000</td>\n",
       "      <td>4.300000e+02</td>\n",
       "    </tr>\n",
       "    <tr>\n",
       "      <th>salt_100g</th>\n",
       "      <td>190357.0</td>\n",
       "      <td>2.116822</td>\n",
       "      <td>148.494735</td>\n",
       "      <td>0.00000</td>\n",
       "      <td>0.10000</td>\n",
       "      <td>0.65278</td>\n",
       "      <td>1.400000</td>\n",
       "      <td>6.431280e+04</td>\n",
       "    </tr>\n",
       "    <tr>\n",
       "      <th>sodium_100g</th>\n",
       "      <td>190324.0</td>\n",
       "      <td>0.833538</td>\n",
       "      <td>58.467561</td>\n",
       "      <td>0.00000</td>\n",
       "      <td>0.03937</td>\n",
       "      <td>0.25700</td>\n",
       "      <td>0.551181</td>\n",
       "      <td>2.532000e+04</td>\n",
       "    </tr>\n",
       "    <tr>\n",
       "      <th>vitamin-a_100g</th>\n",
       "      <td>98684.0</td>\n",
       "      <td>0.000487</td>\n",
       "      <td>0.086514</td>\n",
       "      <td>-0.00034</td>\n",
       "      <td>0.00000</td>\n",
       "      <td>0.00000</td>\n",
       "      <td>0.000106</td>\n",
       "      <td>2.670000e+01</td>\n",
       "    </tr>\n",
       "    <tr>\n",
       "      <th>vitamin-c_100g</th>\n",
       "      <td>101002.0</td>\n",
       "      <td>0.026366</td>\n",
       "      <td>2.588348</td>\n",
       "      <td>-0.00210</td>\n",
       "      <td>0.00000</td>\n",
       "      <td>0.00000</td>\n",
       "      <td>0.004000</td>\n",
       "      <td>7.169811e+02</td>\n",
       "    </tr>\n",
       "    <tr>\n",
       "      <th>calcium_100g</th>\n",
       "      <td>101695.0</td>\n",
       "      <td>0.128044</td>\n",
       "      <td>3.901957</td>\n",
       "      <td>0.00000</td>\n",
       "      <td>0.00000</td>\n",
       "      <td>0.03800</td>\n",
       "      <td>0.105000</td>\n",
       "      <td>6.947370e+02</td>\n",
       "    </tr>\n",
       "    <tr>\n",
       "      <th>iron_100g</th>\n",
       "      <td>101083.0</td>\n",
       "      <td>0.003798</td>\n",
       "      <td>0.197294</td>\n",
       "      <td>-0.00026</td>\n",
       "      <td>0.00000</td>\n",
       "      <td>0.00109</td>\n",
       "      <td>0.002400</td>\n",
       "      <td>4.705882e+01</td>\n",
       "    </tr>\n",
       "    <tr>\n",
       "      <th>nutrition-score-fr_100g</th>\n",
       "      <td>171617.0</td>\n",
       "      <td>9.311991</td>\n",
       "      <td>8.924827</td>\n",
       "      <td>-15.00000</td>\n",
       "      <td>1.00000</td>\n",
       "      <td>10.00000</td>\n",
       "      <td>16.000000</td>\n",
       "      <td>4.000000e+01</td>\n",
       "    </tr>\n",
       "    <tr>\n",
       "      <th>nutrition-score-uk_100g</th>\n",
       "      <td>171617.0</td>\n",
       "      <td>9.179225</td>\n",
       "      <td>9.064578</td>\n",
       "      <td>-15.00000</td>\n",
       "      <td>1.00000</td>\n",
       "      <td>10.00000</td>\n",
       "      <td>16.000000</td>\n",
       "      <td>4.000000e+01</td>\n",
       "    </tr>\n",
       "  </tbody>\n",
       "</table>\n",
       "</div>"
      ],
      "text/plain": [
       "                                            count         mean          std  \\\n",
       "additives_n                              172442.0     2.098740     2.608113   \n",
       "ingredients_from_palm_oil_n              172442.0     0.024136     0.155460   \n",
       "ingredients_that_may_be_from_palm_oil_n  172442.0     0.065471     0.296198   \n",
       "energy_100g                              195058.0  1146.911926  7436.371671   \n",
       "fat_100g                                 178715.0    12.454317    15.650578   \n",
       "saturated-fat_100g                       176837.0     5.031986     7.667640   \n",
       "trans-fat_100g                           100711.0     0.085287     1.699320   \n",
       "cholesterol_100g                         102049.0     0.019762     0.362624   \n",
       "carbohydrates_100g                       178690.0    32.413654    28.785749   \n",
       "sugars_100g                              185534.0    15.632526    21.560249   \n",
       "fiber_100g                               154566.0     2.895138    14.457582   \n",
       "proteins_100g                            193961.0     7.239226     8.281249   \n",
       "salt_100g                                190357.0     2.116822   148.494735   \n",
       "sodium_100g                              190324.0     0.833538    58.467561   \n",
       "vitamin-a_100g                            98684.0     0.000487     0.086514   \n",
       "vitamin-c_100g                           101002.0     0.026366     2.588348   \n",
       "calcium_100g                             101695.0     0.128044     3.901957   \n",
       "iron_100g                                101083.0     0.003798     0.197294   \n",
       "nutrition-score-fr_100g                  171617.0     9.311991     8.924827   \n",
       "nutrition-score-uk_100g                  171617.0     9.179225     9.064578   \n",
       "\n",
       "                                               min        25%         50%  \\\n",
       "additives_n                                0.00000    0.00000     1.00000   \n",
       "ingredients_from_palm_oil_n                0.00000    0.00000     0.00000   \n",
       "ingredients_that_may_be_from_palm_oil_n    0.00000    0.00000     0.00000   \n",
       "energy_100g                                0.00000  418.00000  1084.00000   \n",
       "fat_100g                                   0.00000    0.50000     6.30000   \n",
       "saturated-fat_100g                         0.00000    0.00000     2.00000   \n",
       "trans-fat_100g                            -3.57000    0.00000     0.00000   \n",
       "cholesterol_100g                           0.00000    0.00000     0.00000   \n",
       "carbohydrates_100g                         0.00000    7.00000    23.08000   \n",
       "sugars_100g                              -17.86000    1.50000     6.15000   \n",
       "fiber_100g                                -6.70000    0.00000     1.50000   \n",
       "proteins_100g                           -800.00000    1.20000     5.17000   \n",
       "salt_100g                                  0.00000    0.10000     0.65278   \n",
       "sodium_100g                                0.00000    0.03937     0.25700   \n",
       "vitamin-a_100g                            -0.00034    0.00000     0.00000   \n",
       "vitamin-c_100g                            -0.00210    0.00000     0.00000   \n",
       "calcium_100g                               0.00000    0.00000     0.03800   \n",
       "iron_100g                                 -0.00026    0.00000     0.00109   \n",
       "nutrition-score-fr_100g                  -15.00000    1.00000    10.00000   \n",
       "nutrition-score-uk_100g                  -15.00000    1.00000    10.00000   \n",
       "\n",
       "                                                 75%           max  \n",
       "additives_n                                 3.000000  3.100000e+01  \n",
       "ingredients_from_palm_oil_n                 0.000000  2.000000e+00  \n",
       "ingredients_that_may_be_from_palm_oil_n     0.000000  6.000000e+00  \n",
       "energy_100g                              1674.000000  3.251373e+06  \n",
       "fat_100g                                   20.000000  7.142900e+02  \n",
       "saturated-fat_100g                          7.140000  5.500000e+02  \n",
       "trans-fat_100g                              0.000000  3.690000e+02  \n",
       "cholesterol_100g                            0.023000  9.523800e+01  \n",
       "carbohydrates_100g                         57.140000  2.916670e+03  \n",
       "sugars_100g                                24.000000  3.520000e+03  \n",
       "fiber_100g                                  3.600000  5.380000e+03  \n",
       "proteins_100g                              10.000000  4.300000e+02  \n",
       "salt_100g                                   1.400000  6.431280e+04  \n",
       "sodium_100g                                 0.551181  2.532000e+04  \n",
       "vitamin-a_100g                              0.000106  2.670000e+01  \n",
       "vitamin-c_100g                              0.004000  7.169811e+02  \n",
       "calcium_100g                                0.105000  6.947370e+02  \n",
       "iron_100g                                   0.002400  4.705882e+01  \n",
       "nutrition-score-fr_100g                    16.000000  4.000000e+01  \n",
       "nutrition-score-uk_100g                    16.000000  4.000000e+01  "
      ]
     },
     "execution_count": 326,
     "metadata": {},
     "output_type": "execute_result"
    }
   ],
   "source": [
    "quant_df.describe().transpose()"
   ]
  },
  {
   "cell_type": "markdown",
   "id": "3b1977cb",
   "metadata": {},
   "source": [
    "En regardant les informations sur les valeurs nutritionelles, je remarque qu'il y a des indicateurs non representatives (plus de 50% des donnees ont une valeurs 0) telque **ingredients_from_palm_oil_n**, **vitamin-a_100g\t**, **vitamin-c_100**\n",
    "Il y a aussi des indicateurs avec des valeurs aberrantes tel que **energy_100g**, **proteins_100g**, **salt_100g**..."
   ]
  },
  {
   "cell_type": "markdown",
   "id": "e3a3cd59",
   "metadata": {},
   "source": [
    "# Indicateurs quantitatives a garder"
   ]
  },
  {
   "cell_type": "code",
   "execution_count": 395,
   "id": "b7948fb5",
   "metadata": {},
   "outputs": [],
   "source": [
    "colToKeep=['code', 'product_name', 'countries_tags', 'pnns_groups_1','energy_100g', 'fat_100g',\n",
    "       'saturated-fat_100g', 'cholesterol_100g',\n",
    "       'carbohydrates_100g', 'sugars_100g', 'fiber_100g', 'proteins_100g',\n",
    "       'sodium_100g', 'nutrition-score-fr_100g']"
   ]
  },
  {
   "cell_type": "code",
   "execution_count": 396,
   "id": "7bd076a9",
   "metadata": {},
   "outputs": [],
   "source": [
    "Indicateurs=df[colToKeep]"
   ]
  },
  {
   "cell_type": "markdown",
   "id": "253d5341",
   "metadata": {},
   "source": [
    "## Description du dataset Indicateurs"
   ]
  },
  {
   "cell_type": "code",
   "execution_count": 397,
   "id": "d347ec7a",
   "metadata": {},
   "outputs": [
    {
     "data": {
      "text/html": [
       "<div>\n",
       "<style scoped>\n",
       "    .dataframe tbody tr th:only-of-type {\n",
       "        vertical-align: middle;\n",
       "    }\n",
       "\n",
       "    .dataframe tbody tr th {\n",
       "        vertical-align: top;\n",
       "    }\n",
       "\n",
       "    .dataframe thead th {\n",
       "        text-align: right;\n",
       "    }\n",
       "</style>\n",
       "<table border=\"1\" class=\"dataframe\">\n",
       "  <thead>\n",
       "    <tr style=\"text-align: right;\">\n",
       "      <th></th>\n",
       "      <th>count</th>\n",
       "      <th>mean</th>\n",
       "      <th>std</th>\n",
       "      <th>min</th>\n",
       "      <th>25%</th>\n",
       "      <th>50%</th>\n",
       "      <th>75%</th>\n",
       "      <th>max</th>\n",
       "    </tr>\n",
       "  </thead>\n",
       "  <tbody>\n",
       "    <tr>\n",
       "      <th>energy_100g</th>\n",
       "      <td>195058.0</td>\n",
       "      <td>1146.911926</td>\n",
       "      <td>7436.371671</td>\n",
       "      <td>0.00</td>\n",
       "      <td>418.00000</td>\n",
       "      <td>1084.000</td>\n",
       "      <td>1674.000000</td>\n",
       "      <td>3251373.000</td>\n",
       "    </tr>\n",
       "    <tr>\n",
       "      <th>fat_100g</th>\n",
       "      <td>178715.0</td>\n",
       "      <td>12.454317</td>\n",
       "      <td>15.650578</td>\n",
       "      <td>0.00</td>\n",
       "      <td>0.50000</td>\n",
       "      <td>6.300</td>\n",
       "      <td>20.000000</td>\n",
       "      <td>714.290</td>\n",
       "    </tr>\n",
       "    <tr>\n",
       "      <th>saturated-fat_100g</th>\n",
       "      <td>176837.0</td>\n",
       "      <td>5.031986</td>\n",
       "      <td>7.667640</td>\n",
       "      <td>0.00</td>\n",
       "      <td>0.00000</td>\n",
       "      <td>2.000</td>\n",
       "      <td>7.140000</td>\n",
       "      <td>550.000</td>\n",
       "    </tr>\n",
       "    <tr>\n",
       "      <th>cholesterol_100g</th>\n",
       "      <td>102049.0</td>\n",
       "      <td>0.019762</td>\n",
       "      <td>0.362624</td>\n",
       "      <td>0.00</td>\n",
       "      <td>0.00000</td>\n",
       "      <td>0.000</td>\n",
       "      <td>0.023000</td>\n",
       "      <td>95.238</td>\n",
       "    </tr>\n",
       "    <tr>\n",
       "      <th>carbohydrates_100g</th>\n",
       "      <td>178690.0</td>\n",
       "      <td>32.413654</td>\n",
       "      <td>28.785749</td>\n",
       "      <td>0.00</td>\n",
       "      <td>7.00000</td>\n",
       "      <td>23.080</td>\n",
       "      <td>57.140000</td>\n",
       "      <td>2916.670</td>\n",
       "    </tr>\n",
       "    <tr>\n",
       "      <th>sugars_100g</th>\n",
       "      <td>185534.0</td>\n",
       "      <td>15.632526</td>\n",
       "      <td>21.560249</td>\n",
       "      <td>-17.86</td>\n",
       "      <td>1.50000</td>\n",
       "      <td>6.150</td>\n",
       "      <td>24.000000</td>\n",
       "      <td>3520.000</td>\n",
       "    </tr>\n",
       "    <tr>\n",
       "      <th>fiber_100g</th>\n",
       "      <td>154566.0</td>\n",
       "      <td>2.895138</td>\n",
       "      <td>14.457582</td>\n",
       "      <td>-6.70</td>\n",
       "      <td>0.00000</td>\n",
       "      <td>1.500</td>\n",
       "      <td>3.600000</td>\n",
       "      <td>5380.000</td>\n",
       "    </tr>\n",
       "    <tr>\n",
       "      <th>proteins_100g</th>\n",
       "      <td>193961.0</td>\n",
       "      <td>7.239226</td>\n",
       "      <td>8.281249</td>\n",
       "      <td>-800.00</td>\n",
       "      <td>1.20000</td>\n",
       "      <td>5.170</td>\n",
       "      <td>10.000000</td>\n",
       "      <td>430.000</td>\n",
       "    </tr>\n",
       "    <tr>\n",
       "      <th>sodium_100g</th>\n",
       "      <td>190324.0</td>\n",
       "      <td>0.833538</td>\n",
       "      <td>58.467561</td>\n",
       "      <td>0.00</td>\n",
       "      <td>0.03937</td>\n",
       "      <td>0.257</td>\n",
       "      <td>0.551181</td>\n",
       "      <td>25320.000</td>\n",
       "    </tr>\n",
       "    <tr>\n",
       "      <th>nutrition-score-fr_100g</th>\n",
       "      <td>171617.0</td>\n",
       "      <td>9.311991</td>\n",
       "      <td>8.924827</td>\n",
       "      <td>-15.00</td>\n",
       "      <td>1.00000</td>\n",
       "      <td>10.000</td>\n",
       "      <td>16.000000</td>\n",
       "      <td>40.000</td>\n",
       "    </tr>\n",
       "  </tbody>\n",
       "</table>\n",
       "</div>"
      ],
      "text/plain": [
       "                            count         mean          std     min  \\\n",
       "energy_100g              195058.0  1146.911926  7436.371671    0.00   \n",
       "fat_100g                 178715.0    12.454317    15.650578    0.00   \n",
       "saturated-fat_100g       176837.0     5.031986     7.667640    0.00   \n",
       "cholesterol_100g         102049.0     0.019762     0.362624    0.00   \n",
       "carbohydrates_100g       178690.0    32.413654    28.785749    0.00   \n",
       "sugars_100g              185534.0    15.632526    21.560249  -17.86   \n",
       "fiber_100g               154566.0     2.895138    14.457582   -6.70   \n",
       "proteins_100g            193961.0     7.239226     8.281249 -800.00   \n",
       "sodium_100g              190324.0     0.833538    58.467561    0.00   \n",
       "nutrition-score-fr_100g  171617.0     9.311991     8.924827  -15.00   \n",
       "\n",
       "                               25%       50%          75%          max  \n",
       "energy_100g              418.00000  1084.000  1674.000000  3251373.000  \n",
       "fat_100g                   0.50000     6.300    20.000000      714.290  \n",
       "saturated-fat_100g         0.00000     2.000     7.140000      550.000  \n",
       "cholesterol_100g           0.00000     0.000     0.023000       95.238  \n",
       "carbohydrates_100g         7.00000    23.080    57.140000     2916.670  \n",
       "sugars_100g                1.50000     6.150    24.000000     3520.000  \n",
       "fiber_100g                 0.00000     1.500     3.600000     5380.000  \n",
       "proteins_100g              1.20000     5.170    10.000000      430.000  \n",
       "sodium_100g                0.03937     0.257     0.551181    25320.000  \n",
       "nutrition-score-fr_100g    1.00000    10.000    16.000000       40.000  "
      ]
     },
     "execution_count": 397,
     "metadata": {},
     "output_type": "execute_result"
    }
   ],
   "source": [
    "Indicateurs.describe().transpose()"
   ]
  },
  {
   "cell_type": "markdown",
   "id": "7da2622a",
   "metadata": {},
   "source": [
    "### Valeurs manquantes"
   ]
  },
  {
   "cell_type": "code",
   "execution_count": 398,
   "id": "5e62abf3",
   "metadata": {},
   "outputs": [
    {
     "data": {
      "text/plain": [
       "cholesterol_100g           0.479931\n",
       "fiber_100g                 0.212290\n",
       "nutrition-score-fr_100g    0.125394\n",
       "saturated-fat_100g         0.098791\n",
       "carbohydrates_100g         0.089348\n",
       "fat_100g                   0.089220\n",
       "sugars_100g                0.054469\n",
       "sodium_100g                0.030058\n",
       "proteins_100g              0.011523\n",
       "energy_100g                0.005932\n",
       "countries_tags             0.000311\n",
       "code                       0.000000\n",
       "product_name               0.000000\n",
       "pnns_groups_1              0.000000\n",
       "dtype: float64"
      ]
     },
     "execution_count": 398,
     "metadata": {},
     "output_type": "execute_result"
    }
   ],
   "source": [
    "Indicateurs.isna().mean().sort_values(ascending=False)"
   ]
  },
  {
   "cell_type": "markdown",
   "id": "a9dc84d5",
   "metadata": {},
   "source": [
    "### Correlations"
   ]
  },
  {
   "cell_type": "code",
   "execution_count": 399,
   "id": "859fc7ff",
   "metadata": {},
   "outputs": [
    {
     "data": {
      "text/html": [
       "<style type=\"text/css\">\n",
       "#T_c411b_row0_col0, #T_c411b_row1_col1, #T_c411b_row2_col2, #T_c411b_row3_col3, #T_c411b_row4_col4, #T_c411b_row5_col5, #T_c411b_row6_col6, #T_c411b_row7_col7, #T_c411b_row8_col8, #T_c411b_row9_col9 {\n",
       "  background-color: #023858;\n",
       "  color: #f1f1f1;\n",
       "}\n",
       "#T_c411b_row0_col1 {\n",
       "  background-color: #f0eaf4;\n",
       "  color: #000000;\n",
       "}\n",
       "#T_c411b_row0_col2 {\n",
       "  background-color: #f5eef6;\n",
       "  color: #000000;\n",
       "}\n",
       "#T_c411b_row0_col3 {\n",
       "  background-color: #faf2f8;\n",
       "  color: #000000;\n",
       "}\n",
       "#T_c411b_row0_col4, #T_c411b_row3_col5 {\n",
       "  background-color: #e9e5f1;\n",
       "  color: #000000;\n",
       "}\n",
       "#T_c411b_row0_col5 {\n",
       "  background-color: #dbdaeb;\n",
       "  color: #000000;\n",
       "}\n",
       "#T_c411b_row0_col6 {\n",
       "  background-color: #efe9f3;\n",
       "  color: #000000;\n",
       "}\n",
       "#T_c411b_row0_col7 {\n",
       "  background-color: #dfddec;\n",
       "  color: #000000;\n",
       "}\n",
       "#T_c411b_row0_col8, #T_c411b_row1_col8, #T_c411b_row2_col8, #T_c411b_row4_col1, #T_c411b_row4_col3, #T_c411b_row5_col7, #T_c411b_row6_col9, #T_c411b_row7_col4, #T_c411b_row7_col5, #T_c411b_row7_col8, #T_c411b_row8_col0, #T_c411b_row8_col2, #T_c411b_row9_col6 {\n",
       "  background-color: #fff7fb;\n",
       "  color: #000000;\n",
       "}\n",
       "#T_c411b_row0_col9, #T_c411b_row2_col4 {\n",
       "  background-color: #f1ebf5;\n",
       "  color: #000000;\n",
       "}\n",
       "#T_c411b_row1_col0, #T_c411b_row6_col0, #T_c411b_row7_col3 {\n",
       "  background-color: #f4edf6;\n",
       "  color: #000000;\n",
       "}\n",
       "#T_c411b_row1_col2 {\n",
       "  background-color: #1278b4;\n",
       "  color: #f1f1f1;\n",
       "}\n",
       "#T_c411b_row1_col3, #T_c411b_row3_col4, #T_c411b_row4_col0, #T_c411b_row5_col0 {\n",
       "  background-color: #f7f0f7;\n",
       "  color: #000000;\n",
       "}\n",
       "#T_c411b_row1_col4, #T_c411b_row3_col9, #T_c411b_row9_col0, #T_c411b_row9_col3 {\n",
       "  background-color: #f6eff7;\n",
       "  color: #000000;\n",
       "}\n",
       "#T_c411b_row1_col5, #T_c411b_row8_col5 {\n",
       "  background-color: #e6e2ef;\n",
       "  color: #000000;\n",
       "}\n",
       "#T_c411b_row1_col6 {\n",
       "  background-color: #e1dfed;\n",
       "  color: #000000;\n",
       "}\n",
       "#T_c411b_row1_col7 {\n",
       "  background-color: #abbfdc;\n",
       "  color: #000000;\n",
       "}\n",
       "#T_c411b_row1_col9 {\n",
       "  background-color: #4496c3;\n",
       "  color: #f1f1f1;\n",
       "}\n",
       "#T_c411b_row2_col0 {\n",
       "  background-color: #f5eff6;\n",
       "  color: #000000;\n",
       "}\n",
       "#T_c411b_row2_col1 {\n",
       "  background-color: #0f76b3;\n",
       "  color: #f1f1f1;\n",
       "}\n",
       "#T_c411b_row2_col3, #T_c411b_row4_col7 {\n",
       "  background-color: #f4eef6;\n",
       "  color: #000000;\n",
       "}\n",
       "#T_c411b_row2_col5, #T_c411b_row6_col7 {\n",
       "  background-color: #b7c5df;\n",
       "  color: #000000;\n",
       "}\n",
       "#T_c411b_row2_col6 {\n",
       "  background-color: #d8d7e9;\n",
       "  color: #000000;\n",
       "}\n",
       "#T_c411b_row2_col7 {\n",
       "  background-color: #c2cbe2;\n",
       "  color: #000000;\n",
       "}\n",
       "#T_c411b_row2_col9 {\n",
       "  background-color: #348ebf;\n",
       "  color: #f1f1f1;\n",
       "}\n",
       "#T_c411b_row3_col0, #T_c411b_row4_col8, #T_c411b_row5_col8, #T_c411b_row6_col8 {\n",
       "  background-color: #fef6fb;\n",
       "  color: #000000;\n",
       "}\n",
       "#T_c411b_row3_col1 {\n",
       "  background-color: #f8f1f8;\n",
       "  color: #000000;\n",
       "}\n",
       "#T_c411b_row3_col2, #T_c411b_row7_col0, #T_c411b_row8_col9 {\n",
       "  background-color: #f9f2f8;\n",
       "  color: #000000;\n",
       "}\n",
       "#T_c411b_row3_col6, #T_c411b_row4_col2, #T_c411b_row6_col3, #T_c411b_row9_col8 {\n",
       "  background-color: #fef6fa;\n",
       "  color: #000000;\n",
       "}\n",
       "#T_c411b_row3_col7 {\n",
       "  background-color: #dedcec;\n",
       "  color: #000000;\n",
       "}\n",
       "#T_c411b_row3_col8 {\n",
       "  background-color: #eae6f1;\n",
       "  color: #000000;\n",
       "}\n",
       "#T_c411b_row4_col5 {\n",
       "  background-color: #197db7;\n",
       "  color: #f1f1f1;\n",
       "}\n",
       "#T_c411b_row4_col6 {\n",
       "  background-color: #bbc7e0;\n",
       "  color: #000000;\n",
       "}\n",
       "#T_c411b_row4_col9 {\n",
       "  background-color: #b5c4df;\n",
       "  color: #000000;\n",
       "}\n",
       "#T_c411b_row5_col1 {\n",
       "  background-color: #fbf3f9;\n",
       "  color: #000000;\n",
       "}\n",
       "#T_c411b_row5_col2 {\n",
       "  background-color: #dad9ea;\n",
       "  color: #000000;\n",
       "}\n",
       "#T_c411b_row5_col3 {\n",
       "  background-color: #fdf5fa;\n",
       "  color: #000000;\n",
       "}\n",
       "#T_c411b_row5_col4 {\n",
       "  background-color: #2383ba;\n",
       "  color: #f1f1f1;\n",
       "}\n",
       "#T_c411b_row5_col6 {\n",
       "  background-color: #93b5d6;\n",
       "  color: #000000;\n",
       "}\n",
       "#T_c411b_row5_col9 {\n",
       "  background-color: #81aed2;\n",
       "  color: #f1f1f1;\n",
       "}\n",
       "#T_c411b_row6_col1, #T_c411b_row7_col2 {\n",
       "  background-color: #e3e0ee;\n",
       "  color: #000000;\n",
       "}\n",
       "#T_c411b_row6_col2 {\n",
       "  background-color: #dddbec;\n",
       "  color: #000000;\n",
       "}\n",
       "#T_c411b_row6_col4 {\n",
       "  background-color: #adc1dd;\n",
       "  color: #000000;\n",
       "}\n",
       "#T_c411b_row6_col5 {\n",
       "  background-color: #76aad0;\n",
       "  color: #f1f1f1;\n",
       "}\n",
       "#T_c411b_row7_col1 {\n",
       "  background-color: #cacee5;\n",
       "  color: #000000;\n",
       "}\n",
       "#T_c411b_row7_col6 {\n",
       "  background-color: #d4d4e8;\n",
       "  color: #000000;\n",
       "}\n",
       "#T_c411b_row7_col9 {\n",
       "  background-color: #ede7f2;\n",
       "  color: #000000;\n",
       "}\n",
       "#T_c411b_row8_col1 {\n",
       "  background-color: #fcf4fa;\n",
       "  color: #000000;\n",
       "}\n",
       "#T_c411b_row8_col3 {\n",
       "  background-color: #e4e1ef;\n",
       "  color: #000000;\n",
       "}\n",
       "#T_c411b_row8_col4 {\n",
       "  background-color: #f2ecf5;\n",
       "  color: #000000;\n",
       "}\n",
       "#T_c411b_row8_col6 {\n",
       "  background-color: #faf3f9;\n",
       "  color: #000000;\n",
       "}\n",
       "#T_c411b_row8_col7 {\n",
       "  background-color: #e7e3f0;\n",
       "  color: #000000;\n",
       "}\n",
       "#T_c411b_row9_col1 {\n",
       "  background-color: #4697c4;\n",
       "  color: #f1f1f1;\n",
       "}\n",
       "#T_c411b_row9_col2 {\n",
       "  background-color: #3991c1;\n",
       "  color: #f1f1f1;\n",
       "}\n",
       "#T_c411b_row9_col4 {\n",
       "  background-color: #a9bfdc;\n",
       "  color: #000000;\n",
       "}\n",
       "#T_c411b_row9_col5 {\n",
       "  background-color: #63a2cb;\n",
       "  color: #f1f1f1;\n",
       "}\n",
       "#T_c411b_row9_col7 {\n",
       "  background-color: #d5d5e8;\n",
       "  color: #000000;\n",
       "}\n",
       "</style>\n",
       "<table id=\"T_c411b_\">\n",
       "  <thead>\n",
       "    <tr>\n",
       "      <th class=\"blank level0\" >&nbsp;</th>\n",
       "      <th class=\"col_heading level0 col0\" >energy_100g</th>\n",
       "      <th class=\"col_heading level0 col1\" >fat_100g</th>\n",
       "      <th class=\"col_heading level0 col2\" >saturated-fat_100g</th>\n",
       "      <th class=\"col_heading level0 col3\" >cholesterol_100g</th>\n",
       "      <th class=\"col_heading level0 col4\" >carbohydrates_100g</th>\n",
       "      <th class=\"col_heading level0 col5\" >sugars_100g</th>\n",
       "      <th class=\"col_heading level0 col6\" >fiber_100g</th>\n",
       "      <th class=\"col_heading level0 col7\" >proteins_100g</th>\n",
       "      <th class=\"col_heading level0 col8\" >sodium_100g</th>\n",
       "      <th class=\"col_heading level0 col9\" >nutrition-score-fr_100g</th>\n",
       "    </tr>\n",
       "  </thead>\n",
       "  <tbody>\n",
       "    <tr>\n",
       "      <th id=\"T_c411b_level0_row0\" class=\"row_heading level0 row0\" >energy_100g</th>\n",
       "      <td id=\"T_c411b_row0_col0\" class=\"data row0 col0\" >1.000000</td>\n",
       "      <td id=\"T_c411b_row0_col1\" class=\"data row0 col1\" >0.076531</td>\n",
       "      <td id=\"T_c411b_row0_col2\" class=\"data row0 col2\" >0.065544</td>\n",
       "      <td id=\"T_c411b_row0_col3\" class=\"data row0 col3\" >0.005130</td>\n",
       "      <td id=\"T_c411b_row0_col4\" class=\"data row0 col4\" >0.055822</td>\n",
       "      <td id=\"T_c411b_row0_col5\" class=\"data row0 col5\" >0.057198</td>\n",
       "      <td id=\"T_c411b_row0_col6\" class=\"data row0 col6\" >0.076412</td>\n",
       "      <td id=\"T_c411b_row0_col7\" class=\"data row0 col7\" >0.040343</td>\n",
       "      <td id=\"T_c411b_row0_col8\" class=\"data row0 col8\" >-0.000309</td>\n",
       "      <td id=\"T_c411b_row0_col9\" class=\"data row0 col9\" >0.059261</td>\n",
       "    </tr>\n",
       "    <tr>\n",
       "      <th id=\"T_c411b_level0_row1\" class=\"row_heading level0 row1\" >fat_100g</th>\n",
       "      <td id=\"T_c411b_row1_col0\" class=\"data row1 col0\" >0.076531</td>\n",
       "      <td id=\"T_c411b_row1_col1\" class=\"data row1 col1\" >1.000000</td>\n",
       "      <td id=\"T_c411b_row1_col2\" class=\"data row1 col2\" >0.717624</td>\n",
       "      <td id=\"T_c411b_row1_col3\" class=\"data row1 col3\" >0.023855</td>\n",
       "      <td id=\"T_c411b_row1_col4\" class=\"data row1 col4\" >-0.027799</td>\n",
       "      <td id=\"T_c411b_row1_col5\" class=\"data row1 col5\" >0.001492</td>\n",
       "      <td id=\"T_c411b_row1_col6\" class=\"data row1 col6\" >0.143709</td>\n",
       "      <td id=\"T_c411b_row1_col7\" class=\"data row1 col7\" >0.248408</td>\n",
       "      <td id=\"T_c411b_row1_col8\" class=\"data row1 col8\" >-0.004012</td>\n",
       "      <td id=\"T_c411b_row1_col9\" class=\"data row1 col9\" >0.579791</td>\n",
       "    </tr>\n",
       "    <tr>\n",
       "      <th id=\"T_c411b_level0_row2\" class=\"row_heading level0 row2\" >saturated-fat_100g</th>\n",
       "      <td id=\"T_c411b_row2_col0\" class=\"data row2 col0\" >0.065544</td>\n",
       "      <td id=\"T_c411b_row2_col1\" class=\"data row2 col1\" >0.717624</td>\n",
       "      <td id=\"T_c411b_row2_col2\" class=\"data row2 col2\" >1.000000</td>\n",
       "      <td id=\"T_c411b_row2_col3\" class=\"data row2 col3\" >0.040370</td>\n",
       "      <td id=\"T_c411b_row2_col4\" class=\"data row2 col4\" >0.007233</td>\n",
       "      <td id=\"T_c411b_row2_col5\" class=\"data row2 col5\" >0.203348</td>\n",
       "      <td id=\"T_c411b_row2_col6\" class=\"data row2 col6\" >0.189558</td>\n",
       "      <td id=\"T_c411b_row2_col7\" class=\"data row2 col7\" >0.164685</td>\n",
       "      <td id=\"T_c411b_row2_col8\" class=\"data row2 col8\" >-0.002501</td>\n",
       "      <td id=\"T_c411b_row2_col9\" class=\"data row2 col9\" >0.619396</td>\n",
       "    </tr>\n",
       "    <tr>\n",
       "      <th id=\"T_c411b_level0_row3\" class=\"row_heading level0 row3\" >cholesterol_100g</th>\n",
       "      <td id=\"T_c411b_row3_col0\" class=\"data row3 col0\" >0.005130</td>\n",
       "      <td id=\"T_c411b_row3_col1\" class=\"data row3 col1\" >0.023855</td>\n",
       "      <td id=\"T_c411b_row3_col2\" class=\"data row3 col2\" >0.040370</td>\n",
       "      <td id=\"T_c411b_row3_col3\" class=\"data row3 col3\" >1.000000</td>\n",
       "      <td id=\"T_c411b_row3_col4\" class=\"data row3 col4\" >-0.034021</td>\n",
       "      <td id=\"T_c411b_row3_col5\" class=\"data row3 col5\" >-0.015060</td>\n",
       "      <td id=\"T_c411b_row3_col6\" class=\"data row3 col6\" >-0.023308</td>\n",
       "      <td id=\"T_c411b_row3_col7\" class=\"data row3 col7\" >0.045317</td>\n",
       "      <td id=\"T_c411b_row3_col8\" class=\"data row3 col8\" >0.132686</td>\n",
       "      <td id=\"T_c411b_row3_col9\" class=\"data row3 col9\" >0.029358</td>\n",
       "    </tr>\n",
       "    <tr>\n",
       "      <th id=\"T_c411b_level0_row4\" class=\"row_heading level0 row4\" >carbohydrates_100g</th>\n",
       "      <td id=\"T_c411b_row4_col0\" class=\"data row4 col0\" >0.055822</td>\n",
       "      <td id=\"T_c411b_row4_col1\" class=\"data row4 col1\" >-0.027799</td>\n",
       "      <td id=\"T_c411b_row4_col2\" class=\"data row4 col2\" >0.007233</td>\n",
       "      <td id=\"T_c411b_row4_col3\" class=\"data row4 col3\" >-0.034021</td>\n",
       "      <td id=\"T_c411b_row4_col4\" class=\"data row4 col4\" >1.000000</td>\n",
       "      <td id=\"T_c411b_row4_col5\" class=\"data row4 col5\" >0.642844</td>\n",
       "      <td id=\"T_c411b_row4_col6\" class=\"data row4 col6\" >0.290008</td>\n",
       "      <td id=\"T_c411b_row4_col7\" class=\"data row4 col7\" >-0.095224</td>\n",
       "      <td id=\"T_c411b_row4_col8\" class=\"data row4 col8\" >0.001135</td>\n",
       "      <td id=\"T_c411b_row4_col9\" class=\"data row4 col9\" >0.306817</td>\n",
       "    </tr>\n",
       "    <tr>\n",
       "      <th id=\"T_c411b_level0_row5\" class=\"row_heading level0 row5\" >sugars_100g</th>\n",
       "      <td id=\"T_c411b_row5_col0\" class=\"data row5 col0\" >0.057198</td>\n",
       "      <td id=\"T_c411b_row5_col1\" class=\"data row5 col1\" >0.001492</td>\n",
       "      <td id=\"T_c411b_row5_col2\" class=\"data row5 col2\" >0.203348</td>\n",
       "      <td id=\"T_c411b_row5_col3\" class=\"data row5 col3\" >-0.015060</td>\n",
       "      <td id=\"T_c411b_row5_col4\" class=\"data row5 col4\" >0.642844</td>\n",
       "      <td id=\"T_c411b_row5_col5\" class=\"data row5 col5\" >1.000000</td>\n",
       "      <td id=\"T_c411b_row5_col6\" class=\"data row5 col6\" >0.404215</td>\n",
       "      <td id=\"T_c411b_row5_col7\" class=\"data row5 col7\" >-0.178920</td>\n",
       "      <td id=\"T_c411b_row5_col8\" class=\"data row5 col8\" >0.001423</td>\n",
       "      <td id=\"T_c411b_row5_col9\" class=\"data row5 col9\" >0.449032</td>\n",
       "    </tr>\n",
       "    <tr>\n",
       "      <th id=\"T_c411b_level0_row6\" class=\"row_heading level0 row6\" >fiber_100g</th>\n",
       "      <td id=\"T_c411b_row6_col0\" class=\"data row6 col0\" >0.076412</td>\n",
       "      <td id=\"T_c411b_row6_col1\" class=\"data row6 col1\" >0.143709</td>\n",
       "      <td id=\"T_c411b_row6_col2\" class=\"data row6 col2\" >0.189558</td>\n",
       "      <td id=\"T_c411b_row6_col3\" class=\"data row6 col3\" >-0.023308</td>\n",
       "      <td id=\"T_c411b_row6_col4\" class=\"data row6 col4\" >0.290008</td>\n",
       "      <td id=\"T_c411b_row6_col5\" class=\"data row6 col5\" >0.404215</td>\n",
       "      <td id=\"T_c411b_row6_col6\" class=\"data row6 col6\" >1.000000</td>\n",
       "      <td id=\"T_c411b_row6_col7\" class=\"data row6 col7\" >0.203761</td>\n",
       "      <td id=\"T_c411b_row6_col8\" class=\"data row6 col8\" >0.000856</td>\n",
       "      <td id=\"T_c411b_row6_col9\" class=\"data row6 col9\" >-0.034935</td>\n",
       "    </tr>\n",
       "    <tr>\n",
       "      <th id=\"T_c411b_level0_row7\" class=\"row_heading level0 row7\" >proteins_100g</th>\n",
       "      <td id=\"T_c411b_row7_col0\" class=\"data row7 col0\" >0.040343</td>\n",
       "      <td id=\"T_c411b_row7_col1\" class=\"data row7 col1\" >0.248408</td>\n",
       "      <td id=\"T_c411b_row7_col2\" class=\"data row7 col2\" >0.164685</td>\n",
       "      <td id=\"T_c411b_row7_col3\" class=\"data row7 col3\" >0.045317</td>\n",
       "      <td id=\"T_c411b_row7_col4\" class=\"data row7 col4\" >-0.095224</td>\n",
       "      <td id=\"T_c411b_row7_col5\" class=\"data row7 col5\" >-0.178920</td>\n",
       "      <td id=\"T_c411b_row7_col6\" class=\"data row7 col6\" >0.203761</td>\n",
       "      <td id=\"T_c411b_row7_col7\" class=\"data row7 col7\" >1.000000</td>\n",
       "      <td id=\"T_c411b_row7_col8\" class=\"data row7 col8\" >-0.002138</td>\n",
       "      <td id=\"T_c411b_row7_col9\" class=\"data row7 col9\" >0.090881</td>\n",
       "    </tr>\n",
       "    <tr>\n",
       "      <th id=\"T_c411b_level0_row8\" class=\"row_heading level0 row8\" >sodium_100g</th>\n",
       "      <td id=\"T_c411b_row8_col0\" class=\"data row8 col0\" >-0.000309</td>\n",
       "      <td id=\"T_c411b_row8_col1\" class=\"data row8 col1\" >-0.004012</td>\n",
       "      <td id=\"T_c411b_row8_col2\" class=\"data row8 col2\" >-0.002501</td>\n",
       "      <td id=\"T_c411b_row8_col3\" class=\"data row8 col3\" >0.132686</td>\n",
       "      <td id=\"T_c411b_row8_col4\" class=\"data row8 col4\" >0.001135</td>\n",
       "      <td id=\"T_c411b_row8_col5\" class=\"data row8 col5\" >0.001423</td>\n",
       "      <td id=\"T_c411b_row8_col6\" class=\"data row8 col6\" >0.000856</td>\n",
       "      <td id=\"T_c411b_row8_col7\" class=\"data row8 col7\" >-0.002138</td>\n",
       "      <td id=\"T_c411b_row8_col8\" class=\"data row8 col8\" >1.000000</td>\n",
       "      <td id=\"T_c411b_row8_col9\" class=\"data row8 col9\" >0.007273</td>\n",
       "    </tr>\n",
       "    <tr>\n",
       "      <th id=\"T_c411b_level0_row9\" class=\"row_heading level0 row9\" >nutrition-score-fr_100g</th>\n",
       "      <td id=\"T_c411b_row9_col0\" class=\"data row9 col0\" >0.059261</td>\n",
       "      <td id=\"T_c411b_row9_col1\" class=\"data row9 col1\" >0.579791</td>\n",
       "      <td id=\"T_c411b_row9_col2\" class=\"data row9 col2\" >0.619396</td>\n",
       "      <td id=\"T_c411b_row9_col3\" class=\"data row9 col3\" >0.029358</td>\n",
       "      <td id=\"T_c411b_row9_col4\" class=\"data row9 col4\" >0.306817</td>\n",
       "      <td id=\"T_c411b_row9_col5\" class=\"data row9 col5\" >0.449032</td>\n",
       "      <td id=\"T_c411b_row9_col6\" class=\"data row9 col6\" >-0.034935</td>\n",
       "      <td id=\"T_c411b_row9_col7\" class=\"data row9 col7\" >0.090881</td>\n",
       "      <td id=\"T_c411b_row9_col8\" class=\"data row9 col8\" >0.007273</td>\n",
       "      <td id=\"T_c411b_row9_col9\" class=\"data row9 col9\" >1.000000</td>\n",
       "    </tr>\n",
       "  </tbody>\n",
       "</table>\n"
      ],
      "text/plain": [
       "<pandas.io.formats.style.Styler at 0x13428eebeb0>"
      ]
     },
     "execution_count": 399,
     "metadata": {},
     "output_type": "execute_result"
    }
   ],
   "source": [
    "Indicateurs.corr().style.background_gradient()"
   ]
  },
  {
   "cell_type": "markdown",
   "id": "bb812977",
   "metadata": {},
   "source": [
    "Les resultats des correlations ne semblent pas tres satisfaisants, probablement a cause des donnees erronees. POur notre etude nous serons interesses par les produits adequat pour un regime plus sain dans le cadre d'un meilleur comportement alimentaire. Nous seront donc interesse notemment par la reduction de l'apport en matieres grasse et glucides tout en examinant les apport en proteine, fibre, sucre et sel pour decider sur nos recommendations de produits plus sain. Nous garderons donc les info suivantes:"
   ]
  },
  {
   "cell_type": "markdown",
   "id": "2d87cea3",
   "metadata": {},
   "source": [
    "# Etude des valeurs aberrantes\n",
    "Nous allons examiner les valeurs aberrantes des variables du dataset Indicateurs\n",
    "## Energy\n",
    "L'energie par 100g peut etre calculer a partir des proteine, fat et carbohydrates en kcal puis multiplie par 4.1868 pour avoir l'information en Kj, mais avant de la calcule je vais netoyer les valeurs aberrantes dans les composantes de l'energie"
   ]
  },
  {
   "cell_type": "markdown",
   "id": "0a2c32a7",
   "metadata": {},
   "source": [
    "### Carbohydrates:"
   ]
  },
  {
   "cell_type": "code",
   "execution_count": 400,
   "id": "9cd0f40b",
   "metadata": {},
   "outputs": [
    {
     "data": {
      "text/html": [
       "<div>\n",
       "<style scoped>\n",
       "    .dataframe tbody tr th:only-of-type {\n",
       "        vertical-align: middle;\n",
       "    }\n",
       "\n",
       "    .dataframe tbody tr th {\n",
       "        vertical-align: top;\n",
       "    }\n",
       "\n",
       "    .dataframe thead th {\n",
       "        text-align: right;\n",
       "    }\n",
       "</style>\n",
       "<table border=\"1\" class=\"dataframe\">\n",
       "  <thead>\n",
       "    <tr style=\"text-align: right;\">\n",
       "      <th></th>\n",
       "      <th>code</th>\n",
       "      <th>product_name</th>\n",
       "      <th>countries_tags</th>\n",
       "      <th>pnns_groups_1</th>\n",
       "      <th>energy_100g</th>\n",
       "      <th>fat_100g</th>\n",
       "      <th>saturated-fat_100g</th>\n",
       "      <th>cholesterol_100g</th>\n",
       "      <th>carbohydrates_100g</th>\n",
       "      <th>sugars_100g</th>\n",
       "      <th>fiber_100g</th>\n",
       "      <th>proteins_100g</th>\n",
       "      <th>sodium_100g</th>\n",
       "      <th>nutrition-score-fr_100g</th>\n",
       "    </tr>\n",
       "  </thead>\n",
       "  <tbody>\n",
       "    <tr>\n",
       "      <th>71000</th>\n",
       "      <td>70552801110</td>\n",
       "      <td>Toaster Pastries, Strawberry</td>\n",
       "      <td>en:united-states</td>\n",
       "      <td>unknown</td>\n",
       "      <td>2615.0</td>\n",
       "      <td>NaN</td>\n",
       "      <td>6.250</td>\n",
       "      <td>0.0</td>\n",
       "      <td>209.38</td>\n",
       "      <td>46.88</td>\n",
       "      <td>3.1</td>\n",
       "      <td>6.25</td>\n",
       "      <td>0.59400</td>\n",
       "      <td>25.0</td>\n",
       "    </tr>\n",
       "    <tr>\n",
       "      <th>111566</th>\n",
       "      <td>01364008</td>\n",
       "      <td>Tomato Ketchup</td>\n",
       "      <td>en:united-states</td>\n",
       "      <td>Groceries</td>\n",
       "      <td>2510.0</td>\n",
       "      <td>0.588</td>\n",
       "      <td>0.588</td>\n",
       "      <td>0.0</td>\n",
       "      <td>136.00</td>\n",
       "      <td>134.00</td>\n",
       "      <td>0.0</td>\n",
       "      <td>7.06</td>\n",
       "      <td>0.00417</td>\n",
       "      <td>17.0</td>\n",
       "    </tr>\n",
       "    <tr>\n",
       "      <th>119783</th>\n",
       "      <td>632432968018</td>\n",
       "      <td>Naturally Caffeinated Pure Empower Mint Dietar...</td>\n",
       "      <td>en:united-states</td>\n",
       "      <td>unknown</td>\n",
       "      <td>837.0</td>\n",
       "      <td>NaN</td>\n",
       "      <td>NaN</td>\n",
       "      <td>NaN</td>\n",
       "      <td>120.00</td>\n",
       "      <td>NaN</td>\n",
       "      <td>NaN</td>\n",
       "      <td>NaN</td>\n",
       "      <td>NaN</td>\n",
       "      <td>NaN</td>\n",
       "    </tr>\n",
       "    <tr>\n",
       "      <th>133567</th>\n",
       "      <td>720118181216</td>\n",
       "      <td>Mango Jalapeno</td>\n",
       "      <td>en:united-states</td>\n",
       "      <td>unknown</td>\n",
       "      <td>1941.0</td>\n",
       "      <td>0.000</td>\n",
       "      <td>0.000</td>\n",
       "      <td>NaN</td>\n",
       "      <td>125.00</td>\n",
       "      <td>110.71</td>\n",
       "      <td>7.1</td>\n",
       "      <td>NaN</td>\n",
       "      <td>NaN</td>\n",
       "      <td>NaN</td>\n",
       "    </tr>\n",
       "    <tr>\n",
       "      <th>155609</th>\n",
       "      <td>838619000254</td>\n",
       "      <td>Beurre d'érable</td>\n",
       "      <td>en:france</td>\n",
       "      <td>unknown</td>\n",
       "      <td>1390.0</td>\n",
       "      <td>0.000</td>\n",
       "      <td>0.000</td>\n",
       "      <td>NaN</td>\n",
       "      <td>164.00</td>\n",
       "      <td>72.70</td>\n",
       "      <td>NaN</td>\n",
       "      <td>0.00</td>\n",
       "      <td>NaN</td>\n",
       "      <td>NaN</td>\n",
       "    </tr>\n",
       "    <tr>\n",
       "      <th>155803</th>\n",
       "      <td>840228113270</td>\n",
       "      <td>Tamarind Juice With Nata De Coco, Tamarind</td>\n",
       "      <td>en:united-states</td>\n",
       "      <td>unknown</td>\n",
       "      <td>NaN</td>\n",
       "      <td>0.000</td>\n",
       "      <td>NaN</td>\n",
       "      <td>NaN</td>\n",
       "      <td>2916.67</td>\n",
       "      <td>166.67</td>\n",
       "      <td>250.0</td>\n",
       "      <td>NaN</td>\n",
       "      <td>58.00000</td>\n",
       "      <td>NaN</td>\n",
       "    </tr>\n",
       "    <tr>\n",
       "      <th>245311</th>\n",
       "      <td>3596710288755</td>\n",
       "      <td>mini choux goût fromage de chèvre - poivre</td>\n",
       "      <td>en:france</td>\n",
       "      <td>Salty snacks</td>\n",
       "      <td>18700.0</td>\n",
       "      <td>380.000</td>\n",
       "      <td>210.000</td>\n",
       "      <td>NaN</td>\n",
       "      <td>190.00</td>\n",
       "      <td>22.70</td>\n",
       "      <td>0.0</td>\n",
       "      <td>0.00</td>\n",
       "      <td>3.67000</td>\n",
       "      <td>35.0</td>\n",
       "    </tr>\n",
       "    <tr>\n",
       "      <th>317635</th>\n",
       "      <td>8935000901649</td>\n",
       "      <td>Banane sèche</td>\n",
       "      <td>en:france</td>\n",
       "      <td>Fruits and vegetables</td>\n",
       "      <td>1259.0</td>\n",
       "      <td>0.000</td>\n",
       "      <td>0.000</td>\n",
       "      <td>NaN</td>\n",
       "      <td>139.00</td>\n",
       "      <td>41.50</td>\n",
       "      <td>0.0</td>\n",
       "      <td>5.00</td>\n",
       "      <td>0.00000</td>\n",
       "      <td>4.0</td>\n",
       "    </tr>\n",
       "  </tbody>\n",
       "</table>\n",
       "</div>"
      ],
      "text/plain": [
       "                 code                                       product_name  \\\n",
       "71000     70552801110                       Toaster Pastries, Strawberry   \n",
       "111566       01364008                                     Tomato Ketchup   \n",
       "119783   632432968018  Naturally Caffeinated Pure Empower Mint Dietar...   \n",
       "133567   720118181216                                     Mango Jalapeno   \n",
       "155609   838619000254                                    Beurre d'érable   \n",
       "155803   840228113270         Tamarind Juice With Nata De Coco, Tamarind   \n",
       "245311  3596710288755         mini choux goût fromage de chèvre - poivre   \n",
       "317635  8935000901649                                       Banane sèche   \n",
       "\n",
       "          countries_tags          pnns_groups_1  energy_100g  fat_100g  \\\n",
       "71000   en:united-states                unknown       2615.0       NaN   \n",
       "111566  en:united-states              Groceries       2510.0     0.588   \n",
       "119783  en:united-states                unknown        837.0       NaN   \n",
       "133567  en:united-states                unknown       1941.0     0.000   \n",
       "155609         en:france                unknown       1390.0     0.000   \n",
       "155803  en:united-states                unknown          NaN     0.000   \n",
       "245311         en:france           Salty snacks      18700.0   380.000   \n",
       "317635         en:france  Fruits and vegetables       1259.0     0.000   \n",
       "\n",
       "        saturated-fat_100g  cholesterol_100g  carbohydrates_100g  sugars_100g  \\\n",
       "71000                6.250               0.0              209.38        46.88   \n",
       "111566               0.588               0.0              136.00       134.00   \n",
       "119783                 NaN               NaN              120.00          NaN   \n",
       "133567               0.000               NaN              125.00       110.71   \n",
       "155609               0.000               NaN              164.00        72.70   \n",
       "155803                 NaN               NaN             2916.67       166.67   \n",
       "245311             210.000               NaN              190.00        22.70   \n",
       "317635               0.000               NaN              139.00        41.50   \n",
       "\n",
       "        fiber_100g  proteins_100g  sodium_100g  nutrition-score-fr_100g  \n",
       "71000          3.1           6.25      0.59400                     25.0  \n",
       "111566         0.0           7.06      0.00417                     17.0  \n",
       "119783         NaN            NaN          NaN                      NaN  \n",
       "133567         7.1            NaN          NaN                      NaN  \n",
       "155609         NaN           0.00          NaN                      NaN  \n",
       "155803       250.0            NaN     58.00000                      NaN  \n",
       "245311         0.0           0.00      3.67000                     35.0  \n",
       "317635         0.0           5.00      0.00000                      4.0  "
      ]
     },
     "execution_count": 400,
     "metadata": {},
     "output_type": "execute_result"
    }
   ],
   "source": [
    "Indicateurs[Indicateurs['carbohydrates_100g']>110]"
   ]
  },
  {
   "cell_type": "code",
   "execution_count": 401,
   "id": "ad874925",
   "metadata": {},
   "outputs": [],
   "source": [
    "Indicateurs.drop(index=[155803,245311,234726], inplace=True)"
   ]
  },
  {
   "cell_type": "code",
   "execution_count": 402,
   "id": "d90bdf41",
   "metadata": {},
   "outputs": [],
   "source": [
    "Indicateurs.loc[Indicateurs['carbohydrates_100g']>110,'carbohydrates_100g']=np.nan"
   ]
  },
  {
   "cell_type": "code",
   "execution_count": 403,
   "id": "abc32eae",
   "metadata": {},
   "outputs": [],
   "source": [
    "Indicateurs.loc[Indicateurs['carbohydrates_100g']>100,'carbohydrates_100g']=100"
   ]
  },
  {
   "cell_type": "code",
   "execution_count": 404,
   "id": "8cef9613",
   "metadata": {},
   "outputs": [
    {
     "data": {
      "text/plain": [
       "count    178681.000000\n",
       "mean         32.392175\n",
       "std          27.954045\n",
       "min           0.000000\n",
       "25%           7.000000\n",
       "50%          23.080000\n",
       "75%          57.140000\n",
       "max         100.000000\n",
       "Name: carbohydrates_100g, dtype: float64"
      ]
     },
     "execution_count": 404,
     "metadata": {},
     "output_type": "execute_result"
    }
   ],
   "source": [
    "Indicateurs['carbohydrates_100g'].describe()"
   ]
  },
  {
   "cell_type": "markdown",
   "id": "2eb8187b",
   "metadata": {},
   "source": [
    "### Fat"
   ]
  },
  {
   "cell_type": "code",
   "execution_count": 405,
   "id": "7eb0336e",
   "metadata": {},
   "outputs": [
    {
     "data": {
      "text/plain": [
       "count    178712.000000\n",
       "mean         12.452109\n",
       "std          15.626234\n",
       "min           0.000000\n",
       "25%           0.500000\n",
       "50%           6.300000\n",
       "75%          20.000000\n",
       "max         714.290000\n",
       "Name: fat_100g, dtype: float64"
      ]
     },
     "execution_count": 405,
     "metadata": {},
     "output_type": "execute_result"
    }
   ],
   "source": [
    "Indicateurs['fat_100g'].describe()"
   ]
  },
  {
   "cell_type": "code",
   "execution_count": 406,
   "id": "c35462fa",
   "metadata": {},
   "outputs": [
    {
     "data": {
      "text/html": [
       "<div>\n",
       "<style scoped>\n",
       "    .dataframe tbody tr th:only-of-type {\n",
       "        vertical-align: middle;\n",
       "    }\n",
       "\n",
       "    .dataframe tbody tr th {\n",
       "        vertical-align: top;\n",
       "    }\n",
       "\n",
       "    .dataframe thead th {\n",
       "        text-align: right;\n",
       "    }\n",
       "</style>\n",
       "<table border=\"1\" class=\"dataframe\">\n",
       "  <thead>\n",
       "    <tr style=\"text-align: right;\">\n",
       "      <th></th>\n",
       "      <th>code</th>\n",
       "      <th>product_name</th>\n",
       "      <th>countries_tags</th>\n",
       "      <th>pnns_groups_1</th>\n",
       "      <th>energy_100g</th>\n",
       "      <th>fat_100g</th>\n",
       "      <th>saturated-fat_100g</th>\n",
       "      <th>cholesterol_100g</th>\n",
       "      <th>carbohydrates_100g</th>\n",
       "      <th>sugars_100g</th>\n",
       "      <th>fiber_100g</th>\n",
       "      <th>proteins_100g</th>\n",
       "      <th>sodium_100g</th>\n",
       "      <th>nutrition-score-fr_100g</th>\n",
       "    </tr>\n",
       "  </thead>\n",
       "  <tbody>\n",
       "    <tr>\n",
       "      <th>112681</th>\n",
       "      <td>0201203040026</td>\n",
       "      <td>Premium Extra Virgin Olive Oil</td>\n",
       "      <td>en:united-states</td>\n",
       "      <td>unknown</td>\n",
       "      <td>110579.0</td>\n",
       "      <td>714.29</td>\n",
       "      <td>100.0</td>\n",
       "      <td>0.0</td>\n",
       "      <td>NaN</td>\n",
       "      <td>0.0</td>\n",
       "      <td>0.0</td>\n",
       "      <td>0.0</td>\n",
       "      <td>0.000000</td>\n",
       "      <td>20.0</td>\n",
       "    </tr>\n",
       "    <tr>\n",
       "      <th>303101</th>\n",
       "      <td>8005305900255</td>\n",
       "      <td>Ekstra Jomfru Olivenolie</td>\n",
       "      <td>en:denmark</td>\n",
       "      <td>Fat and sauces</td>\n",
       "      <td>3737.0</td>\n",
       "      <td>101.00</td>\n",
       "      <td>15.0</td>\n",
       "      <td>NaN</td>\n",
       "      <td>0.0</td>\n",
       "      <td>0.0</td>\n",
       "      <td>NaN</td>\n",
       "      <td>0.0</td>\n",
       "      <td>0.000000</td>\n",
       "      <td>11.0</td>\n",
       "    </tr>\n",
       "    <tr>\n",
       "      <th>305054</th>\n",
       "      <td>8032942610032</td>\n",
       "      <td>Graine de couscous moyen</td>\n",
       "      <td>en:france</td>\n",
       "      <td>Plant based food and beverages</td>\n",
       "      <td>1482.0</td>\n",
       "      <td>105.00</td>\n",
       "      <td>0.3</td>\n",
       "      <td>NaN</td>\n",
       "      <td>70.0</td>\n",
       "      <td>2.5</td>\n",
       "      <td>NaN</td>\n",
       "      <td>12.0</td>\n",
       "      <td>0.003937</td>\n",
       "      <td>-1.0</td>\n",
       "    </tr>\n",
       "  </tbody>\n",
       "</table>\n",
       "</div>"
      ],
      "text/plain": [
       "                 code                    product_name    countries_tags  \\\n",
       "112681  0201203040026  Premium Extra Virgin Olive Oil  en:united-states   \n",
       "303101  8005305900255        Ekstra Jomfru Olivenolie        en:denmark   \n",
       "305054  8032942610032        Graine de couscous moyen         en:france   \n",
       "\n",
       "                         pnns_groups_1  energy_100g  fat_100g  \\\n",
       "112681                         unknown     110579.0    714.29   \n",
       "303101                  Fat and sauces       3737.0    101.00   \n",
       "305054  Plant based food and beverages       1482.0    105.00   \n",
       "\n",
       "        saturated-fat_100g  cholesterol_100g  carbohydrates_100g  sugars_100g  \\\n",
       "112681               100.0               0.0                 NaN          0.0   \n",
       "303101                15.0               NaN                 0.0          0.0   \n",
       "305054                 0.3               NaN                70.0          2.5   \n",
       "\n",
       "        fiber_100g  proteins_100g  sodium_100g  nutrition-score-fr_100g  \n",
       "112681         0.0            0.0     0.000000                     20.0  \n",
       "303101         NaN            0.0     0.000000                     11.0  \n",
       "305054         NaN           12.0     0.003937                     -1.0  "
      ]
     },
     "execution_count": 406,
     "metadata": {},
     "output_type": "execute_result"
    }
   ],
   "source": [
    "Indicateurs.loc[Indicateurs['fat_100g']>100]"
   ]
  },
  {
   "cell_type": "code",
   "execution_count": 407,
   "id": "c7afe16a",
   "metadata": {},
   "outputs": [],
   "source": [
    "Indicateurs.loc[Indicateurs['code']=='8032942610032', 'fat_100g']=np.nan"
   ]
  },
  {
   "cell_type": "code",
   "execution_count": 408,
   "id": "351a2003",
   "metadata": {},
   "outputs": [],
   "source": [
    "Indicateurs.loc[Indicateurs['fat_100g']>100,'fat_100g']=100"
   ]
  },
  {
   "cell_type": "code",
   "execution_count": 409,
   "id": "96b80b0f",
   "metadata": {},
   "outputs": [
    {
     "data": {
      "text/plain": [
       "count    178711.000000\n",
       "mean         12.448148\n",
       "std          15.537639\n",
       "min           0.000000\n",
       "25%           0.500000\n",
       "50%           6.300000\n",
       "75%          20.000000\n",
       "max         100.000000\n",
       "Name: fat_100g, dtype: float64"
      ]
     },
     "execution_count": 409,
     "metadata": {},
     "output_type": "execute_result"
    }
   ],
   "source": [
    "Indicateurs['fat_100g'].describe()"
   ]
  },
  {
   "cell_type": "markdown",
   "id": "0f69dad9",
   "metadata": {},
   "source": [
    "### Protein"
   ]
  },
  {
   "cell_type": "code",
   "execution_count": 410,
   "id": "090d8c4c",
   "metadata": {},
   "outputs": [
    {
     "data": {
      "text/plain": [
       "count    193959.000000\n",
       "mean          7.239249\n",
       "std           8.281273\n",
       "min        -800.000000\n",
       "25%           1.200000\n",
       "50%           5.170000\n",
       "75%          10.000000\n",
       "max         430.000000\n",
       "Name: proteins_100g, dtype: float64"
      ]
     },
     "execution_count": 410,
     "metadata": {},
     "output_type": "execute_result"
    }
   ],
   "source": [
    "Indicateurs['proteins_100g'].describe()"
   ]
  },
  {
   "cell_type": "code",
   "execution_count": 411,
   "id": "7ba56115",
   "metadata": {},
   "outputs": [],
   "source": [
    "Indicateurs.loc[Indicateurs['proteins_100g']<0,'proteins_100g']=np.nan"
   ]
  },
  {
   "cell_type": "code",
   "execution_count": 412,
   "id": "297de725",
   "metadata": {},
   "outputs": [
    {
     "data": {
      "text/html": [
       "<div>\n",
       "<style scoped>\n",
       "    .dataframe tbody tr th:only-of-type {\n",
       "        vertical-align: middle;\n",
       "    }\n",
       "\n",
       "    .dataframe tbody tr th {\n",
       "        vertical-align: top;\n",
       "    }\n",
       "\n",
       "    .dataframe thead th {\n",
       "        text-align: right;\n",
       "    }\n",
       "</style>\n",
       "<table border=\"1\" class=\"dataframe\">\n",
       "  <thead>\n",
       "    <tr style=\"text-align: right;\">\n",
       "      <th></th>\n",
       "      <th>code</th>\n",
       "      <th>product_name</th>\n",
       "      <th>countries_tags</th>\n",
       "      <th>pnns_groups_1</th>\n",
       "      <th>energy_100g</th>\n",
       "      <th>fat_100g</th>\n",
       "      <th>saturated-fat_100g</th>\n",
       "      <th>cholesterol_100g</th>\n",
       "      <th>carbohydrates_100g</th>\n",
       "      <th>sugars_100g</th>\n",
       "      <th>fiber_100g</th>\n",
       "      <th>proteins_100g</th>\n",
       "      <th>sodium_100g</th>\n",
       "      <th>nutrition-score-fr_100g</th>\n",
       "    </tr>\n",
       "  </thead>\n",
       "  <tbody>\n",
       "    <tr>\n",
       "      <th>313506</th>\n",
       "      <td>8710573641501</td>\n",
       "      <td>Nusco, Chocolate Spread, Chocolate</td>\n",
       "      <td>en:united-states</td>\n",
       "      <td>unknown</td>\n",
       "      <td>231199.0</td>\n",
       "      <td>NaN</td>\n",
       "      <td>550.0</td>\n",
       "      <td>NaN</td>\n",
       "      <td>NaN</td>\n",
       "      <td>3520.0</td>\n",
       "      <td>5380.0</td>\n",
       "      <td>430.0</td>\n",
       "      <td>0.004</td>\n",
       "      <td>25.0</td>\n",
       "    </tr>\n",
       "  </tbody>\n",
       "</table>\n",
       "</div>"
      ],
      "text/plain": [
       "                 code                        product_name    countries_tags  \\\n",
       "313506  8710573641501  Nusco, Chocolate Spread, Chocolate  en:united-states   \n",
       "\n",
       "       pnns_groups_1  energy_100g  fat_100g  saturated-fat_100g  \\\n",
       "313506       unknown     231199.0       NaN               550.0   \n",
       "\n",
       "        cholesterol_100g  carbohydrates_100g  sugars_100g  fiber_100g  \\\n",
       "313506               NaN                 NaN       3520.0      5380.0   \n",
       "\n",
       "        proteins_100g  sodium_100g  nutrition-score-fr_100g  \n",
       "313506          430.0        0.004                     25.0  "
      ]
     },
     "execution_count": 412,
     "metadata": {},
     "output_type": "execute_result"
    }
   ],
   "source": [
    "Indicateurs.loc[Indicateurs['proteins_100g']>100]"
   ]
  },
  {
   "cell_type": "code",
   "execution_count": 413,
   "id": "e43417a1",
   "metadata": {},
   "outputs": [],
   "source": [
    "Indicateurs.drop(index=313506, inplace=True)"
   ]
  },
  {
   "cell_type": "code",
   "execution_count": 414,
   "id": "7c0512d0",
   "metadata": {},
   "outputs": [
    {
     "data": {
      "text/plain": [
       "count    193955.000000\n",
       "mean          7.243903\n",
       "std           7.935520\n",
       "min           0.000000\n",
       "25%           1.200000\n",
       "50%           5.170000\n",
       "75%          10.000000\n",
       "max         100.000000\n",
       "Name: proteins_100g, dtype: float64"
      ]
     },
     "execution_count": 414,
     "metadata": {},
     "output_type": "execute_result"
    }
   ],
   "source": [
    "Indicateurs['proteins_100g'].describe()"
   ]
  },
  {
   "cell_type": "markdown",
   "id": "71ba4c1f",
   "metadata": {},
   "source": [
    "## Calcul de l'energie"
   ]
  },
  {
   "cell_type": "code",
   "execution_count": 415,
   "id": "e900e869",
   "metadata": {},
   "outputs": [],
   "source": [
    "Indicateurs['energie-calculee']=4*Indicateurs['carbohydrates_100g']+9*Indicateurs['fat_100g']+4*Indicateurs['proteins_100g']\n",
    "Indicateurs['energie-calculee']=4.1868*Indicateurs['energie-calculee']"
   ]
  },
  {
   "cell_type": "code",
   "execution_count": 416,
   "id": "7ea654e9",
   "metadata": {},
   "outputs": [
    {
     "data": {
      "text/html": [
       "<div>\n",
       "<style scoped>\n",
       "    .dataframe tbody tr th:only-of-type {\n",
       "        vertical-align: middle;\n",
       "    }\n",
       "\n",
       "    .dataframe tbody tr th {\n",
       "        vertical-align: top;\n",
       "    }\n",
       "\n",
       "    .dataframe thead th {\n",
       "        text-align: right;\n",
       "    }\n",
       "</style>\n",
       "<table border=\"1\" class=\"dataframe\">\n",
       "  <thead>\n",
       "    <tr style=\"text-align: right;\">\n",
       "      <th></th>\n",
       "      <th>energy_100g</th>\n",
       "      <th>energie-calculee</th>\n",
       "    </tr>\n",
       "  </thead>\n",
       "  <tbody>\n",
       "    <tr>\n",
       "      <th>count</th>\n",
       "      <td>1.950550e+05</td>\n",
       "      <td>176960.000000</td>\n",
       "    </tr>\n",
       "    <tr>\n",
       "      <th>mean</th>\n",
       "      <td>1.145628e+03</td>\n",
       "      <td>1129.146805</td>\n",
       "    </tr>\n",
       "    <tr>\n",
       "      <th>std</th>\n",
       "      <td>7.418054e+03</td>\n",
       "      <td>764.865075</td>\n",
       "    </tr>\n",
       "    <tr>\n",
       "      <th>min</th>\n",
       "      <td>0.000000e+00</td>\n",
       "      <td>0.000000</td>\n",
       "    </tr>\n",
       "    <tr>\n",
       "      <th>25%</th>\n",
       "      <td>4.180000e+02</td>\n",
       "      <td>418.680000</td>\n",
       "    </tr>\n",
       "    <tr>\n",
       "      <th>50%</th>\n",
       "      <td>1.084000e+03</td>\n",
       "      <td>1091.666232</td>\n",
       "    </tr>\n",
       "    <tr>\n",
       "      <th>75%</th>\n",
       "      <td>1.674000e+03</td>\n",
       "      <td>1686.359304</td>\n",
       "    </tr>\n",
       "    <tr>\n",
       "      <th>max</th>\n",
       "      <td>3.251373e+06</td>\n",
       "      <td>6001.191648</td>\n",
       "    </tr>\n",
       "  </tbody>\n",
       "</table>\n",
       "</div>"
      ],
      "text/plain": [
       "        energy_100g  energie-calculee\n",
       "count  1.950550e+05     176960.000000\n",
       "mean   1.145628e+03       1129.146805\n",
       "std    7.418054e+03        764.865075\n",
       "min    0.000000e+00          0.000000\n",
       "25%    4.180000e+02        418.680000\n",
       "50%    1.084000e+03       1091.666232\n",
       "75%    1.674000e+03       1686.359304\n",
       "max    3.251373e+06       6001.191648"
      ]
     },
     "execution_count": 416,
     "metadata": {},
     "output_type": "execute_result"
    }
   ],
   "source": [
    "Indicateurs[['energy_100g','energie-calculee']].describe()"
   ]
  },
  {
   "cell_type": "code",
   "execution_count": 417,
   "id": "d850d80d",
   "metadata": {},
   "outputs": [
    {
     "data": {
      "text/plain": [
       "count    1.766120e+05\n",
       "mean     1.559307e+01\n",
       "std      7.751754e+03\n",
       "min     -4.186926e+03\n",
       "25%     -2.093457e+01\n",
       "50%      1.676800e+00\n",
       "75%      2.336396e+01\n",
       "max      3.250140e+06\n",
       "Name: difference, dtype: float64"
      ]
     },
     "execution_count": 417,
     "metadata": {},
     "output_type": "execute_result"
    }
   ],
   "source": [
    "Indicateurs['difference']=Indicateurs['energy_100g']-Indicateurs['energie-calculee']\n",
    "Indicateurs['difference'].describe()"
   ]
  },
  {
   "cell_type": "code",
   "execution_count": 418,
   "id": "56b1cec1",
   "metadata": {},
   "outputs": [
    {
     "data": {
      "text/plain": [
       "<AxesSubplot:xlabel='difference'>"
      ]
     },
     "execution_count": 418,
     "metadata": {},
     "output_type": "execute_result"
    },
    {
     "data": {
      "image/png": "[encoded data removed]",
      "text/plain": [
       "<Figure size 432x288 with 1 Axes>"
      ]
     },
     "metadata": {
      "needs_background": "light"
     },
     "output_type": "display_data"
    }
   ],
   "source": [
    "sns.boxplot(data=Indicateurs, x='difference', showfliers=False)"
   ]
  },
  {
   "cell_type": "code",
   "execution_count": 419,
   "id": "405a36c9",
   "metadata": {},
   "outputs": [
    {
     "data": {
      "text/plain": [
       "<AxesSubplot:xlabel='difference'>"
      ]
     },
     "execution_count": 419,
     "metadata": {},
     "output_type": "execute_result"
    },
    {
     "data": {
      "image/png": "[encoded data removed]",
      "text/plain": [
       "<Figure size 432x288 with 1 Axes>"
      ]
     },
     "metadata": {
      "needs_background": "light"
     },
     "output_type": "display_data"
    }
   ],
   "source": [
    "sns.boxplot(data=Indicateurs, x='difference')"
   ]
  },
  {
   "cell_type": "markdown",
   "id": "3b3b9b94",
   "metadata": {},
   "source": [
    "On remarque la presence de valeurs aberrantes avec des valeurs importantes, cela est probablement du a des informations erronees dans les composantes de calcul de l'energi calculee ou a une valeur errone de l'energy_1009 (Kcal a la place de Kj)"
   ]
  },
  {
   "cell_type": "markdown",
   "id": "6fbfd36a",
   "metadata": {},
   "source": [
    "Je prend en compte que le vrai calcule de l'energie prend en compte egalement la presence de fibres et d'autres composantes qui peuvent alterer faiblement le calcul que j'ai fait de celui de l'energie precise.  Je regarde les produits dont cette difference est superieure a 200."
   ]
  },
  {
   "cell_type": "markdown",
   "id": "d435ff77",
   "metadata": {},
   "source": [
    "Les produits dont la valeur **energy_100g** > **energie-calculee**:"
   ]
  },
  {
   "cell_type": "code",
   "execution_count": 420,
   "id": "3372c908",
   "metadata": {},
   "outputs": [
    {
     "data": {
      "text/plain": [
       "(3549, 16)"
      ]
     },
     "execution_count": 420,
     "metadata": {},
     "output_type": "execute_result"
    }
   ],
   "source": [
    "Indicateurs.loc[Indicateurs['difference']>200].shape"
   ]
  },
  {
   "cell_type": "markdown",
   "id": "58ae8d75",
   "metadata": {},
   "source": [
    "Les produits dont la valeur **energy_100g** <**energie-calculee**:"
   ]
  },
  {
   "cell_type": "code",
   "execution_count": 421,
   "id": "2072e6a6",
   "metadata": {},
   "outputs": [
    {
     "data": {
      "text/plain": [
       "(5505, 16)"
      ]
     },
     "execution_count": 421,
     "metadata": {},
     "output_type": "execute_result"
    }
   ],
   "source": [
    "Indicateurs.loc[Indicateurs['difference']<-200].shape"
   ]
  },
  {
   "cell_type": "code",
   "execution_count": 422,
   "id": "59e98949",
   "metadata": {},
   "outputs": [
    {
     "data": {
      "text/plain": [
       "(9054, 16)"
      ]
     },
     "execution_count": 422,
     "metadata": {},
     "output_type": "execute_result"
    }
   ],
   "source": [
    "Indicateurs.loc[abs(Indicateurs['difference'])>200].shape"
   ]
  },
  {
   "cell_type": "code",
   "execution_count": 423,
   "id": "ecf37745",
   "metadata": {},
   "outputs": [
    {
     "data": {
      "text/plain": [
       "(19606, 16)"
      ]
     },
     "execution_count": 423,
     "metadata": {},
     "output_type": "execute_result"
    }
   ],
   "source": [
    "Indicateurs.loc[Indicateurs['difference'].isna()].shape"
   ]
  },
  {
   "cell_type": "markdown",
   "id": "e67f85ca",
   "metadata": {},
   "source": [
    "## On regarde la variable energy_100g"
   ]
  },
  {
   "cell_type": "code",
   "execution_count": 424,
   "id": "ae0f842d",
   "metadata": {},
   "outputs": [
    {
     "data": {
      "text/plain": [
       "<AxesSubplot:xlabel='energy_100g'>"
      ]
     },
     "execution_count": 424,
     "metadata": {},
     "output_type": "execute_result"
    },
    {
     "data": {
      "image/png": "[encoded data removed]",
      "text/plain": [
       "<Figure size 432x288 with 1 Axes>"
      ]
     },
     "metadata": {
      "needs_background": "light"
     },
     "output_type": "display_data"
    }
   ],
   "source": [
    "sns.boxplot(data=Indicateurs, x='energy_100g')"
   ]
  },
  {
   "cell_type": "code",
   "execution_count": 425,
   "id": "f2a73dee",
   "metadata": {},
   "outputs": [
    {
     "data": {
      "text/plain": [
       "<AxesSubplot:xlabel='energy_100g'>"
      ]
     },
     "execution_count": 425,
     "metadata": {},
     "output_type": "execute_result"
    },
    {
     "data": {
      "image/png": "[encoded data removed]",
      "text/plain": [
       "<Figure size 432x288 with 1 Axes>"
      ]
     },
     "metadata": {
      "needs_background": "light"
     },
     "output_type": "display_data"
    }
   ],
   "source": [
    "sns.boxplot(data=Indicateurs, x='energy_100g', showfliers=False)"
   ]
  },
  {
   "cell_type": "code",
   "execution_count": 426,
   "id": "e6657980",
   "metadata": {
    "scrolled": true
   },
   "outputs": [
    {
     "data": {
      "text/html": [
       "<div>\n",
       "<style scoped>\n",
       "    .dataframe tbody tr th:only-of-type {\n",
       "        vertical-align: middle;\n",
       "    }\n",
       "\n",
       "    .dataframe tbody tr th {\n",
       "        vertical-align: top;\n",
       "    }\n",
       "\n",
       "    .dataframe thead th {\n",
       "        text-align: right;\n",
       "    }\n",
       "</style>\n",
       "<table border=\"1\" class=\"dataframe\">\n",
       "  <thead>\n",
       "    <tr style=\"text-align: right;\">\n",
       "      <th></th>\n",
       "      <th>energy_100g</th>\n",
       "      <th>fat_100g</th>\n",
       "      <th>carbohydrates_100g</th>\n",
       "      <th>proteins_100g</th>\n",
       "      <th>difference</th>\n",
       "    </tr>\n",
       "  </thead>\n",
       "  <tbody>\n",
       "    <tr>\n",
       "      <th>count</th>\n",
       "      <td>9.500000e+01</td>\n",
       "      <td>95.000000</td>\n",
       "      <td>95.000000</td>\n",
       "      <td>95.000000</td>\n",
       "      <td>9.500000e+01</td>\n",
       "    </tr>\n",
       "    <tr>\n",
       "      <th>mean</th>\n",
       "      <td>4.286814e+04</td>\n",
       "      <td>41.766526</td>\n",
       "      <td>31.398421</td>\n",
       "      <td>9.942421</td>\n",
       "      <td>4.060198e+04</td>\n",
       "    </tr>\n",
       "    <tr>\n",
       "      <th>std</th>\n",
       "      <td>3.333217e+05</td>\n",
       "      <td>40.674497</td>\n",
       "      <td>33.578182</td>\n",
       "      <td>14.996695</td>\n",
       "      <td>3.334522e+05</td>\n",
       "    </tr>\n",
       "    <tr>\n",
       "      <th>min</th>\n",
       "      <td>3.515000e+03</td>\n",
       "      <td>0.000000</td>\n",
       "      <td>0.000000</td>\n",
       "      <td>0.000000</td>\n",
       "      <td>-1.591600e+03</td>\n",
       "    </tr>\n",
       "    <tr>\n",
       "      <th>25%</th>\n",
       "      <td>3.751000e+03</td>\n",
       "      <td>0.200000</td>\n",
       "      <td>0.000000</td>\n",
       "      <td>0.000000</td>\n",
       "      <td>2.917361e+02</td>\n",
       "    </tr>\n",
       "    <tr>\n",
       "      <th>50%</th>\n",
       "      <td>4.335000e+03</td>\n",
       "      <td>29.500000</td>\n",
       "      <td>21.000000</td>\n",
       "      <td>3.510000</td>\n",
       "      <td>2.927752e+03</td>\n",
       "    </tr>\n",
       "    <tr>\n",
       "      <th>75%</th>\n",
       "      <td>6.826000e+03</td>\n",
       "      <td>87.085000</td>\n",
       "      <td>55.400000</td>\n",
       "      <td>13.995000</td>\n",
       "      <td>5.577000e+03</td>\n",
       "    </tr>\n",
       "    <tr>\n",
       "      <th>max</th>\n",
       "      <td>3.251373e+06</td>\n",
       "      <td>100.000000</td>\n",
       "      <td>100.000000</td>\n",
       "      <td>66.670000</td>\n",
       "      <td>3.250140e+06</td>\n",
       "    </tr>\n",
       "  </tbody>\n",
       "</table>\n",
       "</div>"
      ],
      "text/plain": [
       "        energy_100g    fat_100g  carbohydrates_100g  proteins_100g  \\\n",
       "count  9.500000e+01   95.000000           95.000000      95.000000   \n",
       "mean   4.286814e+04   41.766526           31.398421       9.942421   \n",
       "std    3.333217e+05   40.674497           33.578182      14.996695   \n",
       "min    3.515000e+03    0.000000            0.000000       0.000000   \n",
       "25%    3.751000e+03    0.200000            0.000000       0.000000   \n",
       "50%    4.335000e+03   29.500000           21.000000       3.510000   \n",
       "75%    6.826000e+03   87.085000           55.400000      13.995000   \n",
       "max    3.251373e+06  100.000000          100.000000      66.670000   \n",
       "\n",
       "         difference  \n",
       "count  9.500000e+01  \n",
       "mean   4.060198e+04  \n",
       "std    3.334522e+05  \n",
       "min   -1.591600e+03  \n",
       "25%    2.917361e+02  \n",
       "50%    2.927752e+03  \n",
       "75%    5.577000e+03  \n",
       "max    3.250140e+06  "
      ]
     },
     "execution_count": 426,
     "metadata": {},
     "output_type": "execute_result"
    }
   ],
   "source": [
    "composantes=['energy_100g','fat_100g','carbohydrates_100g', 'proteins_100g', 'difference']\n",
    "Indicateurs.loc[(Indicateurs['energy_100g']>3500) & (abs(Indicateurs['difference'])>200)][composantes] .describe()"
   ]
  },
  {
   "cell_type": "markdown",
   "id": "6e489242",
   "metadata": {},
   "source": [
    "On voit bien ici qu'il y a plusieurs problemes a verifier.\n",
    "On commence par rectifier les valeurs aberrantes dans energy."
   ]
  },
  {
   "cell_type": "markdown",
   "id": "c23ab9d5",
   "metadata": {},
   "source": [
    "Parmi ces valeurs je regarde celles ou la difference est superieur a 200 (dans la varible problem)"
   ]
  },
  {
   "cell_type": "code",
   "execution_count": 427,
   "id": "c92e5f16",
   "metadata": {},
   "outputs": [
    {
     "data": {
      "text/html": [
       "<div>\n",
       "<style scoped>\n",
       "    .dataframe tbody tr th:only-of-type {\n",
       "        vertical-align: middle;\n",
       "    }\n",
       "\n",
       "    .dataframe tbody tr th {\n",
       "        vertical-align: top;\n",
       "    }\n",
       "\n",
       "    .dataframe thead th {\n",
       "        text-align: right;\n",
       "    }\n",
       "</style>\n",
       "<table border=\"1\" class=\"dataframe\">\n",
       "  <thead>\n",
       "    <tr style=\"text-align: right;\">\n",
       "      <th></th>\n",
       "      <th>code</th>\n",
       "      <th>product_name</th>\n",
       "      <th>countries_tags</th>\n",
       "      <th>pnns_groups_1</th>\n",
       "      <th>energy_100g</th>\n",
       "      <th>fat_100g</th>\n",
       "      <th>saturated-fat_100g</th>\n",
       "      <th>cholesterol_100g</th>\n",
       "      <th>carbohydrates_100g</th>\n",
       "      <th>sugars_100g</th>\n",
       "      <th>fiber_100g</th>\n",
       "      <th>proteins_100g</th>\n",
       "      <th>sodium_100g</th>\n",
       "      <th>nutrition-score-fr_100g</th>\n",
       "      <th>energie-calculee</th>\n",
       "      <th>difference</th>\n",
       "    </tr>\n",
       "  </thead>\n",
       "  <tbody>\n",
       "    <tr>\n",
       "      <th>14399</th>\n",
       "      <td>18894004806</td>\n",
       "      <td>Honey Peanuts</td>\n",
       "      <td>en:united-states</td>\n",
       "      <td>unknown</td>\n",
       "      <td>4335.0</td>\n",
       "      <td>82.14</td>\n",
       "      <td>10.71</td>\n",
       "      <td>0.000</td>\n",
       "      <td>21.43</td>\n",
       "      <td>17.86</td>\n",
       "      <td>7.1</td>\n",
       "      <td>21.43</td>\n",
       "      <td>0.232</td>\n",
       "      <td>20.0</td>\n",
       "      <td>3812.918760</td>\n",
       "      <td>522.081240</td>\n",
       "    </tr>\n",
       "    <tr>\n",
       "      <th>35308</th>\n",
       "      <td>38233241334</td>\n",
       "      <td>Lemon Cake</td>\n",
       "      <td>en:united-states</td>\n",
       "      <td>unknown</td>\n",
       "      <td>13213.0</td>\n",
       "      <td>12.28</td>\n",
       "      <td>2.63</td>\n",
       "      <td>0.053</td>\n",
       "      <td>45.61</td>\n",
       "      <td>29.82</td>\n",
       "      <td>0.0</td>\n",
       "      <td>3.51</td>\n",
       "      <td>0.281</td>\n",
       "      <td>21.0</td>\n",
       "      <td>1285.347600</td>\n",
       "      <td>11927.652400</td>\n",
       "    </tr>\n",
       "    <tr>\n",
       "      <th>46967</th>\n",
       "      <td>41390030512</td>\n",
       "      <td>Instant Aka Miso Soup</td>\n",
       "      <td>en:united-states</td>\n",
       "      <td>unknown</td>\n",
       "      <td>14644.0</td>\n",
       "      <td>10.00</td>\n",
       "      <td>0.00</td>\n",
       "      <td>0.000</td>\n",
       "      <td>40.00</td>\n",
       "      <td>0.00</td>\n",
       "      <td>0.0</td>\n",
       "      <td>20.00</td>\n",
       "      <td>7.900</td>\n",
       "      <td>20.0</td>\n",
       "      <td>1381.644000</td>\n",
       "      <td>13262.356000</td>\n",
       "    </tr>\n",
       "    <tr>\n",
       "      <th>66156</th>\n",
       "      <td>56141003103</td>\n",
       "      <td>Crema Salvadorena, Soft Blend Dairy Spread</td>\n",
       "      <td>en:united-states</td>\n",
       "      <td>unknown</td>\n",
       "      <td>10966.0</td>\n",
       "      <td>24.14</td>\n",
       "      <td>13.79</td>\n",
       "      <td>0.086</td>\n",
       "      <td>6.90</td>\n",
       "      <td>6.90</td>\n",
       "      <td>0.0</td>\n",
       "      <td>3.45</td>\n",
       "      <td>0.552</td>\n",
       "      <td>27.0</td>\n",
       "      <td>1082.957688</td>\n",
       "      <td>9883.042312</td>\n",
       "    </tr>\n",
       "    <tr>\n",
       "      <th>77326</th>\n",
       "      <td>71725750808</td>\n",
       "      <td>Flagstone Foods, Sweetened Toasted Coconut Cri...</td>\n",
       "      <td>en:united-states</td>\n",
       "      <td>unknown</td>\n",
       "      <td>3565.0</td>\n",
       "      <td>59.26</td>\n",
       "      <td>55.56</td>\n",
       "      <td>0.000</td>\n",
       "      <td>29.63</td>\n",
       "      <td>22.22</td>\n",
       "      <td>3.7</td>\n",
       "      <td>7.41</td>\n",
       "      <td>0.185</td>\n",
       "      <td>21.0</td>\n",
       "      <td>2853.304200</td>\n",
       "      <td>711.695800</td>\n",
       "    </tr>\n",
       "  </tbody>\n",
       "</table>\n",
       "</div>"
      ],
      "text/plain": [
       "              code                                       product_name  \\\n",
       "14399  18894004806                                      Honey Peanuts   \n",
       "35308  38233241334                                         Lemon Cake   \n",
       "46967  41390030512                              Instant Aka Miso Soup   \n",
       "66156  56141003103         Crema Salvadorena, Soft Blend Dairy Spread   \n",
       "77326  71725750808  Flagstone Foods, Sweetened Toasted Coconut Cri...   \n",
       "\n",
       "         countries_tags pnns_groups_1  energy_100g  fat_100g  \\\n",
       "14399  en:united-states       unknown       4335.0     82.14   \n",
       "35308  en:united-states       unknown      13213.0     12.28   \n",
       "46967  en:united-states       unknown      14644.0     10.00   \n",
       "66156  en:united-states       unknown      10966.0     24.14   \n",
       "77326  en:united-states       unknown       3565.0     59.26   \n",
       "\n",
       "       saturated-fat_100g  cholesterol_100g  carbohydrates_100g  sugars_100g  \\\n",
       "14399               10.71             0.000               21.43        17.86   \n",
       "35308                2.63             0.053               45.61        29.82   \n",
       "46967                0.00             0.000               40.00         0.00   \n",
       "66156               13.79             0.086                6.90         6.90   \n",
       "77326               55.56             0.000               29.63        22.22   \n",
       "\n",
       "       fiber_100g  proteins_100g  sodium_100g  nutrition-score-fr_100g  \\\n",
       "14399         7.1          21.43        0.232                     20.0   \n",
       "35308         0.0           3.51        0.281                     21.0   \n",
       "46967         0.0          20.00        7.900                     20.0   \n",
       "66156         0.0           3.45        0.552                     27.0   \n",
       "77326         3.7           7.41        0.185                     21.0   \n",
       "\n",
       "       energie-calculee    difference  \n",
       "14399       3812.918760    522.081240  \n",
       "35308       1285.347600  11927.652400  \n",
       "46967       1381.644000  13262.356000  \n",
       "66156       1082.957688   9883.042312  \n",
       "77326       2853.304200    711.695800  "
      ]
     },
     "execution_count": 427,
     "metadata": {},
     "output_type": "execute_result"
    }
   ],
   "source": [
    "a_remplacer=Indicateurs.loc[(Indicateurs['energy_100g']>3500) & (Indicateurs['difference']>200)& (Indicateurs['fat_100g']!=0)& (Indicateurs['carbohydrates_100g']!=0) & (Indicateurs['proteins_100g']!=0)]\n",
    "a_remplacer.head()"
   ]
  },
  {
   "cell_type": "markdown",
   "id": "e1eee083",
   "metadata": {},
   "source": [
    "Pour ces produits la valeurs **energy_100g** est plus grande que la valeur calculee, je remplace par la valeur calculee"
   ]
  },
  {
   "cell_type": "code",
   "execution_count": 428,
   "id": "6c7a8284",
   "metadata": {},
   "outputs": [],
   "source": [
    "Indicateurs.loc[Indicateurs['code'].isin(a_remplacer), 'energy_100g']=Indicateurs.loc[Indicateurs['code'].isin(a_remplacer),'energie-calculee']"
   ]
  },
  {
   "cell_type": "markdown",
   "id": "4eb4c948",
   "metadata": {},
   "source": [
    "On regarde maintenant les produits donc la difference n'est pas indique par manques de valeurs dans l'un des 3 compossants du calcul de l'energie"
   ]
  },
  {
   "cell_type": "code",
   "execution_count": 429,
   "id": "5f5a9f80",
   "metadata": {},
   "outputs": [],
   "source": [
    "Indicateurs.loc[(Indicateurs['difference'].isna()) & (Indicateurs['energy_100g']>5000)&(Indicateurs['fat_100g']<80),'energy_100g']=np.nan"
   ]
  },
  {
   "cell_type": "markdown",
   "id": "8a3f0377",
   "metadata": {},
   "source": [
    "Pour ces produits on n'a pas de comparaison, on supposera donc que la valeur de l'energy est aberrante et la remplcera par NaN"
   ]
  },
  {
   "cell_type": "code",
   "execution_count": 430,
   "id": "bfdda0ec",
   "metadata": {},
   "outputs": [],
   "source": [
    "Indicateurs.loc[(Indicateurs['difference'].isna()) & (Indicateurs['energy_100g']>5000) & (Indicateurs['fat_100g'].isna()),'energy_100g']=np.nan\n",
    "Indicateurs.loc[(Indicateurs['difference'].isna()) & (Indicateurs['energy_100g']>5000) & (Indicateurs['fat_100g']<10),'energy_100g']=np.nan"
   ]
  },
  {
   "cell_type": "code",
   "execution_count": 433,
   "id": "d75f74a0",
   "metadata": {},
   "outputs": [],
   "source": [
    "Indicateurs.loc[(Indicateurs['difference']>300) & (Indicateurs['energy_100g']>5000)& (Indicateurs['fat_100g'].isna()),'energy_100g']=np.nan\n",
    "Indicateurs.loc[(Indicateurs['difference']>300) & (Indicateurs['energy_100g']>5000)& (Indicateurs['fat_100g']<10),'energy_100g']=np.nan"
   ]
  },
  {
   "cell_type": "code",
   "execution_count": 434,
   "id": "deb49c13",
   "metadata": {},
   "outputs": [],
   "source": [
    "Indicateurs['difference']=Indicateurs['energy_100g']-Indicateurs['energie-calculee']\n",
    "Indicateurs.loc[(Indicateurs['energy_100g']>3500) & (abs(Indicateurs['difference'])>300)& (Indicateurs['fat_100g']<70),'energy_100g']=Indicateurs.loc[(Indicateurs['energy_100g']>3500) & (abs(Indicateurs['difference'])>300) & (Indicateurs['fat_100g']<70),'energie-calculee']"
   ]
  },
  {
   "cell_type": "code",
   "execution_count": 435,
   "id": "6bf80242",
   "metadata": {},
   "outputs": [],
   "source": [
    "def update_energy():\n",
    "    Indicateurs['energie-calculee']=4*Indicateurs['carbohydrates_100g']+9*Indicateurs['fat_100g']+4*Indicateurs['proteins_100g']\n",
    "    Indicateurs['energie-calculee']=4.1868*Indicateurs['energie-calculee']\n",
    "    Indicateurs['difference']=Indicateurs['energy_100g']-Indicateurs['energie-calculee']\n",
    "    "
   ]
  },
  {
   "cell_type": "code",
   "execution_count": 436,
   "id": "63d86420",
   "metadata": {},
   "outputs": [],
   "source": [
    "update_energy()"
   ]
  },
  {
   "cell_type": "code",
   "execution_count": 437,
   "id": "4073f747",
   "metadata": {},
   "outputs": [
    {
     "data": {
      "text/html": [
       "<div>\n",
       "<style scoped>\n",
       "    .dataframe tbody tr th:only-of-type {\n",
       "        vertical-align: middle;\n",
       "    }\n",
       "\n",
       "    .dataframe tbody tr th {\n",
       "        vertical-align: top;\n",
       "    }\n",
       "\n",
       "    .dataframe thead th {\n",
       "        text-align: right;\n",
       "    }\n",
       "</style>\n",
       "<table border=\"1\" class=\"dataframe\">\n",
       "  <thead>\n",
       "    <tr style=\"text-align: right;\">\n",
       "      <th></th>\n",
       "      <th>energy_100g</th>\n",
       "      <th>fat_100g</th>\n",
       "      <th>carbohydrates_100g</th>\n",
       "      <th>proteins_100g</th>\n",
       "      <th>difference</th>\n",
       "    </tr>\n",
       "  </thead>\n",
       "  <tbody>\n",
       "    <tr>\n",
       "      <th>count</th>\n",
       "      <td>1874.000000</td>\n",
       "      <td>1874.000000</td>\n",
       "      <td>1874.000000</td>\n",
       "      <td>1874.000000</td>\n",
       "      <td>1874.000000</td>\n",
       "    </tr>\n",
       "    <tr>\n",
       "      <th>mean</th>\n",
       "      <td>1598.029883</td>\n",
       "      <td>7.548899</td>\n",
       "      <td>31.283893</td>\n",
       "      <td>5.184403</td>\n",
       "      <td>702.836451</td>\n",
       "    </tr>\n",
       "    <tr>\n",
       "      <th>std</th>\n",
       "      <td>759.129102</td>\n",
       "      <td>14.776708</td>\n",
       "      <td>31.797243</td>\n",
       "      <td>9.533301</td>\n",
       "      <td>554.489185</td>\n",
       "    </tr>\n",
       "    <tr>\n",
       "      <th>min</th>\n",
       "      <td>326.000000</td>\n",
       "      <td>0.000000</td>\n",
       "      <td>0.000000</td>\n",
       "      <td>0.000000</td>\n",
       "      <td>300.337760</td>\n",
       "    </tr>\n",
       "    <tr>\n",
       "      <th>25%</th>\n",
       "      <td>1046.000000</td>\n",
       "      <td>0.000000</td>\n",
       "      <td>0.000000</td>\n",
       "      <td>0.000000</td>\n",
       "      <td>366.726163</td>\n",
       "    </tr>\n",
       "    <tr>\n",
       "      <th>50%</th>\n",
       "      <td>1629.500000</td>\n",
       "      <td>0.000000</td>\n",
       "      <td>20.000000</td>\n",
       "      <td>0.000000</td>\n",
       "      <td>477.678586</td>\n",
       "    </tr>\n",
       "    <tr>\n",
       "      <th>75%</th>\n",
       "      <td>2092.000000</td>\n",
       "      <td>9.455000</td>\n",
       "      <td>54.090000</td>\n",
       "      <td>7.000000</td>\n",
       "      <td>852.464156</td>\n",
       "    </tr>\n",
       "    <tr>\n",
       "      <th>max</th>\n",
       "      <td>15481.000000</td>\n",
       "      <td>100.000000</td>\n",
       "      <td>100.000000</td>\n",
       "      <td>80.000000</td>\n",
       "      <td>11712.880000</td>\n",
       "    </tr>\n",
       "  </tbody>\n",
       "</table>\n",
       "</div>"
      ],
      "text/plain": [
       "        energy_100g     fat_100g  carbohydrates_100g  proteins_100g  \\\n",
       "count   1874.000000  1874.000000         1874.000000    1874.000000   \n",
       "mean    1598.029883     7.548899           31.283893       5.184403   \n",
       "std      759.129102    14.776708           31.797243       9.533301   \n",
       "min      326.000000     0.000000            0.000000       0.000000   \n",
       "25%     1046.000000     0.000000            0.000000       0.000000   \n",
       "50%     1629.500000     0.000000           20.000000       0.000000   \n",
       "75%     2092.000000     9.455000           54.090000       7.000000   \n",
       "max    15481.000000   100.000000          100.000000      80.000000   \n",
       "\n",
       "         difference  \n",
       "count   1874.000000  \n",
       "mean     702.836451  \n",
       "std      554.489185  \n",
       "min      300.337760  \n",
       "25%      366.726163  \n",
       "50%      477.678586  \n",
       "75%      852.464156  \n",
       "max    11712.880000  "
      ]
     },
     "execution_count": 437,
     "metadata": {},
     "output_type": "execute_result"
    }
   ],
   "source": [
    "Indicateurs[abs(Indicateurs['difference']>300)][composantes].describe()"
   ]
  },
  {
   "cell_type": "code",
   "execution_count": 438,
   "id": "a0e6519e",
   "metadata": {},
   "outputs": [],
   "source": [
    "Indicateurs.drop(index=[112681] , inplace=True)"
   ]
  },
  {
   "cell_type": "code",
   "execution_count": 440,
   "id": "adb981ef",
   "metadata": {},
   "outputs": [],
   "source": [
    "Indicateurs.loc[(Indicateurs['energy_100g']>4000) & (Indicateurs['fat_100g'].isna()), 'energy_100g']=np.nan"
   ]
  },
  {
   "cell_type": "code",
   "execution_count": 441,
   "id": "4a3cb3b3",
   "metadata": {},
   "outputs": [
    {
     "data": {
      "text/html": [
       "<div>\n",
       "<style scoped>\n",
       "    .dataframe tbody tr th:only-of-type {\n",
       "        vertical-align: middle;\n",
       "    }\n",
       "\n",
       "    .dataframe tbody tr th {\n",
       "        vertical-align: top;\n",
       "    }\n",
       "\n",
       "    .dataframe thead th {\n",
       "        text-align: right;\n",
       "    }\n",
       "</style>\n",
       "<table border=\"1\" class=\"dataframe\">\n",
       "  <thead>\n",
       "    <tr style=\"text-align: right;\">\n",
       "      <th></th>\n",
       "      <th>code</th>\n",
       "      <th>product_name</th>\n",
       "      <th>countries_tags</th>\n",
       "      <th>pnns_groups_1</th>\n",
       "      <th>energy_100g</th>\n",
       "      <th>fat_100g</th>\n",
       "      <th>saturated-fat_100g</th>\n",
       "      <th>cholesterol_100g</th>\n",
       "      <th>carbohydrates_100g</th>\n",
       "      <th>sugars_100g</th>\n",
       "      <th>fiber_100g</th>\n",
       "      <th>proteins_100g</th>\n",
       "      <th>sodium_100g</th>\n",
       "      <th>nutrition-score-fr_100g</th>\n",
       "      <th>energie-calculee</th>\n",
       "      <th>difference</th>\n",
       "    </tr>\n",
       "  </thead>\n",
       "  <tbody>\n",
       "    <tr>\n",
       "      <th>9401</th>\n",
       "      <td>11246180555</td>\n",
       "      <td>Horseradish Sauce</td>\n",
       "      <td>en:united-states</td>\n",
       "      <td>unknown</td>\n",
       "      <td>1674.0</td>\n",
       "      <td>100.00</td>\n",
       "      <td>0.0</td>\n",
       "      <td>0.000</td>\n",
       "      <td>20.00</td>\n",
       "      <td>0.00</td>\n",
       "      <td>0.0</td>\n",
       "      <td>0.00</td>\n",
       "      <td>0.600000</td>\n",
       "      <td>10.0</td>\n",
       "      <td>4103.064000</td>\n",
       "      <td>-2429.064000</td>\n",
       "    </tr>\n",
       "    <tr>\n",
       "      <th>130920</th>\n",
       "      <td>711844110618</td>\n",
       "      <td>Sweet soy sauce - Kecap Manis</td>\n",
       "      <td>en:australia,en:united-states</td>\n",
       "      <td>unknown</td>\n",
       "      <td>0.0</td>\n",
       "      <td>66.67</td>\n",
       "      <td>0.0</td>\n",
       "      <td>0.000</td>\n",
       "      <td>100.00</td>\n",
       "      <td>80.00</td>\n",
       "      <td>66.7</td>\n",
       "      <td>0.00</td>\n",
       "      <td>2.100000</td>\n",
       "      <td>15.0</td>\n",
       "      <td>4186.925604</td>\n",
       "      <td>-4186.925604</td>\n",
       "    </tr>\n",
       "    <tr>\n",
       "      <th>132068</th>\n",
       "      <td>715483004239</td>\n",
       "      <td>Dallies Tombstones &amp; Sprinkles</td>\n",
       "      <td>en:united-states</td>\n",
       "      <td>unknown</td>\n",
       "      <td>1674.0</td>\n",
       "      <td>100.00</td>\n",
       "      <td>0.0</td>\n",
       "      <td>0.000</td>\n",
       "      <td>80.00</td>\n",
       "      <td>60.00</td>\n",
       "      <td>0.0</td>\n",
       "      <td>0.00</td>\n",
       "      <td>0.000000</td>\n",
       "      <td>14.0</td>\n",
       "      <td>5107.896000</td>\n",
       "      <td>-3433.896000</td>\n",
       "    </tr>\n",
       "    <tr>\n",
       "      <th>154539</th>\n",
       "      <td>829364100023</td>\n",
       "      <td>Diebergs Markets, Fruit Slices Candy</td>\n",
       "      <td>en:united-states</td>\n",
       "      <td>unknown</td>\n",
       "      <td>1531.0</td>\n",
       "      <td>87.80</td>\n",
       "      <td>0.0</td>\n",
       "      <td>0.000</td>\n",
       "      <td>87.80</td>\n",
       "      <td>56.10</td>\n",
       "      <td>0.0</td>\n",
       "      <td>0.00</td>\n",
       "      <td>0.061000</td>\n",
       "      <td>14.0</td>\n",
       "      <td>4778.813520</td>\n",
       "      <td>-3247.813520</td>\n",
       "    </tr>\n",
       "    <tr>\n",
       "      <th>154544</th>\n",
       "      <td>829364100337</td>\n",
       "      <td>Diebergs Markets, Spearmint Leaves Candy</td>\n",
       "      <td>en:united-states</td>\n",
       "      <td>unknown</td>\n",
       "      <td>1531.0</td>\n",
       "      <td>87.80</td>\n",
       "      <td>0.0</td>\n",
       "      <td>0.000</td>\n",
       "      <td>87.80</td>\n",
       "      <td>58.54</td>\n",
       "      <td>0.0</td>\n",
       "      <td>0.00</td>\n",
       "      <td>0.000000</td>\n",
       "      <td>14.0</td>\n",
       "      <td>4778.813520</td>\n",
       "      <td>-3247.813520</td>\n",
       "    </tr>\n",
       "    <tr>\n",
       "      <th>154545</th>\n",
       "      <td>829364100344</td>\n",
       "      <td>Markets, Spice Drops Candy</td>\n",
       "      <td>en:united-states</td>\n",
       "      <td>unknown</td>\n",
       "      <td>1427.0</td>\n",
       "      <td>82.93</td>\n",
       "      <td>0.0</td>\n",
       "      <td>0.000</td>\n",
       "      <td>82.93</td>\n",
       "      <td>56.10</td>\n",
       "      <td>0.0</td>\n",
       "      <td>0.00</td>\n",
       "      <td>0.000000</td>\n",
       "      <td>14.0</td>\n",
       "      <td>4513.747212</td>\n",
       "      <td>-3086.747212</td>\n",
       "    </tr>\n",
       "    <tr>\n",
       "      <th>154551</th>\n",
       "      <td>829364101198</td>\n",
       "      <td>Butterscotch Buttons</td>\n",
       "      <td>en:united-states</td>\n",
       "      <td>unknown</td>\n",
       "      <td>1628.0</td>\n",
       "      <td>66.67</td>\n",
       "      <td>0.0</td>\n",
       "      <td>0.000</td>\n",
       "      <td>94.44</td>\n",
       "      <td>66.67</td>\n",
       "      <td>0.0</td>\n",
       "      <td>0.00</td>\n",
       "      <td>0.278000</td>\n",
       "      <td>17.0</td>\n",
       "      <td>4093.811172</td>\n",
       "      <td>-2465.811172</td>\n",
       "    </tr>\n",
       "    <tr>\n",
       "      <th>154565</th>\n",
       "      <td>829364111197</td>\n",
       "      <td>Markets, Soft Cherry Candy Balls</td>\n",
       "      <td>en:united-states</td>\n",
       "      <td>unknown</td>\n",
       "      <td>1674.0</td>\n",
       "      <td>100.00</td>\n",
       "      <td>0.0</td>\n",
       "      <td>0.000</td>\n",
       "      <td>100.00</td>\n",
       "      <td>100.00</td>\n",
       "      <td>0.0</td>\n",
       "      <td>0.00</td>\n",
       "      <td>0.000000</td>\n",
       "      <td>14.0</td>\n",
       "      <td>5442.840000</td>\n",
       "      <td>-3768.840000</td>\n",
       "    </tr>\n",
       "    <tr>\n",
       "      <th>155379</th>\n",
       "      <td>835976005427</td>\n",
       "      <td>The Candy Tree, Gum Drop Candy</td>\n",
       "      <td>en:united-states</td>\n",
       "      <td>unknown</td>\n",
       "      <td>1452.0</td>\n",
       "      <td>97.67</td>\n",
       "      <td>0.0</td>\n",
       "      <td>NaN</td>\n",
       "      <td>86.05</td>\n",
       "      <td>62.79</td>\n",
       "      <td>NaN</td>\n",
       "      <td>0.00</td>\n",
       "      <td>0.037000</td>\n",
       "      <td>14.0</td>\n",
       "      <td>5121.419364</td>\n",
       "      <td>-3669.419364</td>\n",
       "    </tr>\n",
       "    <tr>\n",
       "      <th>156683</th>\n",
       "      <td>846548042726</td>\n",
       "      <td>California Mix</td>\n",
       "      <td>en:united-states</td>\n",
       "      <td>unknown</td>\n",
       "      <td>1644.0</td>\n",
       "      <td>89.29</td>\n",
       "      <td>0.0</td>\n",
       "      <td>0.000</td>\n",
       "      <td>67.86</td>\n",
       "      <td>53.57</td>\n",
       "      <td>3.6</td>\n",
       "      <td>7.14</td>\n",
       "      <td>0.036000</td>\n",
       "      <td>9.0</td>\n",
       "      <td>4620.594348</td>\n",
       "      <td>-2976.594348</td>\n",
       "    </tr>\n",
       "    <tr>\n",
       "      <th>166490</th>\n",
       "      <td>859033004383</td>\n",
       "      <td>Charles Chocolates, Orange Twigs Chocolate</td>\n",
       "      <td>en:united-states</td>\n",
       "      <td>unknown</td>\n",
       "      <td>1109.0</td>\n",
       "      <td>92.50</td>\n",
       "      <td>12.5</td>\n",
       "      <td>0.032</td>\n",
       "      <td>25.00</td>\n",
       "      <td>22.50</td>\n",
       "      <td>0.0</td>\n",
       "      <td>7.50</td>\n",
       "      <td>0.082000</td>\n",
       "      <td>17.0</td>\n",
       "      <td>4029.795000</td>\n",
       "      <td>-2920.795000</td>\n",
       "    </tr>\n",
       "    <tr>\n",
       "      <th>169320</th>\n",
       "      <td>876314001114</td>\n",
       "      <td>Saveurs, Extra Virgin Olive Oil, White Truffle</td>\n",
       "      <td>en:united-states</td>\n",
       "      <td>unknown</td>\n",
       "      <td>3628.0</td>\n",
       "      <td>100.00</td>\n",
       "      <td>10.0</td>\n",
       "      <td>0.000</td>\n",
       "      <td>80.00</td>\n",
       "      <td>NaN</td>\n",
       "      <td>NaN</td>\n",
       "      <td>6.67</td>\n",
       "      <td>0.800000</td>\n",
       "      <td>NaN</td>\n",
       "      <td>5219.599824</td>\n",
       "      <td>-1591.599824</td>\n",
       "    </tr>\n",
       "    <tr>\n",
       "      <th>177924</th>\n",
       "      <td>20104214</td>\n",
       "      <td>Barres céréales Pomme</td>\n",
       "      <td>en:france</td>\n",
       "      <td>Sugary snacks</td>\n",
       "      <td>1536.0</td>\n",
       "      <td>87.00</td>\n",
       "      <td>7.0</td>\n",
       "      <td>NaN</td>\n",
       "      <td>69.40</td>\n",
       "      <td>8.70</td>\n",
       "      <td>7.1</td>\n",
       "      <td>5.40</td>\n",
       "      <td>0.149606</td>\n",
       "      <td>7.0</td>\n",
       "      <td>4530.954960</td>\n",
       "      <td>-2994.954960</td>\n",
       "    </tr>\n",
       "    <tr>\n",
       "      <th>291118</th>\n",
       "      <td>7612100028209</td>\n",
       "      <td>Ovomaltine flakes</td>\n",
       "      <td>en:switzerland</td>\n",
       "      <td>unknown</td>\n",
       "      <td>1603.0</td>\n",
       "      <td>79.20</td>\n",
       "      <td>0.7</td>\n",
       "      <td>NaN</td>\n",
       "      <td>79.20</td>\n",
       "      <td>26.30</td>\n",
       "      <td>3.5</td>\n",
       "      <td>9.30</td>\n",
       "      <td>0.590551</td>\n",
       "      <td>11.0</td>\n",
       "      <td>4466.478240</td>\n",
       "      <td>-2863.478240</td>\n",
       "    </tr>\n",
       "    <tr>\n",
       "      <th>302004</th>\n",
       "      <td>8001665702287</td>\n",
       "      <td>Rana Duetto Parmigiano Reggiano</td>\n",
       "      <td>en:switzerland</td>\n",
       "      <td>unknown</td>\n",
       "      <td>1128.0</td>\n",
       "      <td>100.00</td>\n",
       "      <td>50.0</td>\n",
       "      <td>NaN</td>\n",
       "      <td>34.00</td>\n",
       "      <td>3.70</td>\n",
       "      <td>NaN</td>\n",
       "      <td>9.50</td>\n",
       "      <td>0.590551</td>\n",
       "      <td>19.0</td>\n",
       "      <td>4496.623200</td>\n",
       "      <td>-3368.623200</td>\n",
       "    </tr>\n",
       "  </tbody>\n",
       "</table>\n",
       "</div>"
      ],
      "text/plain": [
       "                 code                                    product_name  \\\n",
       "9401      11246180555                               Horseradish Sauce   \n",
       "130920   711844110618                   Sweet soy sauce - Kecap Manis   \n",
       "132068   715483004239                  Dallies Tombstones & Sprinkles   \n",
       "154539   829364100023            Diebergs Markets, Fruit Slices Candy   \n",
       "154544   829364100337        Diebergs Markets, Spearmint Leaves Candy   \n",
       "154545   829364100344                      Markets, Spice Drops Candy   \n",
       "154551   829364101198                            Butterscotch Buttons   \n",
       "154565   829364111197                Markets, Soft Cherry Candy Balls   \n",
       "155379   835976005427                  The Candy Tree, Gum Drop Candy   \n",
       "156683   846548042726                                  California Mix   \n",
       "166490   859033004383      Charles Chocolates, Orange Twigs Chocolate   \n",
       "169320   876314001114  Saveurs, Extra Virgin Olive Oil, White Truffle   \n",
       "177924       20104214                           Barres céréales Pomme   \n",
       "291118  7612100028209                               Ovomaltine flakes   \n",
       "302004  8001665702287                 Rana Duetto Parmigiano Reggiano   \n",
       "\n",
       "                       countries_tags  pnns_groups_1  energy_100g  fat_100g  \\\n",
       "9401                 en:united-states        unknown       1674.0    100.00   \n",
       "130920  en:australia,en:united-states        unknown          0.0     66.67   \n",
       "132068               en:united-states        unknown       1674.0    100.00   \n",
       "154539               en:united-states        unknown       1531.0     87.80   \n",
       "154544               en:united-states        unknown       1531.0     87.80   \n",
       "154545               en:united-states        unknown       1427.0     82.93   \n",
       "154551               en:united-states        unknown       1628.0     66.67   \n",
       "154565               en:united-states        unknown       1674.0    100.00   \n",
       "155379               en:united-states        unknown       1452.0     97.67   \n",
       "156683               en:united-states        unknown       1644.0     89.29   \n",
       "166490               en:united-states        unknown       1109.0     92.50   \n",
       "169320               en:united-states        unknown       3628.0    100.00   \n",
       "177924                      en:france  Sugary snacks       1536.0     87.00   \n",
       "291118                 en:switzerland        unknown       1603.0     79.20   \n",
       "302004                 en:switzerland        unknown       1128.0    100.00   \n",
       "\n",
       "        saturated-fat_100g  cholesterol_100g  carbohydrates_100g  sugars_100g  \\\n",
       "9401                   0.0             0.000               20.00         0.00   \n",
       "130920                 0.0             0.000              100.00        80.00   \n",
       "132068                 0.0             0.000               80.00        60.00   \n",
       "154539                 0.0             0.000               87.80        56.10   \n",
       "154544                 0.0             0.000               87.80        58.54   \n",
       "154545                 0.0             0.000               82.93        56.10   \n",
       "154551                 0.0             0.000               94.44        66.67   \n",
       "154565                 0.0             0.000              100.00       100.00   \n",
       "155379                 0.0               NaN               86.05        62.79   \n",
       "156683                 0.0             0.000               67.86        53.57   \n",
       "166490                12.5             0.032               25.00        22.50   \n",
       "169320                10.0             0.000               80.00          NaN   \n",
       "177924                 7.0               NaN               69.40         8.70   \n",
       "291118                 0.7               NaN               79.20        26.30   \n",
       "302004                50.0               NaN               34.00         3.70   \n",
       "\n",
       "        fiber_100g  proteins_100g  sodium_100g  nutrition-score-fr_100g  \\\n",
       "9401           0.0           0.00     0.600000                     10.0   \n",
       "130920        66.7           0.00     2.100000                     15.0   \n",
       "132068         0.0           0.00     0.000000                     14.0   \n",
       "154539         0.0           0.00     0.061000                     14.0   \n",
       "154544         0.0           0.00     0.000000                     14.0   \n",
       "154545         0.0           0.00     0.000000                     14.0   \n",
       "154551         0.0           0.00     0.278000                     17.0   \n",
       "154565         0.0           0.00     0.000000                     14.0   \n",
       "155379         NaN           0.00     0.037000                     14.0   \n",
       "156683         3.6           7.14     0.036000                      9.0   \n",
       "166490         0.0           7.50     0.082000                     17.0   \n",
       "169320         NaN           6.67     0.800000                      NaN   \n",
       "177924         7.1           5.40     0.149606                      7.0   \n",
       "291118         3.5           9.30     0.590551                     11.0   \n",
       "302004         NaN           9.50     0.590551                     19.0   \n",
       "\n",
       "        energie-calculee   difference  \n",
       "9401         4103.064000 -2429.064000  \n",
       "130920       4186.925604 -4186.925604  \n",
       "132068       5107.896000 -3433.896000  \n",
       "154539       4778.813520 -3247.813520  \n",
       "154544       4778.813520 -3247.813520  \n",
       "154545       4513.747212 -3086.747212  \n",
       "154551       4093.811172 -2465.811172  \n",
       "154565       5442.840000 -3768.840000  \n",
       "155379       5121.419364 -3669.419364  \n",
       "156683       4620.594348 -2976.594348  \n",
       "166490       4029.795000 -2920.795000  \n",
       "169320       5219.599824 -1591.599824  \n",
       "177924       4530.954960 -2994.954960  \n",
       "291118       4466.478240 -2863.478240  \n",
       "302004       4496.623200 -3368.623200  "
      ]
     },
     "execution_count": 441,
     "metadata": {},
     "output_type": "execute_result"
    }
   ],
   "source": [
    "Indicateurs[(Indicateurs['energie-calculee']>4000) & (abs(Indicateurs['difference'])>1000)]"
   ]
  },
  {
   "cell_type": "markdown",
   "id": "4d83b31f",
   "metadata": {},
   "source": [
    "Ici la valeur aberrante est surement le fat, on remplace par nan"
   ]
  },
  {
   "cell_type": "code",
   "execution_count": 443,
   "id": "f14fd9cb",
   "metadata": {},
   "outputs": [],
   "source": [
    "Indicateurs.loc[(Indicateurs['energie-calculee']>4000) & (abs(Indicateurs['difference'])>1000),'fat_100g']=np.nan"
   ]
  },
  {
   "cell_type": "code",
   "execution_count": 444,
   "id": "545090c4",
   "metadata": {},
   "outputs": [],
   "source": [
    "update_energy()"
   ]
  },
  {
   "cell_type": "code",
   "execution_count": 445,
   "id": "2fd5480c",
   "metadata": {},
   "outputs": [
    {
     "data": {
      "text/plain": [
       "<AxesSubplot:xlabel='energy_100g'>"
      ]
     },
     "execution_count": 445,
     "metadata": {},
     "output_type": "execute_result"
    },
    {
     "data": {
      "image/png": "[encoded data removed]",
      "text/plain": [
       "<Figure size 432x288 with 1 Axes>"
      ]
     },
     "metadata": {
      "needs_background": "light"
     },
     "output_type": "display_data"
    }
   ],
   "source": [
    "sns.boxplot(data=Indicateurs, x='energy_100g')"
   ]
  },
  {
   "cell_type": "code",
   "execution_count": 446,
   "id": "6299778f",
   "metadata": {},
   "outputs": [
    {
     "data": {
      "text/plain": [
       "count    194966.000000\n",
       "mean       1123.973241\n",
       "std         756.176383\n",
       "min           0.000000\n",
       "25%         418.000000\n",
       "50%        1084.000000\n",
       "75%        1674.000000\n",
       "max       15481.000000\n",
       "Name: energy_100g, dtype: float64"
      ]
     },
     "execution_count": 446,
     "metadata": {},
     "output_type": "execute_result"
    }
   ],
   "source": [
    "Indicateurs['energy_100g'].describe()"
   ]
  },
  {
   "cell_type": "markdown",
   "id": "0d37bd3b",
   "metadata": {},
   "source": [
    "## Energie en fonction de ses composantes"
   ]
  },
  {
   "cell_type": "code",
   "execution_count": 447,
   "id": "2d4b6b43",
   "metadata": {},
   "outputs": [
    {
     "data": {
      "text/html": [
       "<div>\n",
       "<style scoped>\n",
       "    .dataframe tbody tr th:only-of-type {\n",
       "        vertical-align: middle;\n",
       "    }\n",
       "\n",
       "    .dataframe tbody tr th {\n",
       "        vertical-align: top;\n",
       "    }\n",
       "\n",
       "    .dataframe thead th {\n",
       "        text-align: right;\n",
       "    }\n",
       "</style>\n",
       "<table border=\"1\" class=\"dataframe\">\n",
       "  <thead>\n",
       "    <tr style=\"text-align: right;\">\n",
       "      <th></th>\n",
       "      <th>energy_100g</th>\n",
       "      <th>fat_100g</th>\n",
       "      <th>carbohydrates_100g</th>\n",
       "      <th>proteins_100g</th>\n",
       "      <th>difference</th>\n",
       "    </tr>\n",
       "  </thead>\n",
       "  <tbody>\n",
       "    <tr>\n",
       "      <th>count</th>\n",
       "      <td>1874.000000</td>\n",
       "      <td>1874.000000</td>\n",
       "      <td>1874.000000</td>\n",
       "      <td>1874.000000</td>\n",
       "      <td>1874.000000</td>\n",
       "    </tr>\n",
       "    <tr>\n",
       "      <th>mean</th>\n",
       "      <td>1598.029883</td>\n",
       "      <td>7.548899</td>\n",
       "      <td>31.283893</td>\n",
       "      <td>5.184403</td>\n",
       "      <td>702.836451</td>\n",
       "    </tr>\n",
       "    <tr>\n",
       "      <th>std</th>\n",
       "      <td>759.129102</td>\n",
       "      <td>14.776708</td>\n",
       "      <td>31.797243</td>\n",
       "      <td>9.533301</td>\n",
       "      <td>554.489185</td>\n",
       "    </tr>\n",
       "    <tr>\n",
       "      <th>min</th>\n",
       "      <td>326.000000</td>\n",
       "      <td>0.000000</td>\n",
       "      <td>0.000000</td>\n",
       "      <td>0.000000</td>\n",
       "      <td>300.337760</td>\n",
       "    </tr>\n",
       "    <tr>\n",
       "      <th>25%</th>\n",
       "      <td>1046.000000</td>\n",
       "      <td>0.000000</td>\n",
       "      <td>0.000000</td>\n",
       "      <td>0.000000</td>\n",
       "      <td>366.726163</td>\n",
       "    </tr>\n",
       "    <tr>\n",
       "      <th>50%</th>\n",
       "      <td>1629.500000</td>\n",
       "      <td>0.000000</td>\n",
       "      <td>20.000000</td>\n",
       "      <td>0.000000</td>\n",
       "      <td>477.678586</td>\n",
       "    </tr>\n",
       "    <tr>\n",
       "      <th>75%</th>\n",
       "      <td>2092.000000</td>\n",
       "      <td>9.455000</td>\n",
       "      <td>54.090000</td>\n",
       "      <td>7.000000</td>\n",
       "      <td>852.464156</td>\n",
       "    </tr>\n",
       "    <tr>\n",
       "      <th>max</th>\n",
       "      <td>15481.000000</td>\n",
       "      <td>100.000000</td>\n",
       "      <td>100.000000</td>\n",
       "      <td>80.000000</td>\n",
       "      <td>11712.880000</td>\n",
       "    </tr>\n",
       "  </tbody>\n",
       "</table>\n",
       "</div>"
      ],
      "text/plain": [
       "        energy_100g     fat_100g  carbohydrates_100g  proteins_100g  \\\n",
       "count   1874.000000  1874.000000         1874.000000    1874.000000   \n",
       "mean    1598.029883     7.548899           31.283893       5.184403   \n",
       "std      759.129102    14.776708           31.797243       9.533301   \n",
       "min      326.000000     0.000000            0.000000       0.000000   \n",
       "25%     1046.000000     0.000000            0.000000       0.000000   \n",
       "50%     1629.500000     0.000000           20.000000       0.000000   \n",
       "75%     2092.000000     9.455000           54.090000       7.000000   \n",
       "max    15481.000000   100.000000          100.000000      80.000000   \n",
       "\n",
       "         difference  \n",
       "count   1874.000000  \n",
       "mean     702.836451  \n",
       "std      554.489185  \n",
       "min      300.337760  \n",
       "25%      366.726163  \n",
       "50%      477.678586  \n",
       "75%      852.464156  \n",
       "max    11712.880000  "
      ]
     },
     "execution_count": 447,
     "metadata": {},
     "output_type": "execute_result"
    }
   ],
   "source": [
    "Indicateurs[Indicateurs['difference']>300][composantes].describe()"
   ]
  },
  {
   "cell_type": "markdown",
   "id": "ab8e86ca",
   "metadata": {},
   "source": [
    "### Carbohydrates"
   ]
  },
  {
   "cell_type": "code",
   "execution_count": 448,
   "id": "2627e6a8",
   "metadata": {},
   "outputs": [],
   "source": [
    "Indicateurs.loc[(Indicateurs['carbohydrates_100g']>98)&(Indicateurs['energy_100g']<1000),'carbohydrates_100g']=np.nan"
   ]
  },
  {
   "cell_type": "code",
   "execution_count": 449,
   "id": "82b9f797",
   "metadata": {},
   "outputs": [],
   "source": [
    "update_energy()"
   ]
  },
  {
   "cell_type": "code",
   "execution_count": 450,
   "id": "41f76f4e",
   "metadata": {},
   "outputs": [],
   "source": [
    "Indicateurs.loc[(Indicateurs['carbohydrates_100g']==0)&(Indicateurs['difference']>300),'energy_100g']=Indicateurs.loc[(Indicateurs['carbohydrates_100g']==0)&(Indicateurs['difference']>300),'energie-calculee']"
   ]
  },
  {
   "cell_type": "code",
   "execution_count": 451,
   "id": "aeb5bc8f",
   "metadata": {},
   "outputs": [],
   "source": [
    "update_energy()"
   ]
  },
  {
   "cell_type": "code",
   "execution_count": 452,
   "id": "01c963ec",
   "metadata": {},
   "outputs": [
    {
     "data": {
      "text/html": [
       "<div>\n",
       "<style scoped>\n",
       "    .dataframe tbody tr th:only-of-type {\n",
       "        vertical-align: middle;\n",
       "    }\n",
       "\n",
       "    .dataframe tbody tr th {\n",
       "        vertical-align: top;\n",
       "    }\n",
       "\n",
       "    .dataframe thead th {\n",
       "        text-align: right;\n",
       "    }\n",
       "</style>\n",
       "<table border=\"1\" class=\"dataframe\">\n",
       "  <thead>\n",
       "    <tr style=\"text-align: right;\">\n",
       "      <th></th>\n",
       "      <th>energy_100g</th>\n",
       "      <th>fat_100g</th>\n",
       "      <th>carbohydrates_100g</th>\n",
       "      <th>proteins_100g</th>\n",
       "    </tr>\n",
       "  </thead>\n",
       "  <tbody>\n",
       "    <tr>\n",
       "      <th>count</th>\n",
       "      <td>1377.000000</td>\n",
       "      <td>1377.000000</td>\n",
       "      <td>1377.000000</td>\n",
       "      <td>1377.000000</td>\n",
       "    </tr>\n",
       "    <tr>\n",
       "      <th>mean</th>\n",
       "      <td>1684.390704</td>\n",
       "      <td>7.547442</td>\n",
       "      <td>42.575174</td>\n",
       "      <td>5.698963</td>\n",
       "    </tr>\n",
       "    <tr>\n",
       "      <th>std</th>\n",
       "      <td>590.038682</td>\n",
       "      <td>12.418688</td>\n",
       "      <td>29.919481</td>\n",
       "      <td>8.890305</td>\n",
       "    </tr>\n",
       "    <tr>\n",
       "      <th>min</th>\n",
       "      <td>335.000000</td>\n",
       "      <td>0.000000</td>\n",
       "      <td>0.014000</td>\n",
       "      <td>0.000000</td>\n",
       "    </tr>\n",
       "    <tr>\n",
       "      <th>25%</th>\n",
       "      <td>1279.000000</td>\n",
       "      <td>0.000000</td>\n",
       "      <td>16.670000</td>\n",
       "      <td>0.000000</td>\n",
       "    </tr>\n",
       "    <tr>\n",
       "      <th>50%</th>\n",
       "      <td>1674.000000</td>\n",
       "      <td>0.100000</td>\n",
       "      <td>40.000000</td>\n",
       "      <td>0.900000</td>\n",
       "    </tr>\n",
       "    <tr>\n",
       "      <th>75%</th>\n",
       "      <td>2092.000000</td>\n",
       "      <td>10.800000</td>\n",
       "      <td>66.670000</td>\n",
       "      <td>7.840000</td>\n",
       "    </tr>\n",
       "    <tr>\n",
       "      <th>max</th>\n",
       "      <td>4335.000000</td>\n",
       "      <td>82.140000</td>\n",
       "      <td>100.000000</td>\n",
       "      <td>57.140000</td>\n",
       "    </tr>\n",
       "  </tbody>\n",
       "</table>\n",
       "</div>"
      ],
      "text/plain": [
       "       energy_100g     fat_100g  carbohydrates_100g  proteins_100g\n",
       "count  1377.000000  1377.000000         1377.000000    1377.000000\n",
       "mean   1684.390704     7.547442           42.575174       5.698963\n",
       "std     590.038682    12.418688           29.919481       8.890305\n",
       "min     335.000000     0.000000            0.014000       0.000000\n",
       "25%    1279.000000     0.000000           16.670000       0.000000\n",
       "50%    1674.000000     0.100000           40.000000       0.900000\n",
       "75%    2092.000000    10.800000           66.670000       7.840000\n",
       "max    4335.000000    82.140000          100.000000      57.140000"
      ]
     },
     "execution_count": 452,
     "metadata": {},
     "output_type": "execute_result"
    }
   ],
   "source": [
    "Indicateurs[Indicateurs['difference']>300][['energy_100g','fat_100g','carbohydrates_100g', 'proteins_100g']].describe()"
   ]
  },
  {
   "cell_type": "code",
   "execution_count": 453,
   "id": "7e04ade7",
   "metadata": {},
   "outputs": [
    {
     "data": {
      "text/plain": [
       "count    176433.000000\n",
       "mean         -7.537803\n",
       "std         126.860678\n",
       "min       -3768.120000\n",
       "25%         -20.786248\n",
       "50%           1.526240\n",
       "75%          22.975556\n",
       "max        2725.266960\n",
       "Name: difference, dtype: float64"
      ]
     },
     "execution_count": 453,
     "metadata": {},
     "output_type": "execute_result"
    }
   ],
   "source": [
    "Indicateurs['difference'].describe()"
   ]
  },
  {
   "cell_type": "markdown",
   "id": "e168ba3f",
   "metadata": {},
   "source": [
    "### Indicateur difference"
   ]
  },
  {
   "cell_type": "markdown",
   "id": "a73c4af1",
   "metadata": {},
   "source": [
    "Je regarde le cas ou la valeur calculee est inferieur a la valeur affiche, cela est probablement du au fait que fat, carb ou protein est affichee comme 0 a la place de Nan. Je rectifie cela"
   ]
  },
  {
   "cell_type": "code",
   "execution_count": 454,
   "id": "e76e5fad",
   "metadata": {},
   "outputs": [],
   "source": [
    "composantes=['fat_100g', 'carbohydrates_100g', 'proteins_100g']\n",
    "for i in composantes:\n",
    "    Indicateurs.loc[(Indicateurs['difference']>300) & (Indicateurs[i]==0), i]=np.nan"
   ]
  },
  {
   "cell_type": "code",
   "execution_count": 455,
   "id": "00138fdf",
   "metadata": {},
   "outputs": [],
   "source": [
    "update_energy()"
   ]
  },
  {
   "cell_type": "code",
   "execution_count": 456,
   "id": "fcb39e59",
   "metadata": {},
   "outputs": [
    {
     "data": {
      "text/plain": [
       "count    175652.000000\n",
       "mean         -9.891705\n",
       "std         120.693226\n",
       "min       -3768.120000\n",
       "25%         -21.037026\n",
       "50%           1.443900\n",
       "75%          22.534500\n",
       "max        2725.266960\n",
       "Name: difference, dtype: float64"
      ]
     },
     "execution_count": 456,
     "metadata": {},
     "output_type": "execute_result"
    }
   ],
   "source": [
    "Indicateurs['difference'].describe()"
   ]
  },
  {
   "cell_type": "code",
   "execution_count": 457,
   "id": "7fc48611",
   "metadata": {},
   "outputs": [
    {
     "data": {
      "text/html": [
       "<div>\n",
       "<style scoped>\n",
       "    .dataframe tbody tr th:only-of-type {\n",
       "        vertical-align: middle;\n",
       "    }\n",
       "\n",
       "    .dataframe tbody tr th {\n",
       "        vertical-align: top;\n",
       "    }\n",
       "\n",
       "    .dataframe thead th {\n",
       "        text-align: right;\n",
       "    }\n",
       "</style>\n",
       "<table border=\"1\" class=\"dataframe\">\n",
       "  <thead>\n",
       "    <tr style=\"text-align: right;\">\n",
       "      <th></th>\n",
       "      <th>fat_100g</th>\n",
       "      <th>carbohydrates_100g</th>\n",
       "      <th>proteins_100g</th>\n",
       "    </tr>\n",
       "  </thead>\n",
       "  <tbody>\n",
       "    <tr>\n",
       "      <th>count</th>\n",
       "      <td>596.000000</td>\n",
       "      <td>596.000000</td>\n",
       "      <td>596.000000</td>\n",
       "    </tr>\n",
       "    <tr>\n",
       "      <th>mean</th>\n",
       "      <td>13.522126</td>\n",
       "      <td>28.371921</td>\n",
       "      <td>9.838577</td>\n",
       "    </tr>\n",
       "    <tr>\n",
       "      <th>std</th>\n",
       "      <td>13.159143</td>\n",
       "      <td>22.339051</td>\n",
       "      <td>8.106092</td>\n",
       "    </tr>\n",
       "    <tr>\n",
       "      <th>min</th>\n",
       "      <td>0.010000</td>\n",
       "      <td>0.014000</td>\n",
       "      <td>0.004000</td>\n",
       "    </tr>\n",
       "    <tr>\n",
       "      <th>25%</th>\n",
       "      <td>3.055000</td>\n",
       "      <td>7.975000</td>\n",
       "      <td>3.780000</td>\n",
       "    </tr>\n",
       "    <tr>\n",
       "      <th>50%</th>\n",
       "      <td>9.045000</td>\n",
       "      <td>23.245000</td>\n",
       "      <td>7.140000</td>\n",
       "    </tr>\n",
       "    <tr>\n",
       "      <th>75%</th>\n",
       "      <td>21.082500</td>\n",
       "      <td>46.527500</td>\n",
       "      <td>14.000000</td>\n",
       "    </tr>\n",
       "    <tr>\n",
       "      <th>max</th>\n",
       "      <td>82.140000</td>\n",
       "      <td>95.650000</td>\n",
       "      <td>57.140000</td>\n",
       "    </tr>\n",
       "  </tbody>\n",
       "</table>\n",
       "</div>"
      ],
      "text/plain": [
       "         fat_100g  carbohydrates_100g  proteins_100g\n",
       "count  596.000000          596.000000     596.000000\n",
       "mean    13.522126           28.371921       9.838577\n",
       "std     13.159143           22.339051       8.106092\n",
       "min      0.010000            0.014000       0.004000\n",
       "25%      3.055000            7.975000       3.780000\n",
       "50%      9.045000           23.245000       7.140000\n",
       "75%     21.082500           46.527500      14.000000\n",
       "max     82.140000           95.650000      57.140000"
      ]
     },
     "execution_count": 457,
     "metadata": {},
     "output_type": "execute_result"
    }
   ],
   "source": [
    " Indicateurs.loc[(Indicateurs['difference']>300)][composantes].describe()"
   ]
  },
  {
   "cell_type": "markdown",
   "id": "360d9b1a",
   "metadata": {},
   "source": [
    "Pour tous ces produits on a des valeurs acceptables des composantes de l'energie, nous remplacerons donc **energy_100g** par la valeur calculee"
   ]
  },
  {
   "cell_type": "code",
   "execution_count": 459,
   "id": "130197dd",
   "metadata": {},
   "outputs": [],
   "source": [
    "Indicateurs.loc[(Indicateurs['difference']>300), 'energy_100g']=Indicateurs.loc[(Indicateurs['difference']>300), 'energie-calculee']"
   ]
  },
  {
   "cell_type": "code",
   "execution_count": 460,
   "id": "0f486842",
   "metadata": {},
   "outputs": [
    {
     "data": {
      "text/html": [
       "<div>\n",
       "<style scoped>\n",
       "    .dataframe tbody tr th:only-of-type {\n",
       "        vertical-align: middle;\n",
       "    }\n",
       "\n",
       "    .dataframe tbody tr th {\n",
       "        vertical-align: top;\n",
       "    }\n",
       "\n",
       "    .dataframe thead th {\n",
       "        text-align: right;\n",
       "    }\n",
       "</style>\n",
       "<table border=\"1\" class=\"dataframe\">\n",
       "  <thead>\n",
       "    <tr style=\"text-align: right;\">\n",
       "      <th></th>\n",
       "      <th>code</th>\n",
       "      <th>product_name</th>\n",
       "      <th>countries_tags</th>\n",
       "      <th>pnns_groups_1</th>\n",
       "      <th>energy_100g</th>\n",
       "      <th>fat_100g</th>\n",
       "      <th>saturated-fat_100g</th>\n",
       "      <th>cholesterol_100g</th>\n",
       "      <th>carbohydrates_100g</th>\n",
       "      <th>sugars_100g</th>\n",
       "      <th>fiber_100g</th>\n",
       "      <th>proteins_100g</th>\n",
       "      <th>sodium_100g</th>\n",
       "      <th>nutrition-score-fr_100g</th>\n",
       "      <th>energie-calculee</th>\n",
       "      <th>difference</th>\n",
       "    </tr>\n",
       "  </thead>\n",
       "  <tbody>\n",
       "  </tbody>\n",
       "</table>\n",
       "</div>"
      ],
      "text/plain": [
       "Empty DataFrame\n",
       "Columns: [code, product_name, countries_tags, pnns_groups_1, energy_100g, fat_100g, saturated-fat_100g, cholesterol_100g, carbohydrates_100g, sugars_100g, fiber_100g, proteins_100g, sodium_100g, nutrition-score-fr_100g, energie-calculee, difference]\n",
       "Index: []"
      ]
     },
     "execution_count": 460,
     "metadata": {},
     "output_type": "execute_result"
    }
   ],
   "source": [
    "update_energy()\n",
    "Indicateurs.loc[Indicateurs['difference']>300]"
   ]
  },
  {
   "cell_type": "markdown",
   "id": "f520a98c",
   "metadata": {},
   "source": [
    "On regarde maintenant les produits dont la valeur calculee est superieur a **energy_100g**"
   ]
  },
  {
   "cell_type": "code",
   "execution_count": 461,
   "id": "9e935892",
   "metadata": {},
   "outputs": [
    {
     "data": {
      "text/html": [
       "<div>\n",
       "<style scoped>\n",
       "    .dataframe tbody tr th:only-of-type {\n",
       "        vertical-align: middle;\n",
       "    }\n",
       "\n",
       "    .dataframe tbody tr th {\n",
       "        vertical-align: top;\n",
       "    }\n",
       "\n",
       "    .dataframe thead th {\n",
       "        text-align: right;\n",
       "    }\n",
       "</style>\n",
       "<table border=\"1\" class=\"dataframe\">\n",
       "  <thead>\n",
       "    <tr style=\"text-align: right;\">\n",
       "      <th></th>\n",
       "      <th>fat_100g</th>\n",
       "      <th>carbohydrates_100g</th>\n",
       "      <th>proteins_100g</th>\n",
       "    </tr>\n",
       "  </thead>\n",
       "  <tbody>\n",
       "    <tr>\n",
       "      <th>count</th>\n",
       "      <td>2713.000000</td>\n",
       "      <td>2713.000000</td>\n",
       "      <td>2713.000000</td>\n",
       "    </tr>\n",
       "    <tr>\n",
       "      <th>mean</th>\n",
       "      <td>17.035748</td>\n",
       "      <td>52.349753</td>\n",
       "      <td>10.086043</td>\n",
       "    </tr>\n",
       "    <tr>\n",
       "      <th>std</th>\n",
       "      <td>19.836531</td>\n",
       "      <td>26.341130</td>\n",
       "      <td>12.690145</td>\n",
       "    </tr>\n",
       "    <tr>\n",
       "      <th>min</th>\n",
       "      <td>0.000000</td>\n",
       "      <td>0.000000</td>\n",
       "      <td>0.000000</td>\n",
       "    </tr>\n",
       "    <tr>\n",
       "      <th>25%</th>\n",
       "      <td>0.000000</td>\n",
       "      <td>33.330000</td>\n",
       "      <td>0.000000</td>\n",
       "    </tr>\n",
       "    <tr>\n",
       "      <th>50%</th>\n",
       "      <td>10.000000</td>\n",
       "      <td>55.360000</td>\n",
       "      <td>6.670000</td>\n",
       "    </tr>\n",
       "    <tr>\n",
       "      <th>75%</th>\n",
       "      <td>30.000000</td>\n",
       "      <td>70.200000</td>\n",
       "      <td>15.000000</td>\n",
       "    </tr>\n",
       "    <tr>\n",
       "      <th>max</th>\n",
       "      <td>100.000000</td>\n",
       "      <td>100.000000</td>\n",
       "      <td>100.000000</td>\n",
       "    </tr>\n",
       "  </tbody>\n",
       "</table>\n",
       "</div>"
      ],
      "text/plain": [
       "          fat_100g  carbohydrates_100g  proteins_100g\n",
       "count  2713.000000         2713.000000    2713.000000\n",
       "mean     17.035748           52.349753      10.086043\n",
       "std      19.836531           26.341130      12.690145\n",
       "min       0.000000            0.000000       0.000000\n",
       "25%       0.000000           33.330000       0.000000\n",
       "50%      10.000000           55.360000       6.670000\n",
       "75%      30.000000           70.200000      15.000000\n",
       "max     100.000000          100.000000     100.000000"
      ]
     },
     "execution_count": 461,
     "metadata": {},
     "output_type": "execute_result"
    }
   ],
   "source": [
    "Indicateurs.loc[Indicateurs['difference']<-300][composantes].describe()"
   ]
  },
  {
   "cell_type": "code",
   "execution_count": 462,
   "id": "f344ec1a",
   "metadata": {},
   "outputs": [],
   "source": [
    "Indicateurs.loc[(Indicateurs['difference']<-300), 'energy_100g']=Indicateurs.loc[(Indicateurs['difference']<-300), 'energie-calculee']"
   ]
  },
  {
   "cell_type": "code",
   "execution_count": 463,
   "id": "73c15d0e",
   "metadata": {},
   "outputs": [],
   "source": [
    "update_energy()"
   ]
  },
  {
   "cell_type": "code",
   "execution_count": 464,
   "id": "a16f1ed4",
   "metadata": {},
   "outputs": [
    {
     "data": {
      "text/plain": [
       "count    194966.000000\n",
       "mean       1128.008976\n",
       "std         757.755287\n",
       "min           0.000000\n",
       "25%         420.000000\n",
       "50%        1096.000000\n",
       "75%        1674.000000\n",
       "max        6001.191648\n",
       "Name: energy_100g, dtype: float64"
      ]
     },
     "execution_count": 464,
     "metadata": {},
     "output_type": "execute_result"
    }
   ],
   "source": [
    "Indicateurs['energy_100g'].describe()"
   ]
  },
  {
   "cell_type": "code",
   "execution_count": 465,
   "id": "ba215979",
   "metadata": {},
   "outputs": [
    {
     "data": {
      "text/html": [
       "<div>\n",
       "<style scoped>\n",
       "    .dataframe tbody tr th:only-of-type {\n",
       "        vertical-align: middle;\n",
       "    }\n",
       "\n",
       "    .dataframe tbody tr th {\n",
       "        vertical-align: top;\n",
       "    }\n",
       "\n",
       "    .dataframe thead th {\n",
       "        text-align: right;\n",
       "    }\n",
       "</style>\n",
       "<table border=\"1\" class=\"dataframe\">\n",
       "  <thead>\n",
       "    <tr style=\"text-align: right;\">\n",
       "      <th></th>\n",
       "      <th>energy_100g</th>\n",
       "      <th>fat_100g</th>\n",
       "      <th>saturated-fat_100g</th>\n",
       "      <th>cholesterol_100g</th>\n",
       "      <th>carbohydrates_100g</th>\n",
       "      <th>sugars_100g</th>\n",
       "      <th>fiber_100g</th>\n",
       "      <th>proteins_100g</th>\n",
       "      <th>sodium_100g</th>\n",
       "      <th>nutrition-score-fr_100g</th>\n",
       "      <th>energie-calculee</th>\n",
       "      <th>difference</th>\n",
       "    </tr>\n",
       "  </thead>\n",
       "  <tbody>\n",
       "    <tr>\n",
       "      <th>energy_100g</th>\n",
       "      <td>1.000000</td>\n",
       "      <td>0.780950</td>\n",
       "      <td>0.572786</td>\n",
       "      <td>0.005885</td>\n",
       "      <td>0.578629</td>\n",
       "      <td>0.354982</td>\n",
       "      <td>0.284561</td>\n",
       "      <td>0.298069</td>\n",
       "      <td>-0.002899</td>\n",
       "      <td>0.645859</td>\n",
       "      <td>0.996570</td>\n",
       "      <td>-0.121149</td>\n",
       "    </tr>\n",
       "    <tr>\n",
       "      <th>fat_100g</th>\n",
       "      <td>0.780950</td>\n",
       "      <td>1.000000</td>\n",
       "      <td>0.718546</td>\n",
       "      <td>0.024089</td>\n",
       "      <td>-0.025721</td>\n",
       "      <td>0.003128</td>\n",
       "      <td>0.150590</td>\n",
       "      <td>0.260557</td>\n",
       "      <td>-0.003965</td>\n",
       "      <td>0.586063</td>\n",
       "      <td>0.788276</td>\n",
       "      <td>-0.219883</td>\n",
       "    </tr>\n",
       "    <tr>\n",
       "      <th>saturated-fat_100g</th>\n",
       "      <td>0.572786</td>\n",
       "      <td>0.718546</td>\n",
       "      <td>1.000000</td>\n",
       "      <td>0.040397</td>\n",
       "      <td>0.007016</td>\n",
       "      <td>0.148581</td>\n",
       "      <td>0.024209</td>\n",
       "      <td>0.146571</td>\n",
       "      <td>-0.002547</td>\n",
       "      <td>0.629539</td>\n",
       "      <td>0.588684</td>\n",
       "      <td>-0.122371</td>\n",
       "    </tr>\n",
       "    <tr>\n",
       "      <th>cholesterol_100g</th>\n",
       "      <td>0.005885</td>\n",
       "      <td>0.024089</td>\n",
       "      <td>0.040397</td>\n",
       "      <td>1.000000</td>\n",
       "      <td>-0.034022</td>\n",
       "      <td>-0.015070</td>\n",
       "      <td>-0.023308</td>\n",
       "      <td>0.045283</td>\n",
       "      <td>0.132686</td>\n",
       "      <td>0.029347</td>\n",
       "      <td>0.005738</td>\n",
       "      <td>0.000967</td>\n",
       "    </tr>\n",
       "    <tr>\n",
       "      <th>carbohydrates_100g</th>\n",
       "      <td>0.578629</td>\n",
       "      <td>-0.025721</td>\n",
       "      <td>0.007016</td>\n",
       "      <td>-0.034022</td>\n",
       "      <td>1.000000</td>\n",
       "      <td>0.659708</td>\n",
       "      <td>0.264138</td>\n",
       "      <td>-0.096360</td>\n",
       "      <td>0.000491</td>\n",
       "      <td>0.307500</td>\n",
       "      <td>0.572903</td>\n",
       "      <td>-0.033862</td>\n",
       "    </tr>\n",
       "    <tr>\n",
       "      <th>sugars_100g</th>\n",
       "      <td>0.354982</td>\n",
       "      <td>0.003128</td>\n",
       "      <td>0.148581</td>\n",
       "      <td>-0.015070</td>\n",
       "      <td>0.659708</td>\n",
       "      <td>1.000000</td>\n",
       "      <td>-0.002131</td>\n",
       "      <td>-0.251710</td>\n",
       "      <td>0.001510</td>\n",
       "      <td>0.488583</td>\n",
       "      <td>0.364727</td>\n",
       "      <td>-0.058953</td>\n",
       "    </tr>\n",
       "    <tr>\n",
       "      <th>fiber_100g</th>\n",
       "      <td>0.284561</td>\n",
       "      <td>0.150590</td>\n",
       "      <td>0.024209</td>\n",
       "      <td>-0.023308</td>\n",
       "      <td>0.264138</td>\n",
       "      <td>-0.002131</td>\n",
       "      <td>1.000000</td>\n",
       "      <td>0.234700</td>\n",
       "      <td>0.000131</td>\n",
       "      <td>-0.127948</td>\n",
       "      <td>0.317358</td>\n",
       "      <td>-0.096406</td>\n",
       "    </tr>\n",
       "    <tr>\n",
       "      <th>proteins_100g</th>\n",
       "      <td>0.298069</td>\n",
       "      <td>0.260557</td>\n",
       "      <td>0.146571</td>\n",
       "      <td>0.045283</td>\n",
       "      <td>-0.096360</td>\n",
       "      <td>-0.251710</td>\n",
       "      <td>0.234700</td>\n",
       "      <td>1.000000</td>\n",
       "      <td>-0.002070</td>\n",
       "      <td>0.092218</td>\n",
       "      <td>0.309495</td>\n",
       "      <td>-0.089942</td>\n",
       "    </tr>\n",
       "    <tr>\n",
       "      <th>sodium_100g</th>\n",
       "      <td>-0.002899</td>\n",
       "      <td>-0.003965</td>\n",
       "      <td>-0.002547</td>\n",
       "      <td>0.132686</td>\n",
       "      <td>0.000491</td>\n",
       "      <td>0.001510</td>\n",
       "      <td>0.000131</td>\n",
       "      <td>-0.002070</td>\n",
       "      <td>1.000000</td>\n",
       "      <td>0.007273</td>\n",
       "      <td>-0.003072</td>\n",
       "      <td>0.003001</td>\n",
       "    </tr>\n",
       "    <tr>\n",
       "      <th>nutrition-score-fr_100g</th>\n",
       "      <td>0.645859</td>\n",
       "      <td>0.586063</td>\n",
       "      <td>0.629539</td>\n",
       "      <td>0.029347</td>\n",
       "      <td>0.307500</td>\n",
       "      <td>0.488583</td>\n",
       "      <td>-0.127948</td>\n",
       "      <td>0.092218</td>\n",
       "      <td>0.007273</td>\n",
       "      <td>1.000000</td>\n",
       "      <td>0.647721</td>\n",
       "      <td>-0.088947</td>\n",
       "    </tr>\n",
       "    <tr>\n",
       "      <th>energie-calculee</th>\n",
       "      <td>0.996570</td>\n",
       "      <td>0.788276</td>\n",
       "      <td>0.588684</td>\n",
       "      <td>0.005738</td>\n",
       "      <td>0.572903</td>\n",
       "      <td>0.364727</td>\n",
       "      <td>0.317358</td>\n",
       "      <td>0.309495</td>\n",
       "      <td>-0.003072</td>\n",
       "      <td>0.647721</td>\n",
       "      <td>1.000000</td>\n",
       "      <td>-0.202879</td>\n",
       "    </tr>\n",
       "    <tr>\n",
       "      <th>difference</th>\n",
       "      <td>-0.121149</td>\n",
       "      <td>-0.219883</td>\n",
       "      <td>-0.122371</td>\n",
       "      <td>0.000967</td>\n",
       "      <td>-0.033862</td>\n",
       "      <td>-0.058953</td>\n",
       "      <td>-0.096406</td>\n",
       "      <td>-0.089942</td>\n",
       "      <td>0.003001</td>\n",
       "      <td>-0.088947</td>\n",
       "      <td>-0.202879</td>\n",
       "      <td>1.000000</td>\n",
       "    </tr>\n",
       "  </tbody>\n",
       "</table>\n",
       "</div>"
      ],
      "text/plain": [
       "                         energy_100g  fat_100g  saturated-fat_100g  \\\n",
       "energy_100g                 1.000000  0.780950            0.572786   \n",
       "fat_100g                    0.780950  1.000000            0.718546   \n",
       "saturated-fat_100g          0.572786  0.718546            1.000000   \n",
       "cholesterol_100g            0.005885  0.024089            0.040397   \n",
       "carbohydrates_100g          0.578629 -0.025721            0.007016   \n",
       "sugars_100g                 0.354982  0.003128            0.148581   \n",
       "fiber_100g                  0.284561  0.150590            0.024209   \n",
       "proteins_100g               0.298069  0.260557            0.146571   \n",
       "sodium_100g                -0.002899 -0.003965           -0.002547   \n",
       "nutrition-score-fr_100g     0.645859  0.586063            0.629539   \n",
       "energie-calculee            0.996570  0.788276            0.588684   \n",
       "difference                 -0.121149 -0.219883           -0.122371   \n",
       "\n",
       "                         cholesterol_100g  carbohydrates_100g  sugars_100g  \\\n",
       "energy_100g                      0.005885            0.578629     0.354982   \n",
       "fat_100g                         0.024089           -0.025721     0.003128   \n",
       "saturated-fat_100g               0.040397            0.007016     0.148581   \n",
       "cholesterol_100g                 1.000000           -0.034022    -0.015070   \n",
       "carbohydrates_100g              -0.034022            1.000000     0.659708   \n",
       "sugars_100g                     -0.015070            0.659708     1.000000   \n",
       "fiber_100g                      -0.023308            0.264138    -0.002131   \n",
       "proteins_100g                    0.045283           -0.096360    -0.251710   \n",
       "sodium_100g                      0.132686            0.000491     0.001510   \n",
       "nutrition-score-fr_100g          0.029347            0.307500     0.488583   \n",
       "energie-calculee                 0.005738            0.572903     0.364727   \n",
       "difference                       0.000967           -0.033862    -0.058953   \n",
       "\n",
       "                         fiber_100g  proteins_100g  sodium_100g  \\\n",
       "energy_100g                0.284561       0.298069    -0.002899   \n",
       "fat_100g                   0.150590       0.260557    -0.003965   \n",
       "saturated-fat_100g         0.024209       0.146571    -0.002547   \n",
       "cholesterol_100g          -0.023308       0.045283     0.132686   \n",
       "carbohydrates_100g         0.264138      -0.096360     0.000491   \n",
       "sugars_100g               -0.002131      -0.251710     0.001510   \n",
       "fiber_100g                 1.000000       0.234700     0.000131   \n",
       "proteins_100g              0.234700       1.000000    -0.002070   \n",
       "sodium_100g                0.000131      -0.002070     1.000000   \n",
       "nutrition-score-fr_100g   -0.127948       0.092218     0.007273   \n",
       "energie-calculee           0.317358       0.309495    -0.003072   \n",
       "difference                -0.096406      -0.089942     0.003001   \n",
       "\n",
       "                         nutrition-score-fr_100g  energie-calculee  difference  \n",
       "energy_100g                             0.645859          0.996570   -0.121149  \n",
       "fat_100g                                0.586063          0.788276   -0.219883  \n",
       "saturated-fat_100g                      0.629539          0.588684   -0.122371  \n",
       "cholesterol_100g                        0.029347          0.005738    0.000967  \n",
       "carbohydrates_100g                      0.307500          0.572903   -0.033862  \n",
       "sugars_100g                             0.488583          0.364727   -0.058953  \n",
       "fiber_100g                             -0.127948          0.317358   -0.096406  \n",
       "proteins_100g                           0.092218          0.309495   -0.089942  \n",
       "sodium_100g                             0.007273         -0.003072    0.003001  \n",
       "nutrition-score-fr_100g                 1.000000          0.647721   -0.088947  \n",
       "energie-calculee                        0.647721          1.000000   -0.202879  \n",
       "difference                             -0.088947         -0.202879    1.000000  "
      ]
     },
     "execution_count": 465,
     "metadata": {},
     "output_type": "execute_result"
    }
   ],
   "source": [
    "Indicateurs.corr()"
   ]
  },
  {
   "cell_type": "markdown",
   "id": "db25e19a",
   "metadata": {},
   "source": [
    "## Valeurs aberrantes dans le reste des indicateurs\n",
    "Je vais essayer en faisant ce netoyage reperer des categories de produits en plus pour avoir un peu plus de categorisation de produits"
   ]
  },
  {
   "cell_type": "markdown",
   "id": "9ecec735",
   "metadata": {},
   "source": [
    "### Valeurs aberrantes colonne fat_100g "
   ]
  },
  {
   "cell_type": "code",
   "execution_count": 466,
   "id": "ca9d1ada",
   "metadata": {},
   "outputs": [
    {
     "data": {
      "text/plain": [
       "count    178015.000000\n",
       "mean         12.488743\n",
       "std          15.531234\n",
       "min           0.000000\n",
       "25%           0.500000\n",
       "50%           6.430000\n",
       "75%          20.000000\n",
       "max         100.000000\n",
       "Name: fat_100g, dtype: float64"
      ]
     },
     "execution_count": 466,
     "metadata": {},
     "output_type": "execute_result"
    }
   ],
   "source": [
    "Indicateurs['fat_100g'].describe()"
   ]
  },
  {
   "cell_type": "code",
   "execution_count": 467,
   "id": "ef08f346",
   "metadata": {},
   "outputs": [
    {
     "data": {
      "text/plain": [
       "<AxesSubplot:xlabel='fat_100g'>"
      ]
     },
     "execution_count": 467,
     "metadata": {},
     "output_type": "execute_result"
    },
    {
     "data": {
      "image/png": "[encoded data removed]",
      "text/plain": [
       "<Figure size 432x288 with 1 Axes>"
      ]
     },
     "metadata": {
      "needs_background": "light"
     },
     "output_type": "display_data"
    }
   ],
   "source": [
    "sns.boxplot(data=Indicateurs, x='fat_100g')"
   ]
  },
  {
   "cell_type": "code",
   "execution_count": 468,
   "id": "a7ac3fdc",
   "metadata": {},
   "outputs": [
    {
     "data": {
      "text/html": [
       "<div>\n",
       "<style scoped>\n",
       "    .dataframe tbody tr th:only-of-type {\n",
       "        vertical-align: middle;\n",
       "    }\n",
       "\n",
       "    .dataframe tbody tr th {\n",
       "        vertical-align: top;\n",
       "    }\n",
       "\n",
       "    .dataframe thead th {\n",
       "        text-align: right;\n",
       "    }\n",
       "</style>\n",
       "<table border=\"1\" class=\"dataframe\">\n",
       "  <thead>\n",
       "    <tr style=\"text-align: right;\">\n",
       "      <th></th>\n",
       "      <th>code</th>\n",
       "      <th>product_name</th>\n",
       "      <th>countries_tags</th>\n",
       "      <th>pnns_groups_1</th>\n",
       "      <th>energy_100g</th>\n",
       "      <th>fat_100g</th>\n",
       "      <th>saturated-fat_100g</th>\n",
       "      <th>cholesterol_100g</th>\n",
       "      <th>carbohydrates_100g</th>\n",
       "      <th>sugars_100g</th>\n",
       "      <th>fiber_100g</th>\n",
       "      <th>proteins_100g</th>\n",
       "      <th>sodium_100g</th>\n",
       "      <th>nutrition-score-fr_100g</th>\n",
       "      <th>energie-calculee</th>\n",
       "      <th>difference</th>\n",
       "    </tr>\n",
       "  </thead>\n",
       "  <tbody>\n",
       "    <tr>\n",
       "      <th>9</th>\n",
       "      <td>16513</td>\n",
       "      <td>Organic Sunflower Oil</td>\n",
       "      <td>en:united-states</td>\n",
       "      <td>unknown</td>\n",
       "      <td>3586.0</td>\n",
       "      <td>100.00</td>\n",
       "      <td>7.14</td>\n",
       "      <td>NaN</td>\n",
       "      <td>NaN</td>\n",
       "      <td>NaN</td>\n",
       "      <td>NaN</td>\n",
       "      <td>NaN</td>\n",
       "      <td>NaN</td>\n",
       "      <td>NaN</td>\n",
       "      <td>NaN</td>\n",
       "      <td>NaN</td>\n",
       "    </tr>\n",
       "    <tr>\n",
       "      <th>96</th>\n",
       "      <td>35071</td>\n",
       "      <td>Organic Extra Virgin Olive Oil</td>\n",
       "      <td>en:united-states</td>\n",
       "      <td>unknown</td>\n",
       "      <td>3586.0</td>\n",
       "      <td>100.00</td>\n",
       "      <td>14.29</td>\n",
       "      <td>NaN</td>\n",
       "      <td>NaN</td>\n",
       "      <td>NaN</td>\n",
       "      <td>NaN</td>\n",
       "      <td>NaN</td>\n",
       "      <td>NaN</td>\n",
       "      <td>NaN</td>\n",
       "      <td>NaN</td>\n",
       "      <td>NaN</td>\n",
       "    </tr>\n",
       "    <tr>\n",
       "      <th>164</th>\n",
       "      <td>58247</td>\n",
       "      <td>Organic Unrefined Extra Virgin Coconut Oil</td>\n",
       "      <td>en:united-states</td>\n",
       "      <td>unknown</td>\n",
       "      <td>3586.0</td>\n",
       "      <td>100.00</td>\n",
       "      <td>85.71</td>\n",
       "      <td>NaN</td>\n",
       "      <td>NaN</td>\n",
       "      <td>NaN</td>\n",
       "      <td>NaN</td>\n",
       "      <td>NaN</td>\n",
       "      <td>NaN</td>\n",
       "      <td>NaN</td>\n",
       "      <td>NaN</td>\n",
       "      <td>NaN</td>\n",
       "    </tr>\n",
       "    <tr>\n",
       "      <th>255</th>\n",
       "      <td>111048403</td>\n",
       "      <td>100% Pure Canola Oil</td>\n",
       "      <td>en:united-states</td>\n",
       "      <td>unknown</td>\n",
       "      <td>3586.0</td>\n",
       "      <td>100.00</td>\n",
       "      <td>7.14</td>\n",
       "      <td>NaN</td>\n",
       "      <td>0.0</td>\n",
       "      <td>NaN</td>\n",
       "      <td>NaN</td>\n",
       "      <td>0.0</td>\n",
       "      <td>0.0</td>\n",
       "      <td>NaN</td>\n",
       "      <td>3768.120000</td>\n",
       "      <td>-182.120000</td>\n",
       "    </tr>\n",
       "    <tr>\n",
       "      <th>464</th>\n",
       "      <td>14373</td>\n",
       "      <td>Imported Olive Oil</td>\n",
       "      <td>en:united-states</td>\n",
       "      <td>unknown</td>\n",
       "      <td>3347.0</td>\n",
       "      <td>93.33</td>\n",
       "      <td>13.33</td>\n",
       "      <td>0.0</td>\n",
       "      <td>0.0</td>\n",
       "      <td>NaN</td>\n",
       "      <td>NaN</td>\n",
       "      <td>0.0</td>\n",
       "      <td>0.0</td>\n",
       "      <td>NaN</td>\n",
       "      <td>3516.786396</td>\n",
       "      <td>-169.786396</td>\n",
       "    </tr>\n",
       "  </tbody>\n",
       "</table>\n",
       "</div>"
      ],
      "text/plain": [
       "          code                                product_name    countries_tags  \\\n",
       "9        16513                       Organic Sunflower Oil  en:united-states   \n",
       "96       35071              Organic Extra Virgin Olive Oil  en:united-states   \n",
       "164      58247  Organic Unrefined Extra Virgin Coconut Oil  en:united-states   \n",
       "255  111048403                        100% Pure Canola Oil  en:united-states   \n",
       "464      14373                          Imported Olive Oil  en:united-states   \n",
       "\n",
       "    pnns_groups_1  energy_100g  fat_100g  saturated-fat_100g  \\\n",
       "9         unknown       3586.0    100.00                7.14   \n",
       "96        unknown       3586.0    100.00               14.29   \n",
       "164       unknown       3586.0    100.00               85.71   \n",
       "255       unknown       3586.0    100.00                7.14   \n",
       "464       unknown       3347.0     93.33               13.33   \n",
       "\n",
       "     cholesterol_100g  carbohydrates_100g  sugars_100g  fiber_100g  \\\n",
       "9                 NaN                 NaN          NaN         NaN   \n",
       "96                NaN                 NaN          NaN         NaN   \n",
       "164               NaN                 NaN          NaN         NaN   \n",
       "255               NaN                 0.0          NaN         NaN   \n",
       "464               0.0                 0.0          NaN         NaN   \n",
       "\n",
       "     proteins_100g  sodium_100g  nutrition-score-fr_100g  energie-calculee  \\\n",
       "9              NaN          NaN                      NaN               NaN   \n",
       "96             NaN          NaN                      NaN               NaN   \n",
       "164            NaN          NaN                      NaN               NaN   \n",
       "255            0.0          0.0                      NaN       3768.120000   \n",
       "464            0.0          0.0                      NaN       3516.786396   \n",
       "\n",
       "     difference  \n",
       "9           NaN  \n",
       "96          NaN  \n",
       "164         NaN  \n",
       "255 -182.120000  \n",
       "464 -169.786396  "
      ]
     },
     "execution_count": 468,
     "metadata": {},
     "output_type": "execute_result"
    }
   ],
   "source": [
    "Indicateurs[Indicateurs['fat_100g']>80].head()"
   ]
  },
  {
   "cell_type": "code",
   "execution_count": 469,
   "id": "6f7c0597",
   "metadata": {},
   "outputs": [
    {
     "data": {
      "text/html": [
       "<div>\n",
       "<style scoped>\n",
       "    .dataframe tbody tr th:only-of-type {\n",
       "        vertical-align: middle;\n",
       "    }\n",
       "\n",
       "    .dataframe tbody tr th {\n",
       "        vertical-align: top;\n",
       "    }\n",
       "\n",
       "    .dataframe thead th {\n",
       "        text-align: right;\n",
       "    }\n",
       "</style>\n",
       "<table border=\"1\" class=\"dataframe\">\n",
       "  <thead>\n",
       "    <tr style=\"text-align: right;\">\n",
       "      <th></th>\n",
       "      <th>code</th>\n",
       "      <th>product_name</th>\n",
       "      <th>countries_tags</th>\n",
       "      <th>pnns_groups_1</th>\n",
       "      <th>energy_100g</th>\n",
       "      <th>fat_100g</th>\n",
       "      <th>saturated-fat_100g</th>\n",
       "      <th>cholesterol_100g</th>\n",
       "      <th>carbohydrates_100g</th>\n",
       "      <th>sugars_100g</th>\n",
       "      <th>fiber_100g</th>\n",
       "      <th>proteins_100g</th>\n",
       "      <th>sodium_100g</th>\n",
       "      <th>nutrition-score-fr_100g</th>\n",
       "      <th>energie-calculee</th>\n",
       "      <th>difference</th>\n",
       "    </tr>\n",
       "  </thead>\n",
       "  <tbody>\n",
       "    <tr>\n",
       "      <th>3</th>\n",
       "      <td>16087</td>\n",
       "      <td>Organic Salted Nut Mix</td>\n",
       "      <td>en:united-states</td>\n",
       "      <td>unknown</td>\n",
       "      <td>2540.0</td>\n",
       "      <td>57.14</td>\n",
       "      <td>5.36</td>\n",
       "      <td>NaN</td>\n",
       "      <td>17.86</td>\n",
       "      <td>3.57</td>\n",
       "      <td>7.1</td>\n",
       "      <td>17.86</td>\n",
       "      <td>0.482</td>\n",
       "      <td>12.0</td>\n",
       "      <td>2751.313752</td>\n",
       "      <td>-211.313752</td>\n",
       "    </tr>\n",
       "    <tr>\n",
       "      <th>16</th>\n",
       "      <td>18050</td>\n",
       "      <td>Organic Hazelnuts</td>\n",
       "      <td>en:united-states</td>\n",
       "      <td>unknown</td>\n",
       "      <td>2632.0</td>\n",
       "      <td>60.71</td>\n",
       "      <td>3.57</td>\n",
       "      <td>NaN</td>\n",
       "      <td>17.86</td>\n",
       "      <td>3.57</td>\n",
       "      <td>10.7</td>\n",
       "      <td>14.29</td>\n",
       "      <td>0.004</td>\n",
       "      <td>0.0</td>\n",
       "      <td>2826.048132</td>\n",
       "      <td>-194.048132</td>\n",
       "    </tr>\n",
       "    <tr>\n",
       "      <th>38</th>\n",
       "      <td>18630</td>\n",
       "      <td>Organic Coconut Chips</td>\n",
       "      <td>en:united-states</td>\n",
       "      <td>unknown</td>\n",
       "      <td>2761.0</td>\n",
       "      <td>65.00</td>\n",
       "      <td>57.00</td>\n",
       "      <td>NaN</td>\n",
       "      <td>24.00</td>\n",
       "      <td>7.00</td>\n",
       "      <td>16.0</td>\n",
       "      <td>6.00</td>\n",
       "      <td>0.037</td>\n",
       "      <td>14.0</td>\n",
       "      <td>2951.694000</td>\n",
       "      <td>-190.694000</td>\n",
       "    </tr>\n",
       "    <tr>\n",
       "      <th>83</th>\n",
       "      <td>34241</td>\n",
       "      <td>Organic White Sesame Seeds</td>\n",
       "      <td>en:united-states</td>\n",
       "      <td>unknown</td>\n",
       "      <td>2439.0</td>\n",
       "      <td>55.56</td>\n",
       "      <td>8.33</td>\n",
       "      <td>NaN</td>\n",
       "      <td>13.89</td>\n",
       "      <td>NaN</td>\n",
       "      <td>13.9</td>\n",
       "      <td>19.44</td>\n",
       "      <td>0.028</td>\n",
       "      <td>NaN</td>\n",
       "      <td>2651.751648</td>\n",
       "      <td>-212.751648</td>\n",
       "    </tr>\n",
       "    <tr>\n",
       "      <th>84</th>\n",
       "      <td>34265</td>\n",
       "      <td>Almonds Hickory-Smoked</td>\n",
       "      <td>en:united-states</td>\n",
       "      <td>unknown</td>\n",
       "      <td>2690.0</td>\n",
       "      <td>57.14</td>\n",
       "      <td>3.57</td>\n",
       "      <td>NaN</td>\n",
       "      <td>14.29</td>\n",
       "      <td>NaN</td>\n",
       "      <td>7.1</td>\n",
       "      <td>21.43</td>\n",
       "      <td>0.607</td>\n",
       "      <td>NaN</td>\n",
       "      <td>2751.313752</td>\n",
       "      <td>-61.313752</td>\n",
       "    </tr>\n",
       "  </tbody>\n",
       "</table>\n",
       "</div>"
      ],
      "text/plain": [
       "     code                product_name    countries_tags pnns_groups_1  \\\n",
       "3   16087      Organic Salted Nut Mix  en:united-states       unknown   \n",
       "16  18050           Organic Hazelnuts  en:united-states       unknown   \n",
       "38  18630       Organic Coconut Chips  en:united-states       unknown   \n",
       "83  34241  Organic White Sesame Seeds  en:united-states       unknown   \n",
       "84  34265      Almonds Hickory-Smoked  en:united-states       unknown   \n",
       "\n",
       "    energy_100g  fat_100g  saturated-fat_100g  cholesterol_100g  \\\n",
       "3        2540.0     57.14                5.36               NaN   \n",
       "16       2632.0     60.71                3.57               NaN   \n",
       "38       2761.0     65.00               57.00               NaN   \n",
       "83       2439.0     55.56                8.33               NaN   \n",
       "84       2690.0     57.14                3.57               NaN   \n",
       "\n",
       "    carbohydrates_100g  sugars_100g  fiber_100g  proteins_100g  sodium_100g  \\\n",
       "3                17.86         3.57         7.1          17.86        0.482   \n",
       "16               17.86         3.57        10.7          14.29        0.004   \n",
       "38               24.00         7.00        16.0           6.00        0.037   \n",
       "83               13.89          NaN        13.9          19.44        0.028   \n",
       "84               14.29          NaN         7.1          21.43        0.607   \n",
       "\n",
       "    nutrition-score-fr_100g  energie-calculee  difference  \n",
       "3                      12.0       2751.313752 -211.313752  \n",
       "16                      0.0       2826.048132 -194.048132  \n",
       "38                     14.0       2951.694000 -190.694000  \n",
       "83                      NaN       2651.751648 -212.751648  \n",
       "84                      NaN       2751.313752  -61.313752  "
      ]
     },
     "execution_count": 469,
     "metadata": {},
     "output_type": "execute_result"
    }
   ],
   "source": [
    "Indicateurs[(Indicateurs['fat_100g']>50) &(Indicateurs['fat_100g']<80)].head()"
   ]
  },
  {
   "cell_type": "code",
   "execution_count": 470,
   "id": "7192dde1",
   "metadata": {},
   "outputs": [],
   "source": [
    "nuts=['nut', 'almond', 'cashew','Cajun', 'hazelnut','Mixed Nuts', \n",
    "      'mix', 'macadamia', 'pecan', 'pine nuts', 'pistachio', 'walnut', \n",
    "      'peanuts','Pecan', 'Nut Mix', 'pumpkin seed', 'flax seed', 'sesame', 'poppy seed', 'sunflower seed', \n",
    "      'psyllium seed', 'chia seed', 'kernel', 'seeds']\n",
    "for n in nuts:\n",
    "    Indicateurs.loc[(Indicateurs['fat_100g']>50)\n",
    "                    &(Indicateurs['product_name'].str.contains(n, case=False)), 'pnns_groups_1']='Nuts and seeds'\n"
   ]
  },
  {
   "cell_type": "code",
   "execution_count": 471,
   "id": "480288f0",
   "metadata": {},
   "outputs": [
    {
     "data": {
      "text/plain": [
       "unknown                           1477\n",
       "Nuts and seeds                    1314\n",
       "Fat and sauces                     706\n",
       "Groceries                          280\n",
       "Salty snacks                       233\n",
       "Salted spreads                     107\n",
       "Fish Meat Eggs                      87\n",
       "Spreads                             79\n",
       "Sugary snacks                       74\n",
       "Fruits and vegetables               40\n",
       "Plant based food and beverages      32\n",
       "Cereals and potatoes                15\n",
       "Canned foods                        11\n",
       "Condiments                          10\n",
       "Milk and dairy products              7\n",
       "Appetizers                           4\n",
       "Composite foods                      1\n",
       "Snacks                               1\n",
       "Breakfast cereals                    1\n",
       "Spices                               1\n",
       "Name: pnns_groups_1, dtype: int64"
      ]
     },
     "execution_count": 471,
     "metadata": {},
     "output_type": "execute_result"
    }
   ],
   "source": [
    "Indicateurs[(Indicateurs['fat_100g']>50)]['pnns_groups_1'].value_counts()"
   ]
  },
  {
   "cell_type": "markdown",
   "id": "fbac2fe8",
   "metadata": {},
   "source": [
    "J'essaie de categoriser un peu plus les produits a forte contenance en matiere grasse"
   ]
  },
  {
   "cell_type": "code",
   "execution_count": 472,
   "id": "df80578b",
   "metadata": {},
   "outputs": [
    {
     "data": {
      "text/html": [
       "<div>\n",
       "<style scoped>\n",
       "    .dataframe tbody tr th:only-of-type {\n",
       "        vertical-align: middle;\n",
       "    }\n",
       "\n",
       "    .dataframe tbody tr th {\n",
       "        vertical-align: top;\n",
       "    }\n",
       "\n",
       "    .dataframe thead th {\n",
       "        text-align: right;\n",
       "    }\n",
       "</style>\n",
       "<table border=\"1\" class=\"dataframe\">\n",
       "  <thead>\n",
       "    <tr style=\"text-align: right;\">\n",
       "      <th></th>\n",
       "      <th>code</th>\n",
       "      <th>product_name</th>\n",
       "      <th>countries_tags</th>\n",
       "      <th>pnns_groups_1</th>\n",
       "      <th>energy_100g</th>\n",
       "      <th>fat_100g</th>\n",
       "      <th>saturated-fat_100g</th>\n",
       "      <th>cholesterol_100g</th>\n",
       "      <th>carbohydrates_100g</th>\n",
       "      <th>sugars_100g</th>\n",
       "      <th>fiber_100g</th>\n",
       "      <th>proteins_100g</th>\n",
       "      <th>sodium_100g</th>\n",
       "      <th>nutrition-score-fr_100g</th>\n",
       "      <th>energie-calculee</th>\n",
       "      <th>difference</th>\n",
       "    </tr>\n",
       "  </thead>\n",
       "  <tbody>\n",
       "    <tr>\n",
       "      <th>9</th>\n",
       "      <td>16513</td>\n",
       "      <td>Organic Sunflower Oil</td>\n",
       "      <td>en:united-states</td>\n",
       "      <td>unknown</td>\n",
       "      <td>3586.0</td>\n",
       "      <td>100.00</td>\n",
       "      <td>7.14</td>\n",
       "      <td>NaN</td>\n",
       "      <td>NaN</td>\n",
       "      <td>NaN</td>\n",
       "      <td>NaN</td>\n",
       "      <td>NaN</td>\n",
       "      <td>NaN</td>\n",
       "      <td>NaN</td>\n",
       "      <td>NaN</td>\n",
       "      <td>NaN</td>\n",
       "    </tr>\n",
       "    <tr>\n",
       "      <th>96</th>\n",
       "      <td>35071</td>\n",
       "      <td>Organic Extra Virgin Olive Oil</td>\n",
       "      <td>en:united-states</td>\n",
       "      <td>unknown</td>\n",
       "      <td>3586.0</td>\n",
       "      <td>100.00</td>\n",
       "      <td>14.29</td>\n",
       "      <td>NaN</td>\n",
       "      <td>NaN</td>\n",
       "      <td>NaN</td>\n",
       "      <td>NaN</td>\n",
       "      <td>NaN</td>\n",
       "      <td>NaN</td>\n",
       "      <td>NaN</td>\n",
       "      <td>NaN</td>\n",
       "      <td>NaN</td>\n",
       "    </tr>\n",
       "    <tr>\n",
       "      <th>255</th>\n",
       "      <td>111048403</td>\n",
       "      <td>100% Pure Canola Oil</td>\n",
       "      <td>en:united-states</td>\n",
       "      <td>unknown</td>\n",
       "      <td>3586.0</td>\n",
       "      <td>100.00</td>\n",
       "      <td>7.14</td>\n",
       "      <td>NaN</td>\n",
       "      <td>0.0</td>\n",
       "      <td>NaN</td>\n",
       "      <td>NaN</td>\n",
       "      <td>0.0</td>\n",
       "      <td>0.000</td>\n",
       "      <td>NaN</td>\n",
       "      <td>3768.120000</td>\n",
       "      <td>-182.120000</td>\n",
       "    </tr>\n",
       "    <tr>\n",
       "      <th>256</th>\n",
       "      <td>111301201</td>\n",
       "      <td>Original Buttery Spread</td>\n",
       "      <td>en:united-states</td>\n",
       "      <td>unknown</td>\n",
       "      <td>2690.0</td>\n",
       "      <td>71.43</td>\n",
       "      <td>10.71</td>\n",
       "      <td>0.0</td>\n",
       "      <td>0.0</td>\n",
       "      <td>0.0</td>\n",
       "      <td>0.0</td>\n",
       "      <td>0.0</td>\n",
       "      <td>0.714</td>\n",
       "      <td>25.0</td>\n",
       "      <td>2691.568116</td>\n",
       "      <td>-1.568116</td>\n",
       "    </tr>\n",
       "    <tr>\n",
       "      <th>257</th>\n",
       "      <td>111301263</td>\n",
       "      <td>Buttery Spread, With Flaxseed Oil</td>\n",
       "      <td>en:united-states</td>\n",
       "      <td>unknown</td>\n",
       "      <td>2389.0</td>\n",
       "      <td>57.14</td>\n",
       "      <td>10.71</td>\n",
       "      <td>0.0</td>\n",
       "      <td>0.0</td>\n",
       "      <td>0.0</td>\n",
       "      <td>0.0</td>\n",
       "      <td>0.0</td>\n",
       "      <td>0.536</td>\n",
       "      <td>22.0</td>\n",
       "      <td>2153.103768</td>\n",
       "      <td>235.896232</td>\n",
       "    </tr>\n",
       "  </tbody>\n",
       "</table>\n",
       "</div>"
      ],
      "text/plain": [
       "          code                       product_name    countries_tags  \\\n",
       "9        16513              Organic Sunflower Oil  en:united-states   \n",
       "96       35071     Organic Extra Virgin Olive Oil  en:united-states   \n",
       "255  111048403               100% Pure Canola Oil  en:united-states   \n",
       "256  111301201            Original Buttery Spread  en:united-states   \n",
       "257  111301263  Buttery Spread, With Flaxseed Oil  en:united-states   \n",
       "\n",
       "    pnns_groups_1  energy_100g  fat_100g  saturated-fat_100g  \\\n",
       "9         unknown       3586.0    100.00                7.14   \n",
       "96        unknown       3586.0    100.00               14.29   \n",
       "255       unknown       3586.0    100.00                7.14   \n",
       "256       unknown       2690.0     71.43               10.71   \n",
       "257       unknown       2389.0     57.14               10.71   \n",
       "\n",
       "     cholesterol_100g  carbohydrates_100g  sugars_100g  fiber_100g  \\\n",
       "9                 NaN                 NaN          NaN         NaN   \n",
       "96                NaN                 NaN          NaN         NaN   \n",
       "255               NaN                 0.0          NaN         NaN   \n",
       "256               0.0                 0.0          0.0         0.0   \n",
       "257               0.0                 0.0          0.0         0.0   \n",
       "\n",
       "     proteins_100g  sodium_100g  nutrition-score-fr_100g  energie-calculee  \\\n",
       "9              NaN          NaN                      NaN               NaN   \n",
       "96             NaN          NaN                      NaN               NaN   \n",
       "255            0.0        0.000                      NaN       3768.120000   \n",
       "256            0.0        0.714                     25.0       2691.568116   \n",
       "257            0.0        0.536                     22.0       2153.103768   \n",
       "\n",
       "     difference  \n",
       "9           NaN  \n",
       "96          NaN  \n",
       "255 -182.120000  \n",
       "256   -1.568116  \n",
       "257  235.896232  "
      ]
     },
     "execution_count": 472,
     "metadata": {},
     "output_type": "execute_result"
    }
   ],
   "source": [
    "Acateg=Indicateurs[(Indicateurs['fat_100g']>50)&(Indicateurs['pnns_groups_1']=='unknown')]\n",
    "Acateg.head(5)"
   ]
  },
  {
   "cell_type": "markdown",
   "id": "8294fd51",
   "metadata": {},
   "source": [
    "### Les categories par nom de produit et taux de matiere grasse\n"
   ]
  },
  {
   "cell_type": "code",
   "execution_count": 473,
   "id": "160c4179",
   "metadata": {},
   "outputs": [],
   "source": [
    "spread=['spread', 'tartiner', 'peanut butter']\n",
    "for s in spread:\n",
    "    Indicateurs.loc[(Indicateurs['code'].isin(Acateg['code'])) & (Indicateurs['product_name'].str.contains(s, case=False)), 'pnns_groups_1']='Spreads'\n"
   ]
  },
  {
   "cell_type": "code",
   "execution_count": 474,
   "id": "acacdfd8",
   "metadata": {},
   "outputs": [],
   "source": [
    "oils=['Oil', 'Huile', 'Shortening', 'Butter', 'Beurre', 'Ghee', 'Lard', 'Tallow', 'Fat', \"olive\", 'coco', 'sauce', 'Marinade', 'canola'\n",
    "    'Dressing', 'Aioli', 'Seasoning', 'salsa', 'tahini','Tahina ', 'Margarine', 'dip']\n",
    "for o in oils:\n",
    "    Indicateurs.loc[(Indicateurs['code'].isin(Acateg['code'])) & (Indicateurs['product_name'].str.contains(o, case=False)), 'pnns_groups_1']='Fat and sauces'\n"
   ]
  },
  {
   "cell_type": "code",
   "execution_count": 475,
   "id": "96c41ef2",
   "metadata": {},
   "outputs": [],
   "source": [
    "Indicateurs.loc[(Indicateurs['code'].isin(Acateg['code'])) & (Indicateurs['product_name'].str.contains('dressing', case=False)), 'pnns_groups_1']='Fat and sauces'\n"
   ]
  },
  {
   "cell_type": "code",
   "execution_count": 476,
   "id": "d7bc4b31",
   "metadata": {},
   "outputs": [],
   "source": [
    "sugar=['chocolate', 'Truffles','Cacao', 'Cookies']\n",
    "for s in sugar:\n",
    "    Indicateurs.loc[(Indicateurs['code'].isin(Acateg['code'])) & (Indicateurs['product_name'].str.contains(s, case=False)), 'pnns_groups_1']='Sugary snacks'\n"
   ]
  },
  {
   "cell_type": "code",
   "execution_count": 477,
   "id": "536fad34",
   "metadata": {},
   "outputs": [],
   "source": [
    "condim=['Mayo', 'Vinaigrette','pesto','Balsamic','Mustard','Lemonaise']\n",
    "for c in condim:\n",
    "    Indicateurs.loc[(Indicateurs['code'].isin(Acateg['code'])) & (Indicateurs['product_name'].str.contains(c, case=False)), 'pnns_groups_1']='Condiments'\n"
   ]
  },
  {
   "cell_type": "code",
   "execution_count": 478,
   "id": "4277d3fc",
   "metadata": {},
   "outputs": [],
   "source": [
    "meat=['Bacon','Pork','Pepperoni','Sausage','meat']\n",
    "for m in meat:\n",
    "    Indicateurs.loc[(Indicateurs['code'].isin(Acateg['code'])) & (Indicateurs['product_name'].str.contains(m, case=False)), 'pnns_groups_1']='Fish Meat Eggs'\n"
   ]
  },
  {
   "cell_type": "code",
   "execution_count": 479,
   "id": "d07b9054",
   "metadata": {},
   "outputs": [],
   "source": [
    "snack=['popcorn', 'pop corn','Pop Corn']\n",
    "for s in snacks:\n",
    "    Indicateurs.loc[(Indicateurs['code'].isin(Acateg['code'])) & (Indicateurs['product_name'].str.contains(s, case=False)), 'pnns_groups_1']='Salty snacks'"
   ]
  },
  {
   "cell_type": "code",
   "execution_count": 480,
   "id": "3d555d9a",
   "metadata": {},
   "outputs": [],
   "source": [
    "cheese=['cheese', 'cream', 'milk']\n",
    "for c in cheese:\n",
    "    Indicateurs.loc[(Indicateurs['code'].isin(Acateg['code'])) & (Indicateurs['product_name'].str.contains(c, case=False)), 'pnns_groups_1']='Milk and dairy products'"
   ]
  },
  {
   "cell_type": "code",
   "execution_count": 481,
   "id": "9298c3b1",
   "metadata": {},
   "outputs": [],
   "source": [
    "breakfast=['granola', 'flake', 'cereal']\n",
    "for b in breakfast:\n",
    "    Indicateurs.loc[(Indicateurs['code'].isin(Acateg['code'])) & (Indicateurs['product_name'].str.contains(b, case=False)), 'pnns_groups_1']='Breakfast cereals'"
   ]
  },
  {
   "cell_type": "code",
   "execution_count": 482,
   "id": "f91ceb63",
   "metadata": {},
   "outputs": [],
   "source": [
    "beverage=['Cappuccino']\n",
    "for b in beverage:\n",
    "    Indicateurs.loc[(Indicateurs['code'].isin(Acateg['code'])) & (Indicateurs['product_name'].str.contains(b, case=False)), 'pnns_groups_1']='Beverages'"
   ]
  },
  {
   "cell_type": "markdown",
   "id": "560fe4de",
   "metadata": {},
   "source": [
    "#### Apres l'ajout des categories des matieres grasses:"
   ]
  },
  {
   "cell_type": "code",
   "execution_count": 483,
   "id": "1f8db778",
   "metadata": {},
   "outputs": [
    {
     "data": {
      "text/plain": [
       "Fat and sauces                    1472\n",
       "Nuts and seeds                    1314\n",
       "Groceries                          280\n",
       "unknown                            263\n",
       "Salty snacks                       243\n",
       "Condiments                         216\n",
       "Sugary snacks                      141\n",
       "Fish Meat Eggs                     130\n",
       "Salted spreads                     107\n",
       "Spreads                            102\n",
       "Milk and dairy products             98\n",
       "Fruits and vegetables               40\n",
       "Plant based food and beverages      32\n",
       "Cereals and potatoes                15\n",
       "Canned foods                        11\n",
       "Breakfast cereals                    5\n",
       "Beverages                            4\n",
       "Appetizers                           4\n",
       "Composite foods                      1\n",
       "Snacks                               1\n",
       "Spices                               1\n",
       "Name: pnns_groups_1, dtype: int64"
      ]
     },
     "execution_count": 483,
     "metadata": {},
     "output_type": "execute_result"
    }
   ],
   "source": [
    "Indicateurs[Indicateurs['fat_100g']>50]['pnns_groups_1'].value_counts()"
   ]
  },
  {
   "cell_type": "markdown",
   "id": "77a743cd",
   "metadata": {},
   "source": [
    "### Valeurs aberrantes dans la colonne saturated-fat_100g\n"
   ]
  },
  {
   "cell_type": "code",
   "execution_count": 484,
   "id": "6b57146b",
   "metadata": {},
   "outputs": [
    {
     "data": {
      "text/plain": [
       "count    176833.000000\n",
       "mean          5.027036\n",
       "std           7.537949\n",
       "min           0.000000\n",
       "25%           0.000000\n",
       "50%           2.000000\n",
       "75%           7.140000\n",
       "max         175.380000\n",
       "Name: saturated-fat_100g, dtype: float64"
      ]
     },
     "execution_count": 484,
     "metadata": {},
     "output_type": "execute_result"
    }
   ],
   "source": [
    "Indicateurs['saturated-fat_100g'].describe()"
   ]
  },
  {
   "cell_type": "code",
   "execution_count": 485,
   "id": "b357d668",
   "metadata": {},
   "outputs": [
    {
     "data": {
      "text/plain": [
       "<AxesSubplot:xlabel='saturated-fat_100g'>"
      ]
     },
     "execution_count": 485,
     "metadata": {},
     "output_type": "execute_result"
    },
    {
     "data": {
      "image/png": "[encoded data removed]",
      "text/plain": [
       "<Figure size 432x288 with 1 Axes>"
      ]
     },
     "metadata": {
      "needs_background": "light"
     },
     "output_type": "display_data"
    }
   ],
   "source": [
    "sns.boxplot(data=Indicateurs, x='saturated-fat_100g')"
   ]
  },
  {
   "cell_type": "markdown",
   "id": "9e242f95",
   "metadata": {},
   "source": [
    "Je commence par eliminer les valeurs aberrates >100"
   ]
  },
  {
   "cell_type": "code",
   "execution_count": 486,
   "id": "f5b6a5f3",
   "metadata": {},
   "outputs": [
    {
     "data": {
      "text/html": [
       "<div>\n",
       "<style scoped>\n",
       "    .dataframe tbody tr th:only-of-type {\n",
       "        vertical-align: middle;\n",
       "    }\n",
       "\n",
       "    .dataframe tbody tr th {\n",
       "        vertical-align: top;\n",
       "    }\n",
       "\n",
       "    .dataframe thead th {\n",
       "        text-align: right;\n",
       "    }\n",
       "</style>\n",
       "<table border=\"1\" class=\"dataframe\">\n",
       "  <thead>\n",
       "    <tr style=\"text-align: right;\">\n",
       "      <th></th>\n",
       "      <th>code</th>\n",
       "      <th>product_name</th>\n",
       "      <th>countries_tags</th>\n",
       "      <th>pnns_groups_1</th>\n",
       "      <th>energy_100g</th>\n",
       "      <th>fat_100g</th>\n",
       "      <th>saturated-fat_100g</th>\n",
       "      <th>cholesterol_100g</th>\n",
       "      <th>carbohydrates_100g</th>\n",
       "      <th>sugars_100g</th>\n",
       "      <th>fiber_100g</th>\n",
       "      <th>proteins_100g</th>\n",
       "      <th>sodium_100g</th>\n",
       "      <th>nutrition-score-fr_100g</th>\n",
       "      <th>energie-calculee</th>\n",
       "      <th>difference</th>\n",
       "    </tr>\n",
       "  </thead>\n",
       "  <tbody>\n",
       "    <tr>\n",
       "      <th>119389</th>\n",
       "      <td>626853108894</td>\n",
       "      <td>Raw 100% Cacao, With Bits Of Delicate Dates</td>\n",
       "      <td>en:united-states</td>\n",
       "      <td>unknown</td>\n",
       "      <td>NaN</td>\n",
       "      <td>NaN</td>\n",
       "      <td>175.38</td>\n",
       "      <td>0.0</td>\n",
       "      <td>80.0</td>\n",
       "      <td>NaN</td>\n",
       "      <td>15.4</td>\n",
       "      <td>33.85</td>\n",
       "      <td>0.046</td>\n",
       "      <td>NaN</td>\n",
       "      <td>NaN</td>\n",
       "      <td>NaN</td>\n",
       "    </tr>\n",
       "  </tbody>\n",
       "</table>\n",
       "</div>"
      ],
      "text/plain": [
       "                code                                 product_name  \\\n",
       "119389  626853108894  Raw 100% Cacao, With Bits Of Delicate Dates   \n",
       "\n",
       "          countries_tags pnns_groups_1  energy_100g  fat_100g  \\\n",
       "119389  en:united-states       unknown          NaN       NaN   \n",
       "\n",
       "        saturated-fat_100g  cholesterol_100g  carbohydrates_100g  sugars_100g  \\\n",
       "119389              175.38               0.0                80.0          NaN   \n",
       "\n",
       "        fiber_100g  proteins_100g  sodium_100g  nutrition-score-fr_100g  \\\n",
       "119389        15.4          33.85        0.046                      NaN   \n",
       "\n",
       "        energie-calculee  difference  \n",
       "119389               NaN         NaN  "
      ]
     },
     "execution_count": 486,
     "metadata": {},
     "output_type": "execute_result"
    }
   ],
   "source": [
    "Indicateurs.loc[Indicateurs['saturated-fat_100g']>100]"
   ]
  },
  {
   "cell_type": "code",
   "execution_count": 487,
   "id": "8e67c01d",
   "metadata": {},
   "outputs": [],
   "source": [
    "Indicateurs.drop(index=119389, inplace=True)"
   ]
  },
  {
   "cell_type": "code",
   "execution_count": 488,
   "id": "c369ff85",
   "metadata": {},
   "outputs": [
    {
     "data": {
      "text/plain": [
       "<AxesSubplot:xlabel='saturated-fat_100g'>"
      ]
     },
     "execution_count": 488,
     "metadata": {},
     "output_type": "execute_result"
    },
    {
     "data": {
      "image/png": "[encoded data removed]",
      "text/plain": [
       "<Figure size 432x288 with 1 Axes>"
      ]
     },
     "metadata": {
      "needs_background": "light"
     },
     "output_type": "display_data"
    }
   ],
   "source": [
    "sns.boxplot(data=Indicateurs, x='saturated-fat_100g')"
   ]
  },
  {
   "cell_type": "code",
   "execution_count": 489,
   "id": "3126e360",
   "metadata": {},
   "outputs": [
    {
     "data": {
      "text/plain": [
       "Fat and sauces             362\n",
       "unknown                    165\n",
       "Nuts and seeds              95\n",
       "Fruits and vegetables       15\n",
       "Sugary snacks                6\n",
       "Salty snacks                 5\n",
       "Milk and dairy products      5\n",
       "Breakfast cereals            2\n",
       "Cereals and potatoes         1\n",
       "Groceries                    1\n",
       "Beverages                    1\n",
       "Spreads                      1\n",
       "Salted spreads               1\n",
       "Name: pnns_groups_1, dtype: int64"
      ]
     },
     "execution_count": 489,
     "metadata": {},
     "output_type": "execute_result"
    }
   ],
   "source": [
    "Indicateurs[Indicateurs['saturated-fat_100g']>50]['pnns_groups_1'].value_counts()"
   ]
  },
  {
   "cell_type": "code",
   "execution_count": 490,
   "id": "1adcdd89",
   "metadata": {},
   "outputs": [],
   "source": [
    "sat_fat=Indicateurs[Indicateurs['saturated-fat_100g']>50]"
   ]
  },
  {
   "cell_type": "markdown",
   "id": "0f464dd2",
   "metadata": {},
   "source": [
    "Il est normale d'avoir une grande valeur de saturated fat si la valeur de fat est egalement grande. Nous allons donc simplement regelrr le probleme si les valeurs des 2 variables de sont pas homogene (fat<saturated-fat)"
   ]
  },
  {
   "cell_type": "code",
   "execution_count": 491,
   "id": "574a0591",
   "metadata": {},
   "outputs": [
    {
     "data": {
      "text/html": [
       "<div>\n",
       "<style scoped>\n",
       "    .dataframe tbody tr th:only-of-type {\n",
       "        vertical-align: middle;\n",
       "    }\n",
       "\n",
       "    .dataframe tbody tr th {\n",
       "        vertical-align: top;\n",
       "    }\n",
       "\n",
       "    .dataframe thead th {\n",
       "        text-align: right;\n",
       "    }\n",
       "</style>\n",
       "<table border=\"1\" class=\"dataframe\">\n",
       "  <thead>\n",
       "    <tr style=\"text-align: right;\">\n",
       "      <th></th>\n",
       "      <th>fat_100g</th>\n",
       "      <th>saturated-fat_100g</th>\n",
       "    </tr>\n",
       "  </thead>\n",
       "  <tbody>\n",
       "    <tr>\n",
       "      <th>count</th>\n",
       "      <td>300.000000</td>\n",
       "      <td>300.00000</td>\n",
       "    </tr>\n",
       "    <tr>\n",
       "      <th>mean</th>\n",
       "      <td>6.197210</td>\n",
       "      <td>14.18431</td>\n",
       "    </tr>\n",
       "    <tr>\n",
       "      <th>std</th>\n",
       "      <td>10.719508</td>\n",
       "      <td>18.07712</td>\n",
       "    </tr>\n",
       "    <tr>\n",
       "      <th>min</th>\n",
       "      <td>0.000000</td>\n",
       "      <td>0.00100</td>\n",
       "    </tr>\n",
       "    <tr>\n",
       "      <th>25%</th>\n",
       "      <td>0.000000</td>\n",
       "      <td>1.00000</td>\n",
       "    </tr>\n",
       "    <tr>\n",
       "      <th>50%</th>\n",
       "      <td>1.760000</td>\n",
       "      <td>7.14000</td>\n",
       "    </tr>\n",
       "    <tr>\n",
       "      <th>75%</th>\n",
       "      <td>7.925000</td>\n",
       "      <td>20.00000</td>\n",
       "    </tr>\n",
       "    <tr>\n",
       "      <th>max</th>\n",
       "      <td>82.000000</td>\n",
       "      <td>98.00000</td>\n",
       "    </tr>\n",
       "  </tbody>\n",
       "</table>\n",
       "</div>"
      ],
      "text/plain": [
       "         fat_100g  saturated-fat_100g\n",
       "count  300.000000           300.00000\n",
       "mean     6.197210            14.18431\n",
       "std     10.719508            18.07712\n",
       "min      0.000000             0.00100\n",
       "25%      0.000000             1.00000\n",
       "50%      1.760000             7.14000\n",
       "75%      7.925000            20.00000\n",
       "max     82.000000            98.00000"
      ]
     },
     "execution_count": 491,
     "metadata": {},
     "output_type": "execute_result"
    }
   ],
   "source": [
    "Indicateurs.loc[(Indicateurs['saturated-fat_100g']>Indicateurs['fat_100g'])][['fat_100g', 'saturated-fat_100g']].describe()"
   ]
  },
  {
   "cell_type": "markdown",
   "id": "90bba77c",
   "metadata": {},
   "source": [
    "Pour ces valeurs je remplace la valeur saturated fat par fat"
   ]
  },
  {
   "cell_type": "code",
   "execution_count": 492,
   "id": "94ede04e",
   "metadata": {},
   "outputs": [],
   "source": [
    "problem=Indicateurs.loc[(Indicateurs['saturated-fat_100g']>Indicateurs['fat_100g'])]['code']\n",
    "Indicateurs.loc[Indicateurs['code'].isin(problem), 'saturated-fat_100g']=Indicateurs.loc[Indicateurs['code'].isin(problem), 'fat_100g']"
   ]
  },
  {
   "cell_type": "code",
   "execution_count": 493,
   "id": "875ea111",
   "metadata": {},
   "outputs": [
    {
     "data": {
      "text/plain": [
       "count    176832.000000\n",
       "mean          5.012523\n",
       "std           7.493896\n",
       "min           0.000000\n",
       "25%           0.000000\n",
       "50%           2.000000\n",
       "75%           7.140000\n",
       "max         100.000000\n",
       "Name: saturated-fat_100g, dtype: float64"
      ]
     },
     "execution_count": 493,
     "metadata": {},
     "output_type": "execute_result"
    }
   ],
   "source": [
    "Indicateurs['saturated-fat_100g'].describe()"
   ]
  },
  {
   "cell_type": "markdown",
   "id": "ac004a7b",
   "metadata": {},
   "source": [
    "## Valeurs aberrantes dans 'cholesterol_100g'"
   ]
  },
  {
   "cell_type": "code",
   "execution_count": 494,
   "id": "75892bd8",
   "metadata": {},
   "outputs": [
    {
     "data": {
      "text/plain": [
       "count    102046.000000\n",
       "mean          0.019761\n",
       "std           0.362628\n",
       "min           0.000000\n",
       "25%           0.000000\n",
       "50%           0.000000\n",
       "75%           0.023000\n",
       "max          95.238000\n",
       "Name: cholesterol_100g, dtype: float64"
      ]
     },
     "execution_count": 494,
     "metadata": {},
     "output_type": "execute_result"
    }
   ],
   "source": [
    "Indicateurs['cholesterol_100g'].describe()"
   ]
  },
  {
   "cell_type": "code",
   "execution_count": 495,
   "id": "7a37d47a",
   "metadata": {},
   "outputs": [
    {
     "data": {
      "text/plain": [
       "<AxesSubplot:xlabel='cholesterol_100g'>"
      ]
     },
     "execution_count": 495,
     "metadata": {},
     "output_type": "execute_result"
    },
    {
     "data": {
      "image/png": "[encoded data removed]",
      "text/plain": [
       "<Figure size 432x288 with 1 Axes>"
      ]
     },
     "metadata": {
      "needs_background": "light"
     },
     "output_type": "display_data"
    }
   ],
   "source": [
    "sns.boxplot(data=Indicateurs, x='cholesterol_100g')"
   ]
  },
  {
   "cell_type": "markdown",
   "id": "47babce1",
   "metadata": {},
   "source": [
    "Le cholesterol est normalement mesure en mg, les valeurs >1 sont probablement en mg au lieu de g, je les divise donc par 1000"
   ]
  },
  {
   "cell_type": "code",
   "execution_count": 496,
   "id": "6ff8222a",
   "metadata": {},
   "outputs": [],
   "source": [
    "Indicateurs.loc[Indicateurs['cholesterol_100g']>1,'cholesterol_100g']=Indicateurs.loc[Indicateurs['cholesterol_100g']>1,'cholesterol_100g']*0.001"
   ]
  },
  {
   "cell_type": "code",
   "execution_count": 497,
   "id": "5ce5a9f7",
   "metadata": {},
   "outputs": [
    {
     "data": {
      "text/plain": [
       "<AxesSubplot:xlabel='cholesterol_100g'>"
      ]
     },
     "execution_count": 497,
     "metadata": {},
     "output_type": "execute_result"
    },
    {
     "data": {
      "image/png": "[encoded data removed]",
      "text/plain": [
       "<Figure size 432x288 with 1 Axes>"
      ]
     },
     "metadata": {
      "needs_background": "light"
     },
     "output_type": "display_data"
    }
   ],
   "source": [
    "sns.boxplot(data=Indicateurs, x='cholesterol_100g')"
   ]
  },
  {
   "cell_type": "markdown",
   "id": "4fbeb8a8",
   "metadata": {},
   "source": [
    "## Valeurs aberrantes 'carbohydrates_100g'"
   ]
  },
  {
   "cell_type": "code",
   "execution_count": 498,
   "id": "f03fdc29",
   "metadata": {},
   "outputs": [
    {
     "data": {
      "text/plain": [
       "count    178532.000000\n",
       "mean         32.335959\n",
       "std          27.897826\n",
       "min           0.000000\n",
       "25%           7.000000\n",
       "50%          23.080000\n",
       "75%          57.140000\n",
       "max         100.000000\n",
       "Name: carbohydrates_100g, dtype: float64"
      ]
     },
     "execution_count": 498,
     "metadata": {},
     "output_type": "execute_result"
    }
   ],
   "source": [
    "Indicateurs['carbohydrates_100g'].describe()"
   ]
  },
  {
   "cell_type": "code",
   "execution_count": 499,
   "id": "4d569f1b",
   "metadata": {},
   "outputs": [
    {
     "data": {
      "text/plain": [
       "<AxesSubplot:xlabel='carbohydrates_100g'>"
      ]
     },
     "execution_count": 499,
     "metadata": {},
     "output_type": "execute_result"
    },
    {
     "data": {
      "image/png": "[encoded data removed]",
      "text/plain": [
       "<Figure size 432x288 with 1 Axes>"
      ]
     },
     "metadata": {
      "needs_background": "light"
     },
     "output_type": "display_data"
    }
   ],
   "source": [
    "sns.boxplot(data=Indicateurs, x='carbohydrates_100g')"
   ]
  },
  {
   "cell_type": "code",
   "execution_count": 500,
   "id": "bc312a2d",
   "metadata": {},
   "outputs": [],
   "source": [
    "Indicateurs.loc[Indicateurs['carbohydrates_100g']>100,'carbohydrates_100g']=100"
   ]
  },
  {
   "cell_type": "markdown",
   "id": "3ade188b",
   "metadata": {},
   "source": [
    "## Valeurs aberrantes 'sugars_100g'"
   ]
  },
  {
   "cell_type": "code",
   "execution_count": 501,
   "id": "e702ec4b",
   "metadata": {},
   "outputs": [
    {
     "data": {
      "text/plain": [
       "count    185529.000000\n",
       "mean         15.612674\n",
       "std          19.963270\n",
       "min         -17.860000\n",
       "25%           1.500000\n",
       "50%           6.150000\n",
       "75%          24.000000\n",
       "max         134.000000\n",
       "Name: sugars_100g, dtype: float64"
      ]
     },
     "execution_count": 501,
     "metadata": {},
     "output_type": "execute_result"
    }
   ],
   "source": [
    "Indicateurs['sugars_100g'].describe()"
   ]
  },
  {
   "cell_type": "code",
   "execution_count": 502,
   "id": "cb18791f",
   "metadata": {},
   "outputs": [
    {
     "data": {
      "text/plain": [
       "<AxesSubplot:xlabel='sugars_100g'>"
      ]
     },
     "execution_count": 502,
     "metadata": {},
     "output_type": "execute_result"
    },
    {
     "data": {
      "image/png": "[encoded data removed]",
      "text/plain": [
       "<Figure size 432x288 with 1 Axes>"
      ]
     },
     "metadata": {
      "needs_background": "light"
     },
     "output_type": "display_data"
    }
   ],
   "source": [
    "sns.boxplot(data=Indicateurs, x='sugars_100g')"
   ]
  },
  {
   "cell_type": "code",
   "execution_count": 503,
   "id": "edbad314",
   "metadata": {},
   "outputs": [],
   "source": [
    "Indicateurs.loc[Indicateurs['sugars_100g']<0, 'sugars_100g']=np.nan"
   ]
  },
  {
   "cell_type": "code",
   "execution_count": 504,
   "id": "fbebaf1e",
   "metadata": {},
   "outputs": [
    {
     "data": {
      "text/html": [
       "<div>\n",
       "<style scoped>\n",
       "    .dataframe tbody tr th:only-of-type {\n",
       "        vertical-align: middle;\n",
       "    }\n",
       "\n",
       "    .dataframe tbody tr th {\n",
       "        vertical-align: top;\n",
       "    }\n",
       "\n",
       "    .dataframe thead th {\n",
       "        text-align: right;\n",
       "    }\n",
       "</style>\n",
       "<table border=\"1\" class=\"dataframe\">\n",
       "  <thead>\n",
       "    <tr style=\"text-align: right;\">\n",
       "      <th></th>\n",
       "      <th>code</th>\n",
       "      <th>product_name</th>\n",
       "      <th>countries_tags</th>\n",
       "      <th>pnns_groups_1</th>\n",
       "      <th>energy_100g</th>\n",
       "      <th>fat_100g</th>\n",
       "      <th>saturated-fat_100g</th>\n",
       "      <th>cholesterol_100g</th>\n",
       "      <th>carbohydrates_100g</th>\n",
       "      <th>sugars_100g</th>\n",
       "      <th>fiber_100g</th>\n",
       "      <th>proteins_100g</th>\n",
       "      <th>sodium_100g</th>\n",
       "      <th>nutrition-score-fr_100g</th>\n",
       "      <th>energie-calculee</th>\n",
       "      <th>difference</th>\n",
       "    </tr>\n",
       "  </thead>\n",
       "  <tbody>\n",
       "    <tr>\n",
       "      <th>111566</th>\n",
       "      <td>01364008</td>\n",
       "      <td>Tomato Ketchup</td>\n",
       "      <td>en:united-states</td>\n",
       "      <td>Groceries</td>\n",
       "      <td>2510.0</td>\n",
       "      <td>0.588</td>\n",
       "      <td>0.588</td>\n",
       "      <td>0.0</td>\n",
       "      <td>NaN</td>\n",
       "      <td>134.00</td>\n",
       "      <td>0.0</td>\n",
       "      <td>7.060</td>\n",
       "      <td>0.00417</td>\n",
       "      <td>17.0</td>\n",
       "      <td>NaN</td>\n",
       "      <td>NaN</td>\n",
       "    </tr>\n",
       "    <tr>\n",
       "      <th>133567</th>\n",
       "      <td>720118181216</td>\n",
       "      <td>Mango Jalapeno</td>\n",
       "      <td>en:united-states</td>\n",
       "      <td>unknown</td>\n",
       "      <td>1941.0</td>\n",
       "      <td>0.000</td>\n",
       "      <td>0.000</td>\n",
       "      <td>NaN</td>\n",
       "      <td>NaN</td>\n",
       "      <td>110.71</td>\n",
       "      <td>7.1</td>\n",
       "      <td>NaN</td>\n",
       "      <td>NaN</td>\n",
       "      <td>NaN</td>\n",
       "      <td>NaN</td>\n",
       "      <td>NaN</td>\n",
       "    </tr>\n",
       "    <tr>\n",
       "      <th>202571</th>\n",
       "      <td>3229820787909</td>\n",
       "      <td>Sirop d'Agave brun bio</td>\n",
       "      <td>en:france</td>\n",
       "      <td>Sweeteners</td>\n",
       "      <td>1760.0</td>\n",
       "      <td>0.000</td>\n",
       "      <td>0.000</td>\n",
       "      <td>NaN</td>\n",
       "      <td>100.0</td>\n",
       "      <td>104.00</td>\n",
       "      <td>0.0</td>\n",
       "      <td>0.000</td>\n",
       "      <td>0.05510</td>\n",
       "      <td>15.0</td>\n",
       "      <td>1674.720000</td>\n",
       "      <td>85.280000</td>\n",
       "    </tr>\n",
       "    <tr>\n",
       "      <th>239347</th>\n",
       "      <td>3560070740338</td>\n",
       "      <td>Sirop d'agave</td>\n",
       "      <td>en:france</td>\n",
       "      <td>Sugary snacks</td>\n",
       "      <td>1785.0</td>\n",
       "      <td>NaN</td>\n",
       "      <td>NaN</td>\n",
       "      <td>NaN</td>\n",
       "      <td>100.0</td>\n",
       "      <td>105.00</td>\n",
       "      <td>NaN</td>\n",
       "      <td>NaN</td>\n",
       "      <td>NaN</td>\n",
       "      <td>NaN</td>\n",
       "      <td>NaN</td>\n",
       "      <td>NaN</td>\n",
       "    </tr>\n",
       "    <tr>\n",
       "      <th>260598</th>\n",
       "      <td>4016249014940</td>\n",
       "      <td>Agave Syrup dark</td>\n",
       "      <td>en:germany</td>\n",
       "      <td>Sweeteners</td>\n",
       "      <td>1760.0</td>\n",
       "      <td>1.000</td>\n",
       "      <td>1.000</td>\n",
       "      <td>NaN</td>\n",
       "      <td>100.0</td>\n",
       "      <td>103.50</td>\n",
       "      <td>NaN</td>\n",
       "      <td>1.000</td>\n",
       "      <td>0.03937</td>\n",
       "      <td>15.0</td>\n",
       "      <td>1729.148400</td>\n",
       "      <td>30.851600</td>\n",
       "    </tr>\n",
       "    <tr>\n",
       "      <th>260599</th>\n",
       "      <td>4016249015732</td>\n",
       "      <td>Sirop d agave pur</td>\n",
       "      <td>en:france</td>\n",
       "      <td>Sweeteners</td>\n",
       "      <td>1760.0</td>\n",
       "      <td>1.000</td>\n",
       "      <td>0.100</td>\n",
       "      <td>NaN</td>\n",
       "      <td>100.0</td>\n",
       "      <td>103.50</td>\n",
       "      <td>NaN</td>\n",
       "      <td>1.000</td>\n",
       "      <td>0.03937</td>\n",
       "      <td>15.0</td>\n",
       "      <td>1729.148400</td>\n",
       "      <td>30.851600</td>\n",
       "    </tr>\n",
       "    <tr>\n",
       "      <th>260611</th>\n",
       "      <td>4016249696122</td>\n",
       "      <td>Agavendicksaft</td>\n",
       "      <td>en:germany</td>\n",
       "      <td>Sweeteners</td>\n",
       "      <td>1760.0</td>\n",
       "      <td>1.000</td>\n",
       "      <td>0.100</td>\n",
       "      <td>NaN</td>\n",
       "      <td>100.0</td>\n",
       "      <td>103.50</td>\n",
       "      <td>NaN</td>\n",
       "      <td>1.000</td>\n",
       "      <td>0.03937</td>\n",
       "      <td>15.0</td>\n",
       "      <td>1729.148400</td>\n",
       "      <td>30.851600</td>\n",
       "    </tr>\n",
       "    <tr>\n",
       "      <th>265110</th>\n",
       "      <td>4305615359281</td>\n",
       "      <td>Agavendicksaft Dunkel</td>\n",
       "      <td>en:germany</td>\n",
       "      <td>Sweeteners</td>\n",
       "      <td>1756.0</td>\n",
       "      <td>0.100</td>\n",
       "      <td>0.000</td>\n",
       "      <td>NaN</td>\n",
       "      <td>100.0</td>\n",
       "      <td>103.00</td>\n",
       "      <td>0.1</td>\n",
       "      <td>0.013</td>\n",
       "      <td>NaN</td>\n",
       "      <td>NaN</td>\n",
       "      <td>1678.705834</td>\n",
       "      <td>77.294166</td>\n",
       "    </tr>\n",
       "  </tbody>\n",
       "</table>\n",
       "</div>"
      ],
      "text/plain": [
       "                 code            product_name    countries_tags  \\\n",
       "111566       01364008          Tomato Ketchup  en:united-states   \n",
       "133567   720118181216          Mango Jalapeno  en:united-states   \n",
       "202571  3229820787909  Sirop d'Agave brun bio         en:france   \n",
       "239347  3560070740338           Sirop d'agave         en:france   \n",
       "260598  4016249014940        Agave Syrup dark        en:germany   \n",
       "260599  4016249015732       Sirop d agave pur         en:france   \n",
       "260611  4016249696122          Agavendicksaft        en:germany   \n",
       "265110  4305615359281   Agavendicksaft Dunkel        en:germany   \n",
       "\n",
       "        pnns_groups_1  energy_100g  fat_100g  saturated-fat_100g  \\\n",
       "111566      Groceries       2510.0     0.588               0.588   \n",
       "133567        unknown       1941.0     0.000               0.000   \n",
       "202571     Sweeteners       1760.0     0.000               0.000   \n",
       "239347  Sugary snacks       1785.0       NaN                 NaN   \n",
       "260598     Sweeteners       1760.0     1.000               1.000   \n",
       "260599     Sweeteners       1760.0     1.000               0.100   \n",
       "260611     Sweeteners       1760.0     1.000               0.100   \n",
       "265110     Sweeteners       1756.0     0.100               0.000   \n",
       "\n",
       "        cholesterol_100g  carbohydrates_100g  sugars_100g  fiber_100g  \\\n",
       "111566               0.0                 NaN       134.00         0.0   \n",
       "133567               NaN                 NaN       110.71         7.1   \n",
       "202571               NaN               100.0       104.00         0.0   \n",
       "239347               NaN               100.0       105.00         NaN   \n",
       "260598               NaN               100.0       103.50         NaN   \n",
       "260599               NaN               100.0       103.50         NaN   \n",
       "260611               NaN               100.0       103.50         NaN   \n",
       "265110               NaN               100.0       103.00         0.1   \n",
       "\n",
       "        proteins_100g  sodium_100g  nutrition-score-fr_100g  energie-calculee  \\\n",
       "111566          7.060      0.00417                     17.0               NaN   \n",
       "133567            NaN          NaN                      NaN               NaN   \n",
       "202571          0.000      0.05510                     15.0       1674.720000   \n",
       "239347            NaN          NaN                      NaN               NaN   \n",
       "260598          1.000      0.03937                     15.0       1729.148400   \n",
       "260599          1.000      0.03937                     15.0       1729.148400   \n",
       "260611          1.000      0.03937                     15.0       1729.148400   \n",
       "265110          0.013          NaN                      NaN       1678.705834   \n",
       "\n",
       "        difference  \n",
       "111566         NaN  \n",
       "133567         NaN  \n",
       "202571   85.280000  \n",
       "239347         NaN  \n",
       "260598   30.851600  \n",
       "260599   30.851600  \n",
       "260611   30.851600  \n",
       "265110   77.294166  "
      ]
     },
     "execution_count": 504,
     "metadata": {},
     "output_type": "execute_result"
    }
   ],
   "source": [
    "Indicateurs.loc[Indicateurs['sugars_100g']>100]"
   ]
  },
  {
   "cell_type": "code",
   "execution_count": 505,
   "id": "417f91a0",
   "metadata": {},
   "outputs": [],
   "source": [
    "pb=['01364008', '720118181216', '840228113270']\n",
    "Indicateurs.loc[Indicateurs['code'].isin(pb),'sugars_100g']=np.nan"
   ]
  },
  {
   "cell_type": "code",
   "execution_count": 506,
   "id": "75e0f3b4",
   "metadata": {},
   "outputs": [],
   "source": [
    "Indicateurs.loc[Indicateurs['sugars_100g']>100,'sugars_100g']=100"
   ]
  },
  {
   "cell_type": "markdown",
   "id": "510a7906",
   "metadata": {},
   "source": [
    "Les produits avec 100g de sucre sont du sucre ou des bonbons, on leur ajoute conc a leur categorie"
   ]
  },
  {
   "cell_type": "code",
   "execution_count": 509,
   "id": "18619cfe",
   "metadata": {},
   "outputs": [
    {
     "data": {
      "text/html": [
       "<div>\n",
       "<style scoped>\n",
       "    .dataframe tbody tr th:only-of-type {\n",
       "        vertical-align: middle;\n",
       "    }\n",
       "\n",
       "    .dataframe tbody tr th {\n",
       "        vertical-align: top;\n",
       "    }\n",
       "\n",
       "    .dataframe thead th {\n",
       "        text-align: right;\n",
       "    }\n",
       "</style>\n",
       "<table border=\"1\" class=\"dataframe\">\n",
       "  <thead>\n",
       "    <tr style=\"text-align: right;\">\n",
       "      <th></th>\n",
       "      <th>code</th>\n",
       "      <th>product_name</th>\n",
       "      <th>countries_tags</th>\n",
       "      <th>pnns_groups_1</th>\n",
       "      <th>energy_100g</th>\n",
       "      <th>fat_100g</th>\n",
       "      <th>saturated-fat_100g</th>\n",
       "      <th>cholesterol_100g</th>\n",
       "      <th>carbohydrates_100g</th>\n",
       "      <th>sugars_100g</th>\n",
       "      <th>fiber_100g</th>\n",
       "      <th>proteins_100g</th>\n",
       "      <th>sodium_100g</th>\n",
       "      <th>nutrition-score-fr_100g</th>\n",
       "      <th>energie-calculee</th>\n",
       "      <th>difference</th>\n",
       "    </tr>\n",
       "  </thead>\n",
       "  <tbody>\n",
       "    <tr>\n",
       "      <th>36</th>\n",
       "      <td>18562</td>\n",
       "      <td>Sweeteners, Demerara Turbinado Sugar</td>\n",
       "      <td>en:united-states</td>\n",
       "      <td>Sugary snacks</td>\n",
       "      <td>1569.0</td>\n",
       "      <td>NaN</td>\n",
       "      <td>NaN</td>\n",
       "      <td>NaN</td>\n",
       "      <td>100.0</td>\n",
       "      <td>100.0</td>\n",
       "      <td>NaN</td>\n",
       "      <td>NaN</td>\n",
       "      <td>NaN</td>\n",
       "      <td>NaN</td>\n",
       "      <td>NaN</td>\n",
       "      <td>NaN</td>\n",
       "    </tr>\n",
       "    <tr>\n",
       "      <th>399</th>\n",
       "      <td>790900115</td>\n",
       "      <td>Tnt Exploding Candy</td>\n",
       "      <td>en:united-states</td>\n",
       "      <td>Sugary snacks</td>\n",
       "      <td>1393.0</td>\n",
       "      <td>0.0</td>\n",
       "      <td>0.0</td>\n",
       "      <td>NaN</td>\n",
       "      <td>100.0</td>\n",
       "      <td>100.0</td>\n",
       "      <td>NaN</td>\n",
       "      <td>0.0</td>\n",
       "      <td>0.0</td>\n",
       "      <td>14.0</td>\n",
       "      <td>1674.72</td>\n",
       "      <td>-281.72</td>\n",
       "    </tr>\n",
       "    <tr>\n",
       "      <th>2905</th>\n",
       "      <td>11110701794</td>\n",
       "      <td>Dessert Topping, Red Sugar</td>\n",
       "      <td>en:united-states</td>\n",
       "      <td>Sugary snacks</td>\n",
       "      <td>1569.0</td>\n",
       "      <td>0.0</td>\n",
       "      <td>NaN</td>\n",
       "      <td>NaN</td>\n",
       "      <td>100.0</td>\n",
       "      <td>100.0</td>\n",
       "      <td>NaN</td>\n",
       "      <td>0.0</td>\n",
       "      <td>0.0</td>\n",
       "      <td>NaN</td>\n",
       "      <td>1674.72</td>\n",
       "      <td>-105.72</td>\n",
       "    </tr>\n",
       "    <tr>\n",
       "      <th>2906</th>\n",
       "      <td>11110701800</td>\n",
       "      <td>Green Sugar Dessert Toppings</td>\n",
       "      <td>en:united-states</td>\n",
       "      <td>Sugary snacks</td>\n",
       "      <td>1569.0</td>\n",
       "      <td>0.0</td>\n",
       "      <td>NaN</td>\n",
       "      <td>NaN</td>\n",
       "      <td>100.0</td>\n",
       "      <td>100.0</td>\n",
       "      <td>NaN</td>\n",
       "      <td>0.0</td>\n",
       "      <td>0.0</td>\n",
       "      <td>NaN</td>\n",
       "      <td>1674.72</td>\n",
       "      <td>-105.72</td>\n",
       "    </tr>\n",
       "    <tr>\n",
       "      <th>3217</th>\n",
       "      <td>11110803122</td>\n",
       "      <td>Zero Calorie Sweetener</td>\n",
       "      <td>en:united-states</td>\n",
       "      <td>Sugary snacks</td>\n",
       "      <td>0.0</td>\n",
       "      <td>0.0</td>\n",
       "      <td>0.0</td>\n",
       "      <td>0.0</td>\n",
       "      <td>NaN</td>\n",
       "      <td>100.0</td>\n",
       "      <td>0.0</td>\n",
       "      <td>0.0</td>\n",
       "      <td>0.0</td>\n",
       "      <td>10.0</td>\n",
       "      <td>NaN</td>\n",
       "      <td>NaN</td>\n",
       "    </tr>\n",
       "  </tbody>\n",
       "</table>\n",
       "</div>"
      ],
      "text/plain": [
       "             code                          product_name    countries_tags  \\\n",
       "36          18562  Sweeteners, Demerara Turbinado Sugar  en:united-states   \n",
       "399     790900115                   Tnt Exploding Candy  en:united-states   \n",
       "2905  11110701794            Dessert Topping, Red Sugar  en:united-states   \n",
       "2906  11110701800          Green Sugar Dessert Toppings  en:united-states   \n",
       "3217  11110803122                Zero Calorie Sweetener  en:united-states   \n",
       "\n",
       "      pnns_groups_1  energy_100g  fat_100g  saturated-fat_100g  \\\n",
       "36    Sugary snacks       1569.0       NaN                 NaN   \n",
       "399   Sugary snacks       1393.0       0.0                 0.0   \n",
       "2905  Sugary snacks       1569.0       0.0                 NaN   \n",
       "2906  Sugary snacks       1569.0       0.0                 NaN   \n",
       "3217  Sugary snacks          0.0       0.0                 0.0   \n",
       "\n",
       "      cholesterol_100g  carbohydrates_100g  sugars_100g  fiber_100g  \\\n",
       "36                 NaN               100.0        100.0         NaN   \n",
       "399                NaN               100.0        100.0         NaN   \n",
       "2905               NaN               100.0        100.0         NaN   \n",
       "2906               NaN               100.0        100.0         NaN   \n",
       "3217               0.0                 NaN        100.0         0.0   \n",
       "\n",
       "      proteins_100g  sodium_100g  nutrition-score-fr_100g  energie-calculee  \\\n",
       "36              NaN          NaN                      NaN               NaN   \n",
       "399             0.0          0.0                     14.0           1674.72   \n",
       "2905            0.0          0.0                      NaN           1674.72   \n",
       "2906            0.0          0.0                      NaN           1674.72   \n",
       "3217            0.0          0.0                     10.0               NaN   \n",
       "\n",
       "      difference  \n",
       "36           NaN  \n",
       "399      -281.72  \n",
       "2905     -105.72  \n",
       "2906     -105.72  \n",
       "3217         NaN  "
      ]
     },
     "execution_count": 509,
     "metadata": {},
     "output_type": "execute_result"
    }
   ],
   "source": [
    "Indicateurs.loc[Indicateurs['sugars_100g']==100].head()"
   ]
  },
  {
   "cell_type": "code",
   "execution_count": 510,
   "id": "534c00ef",
   "metadata": {},
   "outputs": [],
   "source": [
    "Indicateurs.loc[(Indicateurs['sugars_100g']==100)& (Indicateurs['pnns_groups_1']=='unknown'), 'pnns_groups_1']='Sugary snacks'"
   ]
  },
  {
   "cell_type": "markdown",
   "id": "9bdb7431",
   "metadata": {},
   "source": [
    "## Valeurs aberrantes 'fiber_100g'"
   ]
  },
  {
   "cell_type": "code",
   "execution_count": 511,
   "id": "acbfa7bb",
   "metadata": {},
   "outputs": [
    {
     "data": {
      "text/plain": [
       "count    154560.000000\n",
       "mean          2.858706\n",
       "std           4.643587\n",
       "min          -6.700000\n",
       "25%           0.000000\n",
       "50%           1.500000\n",
       "75%           3.600000\n",
       "max         178.000000\n",
       "Name: fiber_100g, dtype: float64"
      ]
     },
     "execution_count": 511,
     "metadata": {},
     "output_type": "execute_result"
    }
   ],
   "source": [
    "Indicateurs['fiber_100g'].describe()"
   ]
  },
  {
   "cell_type": "code",
   "execution_count": 512,
   "id": "88510d60",
   "metadata": {},
   "outputs": [
    {
     "data": {
      "text/plain": [
       "<AxesSubplot:xlabel='fiber_100g'>"
      ]
     },
     "execution_count": 512,
     "metadata": {},
     "output_type": "execute_result"
    },
    {
     "data": {
      "image/png": "[encoded data removed]",
      "text/plain": [
       "<Figure size 432x288 with 1 Axes>"
      ]
     },
     "metadata": {
      "needs_background": "light"
     },
     "output_type": "display_data"
    }
   ],
   "source": [
    "sns.boxplot(data=Indicateurs, x='fiber_100g')"
   ]
  },
  {
   "cell_type": "code",
   "execution_count": 513,
   "id": "02cab2eb",
   "metadata": {},
   "outputs": [],
   "source": [
    "Indicateurs.loc[Indicateurs['fiber_100g']<0, 'fiber_100g']=np.nan"
   ]
  },
  {
   "cell_type": "markdown",
   "id": "4f64da3d",
   "metadata": {},
   "source": [
    "La famille haricot sont els plus riche en fibre je garde donc la valeur maximum qu'ils peuvent avoir et considere les autres comme valeurs aberrantes"
   ]
  },
  {
   "cell_type": "code",
   "execution_count": 514,
   "id": "caba4fd1",
   "metadata": {},
   "outputs": [],
   "source": [
    "Indicateurs.loc[Indicateurs['fiber_100g']>50,'fiber_100g']=np.nan"
   ]
  },
  {
   "cell_type": "code",
   "execution_count": 515,
   "id": "2a317352",
   "metadata": {},
   "outputs": [
    {
     "data": {
      "text/plain": [
       "<AxesSubplot:xlabel='fiber_100g'>"
      ]
     },
     "execution_count": 515,
     "metadata": {},
     "output_type": "execute_result"
    },
    {
     "data": {
      "image/png": "[encoded data removed]",
      "text/plain": [
       "<Figure size 432x288 with 1 Axes>"
      ]
     },
     "metadata": {
      "needs_background": "light"
     },
     "output_type": "display_data"
    }
   ],
   "source": [
    "sns.boxplot(data=Indicateurs, x='fiber_100g')"
   ]
  },
  {
   "cell_type": "markdown",
   "id": "bf366eb9",
   "metadata": {},
   "source": [
    "## 'proteins_100g'"
   ]
  },
  {
   "cell_type": "code",
   "execution_count": 516,
   "id": "63c5ca7f",
   "metadata": {},
   "outputs": [
    {
     "data": {
      "text/plain": [
       "count    193305.000000\n",
       "mean          7.268086\n",
       "std           7.937493\n",
       "min           0.000000\n",
       "25%           1.270000\n",
       "50%           5.200000\n",
       "75%          10.000000\n",
       "max         100.000000\n",
       "Name: proteins_100g, dtype: float64"
      ]
     },
     "execution_count": 516,
     "metadata": {},
     "output_type": "execute_result"
    }
   ],
   "source": [
    "Indicateurs['proteins_100g'].describe()"
   ]
  },
  {
   "cell_type": "code",
   "execution_count": 517,
   "id": "f3336955",
   "metadata": {},
   "outputs": [
    {
     "data": {
      "text/plain": [
       "<AxesSubplot:xlabel='proteins_100g'>"
      ]
     },
     "execution_count": 517,
     "metadata": {},
     "output_type": "execute_result"
    },
    {
     "data": {
      "image/png": "[encoded data removed]",
      "text/plain": [
       "<Figure size 432x288 with 1 Axes>"
      ]
     },
     "metadata": {
      "needs_background": "light"
     },
     "output_type": "display_data"
    }
   ],
   "source": [
    "sns.boxplot(data=Indicateurs, x='proteins_100g')"
   ]
  },
  {
   "cell_type": "markdown",
   "id": "7d6b357c",
   "metadata": {},
   "source": [
    "Les produits a tres forte contenance en protein sont souvent les supplements alimentaires proteinee"
   ]
  },
  {
   "cell_type": "code",
   "execution_count": 518,
   "id": "425a6e6c",
   "metadata": {},
   "outputs": [
    {
     "data": {
      "text/html": [
       "<div>\n",
       "<style scoped>\n",
       "    .dataframe tbody tr th:only-of-type {\n",
       "        vertical-align: middle;\n",
       "    }\n",
       "\n",
       "    .dataframe tbody tr th {\n",
       "        vertical-align: top;\n",
       "    }\n",
       "\n",
       "    .dataframe thead th {\n",
       "        text-align: right;\n",
       "    }\n",
       "</style>\n",
       "<table border=\"1\" class=\"dataframe\">\n",
       "  <thead>\n",
       "    <tr style=\"text-align: right;\">\n",
       "      <th></th>\n",
       "      <th>code</th>\n",
       "      <th>product_name</th>\n",
       "      <th>countries_tags</th>\n",
       "      <th>pnns_groups_1</th>\n",
       "      <th>energy_100g</th>\n",
       "      <th>fat_100g</th>\n",
       "      <th>saturated-fat_100g</th>\n",
       "      <th>cholesterol_100g</th>\n",
       "      <th>carbohydrates_100g</th>\n",
       "      <th>sugars_100g</th>\n",
       "      <th>fiber_100g</th>\n",
       "      <th>proteins_100g</th>\n",
       "      <th>sodium_100g</th>\n",
       "      <th>nutrition-score-fr_100g</th>\n",
       "      <th>energie-calculee</th>\n",
       "      <th>difference</th>\n",
       "    </tr>\n",
       "  </thead>\n",
       "  <tbody>\n",
       "    <tr>\n",
       "      <th>246</th>\n",
       "      <td>105000073</td>\n",
       "      <td>Herbal Tea, Hibiscus</td>\n",
       "      <td>en:united-states</td>\n",
       "      <td>unknown</td>\n",
       "      <td>2121.367824</td>\n",
       "      <td>0.0</td>\n",
       "      <td>NaN</td>\n",
       "      <td>NaN</td>\n",
       "      <td>60.0</td>\n",
       "      <td>NaN</td>\n",
       "      <td>NaN</td>\n",
       "      <td>66.67</td>\n",
       "      <td>0.133</td>\n",
       "      <td>NaN</td>\n",
       "      <td>2121.367824</td>\n",
       "      <td>0.0</td>\n",
       "    </tr>\n",
       "    <tr>\n",
       "      <th>247</th>\n",
       "      <td>105000196</td>\n",
       "      <td>Apple &amp; Cinnamon Tea</td>\n",
       "      <td>en:united-states</td>\n",
       "      <td>unknown</td>\n",
       "      <td>2121.367824</td>\n",
       "      <td>0.0</td>\n",
       "      <td>NaN</td>\n",
       "      <td>NaN</td>\n",
       "      <td>60.0</td>\n",
       "      <td>NaN</td>\n",
       "      <td>NaN</td>\n",
       "      <td>66.67</td>\n",
       "      <td>0.133</td>\n",
       "      <td>NaN</td>\n",
       "      <td>2121.367824</td>\n",
       "      <td>0.0</td>\n",
       "    </tr>\n",
       "  </tbody>\n",
       "</table>\n",
       "</div>"
      ],
      "text/plain": [
       "          code          product_name    countries_tags pnns_groups_1  \\\n",
       "246  105000073  Herbal Tea, Hibiscus  en:united-states       unknown   \n",
       "247  105000196  Apple & Cinnamon Tea  en:united-states       unknown   \n",
       "\n",
       "     energy_100g  fat_100g  saturated-fat_100g  cholesterol_100g  \\\n",
       "246  2121.367824       0.0                 NaN               NaN   \n",
       "247  2121.367824       0.0                 NaN               NaN   \n",
       "\n",
       "     carbohydrates_100g  sugars_100g  fiber_100g  proteins_100g  sodium_100g  \\\n",
       "246                60.0          NaN         NaN          66.67        0.133   \n",
       "247                60.0          NaN         NaN          66.67        0.133   \n",
       "\n",
       "     nutrition-score-fr_100g  energie-calculee  difference  \n",
       "246                      NaN       2121.367824         0.0  \n",
       "247                      NaN       2121.367824         0.0  "
      ]
     },
     "execution_count": 518,
     "metadata": {},
     "output_type": "execute_result"
    }
   ],
   "source": [
    "Indicateurs.loc[(Indicateurs['proteins_100g']>50) & (Indicateurs['pnns_groups_1']=='unknown')].head(2)"
   ]
  },
  {
   "cell_type": "code",
   "execution_count": 519,
   "id": "0d36f446",
   "metadata": {},
   "outputs": [],
   "source": [
    "protein=['Protein','egg white','Whey','Protéine','Spiruline','iso','bcaa','gelatin','OGGI','Yeast']\n",
    "for p in protein:\n",
    "    Indicateurs.loc[(Indicateurs['proteins_100g']>50) & (Indicateurs['product_name'].str.contains(p, case=False)), 'pnns_groups_1']='Dietary supplements'"
   ]
  },
  {
   "cell_type": "code",
   "execution_count": 520,
   "id": "e57eff9b",
   "metadata": {},
   "outputs": [],
   "source": [
    "meat=['pork','Beef','Shrimp']\n",
    "for m in meat:\n",
    "    Indicateurs.loc[(Indicateurs['pnns_groups_1']=='unknown')&(Indicateurs['product_name'].str.contains(m, case=False)), 'pnns_groups_1']='Fish Meat Eggs'"
   ]
  },
  {
   "cell_type": "code",
   "execution_count": 521,
   "id": "1266f001",
   "metadata": {},
   "outputs": [],
   "source": [
    "beverage=['Tea']\n",
    "for b in beverage:\n",
    "    Indicateurs.loc[(Indicateurs['pnns_groups_1']=='unknown')&(Indicateurs['product_name'].str.contains(b, case=False)), 'pnns_groups_1']='Beverages'"
   ]
  },
  {
   "cell_type": "markdown",
   "id": "6e7b261c",
   "metadata": {},
   "source": [
    "### Les categories apres netoyage\n",
    "Je regarde les categories minoritaires qui ne doivent normalement pas etre a haute contenance en proteine"
   ]
  },
  {
   "cell_type": "code",
   "execution_count": 522,
   "id": "5dfb4a30",
   "metadata": {},
   "outputs": [
    {
     "data": {
      "text/plain": [
       "Dietary supplements               161\n",
       "unknown                           101\n",
       "Fish Meat Eggs                     96\n",
       "Beverages                           6\n",
       "Sugary snacks                       5\n",
       "Plant based food and beverages      4\n",
       "Milk and dairy products             2\n",
       "Condiments                          2\n",
       "Groceries                           1\n",
       "Salty snacks                        1\n",
       "Name: pnns_groups_1, dtype: int64"
      ]
     },
     "execution_count": 522,
     "metadata": {},
     "output_type": "execute_result"
    }
   ],
   "source": [
    "proteinIndic=Indicateurs[Indicateurs['proteins_100g']>50]\n",
    "proteinIndic['pnns_groups_1'].value_counts()"
   ]
  },
  {
   "cell_type": "code",
   "execution_count": 523,
   "id": "ce49a1c5",
   "metadata": {},
   "outputs": [
    {
     "data": {
      "text/plain": [
       "(196216, 16)"
      ]
     },
     "execution_count": 523,
     "metadata": {},
     "output_type": "execute_result"
    }
   ],
   "source": [
    "Indicateurs.shape"
   ]
  },
  {
   "cell_type": "code",
   "execution_count": 524,
   "id": "0f65f5ae",
   "metadata": {},
   "outputs": [],
   "source": [
    "Indicateurs.drop(Indicateurs[Indicateurs['code']=='9230000011527'].index, axis=0, inplace=True) #produit non alimentaire"
   ]
  },
  {
   "cell_type": "markdown",
   "id": "e565085f",
   "metadata": {},
   "source": [
    "## sodium_100g"
   ]
  },
  {
   "cell_type": "code",
   "execution_count": 525,
   "id": "aa3161f8",
   "metadata": {},
   "outputs": [
    {
     "data": {
      "text/plain": [
       "count    190317.000000\n",
       "mean          0.833241\n",
       "std          58.468489\n",
       "min           0.000000\n",
       "25%           0.039370\n",
       "50%           0.257000\n",
       "75%           0.551181\n",
       "max       25320.000000\n",
       "Name: sodium_100g, dtype: float64"
      ]
     },
     "execution_count": 525,
     "metadata": {},
     "output_type": "execute_result"
    }
   ],
   "source": [
    "Indicateurs['sodium_100g'].describe()"
   ]
  },
  {
   "cell_type": "code",
   "execution_count": 526,
   "id": "72747c4b",
   "metadata": {},
   "outputs": [
    {
     "data": {
      "text/plain": [
       "<AxesSubplot:xlabel='sodium_100g'>"
      ]
     },
     "execution_count": 526,
     "metadata": {},
     "output_type": "execute_result"
    },
    {
     "data": {
      "image/png": "[encoded data removed]",
      "text/plain": [
       "<Figure size 432x288 with 1 Axes>"
      ]
     },
     "metadata": {
      "needs_background": "light"
     },
     "output_type": "display_data"
    }
   ],
   "source": [
    "sns.boxplot(data=Indicateurs, x='sodium_100g')"
   ]
  },
  {
   "cell_type": "code",
   "execution_count": 527,
   "id": "2bdeb0f1",
   "metadata": {},
   "outputs": [],
   "source": [
    "Indicateurs.loc[Indicateurs['sodium_100g']>100, 'sodium_100g']=np.nan"
   ]
  },
  {
   "cell_type": "code",
   "execution_count": 528,
   "id": "7dfd7be9",
   "metadata": {},
   "outputs": [
    {
     "data": {
      "text/plain": [
       "<AxesSubplot:xlabel='sodium_100g'>"
      ]
     },
     "execution_count": 528,
     "metadata": {},
     "output_type": "execute_result"
    },
    {
     "data": {
      "image/png": "[encoded data removed]",
      "text/plain": [
       "<Figure size 432x288 with 1 Axes>"
      ]
     },
     "metadata": {
      "needs_background": "light"
     },
     "output_type": "display_data"
    }
   ],
   "source": [
    "sns.boxplot(data=Indicateurs, x='sodium_100g')"
   ]
  },
  {
   "cell_type": "code",
   "execution_count": 529,
   "id": "31b2c47b",
   "metadata": {},
   "outputs": [],
   "source": [
    "Acateg=Indicateurs.loc[Indicateurs['sodium_100g']>60]"
   ]
  },
  {
   "cell_type": "markdown",
   "id": "e07df31b",
   "metadata": {},
   "source": [
    "### Categorisation a partir du taux de sodium\n",
    "#### Salts"
   ]
  },
  {
   "cell_type": "code",
   "execution_count": 530,
   "id": "0f5debdf",
   "metadata": {},
   "outputs": [],
   "source": [
    "salt=['salt', 'sel','Baking Soda','Sea s']\n",
    "for s in salt:\n",
    "    Indicateurs.loc[(Indicateurs['code'].isin(Acateg['code'])) & (Indicateurs['code'].str.contains(s, case=False)),'pnns_groups_1']='Salts'"
   ]
  },
  {
   "cell_type": "markdown",
   "id": "06dc5a09",
   "metadata": {},
   "source": [
    "#### Condiments"
   ]
  },
  {
   "cell_type": "code",
   "execution_count": 531,
   "id": "89e40103",
   "metadata": {},
   "outputs": [],
   "source": [
    "condim=['Season', 'Bouillon','Boil','spice','cube','broth','pepper','pickle']\n",
    "for c in condim:\n",
    "    Indicateurs.loc[(Indicateurs['code'].isin(Acateg['code'])) & (Indicateurs['code'].str.contains(c, case=False)),'pnns_groups_1']='Condiments'"
   ]
  },
  {
   "cell_type": "markdown",
   "id": "9ae69914",
   "metadata": {},
   "source": [
    "#### Fish Meat Eggs"
   ]
  },
  {
   "cell_type": "code",
   "execution_count": 532,
   "id": "3b29338b",
   "metadata": {},
   "outputs": [],
   "source": [
    "meat=['meat', 'beef','Boil','ham','marinad','chicken']\n",
    "for m in meat:\n",
    "    Indicateurs.loc[(Indicateurs['code'].isin(Acateg['code'])) & (Indicateurs['code'].str.contains(m, case=False)),'pnns_groups_1']='Fish Meat Eggs'"
   ]
  },
  {
   "cell_type": "markdown",
   "id": "a3189880",
   "metadata": {},
   "source": [
    "## nutrition-score-fr_100g\n"
   ]
  },
  {
   "cell_type": "code",
   "execution_count": 533,
   "id": "5b30bc08",
   "metadata": {},
   "outputs": [
    {
     "data": {
      "text/plain": [
       "count    171612.000000\n",
       "mean          9.311546\n",
       "std           8.924468\n",
       "min         -15.000000\n",
       "25%           1.000000\n",
       "50%          10.000000\n",
       "75%          16.000000\n",
       "max          40.000000\n",
       "Name: nutrition-score-fr_100g, dtype: float64"
      ]
     },
     "execution_count": 533,
     "metadata": {},
     "output_type": "execute_result"
    }
   ],
   "source": [
    "Indicateurs['nutrition-score-fr_100g'].describe()"
   ]
  },
  {
   "cell_type": "code",
   "execution_count": 534,
   "id": "c7eee6ad",
   "metadata": {},
   "outputs": [
    {
     "data": {
      "text/plain": [
       "<AxesSubplot:xlabel='nutrition-score-fr_100g'>"
      ]
     },
     "execution_count": 534,
     "metadata": {},
     "output_type": "execute_result"
    },
    {
     "data": {
      "image/png": "[encoded data removed]",
      "text/plain": [
       "<Figure size 432x288 with 1 Axes>"
      ]
     },
     "metadata": {
      "needs_background": "light"
     },
     "output_type": "display_data"
    }
   ],
   "source": [
    "sns.boxplot(data=Indicateurs, x='nutrition-score-fr_100g')"
   ]
  },
  {
   "cell_type": "markdown",
   "id": "8baae9dc",
   "metadata": {},
   "source": [
    "Pas de valeurs aberrantes pour cette variable"
   ]
  },
  {
   "cell_type": "code",
   "execution_count": 535,
   "id": "a6250668",
   "metadata": {},
   "outputs": [],
   "source": [
    "grains=[ 'wheat', 'oats', 'rice', 'corn', 'maize', 'barley', 'sorghum', 'rye', 'millet','farro', 'freekeh', 'emmer', 'spelt','amaranth', 'buckwheat' ,'quinoa']\n",
    "for w in grains:\n",
    "    Indicateurs.loc[(Indicateurs['pnns_groups_1']=='unknown') & (Indicateurs['product_name'].str.contains(w, case=False)), 'pnns_groups_1']=\"Cereal and Grains\"\n",
    "\n",
    "fruits=['apples', 'arugula', 'asparagus', 'artichoke', 'avocado','bananas', 'blueberries', 'broccoli', \n",
    "        'carrots', 'celery', 'cherries', 'cauliflower','radish','eggplant', 'endive', 'figs', 'grapes', 'grapefruit', \n",
    "        'guava', 'ginger', 'melon','lettuce', 'jicama', 'kale','kiwi', 'lemons','mushrooms', 'melon', 'mangos', 'nectarines',\n",
    "        'oranges', 'onions', 'okra', 'peas', 'peppers', 'pineapple', 'pears', 'peaches','quince', 'raisins', 'raspberries', \n",
    "        'spinach', 'squash', 'sprouts', 'strawberries','tangerine', 'tropical fruit', 'turnips', 'tomatillos', 'tomatoes', \n",
    "        'watermelon', 'watercress', 'plums', 'zucchini']\n",
    "for f in fruits:\n",
    "    Indicateurs.loc[(Indicateurs['pnns_groups_1']=='unknown') & (Indicateurs['product_name'].str.contains(f, case=False)), 'pnns_groups_1']=\"Fruits and vegetables\"\n",
    "sweet=['chocolat','biscuit', 'cookies', 'ice cream', 'candy', 'glace','bonbon' ]\n",
    "for s in sweet:\n",
    "    Indicateurs.loc[(Indicateurs['pnns_groups_1']=='unknown') & (Indicateurs['product_name'].str.contains(s, case=False)),'pnns_groups_1']='Sugary snacks'"
   ]
  },
  {
   "cell_type": "markdown",
   "id": "955611d7",
   "metadata": {},
   "source": [
    "# Resume sur le dataset Indicateurs"
   ]
  },
  {
   "cell_type": "code",
   "execution_count": 536,
   "id": "d2b8c4e0",
   "metadata": {},
   "outputs": [],
   "source": [
    "Indicateurs=Indicateurs.drop(columns=['energie-calculee','difference'])"
   ]
  },
  {
   "cell_type": "code",
   "execution_count": 537,
   "id": "d4712ed7",
   "metadata": {},
   "outputs": [
    {
     "data": {
      "text/html": [
       "<div>\n",
       "<style scoped>\n",
       "    .dataframe tbody tr th:only-of-type {\n",
       "        vertical-align: middle;\n",
       "    }\n",
       "\n",
       "    .dataframe tbody tr th {\n",
       "        vertical-align: top;\n",
       "    }\n",
       "\n",
       "    .dataframe thead th {\n",
       "        text-align: right;\n",
       "    }\n",
       "</style>\n",
       "<table border=\"1\" class=\"dataframe\">\n",
       "  <thead>\n",
       "    <tr style=\"text-align: right;\">\n",
       "      <th></th>\n",
       "      <th>count</th>\n",
       "      <th>mean</th>\n",
       "      <th>std</th>\n",
       "      <th>min</th>\n",
       "      <th>25%</th>\n",
       "      <th>50%</th>\n",
       "      <th>75%</th>\n",
       "      <th>max</th>\n",
       "    </tr>\n",
       "  </thead>\n",
       "  <tbody>\n",
       "    <tr>\n",
       "      <th>energy_100g</th>\n",
       "      <td>194965.0</td>\n",
       "      <td>1128.011566</td>\n",
       "      <td>757.756368</td>\n",
       "      <td>0.0</td>\n",
       "      <td>420.00000</td>\n",
       "      <td>1096.000</td>\n",
       "      <td>1674.000000</td>\n",
       "      <td>6001.191648</td>\n",
       "    </tr>\n",
       "    <tr>\n",
       "      <th>fat_100g</th>\n",
       "      <td>178015.0</td>\n",
       "      <td>12.488743</td>\n",
       "      <td>15.531234</td>\n",
       "      <td>0.0</td>\n",
       "      <td>0.50000</td>\n",
       "      <td>6.430</td>\n",
       "      <td>20.000000</td>\n",
       "      <td>100.000000</td>\n",
       "    </tr>\n",
       "    <tr>\n",
       "      <th>saturated-fat_100g</th>\n",
       "      <td>176831.0</td>\n",
       "      <td>5.011991</td>\n",
       "      <td>7.490584</td>\n",
       "      <td>0.0</td>\n",
       "      <td>0.00000</td>\n",
       "      <td>2.000</td>\n",
       "      <td>7.140000</td>\n",
       "      <td>100.000000</td>\n",
       "    </tr>\n",
       "    <tr>\n",
       "      <th>cholesterol_100g</th>\n",
       "      <td>102046.0</td>\n",
       "      <td>0.017923</td>\n",
       "      <td>0.035965</td>\n",
       "      <td>0.0</td>\n",
       "      <td>0.00000</td>\n",
       "      <td>0.000</td>\n",
       "      <td>0.023000</td>\n",
       "      <td>0.996000</td>\n",
       "    </tr>\n",
       "    <tr>\n",
       "      <th>carbohydrates_100g</th>\n",
       "      <td>178532.0</td>\n",
       "      <td>32.335959</td>\n",
       "      <td>27.897826</td>\n",
       "      <td>0.0</td>\n",
       "      <td>7.00000</td>\n",
       "      <td>23.080</td>\n",
       "      <td>57.140000</td>\n",
       "      <td>100.000000</td>\n",
       "    </tr>\n",
       "    <tr>\n",
       "      <th>sugars_100g</th>\n",
       "      <td>185520.0</td>\n",
       "      <td>15.612689</td>\n",
       "      <td>19.960627</td>\n",
       "      <td>0.0</td>\n",
       "      <td>1.50000</td>\n",
       "      <td>6.150</td>\n",
       "      <td>24.000000</td>\n",
       "      <td>100.000000</td>\n",
       "    </tr>\n",
       "    <tr>\n",
       "      <th>fiber_100g</th>\n",
       "      <td>154463.0</td>\n",
       "      <td>2.815275</td>\n",
       "      <td>4.271938</td>\n",
       "      <td>0.0</td>\n",
       "      <td>0.00000</td>\n",
       "      <td>1.500</td>\n",
       "      <td>3.600000</td>\n",
       "      <td>50.000000</td>\n",
       "    </tr>\n",
       "    <tr>\n",
       "      <th>proteins_100g</th>\n",
       "      <td>193304.0</td>\n",
       "      <td>7.267668</td>\n",
       "      <td>7.935390</td>\n",
       "      <td>0.0</td>\n",
       "      <td>1.27000</td>\n",
       "      <td>5.200</td>\n",
       "      <td>10.000000</td>\n",
       "      <td>100.000000</td>\n",
       "    </tr>\n",
       "    <tr>\n",
       "      <th>sodium_100g</th>\n",
       "      <td>190287.0</td>\n",
       "      <td>0.635242</td>\n",
       "      <td>2.390443</td>\n",
       "      <td>0.0</td>\n",
       "      <td>0.03937</td>\n",
       "      <td>0.257</td>\n",
       "      <td>0.551181</td>\n",
       "      <td>100.000000</td>\n",
       "    </tr>\n",
       "    <tr>\n",
       "      <th>nutrition-score-fr_100g</th>\n",
       "      <td>171612.0</td>\n",
       "      <td>9.311546</td>\n",
       "      <td>8.924468</td>\n",
       "      <td>-15.0</td>\n",
       "      <td>1.00000</td>\n",
       "      <td>10.000</td>\n",
       "      <td>16.000000</td>\n",
       "      <td>40.000000</td>\n",
       "    </tr>\n",
       "  </tbody>\n",
       "</table>\n",
       "</div>"
      ],
      "text/plain": [
       "                            count         mean         std   min        25%  \\\n",
       "energy_100g              194965.0  1128.011566  757.756368   0.0  420.00000   \n",
       "fat_100g                 178015.0    12.488743   15.531234   0.0    0.50000   \n",
       "saturated-fat_100g       176831.0     5.011991    7.490584   0.0    0.00000   \n",
       "cholesterol_100g         102046.0     0.017923    0.035965   0.0    0.00000   \n",
       "carbohydrates_100g       178532.0    32.335959   27.897826   0.0    7.00000   \n",
       "sugars_100g              185520.0    15.612689   19.960627   0.0    1.50000   \n",
       "fiber_100g               154463.0     2.815275    4.271938   0.0    0.00000   \n",
       "proteins_100g            193304.0     7.267668    7.935390   0.0    1.27000   \n",
       "sodium_100g              190287.0     0.635242    2.390443   0.0    0.03937   \n",
       "nutrition-score-fr_100g  171612.0     9.311546    8.924468 -15.0    1.00000   \n",
       "\n",
       "                              50%          75%          max  \n",
       "energy_100g              1096.000  1674.000000  6001.191648  \n",
       "fat_100g                    6.430    20.000000   100.000000  \n",
       "saturated-fat_100g          2.000     7.140000   100.000000  \n",
       "cholesterol_100g            0.000     0.023000     0.996000  \n",
       "carbohydrates_100g         23.080    57.140000   100.000000  \n",
       "sugars_100g                 6.150    24.000000   100.000000  \n",
       "fiber_100g                  1.500     3.600000    50.000000  \n",
       "proteins_100g               5.200    10.000000   100.000000  \n",
       "sodium_100g                 0.257     0.551181   100.000000  \n",
       "nutrition-score-fr_100g    10.000    16.000000    40.000000  "
      ]
     },
     "execution_count": 537,
     "metadata": {},
     "output_type": "execute_result"
    }
   ],
   "source": [
    "Indicateurs.describe().transpose()"
   ]
  },
  {
   "cell_type": "code",
   "execution_count": 538,
   "id": "f168d4a6",
   "metadata": {},
   "outputs": [
    {
     "data": {
      "text/plain": [
       "(196215, 14)"
      ]
     },
     "execution_count": 538,
     "metadata": {},
     "output_type": "execute_result"
    }
   ],
   "source": [
    "Indicateurs.shape"
   ]
  },
  {
   "cell_type": "code",
   "execution_count": 539,
   "id": "d3edcc9a",
   "metadata": {},
   "outputs": [
    {
     "data": {
      "text/plain": [
       "code                       0.000000\n",
       "product_name               0.000000\n",
       "countries_tags             0.000311\n",
       "pnns_groups_1              0.000000\n",
       "energy_100g                0.006371\n",
       "fat_100g                   0.092755\n",
       "saturated-fat_100g         0.098790\n",
       "cholesterol_100g           0.479928\n",
       "carbohydrates_100g         0.090121\n",
       "sugars_100g                0.054507\n",
       "fiber_100g                 0.212787\n",
       "proteins_100g              0.014836\n",
       "sodium_100g                0.030212\n",
       "nutrition-score-fr_100g    0.125388\n",
       "dtype: float64"
      ]
     },
     "execution_count": 539,
     "metadata": {},
     "output_type": "execute_result"
    }
   ],
   "source": [
    "Indicateurs.isna().mean()"
   ]
  },
  {
   "cell_type": "code",
   "execution_count": 540,
   "id": "efe6baf1",
   "metadata": {},
   "outputs": [],
   "source": [
    "Indicateurs.dropna(thresh=7, inplace=True)"
   ]
  },
  {
   "cell_type": "code",
   "execution_count": 541,
   "id": "020483a2",
   "metadata": {},
   "outputs": [
    {
     "data": {
      "text/plain": [
       "(195215, 14)"
      ]
     },
     "execution_count": 541,
     "metadata": {},
     "output_type": "execute_result"
    }
   ],
   "source": [
    "Indicateurs.shape"
   ]
  },
  {
   "cell_type": "code",
   "execution_count": 542,
   "id": "a73b55c4",
   "metadata": {},
   "outputs": [
    {
     "data": {
      "text/html": [
       "<style type=\"text/css\">\n",
       "#T_bf1a2_row0_col0, #T_bf1a2_row1_col1, #T_bf1a2_row2_col2, #T_bf1a2_row3_col3, #T_bf1a2_row4_col4, #T_bf1a2_row5_col5, #T_bf1a2_row6_col6, #T_bf1a2_row7_col7, #T_bf1a2_row8_col8, #T_bf1a2_row9_col9 {\n",
       "  background-color: #023858;\n",
       "  color: #f1f1f1;\n",
       "}\n",
       "#T_bf1a2_row0_col1 {\n",
       "  background-color: #0569a4;\n",
       "  color: #f1f1f1;\n",
       "}\n",
       "#T_bf1a2_row0_col2 {\n",
       "  background-color: #4897c4;\n",
       "  color: #f1f1f1;\n",
       "}\n",
       "#T_bf1a2_row0_col3 {\n",
       "  background-color: #cdd0e5;\n",
       "  color: #000000;\n",
       "}\n",
       "#T_bf1a2_row0_col4, #T_bf1a2_row2_col9 {\n",
       "  background-color: #2383ba;\n",
       "  color: #f1f1f1;\n",
       "}\n",
       "#T_bf1a2_row0_col5 {\n",
       "  background-color: #79abd0;\n",
       "  color: #f1f1f1;\n",
       "}\n",
       "#T_bf1a2_row0_col6, #T_bf1a2_row0_col7, #T_bf1a2_row6_col4 {\n",
       "  background-color: #8cb3d5;\n",
       "  color: #000000;\n",
       "}\n",
       "#T_bf1a2_row0_col8 {\n",
       "  background-color: #fef6fa;\n",
       "  color: #000000;\n",
       "}\n",
       "#T_bf1a2_row0_col9 {\n",
       "  background-color: #1c7fb8;\n",
       "  color: #f1f1f1;\n",
       "}\n",
       "#T_bf1a2_row1_col0 {\n",
       "  background-color: #0568a3;\n",
       "  color: #f1f1f1;\n",
       "}\n",
       "#T_bf1a2_row1_col2 {\n",
       "  background-color: #0c74b2;\n",
       "  color: #f1f1f1;\n",
       "}\n",
       "#T_bf1a2_row1_col3 {\n",
       "  background-color: #a5bddb;\n",
       "  color: #000000;\n",
       "}\n",
       "#T_bf1a2_row1_col4, #T_bf1a2_row1_col5, #T_bf1a2_row8_col7 {\n",
       "  background-color: #dad9ea;\n",
       "  color: #000000;\n",
       "}\n",
       "#T_bf1a2_row1_col6, #T_bf1a2_row2_col5, #T_bf1a2_row2_col7 {\n",
       "  background-color: #b9c6e0;\n",
       "  color: #000000;\n",
       "}\n",
       "#T_bf1a2_row1_col7 {\n",
       "  background-color: #99b8d8;\n",
       "  color: #000000;\n",
       "}\n",
       "#T_bf1a2_row1_col8, #T_bf1a2_row4_col2 {\n",
       "  background-color: #faf3f9;\n",
       "  color: #000000;\n",
       "}\n",
       "#T_bf1a2_row1_col9 {\n",
       "  background-color: #328dbf;\n",
       "  color: #f1f1f1;\n",
       "}\n",
       "#T_bf1a2_row2_col0 {\n",
       "  background-color: #4094c3;\n",
       "  color: #f1f1f1;\n",
       "}\n",
       "#T_bf1a2_row2_col1, #T_bf1a2_row5_col4 {\n",
       "  background-color: #0a73b2;\n",
       "  color: #f1f1f1;\n",
       "}\n",
       "#T_bf1a2_row2_col3 {\n",
       "  background-color: #80aed2;\n",
       "  color: #f1f1f1;\n",
       "}\n",
       "#T_bf1a2_row2_col4 {\n",
       "  background-color: #d5d5e8;\n",
       "  color: #000000;\n",
       "}\n",
       "#T_bf1a2_row2_col6, #T_bf1a2_row6_col1, #T_bf1a2_row6_col5 {\n",
       "  background-color: #dbdaeb;\n",
       "  color: #000000;\n",
       "}\n",
       "#T_bf1a2_row2_col8 {\n",
       "  background-color: #f7f0f7;\n",
       "  color: #000000;\n",
       "}\n",
       "#T_bf1a2_row3_col0 {\n",
       "  background-color: #eee9f3;\n",
       "  color: #000000;\n",
       "}\n",
       "#T_bf1a2_row3_col1, #T_bf1a2_row8_col3 {\n",
       "  background-color: #d4d4e8;\n",
       "  color: #000000;\n",
       "}\n",
       "#T_bf1a2_row3_col2, #T_bf1a2_row3_col9 {\n",
       "  background-color: #b3c3de;\n",
       "  color: #000000;\n",
       "}\n",
       "#T_bf1a2_row3_col4, #T_bf1a2_row3_col6, #T_bf1a2_row4_col3, #T_bf1a2_row5_col7, #T_bf1a2_row5_col8, #T_bf1a2_row6_col9, #T_bf1a2_row7_col5, #T_bf1a2_row8_col0, #T_bf1a2_row8_col1, #T_bf1a2_row8_col2 {\n",
       "  background-color: #fff7fb;\n",
       "  color: #000000;\n",
       "}\n",
       "#T_bf1a2_row3_col5 {\n",
       "  background-color: #f0eaf4;\n",
       "  color: #000000;\n",
       "}\n",
       "#T_bf1a2_row3_col7 {\n",
       "  background-color: #76aad0;\n",
       "  color: #f1f1f1;\n",
       "}\n",
       "#T_bf1a2_row3_col8, #T_bf1a2_row7_col8 {\n",
       "  background-color: #f2ecf5;\n",
       "  color: #000000;\n",
       "}\n",
       "#T_bf1a2_row4_col0, #T_bf1a2_row9_col1 {\n",
       "  background-color: #3f93c2;\n",
       "  color: #f1f1f1;\n",
       "}\n",
       "#T_bf1a2_row4_col1 {\n",
       "  background-color: #fcf4fa;\n",
       "  color: #000000;\n",
       "}\n",
       "#T_bf1a2_row4_col5 {\n",
       "  background-color: #0d75b3;\n",
       "  color: #f1f1f1;\n",
       "}\n",
       "#T_bf1a2_row4_col6 {\n",
       "  background-color: #97b7d7;\n",
       "  color: #000000;\n",
       "}\n",
       "#T_bf1a2_row4_col7 {\n",
       "  background-color: #ede7f2;\n",
       "  color: #000000;\n",
       "}\n",
       "#T_bf1a2_row4_col8 {\n",
       "  background-color: #fdf5fa;\n",
       "  color: #000000;\n",
       "}\n",
       "#T_bf1a2_row4_col9, #T_bf1a2_row7_col6 {\n",
       "  background-color: #a1bbda;\n",
       "  color: #000000;\n",
       "}\n",
       "#T_bf1a2_row5_col0, #T_bf1a2_row6_col7 {\n",
       "  background-color: #9cb9d9;\n",
       "  color: #000000;\n",
       "}\n",
       "#T_bf1a2_row5_col1, #T_bf1a2_row6_col2, #T_bf1a2_row6_col3 {\n",
       "  background-color: #f8f1f8;\n",
       "  color: #000000;\n",
       "}\n",
       "#T_bf1a2_row5_col2 {\n",
       "  background-color: #e1dfed;\n",
       "  color: #000000;\n",
       "}\n",
       "#T_bf1a2_row5_col3 {\n",
       "  background-color: #ece7f2;\n",
       "  color: #000000;\n",
       "}\n",
       "#T_bf1a2_row5_col6 {\n",
       "  background-color: #dfddec;\n",
       "  color: #000000;\n",
       "}\n",
       "#T_bf1a2_row5_col9 {\n",
       "  background-color: #5c9fc9;\n",
       "  color: #f1f1f1;\n",
       "}\n",
       "#T_bf1a2_row6_col0 {\n",
       "  background-color: #abbfdc;\n",
       "  color: #000000;\n",
       "}\n",
       "#T_bf1a2_row6_col8 {\n",
       "  background-color: #f6eff7;\n",
       "  color: #000000;\n",
       "}\n",
       "#T_bf1a2_row7_col0 {\n",
       "  background-color: #b0c2de;\n",
       "  color: #000000;\n",
       "}\n",
       "#T_bf1a2_row7_col1 {\n",
       "  background-color: #c1cae2;\n",
       "  color: #000000;\n",
       "}\n",
       "#T_bf1a2_row7_col2, #T_bf1a2_row8_col4, #T_bf1a2_row8_col6 {\n",
       "  background-color: #e2dfee;\n",
       "  color: #000000;\n",
       "}\n",
       "#T_bf1a2_row7_col3 {\n",
       "  background-color: #6fa7ce;\n",
       "  color: #f1f1f1;\n",
       "}\n",
       "#T_bf1a2_row7_col4 {\n",
       "  background-color: #e7e3f0;\n",
       "  color: #000000;\n",
       "}\n",
       "#T_bf1a2_row7_col9 {\n",
       "  background-color: #dcdaeb;\n",
       "  color: #000000;\n",
       "}\n",
       "#T_bf1a2_row8_col5 {\n",
       "  background-color: #eae6f1;\n",
       "  color: #000000;\n",
       "}\n",
       "#T_bf1a2_row8_col9 {\n",
       "  background-color: #d8d7e9;\n",
       "  color: #000000;\n",
       "}\n",
       "#T_bf1a2_row9_col0 {\n",
       "  background-color: #2484ba;\n",
       "  color: #f1f1f1;\n",
       "}\n",
       "#T_bf1a2_row9_col2 {\n",
       "  background-color: #2f8bbe;\n",
       "  color: #f1f1f1;\n",
       "}\n",
       "#T_bf1a2_row9_col3 {\n",
       "  background-color: #94b6d7;\n",
       "  color: #000000;\n",
       "}\n",
       "#T_bf1a2_row9_col4 {\n",
       "  background-color: #83afd3;\n",
       "  color: #f1f1f1;\n",
       "}\n",
       "#T_bf1a2_row9_col5 {\n",
       "  background-color: #4697c4;\n",
       "  color: #f1f1f1;\n",
       "}\n",
       "#T_bf1a2_row9_col6 {\n",
       "  background-color: #f4edf6;\n",
       "  color: #000000;\n",
       "}\n",
       "#T_bf1a2_row9_col7 {\n",
       "  background-color: #c8cde4;\n",
       "  color: #000000;\n",
       "}\n",
       "#T_bf1a2_row9_col8 {\n",
       "  background-color: #e0dded;\n",
       "  color: #000000;\n",
       "}\n",
       "</style>\n",
       "<table id=\"T_bf1a2_\">\n",
       "  <thead>\n",
       "    <tr>\n",
       "      <th class=\"blank level0\" >&nbsp;</th>\n",
       "      <th class=\"col_heading level0 col0\" >energy_100g</th>\n",
       "      <th class=\"col_heading level0 col1\" >fat_100g</th>\n",
       "      <th class=\"col_heading level0 col2\" >saturated-fat_100g</th>\n",
       "      <th class=\"col_heading level0 col3\" >cholesterol_100g</th>\n",
       "      <th class=\"col_heading level0 col4\" >carbohydrates_100g</th>\n",
       "      <th class=\"col_heading level0 col5\" >sugars_100g</th>\n",
       "      <th class=\"col_heading level0 col6\" >fiber_100g</th>\n",
       "      <th class=\"col_heading level0 col7\" >proteins_100g</th>\n",
       "      <th class=\"col_heading level0 col8\" >sodium_100g</th>\n",
       "      <th class=\"col_heading level0 col9\" >nutrition-score-fr_100g</th>\n",
       "    </tr>\n",
       "  </thead>\n",
       "  <tbody>\n",
       "    <tr>\n",
       "      <th id=\"T_bf1a2_level0_row0\" class=\"row_heading level0 row0\" >energy_100g</th>\n",
       "      <td id=\"T_bf1a2_row0_col0\" class=\"data row0 col0\" >1.000000</td>\n",
       "      <td id=\"T_bf1a2_row0_col1\" class=\"data row0 col1\" >0.780796</td>\n",
       "      <td id=\"T_bf1a2_row0_col2\" class=\"data row0 col2\" >0.575730</td>\n",
       "      <td id=\"T_bf1a2_row0_col3\" class=\"data row0 col3\" >0.045337</td>\n",
       "      <td id=\"T_bf1a2_row0_col4\" class=\"data row0 col4\" >0.578577</td>\n",
       "      <td id=\"T_bf1a2_row0_col5\" class=\"data row0 col5\" >0.354977</td>\n",
       "      <td id=\"T_bf1a2_row0_col6\" class=\"data row0 col6\" >0.312890</td>\n",
       "      <td id=\"T_bf1a2_row0_col7\" class=\"data row0 col7\" >0.298186</td>\n",
       "      <td id=\"T_bf1a2_row0_col8\" class=\"data row0 col8\" >-0.072916</td>\n",
       "      <td id=\"T_bf1a2_row0_col9\" class=\"data row0 col9\" >0.645861</td>\n",
       "    </tr>\n",
       "    <tr>\n",
       "      <th id=\"T_bf1a2_level0_row1\" class=\"row_heading level0 row1\" >fat_100g</th>\n",
       "      <td id=\"T_bf1a2_row1_col0\" class=\"data row1 col0\" >0.780796</td>\n",
       "      <td id=\"T_bf1a2_row1_col1\" class=\"data row1 col1\" >1.000000</td>\n",
       "      <td id=\"T_bf1a2_row1_col2\" class=\"data row1 col2\" >0.722929</td>\n",
       "      <td id=\"T_bf1a2_row1_col3\" class=\"data row1 col3\" >0.194264</td>\n",
       "      <td id=\"T_bf1a2_row1_col4\" class=\"data row1 col4\" >-0.025721</td>\n",
       "      <td id=\"T_bf1a2_row1_col5\" class=\"data row1 col5\" >0.003161</td>\n",
       "      <td id=\"T_bf1a2_row1_col6\" class=\"data row1 col6\" >0.162658</td>\n",
       "      <td id=\"T_bf1a2_row1_col7\" class=\"data row1 col7\" >0.260550</td>\n",
       "      <td id=\"T_bf1a2_row1_col8\" class=\"data row1 col8\" >-0.049477</td>\n",
       "      <td id=\"T_bf1a2_row1_col9\" class=\"data row1 col9\" >0.586063</td>\n",
       "    </tr>\n",
       "    <tr>\n",
       "      <th id=\"T_bf1a2_level0_row2\" class=\"row_heading level0 row2\" >saturated-fat_100g</th>\n",
       "      <td id=\"T_bf1a2_row2_col0\" class=\"data row2 col0\" >0.575730</td>\n",
       "      <td id=\"T_bf1a2_row2_col1\" class=\"data row2 col1\" >0.722929</td>\n",
       "      <td id=\"T_bf1a2_row2_col2\" class=\"data row2 col2\" >1.000000</td>\n",
       "      <td id=\"T_bf1a2_row2_col3\" class=\"data row2 col3\" >0.317502</td>\n",
       "      <td id=\"T_bf1a2_row2_col4\" class=\"data row2 col4\" >0.006367</td>\n",
       "      <td id=\"T_bf1a2_row2_col5\" class=\"data row2 col5\" >0.148815</td>\n",
       "      <td id=\"T_bf1a2_row2_col6\" class=\"data row2 col6\" >0.019804</td>\n",
       "      <td id=\"T_bf1a2_row2_col7\" class=\"data row2 col7\" >0.146597</td>\n",
       "      <td id=\"T_bf1a2_row2_col8\" class=\"data row2 col8\" >-0.028969</td>\n",
       "      <td id=\"T_bf1a2_row2_col9\" class=\"data row2 col9\" >0.630860</td>\n",
       "    </tr>\n",
       "    <tr>\n",
       "      <th id=\"T_bf1a2_level0_row3\" class=\"row_heading level0 row3\" >cholesterol_100g</th>\n",
       "      <td id=\"T_bf1a2_row3_col0\" class=\"data row3 col0\" >0.045337</td>\n",
       "      <td id=\"T_bf1a2_row3_col1\" class=\"data row3 col1\" >0.194264</td>\n",
       "      <td id=\"T_bf1a2_row3_col2\" class=\"data row3 col2\" >0.317502</td>\n",
       "      <td id=\"T_bf1a2_row3_col3\" class=\"data row3 col3\" >1.000000</td>\n",
       "      <td id=\"T_bf1a2_row3_col4\" class=\"data row3 col4\" >-0.290928</td>\n",
       "      <td id=\"T_bf1a2_row3_col5\" class=\"data row3 col5\" >-0.126701</td>\n",
       "      <td id=\"T_bf1a2_row3_col6\" class=\"data row3 col6\" >-0.227837</td>\n",
       "      <td id=\"T_bf1a2_row3_col7\" class=\"data row3 col7\" >0.368229</td>\n",
       "      <td id=\"T_bf1a2_row3_col8\" class=\"data row3 col8\" >0.010180</td>\n",
       "      <td id=\"T_bf1a2_row3_col9\" class=\"data row3 col9\" >0.250918</td>\n",
       "    </tr>\n",
       "    <tr>\n",
       "      <th id=\"T_bf1a2_level0_row4\" class=\"row_heading level0 row4\" >carbohydrates_100g</th>\n",
       "      <td id=\"T_bf1a2_row4_col0\" class=\"data row4 col0\" >0.578577</td>\n",
       "      <td id=\"T_bf1a2_row4_col1\" class=\"data row4 col1\" >-0.025721</td>\n",
       "      <td id=\"T_bf1a2_row4_col2\" class=\"data row4 col2\" >0.006367</td>\n",
       "      <td id=\"T_bf1a2_row4_col3\" class=\"data row4 col3\" >-0.290928</td>\n",
       "      <td id=\"T_bf1a2_row4_col4\" class=\"data row4 col4\" >1.000000</td>\n",
       "      <td id=\"T_bf1a2_row4_col5\" class=\"data row4 col5\" >0.659704</td>\n",
       "      <td id=\"T_bf1a2_row4_col6\" class=\"data row4 col6\" >0.276246</td>\n",
       "      <td id=\"T_bf1a2_row4_col7\" class=\"data row4 col7\" >-0.096389</td>\n",
       "      <td id=\"T_bf1a2_row4_col8\" class=\"data row4 col8\" >-0.069440</td>\n",
       "      <td id=\"T_bf1a2_row4_col9\" class=\"data row4 col9\" >0.307500</td>\n",
       "    </tr>\n",
       "    <tr>\n",
       "      <th id=\"T_bf1a2_level0_row5\" class=\"row_heading level0 row5\" >sugars_100g</th>\n",
       "      <td id=\"T_bf1a2_row5_col0\" class=\"data row5 col0\" >0.354977</td>\n",
       "      <td id=\"T_bf1a2_row5_col1\" class=\"data row5 col1\" >0.003161</td>\n",
       "      <td id=\"T_bf1a2_row5_col2\" class=\"data row5 col2\" >0.148815</td>\n",
       "      <td id=\"T_bf1a2_row5_col3\" class=\"data row5 col3\" >-0.126701</td>\n",
       "      <td id=\"T_bf1a2_row5_col4\" class=\"data row5 col4\" >0.659704</td>\n",
       "      <td id=\"T_bf1a2_row5_col5\" class=\"data row5 col5\" >1.000000</td>\n",
       "      <td id=\"T_bf1a2_row5_col6\" class=\"data row5 col6\" >-0.002263</td>\n",
       "      <td id=\"T_bf1a2_row5_col7\" class=\"data row5 col7\" >-0.251789</td>\n",
       "      <td id=\"T_bf1a2_row5_col8\" class=\"data row5 col8\" >-0.084559</td>\n",
       "      <td id=\"T_bf1a2_row5_col9\" class=\"data row5 col9\" >0.488603</td>\n",
       "    </tr>\n",
       "    <tr>\n",
       "      <th id=\"T_bf1a2_level0_row6\" class=\"row_heading level0 row6\" >fiber_100g</th>\n",
       "      <td id=\"T_bf1a2_row6_col0\" class=\"data row6 col0\" >0.312890</td>\n",
       "      <td id=\"T_bf1a2_row6_col1\" class=\"data row6 col1\" >0.162658</td>\n",
       "      <td id=\"T_bf1a2_row6_col2\" class=\"data row6 col2\" >0.019804</td>\n",
       "      <td id=\"T_bf1a2_row6_col3\" class=\"data row6 col3\" >-0.227837</td>\n",
       "      <td id=\"T_bf1a2_row6_col4\" class=\"data row6 col4\" >0.276246</td>\n",
       "      <td id=\"T_bf1a2_row6_col5\" class=\"data row6 col5\" >-0.002263</td>\n",
       "      <td id=\"T_bf1a2_row6_col6\" class=\"data row6 col6\" >1.000000</td>\n",
       "      <td id=\"T_bf1a2_row6_col7\" class=\"data row6 col7\" >0.247921</td>\n",
       "      <td id=\"T_bf1a2_row6_col8\" class=\"data row6 col8\" >-0.018928</td>\n",
       "      <td id=\"T_bf1a2_row6_col9\" class=\"data row6 col9\" >-0.133279</td>\n",
       "    </tr>\n",
       "    <tr>\n",
       "      <th id=\"T_bf1a2_level0_row7\" class=\"row_heading level0 row7\" >proteins_100g</th>\n",
       "      <td id=\"T_bf1a2_row7_col0\" class=\"data row7 col0\" >0.298186</td>\n",
       "      <td id=\"T_bf1a2_row7_col1\" class=\"data row7 col1\" >0.260550</td>\n",
       "      <td id=\"T_bf1a2_row7_col2\" class=\"data row7 col2\" >0.146597</td>\n",
       "      <td id=\"T_bf1a2_row7_col3\" class=\"data row7 col3\" >0.368229</td>\n",
       "      <td id=\"T_bf1a2_row7_col4\" class=\"data row7 col4\" >-0.096389</td>\n",
       "      <td id=\"T_bf1a2_row7_col5\" class=\"data row7 col5\" >-0.251789</td>\n",
       "      <td id=\"T_bf1a2_row7_col6\" class=\"data row7 col6\" >0.247921</td>\n",
       "      <td id=\"T_bf1a2_row7_col7\" class=\"data row7 col7\" >1.000000</td>\n",
       "      <td id=\"T_bf1a2_row7_col8\" class=\"data row7 col8\" >0.005633</td>\n",
       "      <td id=\"T_bf1a2_row7_col9\" class=\"data row7 col9\" >0.092228</td>\n",
       "    </tr>\n",
       "    <tr>\n",
       "      <th id=\"T_bf1a2_level0_row8\" class=\"row_heading level0 row8\" >sodium_100g</th>\n",
       "      <td id=\"T_bf1a2_row8_col0\" class=\"data row8 col0\" >-0.072916</td>\n",
       "      <td id=\"T_bf1a2_row8_col1\" class=\"data row8 col1\" >-0.049477</td>\n",
       "      <td id=\"T_bf1a2_row8_col2\" class=\"data row8 col2\" >-0.028969</td>\n",
       "      <td id=\"T_bf1a2_row8_col3\" class=\"data row8 col3\" >0.010180</td>\n",
       "      <td id=\"T_bf1a2_row8_col4\" class=\"data row8 col4\" >-0.069440</td>\n",
       "      <td id=\"T_bf1a2_row8_col5\" class=\"data row8 col5\" >-0.084559</td>\n",
       "      <td id=\"T_bf1a2_row8_col6\" class=\"data row8 col6\" >-0.018928</td>\n",
       "      <td id=\"T_bf1a2_row8_col7\" class=\"data row8 col7\" >0.005633</td>\n",
       "      <td id=\"T_bf1a2_row8_col8\" class=\"data row8 col8\" >1.000000</td>\n",
       "      <td id=\"T_bf1a2_row8_col9\" class=\"data row8 col9\" >0.114238</td>\n",
       "    </tr>\n",
       "    <tr>\n",
       "      <th id=\"T_bf1a2_level0_row9\" class=\"row_heading level0 row9\" >nutrition-score-fr_100g</th>\n",
       "      <td id=\"T_bf1a2_row9_col0\" class=\"data row9 col0\" >0.645861</td>\n",
       "      <td id=\"T_bf1a2_row9_col1\" class=\"data row9 col1\" >0.586063</td>\n",
       "      <td id=\"T_bf1a2_row9_col2\" class=\"data row9 col2\" >0.630860</td>\n",
       "      <td id=\"T_bf1a2_row9_col3\" class=\"data row9 col3\" >0.250918</td>\n",
       "      <td id=\"T_bf1a2_row9_col4\" class=\"data row9 col4\" >0.307500</td>\n",
       "      <td id=\"T_bf1a2_row9_col5\" class=\"data row9 col5\" >0.488603</td>\n",
       "      <td id=\"T_bf1a2_row9_col6\" class=\"data row9 col6\" >-0.133279</td>\n",
       "      <td id=\"T_bf1a2_row9_col7\" class=\"data row9 col7\" >0.092228</td>\n",
       "      <td id=\"T_bf1a2_row9_col8\" class=\"data row9 col8\" >0.114238</td>\n",
       "      <td id=\"T_bf1a2_row9_col9\" class=\"data row9 col9\" >1.000000</td>\n",
       "    </tr>\n",
       "  </tbody>\n",
       "</table>\n"
      ],
      "text/plain": [
       "<pandas.io.formats.style.Styler at 0x13404187ac0>"
      ]
     },
     "execution_count": 542,
     "metadata": {},
     "output_type": "execute_result"
    }
   ],
   "source": [
    "Indicateurs.corr().style.background_gradient()"
   ]
  },
  {
   "cell_type": "code",
   "execution_count": 543,
   "id": "6207c53c",
   "metadata": {},
   "outputs": [
    {
     "data": {
      "text/plain": [
       "unknown                           100805\n",
       "Sugary snacks                      25568\n",
       "Fruits and vegetables               9904\n",
       "Fish Meat Eggs                      8279\n",
       "Cereal and Grains                   7614\n",
       "Beverages                           7518\n",
       "Milk and dairy products             6311\n",
       "Composite foods                     4726\n",
       "Cereals and potatoes                3616\n",
       "Salty snacks                        2347\n",
       "Groceries                           2182\n",
       "Plant based food and beverages      2174\n",
       "Canned foods                        1897\n",
       "Desserts                            1844\n",
       "Fat and sauces                      1716\n",
       "Frozen food                         1687\n",
       "Breakfast cereals                   1568\n",
       "Nuts and seeds                      1313\n",
       "Salted spreads                       877\n",
       "Condiments                           708\n",
       "Baby food                            520\n",
       "Appetizers                           496\n",
       "Pizza pies and quiche                427\n",
       "Spreads                              401\n",
       "Dietary supplements                  257\n",
       "Sweeteners                           134\n",
       "Spices                               112\n",
       "Dried products                        62\n",
       "Salts                                 54\n",
       "Snacks                                46\n",
       "Syrups                                33\n",
       "Food additives                        19\n",
       "Name: pnns_groups_1, dtype: int64"
      ]
     },
     "execution_count": 543,
     "metadata": {},
     "output_type": "execute_result"
    }
   ],
   "source": [
    "Indicateurs['pnns_groups_1'].value_counts()"
   ]
  },
  {
   "cell_type": "code",
   "execution_count": 544,
   "id": "4bf1cc0a",
   "metadata": {},
   "outputs": [
    {
     "data": {
      "text/plain": [
       "<AxesSubplot:>"
      ]
     },
     "execution_count": 544,
     "metadata": {},
     "output_type": "execute_result"
    },
    {
     "data": {
      "image/png": "[encoded data removed]",
      "text/plain": [
       "<Figure size 720x288 with 1 Axes>"
      ]
     },
     "metadata": {
      "needs_background": "light"
     },
     "output_type": "display_data"
    }
   ],
   "source": [
    "categ=Indicateurs['pnns_groups_1'].value_counts()\n",
    "categ=categ[categ<30000]\n",
    "categ.plot(kind='bar', figsize=(10,4))"
   ]
  },
  {
   "cell_type": "markdown",
   "id": "ca9d3bd4",
   "metadata": {},
   "source": [
    "## Conclusion\n",
    "On voit bien apres netoyage que les correlations entre les differentes valeurs sont plus claires. Je garde une coie de ce dataset afin d'eviter de refaire le travail de netoyage"
   ]
  },
  {
   "cell_type": "code",
   "execution_count": 545,
   "id": "b5cfda2c",
   "metadata": {},
   "outputs": [],
   "source": [
    "Indicateurs.to_csv('Indicateurs.csv', index=False)"
   ]
  },
  {
   "cell_type": "code",
   "execution_count": 546,
   "id": "28dc1d72",
   "metadata": {},
   "outputs": [],
   "source": [
    "Indicateurs=pd.read_csv('Indicateurs.csv', sep=',')"
   ]
  },
  {
   "cell_type": "code",
   "execution_count": 547,
   "id": "9073f0f3",
   "metadata": {},
   "outputs": [
    {
     "data": {
      "text/plain": [
       "(195215, 14)"
      ]
     },
     "execution_count": 547,
     "metadata": {},
     "output_type": "execute_result"
    }
   ],
   "source": [
    "Indicateurs.shape"
   ]
  },
  {
   "cell_type": "markdown",
   "id": "65c48939",
   "metadata": {},
   "source": [
    "# Imputations\n",
    "Nous allons essayer de remplacer les vaelurs manquantes en utilisant 2 methodes. La premiere methode est la methode de iterative computing et la seconde est la methode knn. Avant l'imputation nous allons faire un split de notre dataset qui nous servira pour la validation des resultats "
   ]
  },
  {
   "cell_type": "code",
   "execution_count": 548,
   "id": "7addc417",
   "metadata": {},
   "outputs": [],
   "source": [
    "from sklearn.experimental import enable_iterative_imputer\n",
    "from sklearn.impute import IterativeImputer\n",
    "from sklearn.pipeline import FeatureUnion, make_pipeline\n",
    "from sklearn.tree import DecisionTreeClassifier\n",
    "from sklearn.model_selection import train_test_split\n",
    "from sklearn.impute import KNNImputer\n",
    "from sklearn.ensemble import RandomForestRegressor\n",
    "\n"
   ]
  },
  {
   "cell_type": "code",
   "execution_count": 549,
   "id": "afe99d09",
   "metadata": {},
   "outputs": [],
   "source": [
    "X_train, X_test = train_test_split(Indicateurs, test_size=0.2, random_state=42)"
   ]
  },
  {
   "cell_type": "code",
   "execution_count": 550,
   "id": "abc330aa",
   "metadata": {},
   "outputs": [
    {
     "data": {
      "text/plain": [
       "(156172, 14)"
      ]
     },
     "execution_count": 550,
     "metadata": {},
     "output_type": "execute_result"
    }
   ],
   "source": [
    "X_train.shape"
   ]
  },
  {
   "cell_type": "code",
   "execution_count": 551,
   "id": "72c6d8be",
   "metadata": {},
   "outputs": [
    {
     "data": {
      "text/plain": [
       "(39043, 14)"
      ]
     },
     "execution_count": 551,
     "metadata": {},
     "output_type": "execute_result"
    }
   ],
   "source": [
    "X_test.shape"
   ]
  },
  {
   "cell_type": "code",
   "execution_count": 553,
   "id": "4078edef",
   "metadata": {},
   "outputs": [
    {
     "data": {
      "text/html": [
       "<style type=\"text/css\">\n",
       "#T_c651a_row0_col0, #T_c651a_row1_col1, #T_c651a_row2_col2, #T_c651a_row3_col3, #T_c651a_row4_col4, #T_c651a_row5_col5, #T_c651a_row6_col6, #T_c651a_row7_col7, #T_c651a_row8_col8, #T_c651a_row9_col9 {\n",
       "  background-color: #023858;\n",
       "  color: #f1f1f1;\n",
       "}\n",
       "#T_c651a_row0_col1 {\n",
       "  background-color: #0569a4;\n",
       "  color: #f1f1f1;\n",
       "}\n",
       "#T_c651a_row0_col2 {\n",
       "  background-color: #4897c4;\n",
       "  color: #f1f1f1;\n",
       "}\n",
       "#T_c651a_row0_col3 {\n",
       "  background-color: #cccfe5;\n",
       "  color: #000000;\n",
       "}\n",
       "#T_c651a_row0_col4 {\n",
       "  background-color: #2383ba;\n",
       "  color: #f1f1f1;\n",
       "}\n",
       "#T_c651a_row0_col5 {\n",
       "  background-color: #79abd0;\n",
       "  color: #f1f1f1;\n",
       "}\n",
       "#T_c651a_row0_col6 {\n",
       "  background-color: #8bb2d4;\n",
       "  color: #000000;\n",
       "}\n",
       "#T_c651a_row0_col7, #T_c651a_row6_col4 {\n",
       "  background-color: #8cb3d5;\n",
       "  color: #000000;\n",
       "}\n",
       "#T_c651a_row0_col8 {\n",
       "  background-color: #fef6fa;\n",
       "  color: #000000;\n",
       "}\n",
       "#T_c651a_row0_col9 {\n",
       "  background-color: #1c7fb8;\n",
       "  color: #f1f1f1;\n",
       "}\n",
       "#T_c651a_row1_col0 {\n",
       "  background-color: #0568a3;\n",
       "  color: #f1f1f1;\n",
       "}\n",
       "#T_c651a_row1_col2, #T_c651a_row4_col5 {\n",
       "  background-color: #0d75b3;\n",
       "  color: #f1f1f1;\n",
       "}\n",
       "#T_c651a_row1_col3 {\n",
       "  background-color: #a5bddb;\n",
       "  color: #000000;\n",
       "}\n",
       "#T_c651a_row1_col4, #T_c651a_row1_col5, #T_c651a_row8_col7 {\n",
       "  background-color: #dad9ea;\n",
       "  color: #000000;\n",
       "}\n",
       "#T_c651a_row1_col6, #T_c651a_row2_col7 {\n",
       "  background-color: #b9c6e0;\n",
       "  color: #000000;\n",
       "}\n",
       "#T_c651a_row1_col7 {\n",
       "  background-color: #99b8d8;\n",
       "  color: #000000;\n",
       "}\n",
       "#T_c651a_row1_col8 {\n",
       "  background-color: #fbf3f9;\n",
       "  color: #000000;\n",
       "}\n",
       "#T_c651a_row1_col9 {\n",
       "  background-color: #328dbf;\n",
       "  color: #f1f1f1;\n",
       "}\n",
       "#T_c651a_row2_col0, #T_c651a_row4_col0, #T_c651a_row9_col1 {\n",
       "  background-color: #3f93c2;\n",
       "  color: #f1f1f1;\n",
       "}\n",
       "#T_c651a_row2_col1, #T_c651a_row5_col4 {\n",
       "  background-color: #0a73b2;\n",
       "  color: #f1f1f1;\n",
       "}\n",
       "#T_c651a_row2_col3 {\n",
       "  background-color: #7eadd1;\n",
       "  color: #f1f1f1;\n",
       "}\n",
       "#T_c651a_row2_col4, #T_c651a_row8_col3 {\n",
       "  background-color: #d4d4e8;\n",
       "  color: #000000;\n",
       "}\n",
       "#T_c651a_row2_col5 {\n",
       "  background-color: #b8c6e0;\n",
       "  color: #000000;\n",
       "}\n",
       "#T_c651a_row2_col6, #T_c651a_row6_col1, #T_c651a_row6_col5 {\n",
       "  background-color: #dbdaeb;\n",
       "  color: #000000;\n",
       "}\n",
       "#T_c651a_row2_col8, #T_c651a_row6_col2, #T_c651a_row6_col3 {\n",
       "  background-color: #f8f1f8;\n",
       "  color: #000000;\n",
       "}\n",
       "#T_c651a_row2_col9 {\n",
       "  background-color: #2182b9;\n",
       "  color: #f1f1f1;\n",
       "}\n",
       "#T_c651a_row3_col0 {\n",
       "  background-color: #eee9f3;\n",
       "  color: #000000;\n",
       "}\n",
       "#T_c651a_row3_col1 {\n",
       "  background-color: #d3d4e7;\n",
       "  color: #000000;\n",
       "}\n",
       "#T_c651a_row3_col2, #T_c651a_row3_col9 {\n",
       "  background-color: #b1c2de;\n",
       "  color: #000000;\n",
       "}\n",
       "#T_c651a_row3_col4, #T_c651a_row3_col6, #T_c651a_row4_col3, #T_c651a_row5_col7, #T_c651a_row5_col8, #T_c651a_row6_col9, #T_c651a_row7_col5, #T_c651a_row8_col0, #T_c651a_row8_col1, #T_c651a_row8_col2 {\n",
       "  background-color: #fff7fb;\n",
       "  color: #000000;\n",
       "}\n",
       "#T_c651a_row3_col5 {\n",
       "  background-color: #f0eaf4;\n",
       "  color: #000000;\n",
       "}\n",
       "#T_c651a_row3_col7 {\n",
       "  background-color: #76aad0;\n",
       "  color: #f1f1f1;\n",
       "}\n",
       "#T_c651a_row3_col8, #T_c651a_row7_col8 {\n",
       "  background-color: #f2ecf5;\n",
       "  color: #000000;\n",
       "}\n",
       "#T_c651a_row4_col1 {\n",
       "  background-color: #fcf4fa;\n",
       "  color: #000000;\n",
       "}\n",
       "#T_c651a_row4_col2 {\n",
       "  background-color: #faf2f8;\n",
       "  color: #000000;\n",
       "}\n",
       "#T_c651a_row4_col6 {\n",
       "  background-color: #97b7d7;\n",
       "  color: #000000;\n",
       "}\n",
       "#T_c651a_row4_col7 {\n",
       "  background-color: #ede7f2;\n",
       "  color: #000000;\n",
       "}\n",
       "#T_c651a_row4_col8 {\n",
       "  background-color: #fdf5fa;\n",
       "  color: #000000;\n",
       "}\n",
       "#T_c651a_row4_col9, #T_c651a_row7_col6 {\n",
       "  background-color: #a1bbda;\n",
       "  color: #000000;\n",
       "}\n",
       "#T_c651a_row5_col0, #T_c651a_row6_col7 {\n",
       "  background-color: #9cb9d9;\n",
       "  color: #000000;\n",
       "}\n",
       "#T_c651a_row5_col1 {\n",
       "  background-color: #f7f0f7;\n",
       "  color: #000000;\n",
       "}\n",
       "#T_c651a_row5_col2, #T_c651a_row8_col4 {\n",
       "  background-color: #e1dfed;\n",
       "  color: #000000;\n",
       "}\n",
       "#T_c651a_row5_col3 {\n",
       "  background-color: #ece7f2;\n",
       "  color: #000000;\n",
       "}\n",
       "#T_c651a_row5_col6 {\n",
       "  background-color: #dfddec;\n",
       "  color: #000000;\n",
       "}\n",
       "#T_c651a_row5_col9 {\n",
       "  background-color: #5c9fc9;\n",
       "  color: #f1f1f1;\n",
       "}\n",
       "#T_c651a_row6_col0 {\n",
       "  background-color: #abbfdc;\n",
       "  color: #000000;\n",
       "}\n",
       "#T_c651a_row6_col8 {\n",
       "  background-color: #f6eff7;\n",
       "  color: #000000;\n",
       "}\n",
       "#T_c651a_row7_col0 {\n",
       "  background-color: #b0c2de;\n",
       "  color: #000000;\n",
       "}\n",
       "#T_c651a_row7_col1 {\n",
       "  background-color: #c1cae2;\n",
       "  color: #000000;\n",
       "}\n",
       "#T_c651a_row7_col2, #T_c651a_row8_col6 {\n",
       "  background-color: #e2dfee;\n",
       "  color: #000000;\n",
       "}\n",
       "#T_c651a_row7_col3 {\n",
       "  background-color: #6fa7ce;\n",
       "  color: #f1f1f1;\n",
       "}\n",
       "#T_c651a_row7_col4 {\n",
       "  background-color: #e7e3f0;\n",
       "  color: #000000;\n",
       "}\n",
       "#T_c651a_row7_col9 {\n",
       "  background-color: #dcdaeb;\n",
       "  color: #000000;\n",
       "}\n",
       "#T_c651a_row8_col5 {\n",
       "  background-color: #eae6f1;\n",
       "  color: #000000;\n",
       "}\n",
       "#T_c651a_row8_col9 {\n",
       "  background-color: #d8d7e9;\n",
       "  color: #000000;\n",
       "}\n",
       "#T_c651a_row9_col0 {\n",
       "  background-color: #2484ba;\n",
       "  color: #f1f1f1;\n",
       "}\n",
       "#T_c651a_row9_col2 {\n",
       "  background-color: #2f8bbe;\n",
       "  color: #f1f1f1;\n",
       "}\n",
       "#T_c651a_row9_col3 {\n",
       "  background-color: #93b5d6;\n",
       "  color: #000000;\n",
       "}\n",
       "#T_c651a_row9_col4 {\n",
       "  background-color: #83afd3;\n",
       "  color: #f1f1f1;\n",
       "}\n",
       "#T_c651a_row9_col5 {\n",
       "  background-color: #4697c4;\n",
       "  color: #f1f1f1;\n",
       "}\n",
       "#T_c651a_row9_col6 {\n",
       "  background-color: #f3edf5;\n",
       "  color: #000000;\n",
       "}\n",
       "#T_c651a_row9_col7 {\n",
       "  background-color: #c8cde4;\n",
       "  color: #000000;\n",
       "}\n",
       "#T_c651a_row9_col8 {\n",
       "  background-color: #e0dded;\n",
       "  color: #000000;\n",
       "}\n",
       "</style>\n",
       "<table id=\"T_c651a_\">\n",
       "  <thead>\n",
       "    <tr>\n",
       "      <th class=\"blank level0\" >&nbsp;</th>\n",
       "      <th class=\"col_heading level0 col0\" >energy_100g</th>\n",
       "      <th class=\"col_heading level0 col1\" >fat_100g</th>\n",
       "      <th class=\"col_heading level0 col2\" >saturated-fat_100g</th>\n",
       "      <th class=\"col_heading level0 col3\" >cholesterol_100g</th>\n",
       "      <th class=\"col_heading level0 col4\" >carbohydrates_100g</th>\n",
       "      <th class=\"col_heading level0 col5\" >sugars_100g</th>\n",
       "      <th class=\"col_heading level0 col6\" >fiber_100g</th>\n",
       "      <th class=\"col_heading level0 col7\" >proteins_100g</th>\n",
       "      <th class=\"col_heading level0 col8\" >sodium_100g</th>\n",
       "      <th class=\"col_heading level0 col9\" >nutrition-score-fr_100g</th>\n",
       "    </tr>\n",
       "  </thead>\n",
       "  <tbody>\n",
       "    <tr>\n",
       "      <th id=\"T_c651a_level0_row0\" class=\"row_heading level0 row0\" >energy_100g</th>\n",
       "      <td id=\"T_c651a_row0_col0\" class=\"data row0 col0\" >1.000000</td>\n",
       "      <td id=\"T_c651a_row0_col1\" class=\"data row0 col1\" >0.780967</td>\n",
       "      <td id=\"T_c651a_row0_col2\" class=\"data row0 col2\" >0.576412</td>\n",
       "      <td id=\"T_c651a_row0_col3\" class=\"data row0 col3\" >0.046049</td>\n",
       "      <td id=\"T_c651a_row0_col4\" class=\"data row0 col4\" >0.577962</td>\n",
       "      <td id=\"T_c651a_row0_col5\" class=\"data row0 col5\" >0.355645</td>\n",
       "      <td id=\"T_c651a_row0_col6\" class=\"data row0 col6\" >0.313685</td>\n",
       "      <td id=\"T_c651a_row0_col7\" class=\"data row0 col7\" >0.299094</td>\n",
       "      <td id=\"T_c651a_row0_col8\" class=\"data row0 col8\" >-0.074240</td>\n",
       "      <td id=\"T_c651a_row0_col9\" class=\"data row0 col9\" >0.646383</td>\n",
       "    </tr>\n",
       "    <tr>\n",
       "      <th id=\"T_c651a_level0_row1\" class=\"row_heading level0 row1\" >fat_100g</th>\n",
       "      <td id=\"T_c651a_row1_col0\" class=\"data row1 col0\" >0.780967</td>\n",
       "      <td id=\"T_c651a_row1_col1\" class=\"data row1 col1\" >1.000000</td>\n",
       "      <td id=\"T_c651a_row1_col2\" class=\"data row1 col2\" >0.722474</td>\n",
       "      <td id=\"T_c651a_row1_col3\" class=\"data row1 col3\" >0.197221</td>\n",
       "      <td id=\"T_c651a_row1_col4\" class=\"data row1 col4\" >-0.026303</td>\n",
       "      <td id=\"T_c651a_row1_col5\" class=\"data row1 col5\" >0.004994</td>\n",
       "      <td id=\"T_c651a_row1_col6\" class=\"data row1 col6\" >0.161968</td>\n",
       "      <td id=\"T_c651a_row1_col7\" class=\"data row1 col7\" >0.260695</td>\n",
       "      <td id=\"T_c651a_row1_col8\" class=\"data row1 col8\" >-0.050544</td>\n",
       "      <td id=\"T_c651a_row1_col9\" class=\"data row1 col9\" >0.587066</td>\n",
       "    </tr>\n",
       "    <tr>\n",
       "      <th id=\"T_c651a_level0_row2\" class=\"row_heading level0 row2\" >saturated-fat_100g</th>\n",
       "      <td id=\"T_c651a_row2_col0\" class=\"data row2 col0\" >0.576412</td>\n",
       "      <td id=\"T_c651a_row2_col1\" class=\"data row2 col1\" >0.722474</td>\n",
       "      <td id=\"T_c651a_row2_col2\" class=\"data row2 col2\" >1.000000</td>\n",
       "      <td id=\"T_c651a_row2_col3\" class=\"data row2 col3\" >0.322756</td>\n",
       "      <td id=\"T_c651a_row2_col4\" class=\"data row2 col4\" >0.006888</td>\n",
       "      <td id=\"T_c651a_row2_col5\" class=\"data row2 col5\" >0.150629</td>\n",
       "      <td id=\"T_c651a_row2_col6\" class=\"data row2 col6\" >0.018665</td>\n",
       "      <td id=\"T_c651a_row2_col7\" class=\"data row2 col7\" >0.145312</td>\n",
       "      <td id=\"T_c651a_row2_col8\" class=\"data row2 col8\" >-0.029645</td>\n",
       "      <td id=\"T_c651a_row2_col9\" class=\"data row2 col9\" >0.633538</td>\n",
       "    </tr>\n",
       "    <tr>\n",
       "      <th id=\"T_c651a_level0_row3\" class=\"row_heading level0 row3\" >cholesterol_100g</th>\n",
       "      <td id=\"T_c651a_row3_col0\" class=\"data row3 col0\" >0.046049</td>\n",
       "      <td id=\"T_c651a_row3_col1\" class=\"data row3 col1\" >0.197221</td>\n",
       "      <td id=\"T_c651a_row3_col2\" class=\"data row3 col2\" >0.322756</td>\n",
       "      <td id=\"T_c651a_row3_col3\" class=\"data row3 col3\" >1.000000</td>\n",
       "      <td id=\"T_c651a_row3_col4\" class=\"data row3 col4\" >-0.292256</td>\n",
       "      <td id=\"T_c651a_row3_col5\" class=\"data row3 col5\" >-0.126401</td>\n",
       "      <td id=\"T_c651a_row3_col6\" class=\"data row3 col6\" >-0.230325</td>\n",
       "      <td id=\"T_c651a_row3_col7\" class=\"data row3 col7\" >0.365085</td>\n",
       "      <td id=\"T_c651a_row3_col8\" class=\"data row3 col8\" >0.009060</td>\n",
       "      <td id=\"T_c651a_row3_col9\" class=\"data row3 col9\" >0.254973</td>\n",
       "    </tr>\n",
       "    <tr>\n",
       "      <th id=\"T_c651a_level0_row4\" class=\"row_heading level0 row4\" >carbohydrates_100g</th>\n",
       "      <td id=\"T_c651a_row4_col0\" class=\"data row4 col0\" >0.577962</td>\n",
       "      <td id=\"T_c651a_row4_col1\" class=\"data row4 col1\" >-0.026303</td>\n",
       "      <td id=\"T_c651a_row4_col2\" class=\"data row4 col2\" >0.006888</td>\n",
       "      <td id=\"T_c651a_row4_col3\" class=\"data row4 col3\" >-0.292256</td>\n",
       "      <td id=\"T_c651a_row4_col4\" class=\"data row4 col4\" >1.000000</td>\n",
       "      <td id=\"T_c651a_row4_col5\" class=\"data row4 col5\" >0.658391</td>\n",
       "      <td id=\"T_c651a_row4_col6\" class=\"data row4 col6\" >0.277497</td>\n",
       "      <td id=\"T_c651a_row4_col7\" class=\"data row4 col7\" >-0.095704</td>\n",
       "      <td id=\"T_c651a_row4_col8\" class=\"data row4 col8\" >-0.070041</td>\n",
       "      <td id=\"T_c651a_row4_col9\" class=\"data row4 col9\" >0.307173</td>\n",
       "    </tr>\n",
       "    <tr>\n",
       "      <th id=\"T_c651a_level0_row5\" class=\"row_heading level0 row5\" >sugars_100g</th>\n",
       "      <td id=\"T_c651a_row5_col0\" class=\"data row5 col0\" >0.355645</td>\n",
       "      <td id=\"T_c651a_row5_col1\" class=\"data row5 col1\" >0.004994</td>\n",
       "      <td id=\"T_c651a_row5_col2\" class=\"data row5 col2\" >0.150629</td>\n",
       "      <td id=\"T_c651a_row5_col3\" class=\"data row5 col3\" >-0.126401</td>\n",
       "      <td id=\"T_c651a_row5_col4\" class=\"data row5 col4\" >0.658391</td>\n",
       "      <td id=\"T_c651a_row5_col5\" class=\"data row5 col5\" >1.000000</td>\n",
       "      <td id=\"T_c651a_row5_col6\" class=\"data row5 col6\" >-0.000924</td>\n",
       "      <td id=\"T_c651a_row5_col7\" class=\"data row5 col7\" >-0.252048</td>\n",
       "      <td id=\"T_c651a_row5_col8\" class=\"data row5 col8\" >-0.084379</td>\n",
       "      <td id=\"T_c651a_row5_col9\" class=\"data row5 col9\" >0.488603</td>\n",
       "    </tr>\n",
       "    <tr>\n",
       "      <th id=\"T_c651a_level0_row6\" class=\"row_heading level0 row6\" >fiber_100g</th>\n",
       "      <td id=\"T_c651a_row6_col0\" class=\"data row6 col0\" >0.313685</td>\n",
       "      <td id=\"T_c651a_row6_col1\" class=\"data row6 col1\" >0.161968</td>\n",
       "      <td id=\"T_c651a_row6_col2\" class=\"data row6 col2\" >0.018665</td>\n",
       "      <td id=\"T_c651a_row6_col3\" class=\"data row6 col3\" >-0.230325</td>\n",
       "      <td id=\"T_c651a_row6_col4\" class=\"data row6 col4\" >0.277497</td>\n",
       "      <td id=\"T_c651a_row6_col5\" class=\"data row6 col5\" >-0.000924</td>\n",
       "      <td id=\"T_c651a_row6_col6\" class=\"data row6 col6\" >1.000000</td>\n",
       "      <td id=\"T_c651a_row6_col7\" class=\"data row6 col7\" >0.247541</td>\n",
       "      <td id=\"T_c651a_row6_col8\" class=\"data row6 col8\" >-0.019788</td>\n",
       "      <td id=\"T_c651a_row6_col9\" class=\"data row6 col9\" >-0.133106</td>\n",
       "    </tr>\n",
       "    <tr>\n",
       "      <th id=\"T_c651a_level0_row7\" class=\"row_heading level0 row7\" >proteins_100g</th>\n",
       "      <td id=\"T_c651a_row7_col0\" class=\"data row7 col0\" >0.299094</td>\n",
       "      <td id=\"T_c651a_row7_col1\" class=\"data row7 col1\" >0.260695</td>\n",
       "      <td id=\"T_c651a_row7_col2\" class=\"data row7 col2\" >0.145312</td>\n",
       "      <td id=\"T_c651a_row7_col3\" class=\"data row7 col3\" >0.365085</td>\n",
       "      <td id=\"T_c651a_row7_col4\" class=\"data row7 col4\" >-0.095704</td>\n",
       "      <td id=\"T_c651a_row7_col5\" class=\"data row7 col5\" >-0.252048</td>\n",
       "      <td id=\"T_c651a_row7_col6\" class=\"data row7 col6\" >0.247541</td>\n",
       "      <td id=\"T_c651a_row7_col7\" class=\"data row7 col7\" >1.000000</td>\n",
       "      <td id=\"T_c651a_row7_col8\" class=\"data row7 col8\" >0.005749</td>\n",
       "      <td id=\"T_c651a_row7_col9\" class=\"data row7 col9\" >0.092478</td>\n",
       "    </tr>\n",
       "    <tr>\n",
       "      <th id=\"T_c651a_level0_row8\" class=\"row_heading level0 row8\" >sodium_100g</th>\n",
       "      <td id=\"T_c651a_row8_col0\" class=\"data row8 col0\" >-0.074240</td>\n",
       "      <td id=\"T_c651a_row8_col1\" class=\"data row8 col1\" >-0.050544</td>\n",
       "      <td id=\"T_c651a_row8_col2\" class=\"data row8 col2\" >-0.029645</td>\n",
       "      <td id=\"T_c651a_row8_col3\" class=\"data row8 col3\" >0.009060</td>\n",
       "      <td id=\"T_c651a_row8_col4\" class=\"data row8 col4\" >-0.070041</td>\n",
       "      <td id=\"T_c651a_row8_col5\" class=\"data row8 col5\" >-0.084379</td>\n",
       "      <td id=\"T_c651a_row8_col6\" class=\"data row8 col6\" >-0.019788</td>\n",
       "      <td id=\"T_c651a_row8_col7\" class=\"data row8 col7\" >0.005749</td>\n",
       "      <td id=\"T_c651a_row8_col8\" class=\"data row8 col8\" >1.000000</td>\n",
       "      <td id=\"T_c651a_row8_col9\" class=\"data row8 col9\" >0.113909</td>\n",
       "    </tr>\n",
       "    <tr>\n",
       "      <th id=\"T_c651a_level0_row9\" class=\"row_heading level0 row9\" >nutrition-score-fr_100g</th>\n",
       "      <td id=\"T_c651a_row9_col0\" class=\"data row9 col0\" >0.646383</td>\n",
       "      <td id=\"T_c651a_row9_col1\" class=\"data row9 col1\" >0.587066</td>\n",
       "      <td id=\"T_c651a_row9_col2\" class=\"data row9 col2\" >0.633538</td>\n",
       "      <td id=\"T_c651a_row9_col3\" class=\"data row9 col3\" >0.254973</td>\n",
       "      <td id=\"T_c651a_row9_col4\" class=\"data row9 col4\" >0.307173</td>\n",
       "      <td id=\"T_c651a_row9_col5\" class=\"data row9 col5\" >0.488603</td>\n",
       "      <td id=\"T_c651a_row9_col6\" class=\"data row9 col6\" >-0.133106</td>\n",
       "      <td id=\"T_c651a_row9_col7\" class=\"data row9 col7\" >0.092478</td>\n",
       "      <td id=\"T_c651a_row9_col8\" class=\"data row9 col8\" >0.113909</td>\n",
       "      <td id=\"T_c651a_row9_col9\" class=\"data row9 col9\" >1.000000</td>\n",
       "    </tr>\n",
       "  </tbody>\n",
       "</table>\n"
      ],
      "text/plain": [
       "<pandas.io.formats.style.Styler at 0x134503420a0>"
      ]
     },
     "execution_count": 553,
     "metadata": {},
     "output_type": "execute_result"
    }
   ],
   "source": [
    "X_train.corr().style.background_gradient()"
   ]
  },
  {
   "cell_type": "code",
   "execution_count": 554,
   "id": "014af76a",
   "metadata": {},
   "outputs": [
    {
     "data": {
      "text/html": [
       "<style type=\"text/css\">\n",
       "#T_142ef_row0_col0, #T_142ef_row1_col1, #T_142ef_row2_col2, #T_142ef_row3_col3, #T_142ef_row4_col4, #T_142ef_row5_col5, #T_142ef_row6_col6, #T_142ef_row7_col7, #T_142ef_row8_col8, #T_142ef_row9_col9 {\n",
       "  background-color: #023858;\n",
       "  color: #f1f1f1;\n",
       "}\n",
       "#T_142ef_row0_col1 {\n",
       "  background-color: #0569a4;\n",
       "  color: #f1f1f1;\n",
       "}\n",
       "#T_142ef_row0_col2 {\n",
       "  background-color: #4a98c5;\n",
       "  color: #f1f1f1;\n",
       "}\n",
       "#T_142ef_row0_col3 {\n",
       "  background-color: #ced0e6;\n",
       "  color: #000000;\n",
       "}\n",
       "#T_142ef_row0_col4 {\n",
       "  background-color: #2383ba;\n",
       "  color: #f1f1f1;\n",
       "}\n",
       "#T_142ef_row0_col5 {\n",
       "  background-color: #7bacd1;\n",
       "  color: #f1f1f1;\n",
       "}\n",
       "#T_142ef_row0_col6, #T_142ef_row0_col7 {\n",
       "  background-color: #8eb3d5;\n",
       "  color: #000000;\n",
       "}\n",
       "#T_142ef_row0_col8, #T_142ef_row4_col8 {\n",
       "  background-color: #fdf5fa;\n",
       "  color: #000000;\n",
       "}\n",
       "#T_142ef_row0_col9 {\n",
       "  background-color: #1e80b8;\n",
       "  color: #f1f1f1;\n",
       "}\n",
       "#T_142ef_row1_col0 {\n",
       "  background-color: #0568a3;\n",
       "  color: #f1f1f1;\n",
       "}\n",
       "#T_142ef_row1_col2, #T_142ef_row4_col5 {\n",
       "  background-color: #0c74b2;\n",
       "  color: #f1f1f1;\n",
       "}\n",
       "#T_142ef_row1_col3 {\n",
       "  background-color: #a9bfdc;\n",
       "  color: #000000;\n",
       "}\n",
       "#T_142ef_row1_col4, #T_142ef_row8_col7 {\n",
       "  background-color: #dad9ea;\n",
       "  color: #000000;\n",
       "}\n",
       "#T_142ef_row1_col5, #T_142ef_row7_col9 {\n",
       "  background-color: #dcdaeb;\n",
       "  color: #000000;\n",
       "}\n",
       "#T_142ef_row1_col6, #T_142ef_row2_col5 {\n",
       "  background-color: #bbc7e0;\n",
       "  color: #000000;\n",
       "}\n",
       "#T_142ef_row1_col7, #T_142ef_row9_col3 {\n",
       "  background-color: #99b8d8;\n",
       "  color: #000000;\n",
       "}\n",
       "#T_142ef_row1_col8 {\n",
       "  background-color: #faf2f8;\n",
       "  color: #000000;\n",
       "}\n",
       "#T_142ef_row1_col9, #T_142ef_row9_col2 {\n",
       "  background-color: #348ebf;\n",
       "  color: #f1f1f1;\n",
       "}\n",
       "#T_142ef_row2_col0, #T_142ef_row9_col1 {\n",
       "  background-color: #4295c3;\n",
       "  color: #f1f1f1;\n",
       "}\n",
       "#T_142ef_row2_col1 {\n",
       "  background-color: #0a73b2;\n",
       "  color: #f1f1f1;\n",
       "}\n",
       "#T_142ef_row2_col3 {\n",
       "  background-color: #86b0d3;\n",
       "  color: #000000;\n",
       "}\n",
       "#T_142ef_row2_col4 {\n",
       "  background-color: #d6d6e9;\n",
       "  color: #000000;\n",
       "}\n",
       "#T_142ef_row2_col6, #T_142ef_row6_col1 {\n",
       "  background-color: #dbdaeb;\n",
       "  color: #000000;\n",
       "}\n",
       "#T_142ef_row2_col7 {\n",
       "  background-color: #b8c6e0;\n",
       "  color: #000000;\n",
       "}\n",
       "#T_142ef_row2_col8, #T_142ef_row6_col3 {\n",
       "  background-color: #f7f0f7;\n",
       "  color: #000000;\n",
       "}\n",
       "#T_142ef_row2_col9, #T_142ef_row9_col0 {\n",
       "  background-color: #2685bb;\n",
       "  color: #f1f1f1;\n",
       "}\n",
       "#T_142ef_row3_col0, #T_142ef_row3_col5 {\n",
       "  background-color: #f0eaf4;\n",
       "  color: #000000;\n",
       "}\n",
       "#T_142ef_row3_col1, #T_142ef_row8_col9 {\n",
       "  background-color: #d7d6e9;\n",
       "  color: #000000;\n",
       "}\n",
       "#T_142ef_row3_col2 {\n",
       "  background-color: #b9c6e0;\n",
       "  color: #000000;\n",
       "}\n",
       "#T_142ef_row3_col4, #T_142ef_row3_col6, #T_142ef_row4_col3, #T_142ef_row5_col7, #T_142ef_row5_col8, #T_142ef_row6_col9, #T_142ef_row7_col5, #T_142ef_row8_col0, #T_142ef_row8_col1, #T_142ef_row8_col2 {\n",
       "  background-color: #fff7fb;\n",
       "  color: #000000;\n",
       "}\n",
       "#T_142ef_row3_col7 {\n",
       "  background-color: #71a8ce;\n",
       "  color: #f1f1f1;\n",
       "}\n",
       "#T_142ef_row3_col8 {\n",
       "  background-color: #f1ebf5;\n",
       "  color: #000000;\n",
       "}\n",
       "#T_142ef_row3_col9 {\n",
       "  background-color: #b7c5df;\n",
       "  color: #000000;\n",
       "}\n",
       "#T_142ef_row4_col0 {\n",
       "  background-color: #3f93c2;\n",
       "  color: #f1f1f1;\n",
       "}\n",
       "#T_142ef_row4_col1 {\n",
       "  background-color: #fcf4fa;\n",
       "  color: #000000;\n",
       "}\n",
       "#T_142ef_row4_col2 {\n",
       "  background-color: #fbf3f9;\n",
       "  color: #000000;\n",
       "}\n",
       "#T_142ef_row4_col6, #T_142ef_row6_col7 {\n",
       "  background-color: #9cb9d9;\n",
       "  color: #000000;\n",
       "}\n",
       "#T_142ef_row4_col7, #T_142ef_row5_col3 {\n",
       "  background-color: #ede7f2;\n",
       "  color: #000000;\n",
       "}\n",
       "#T_142ef_row4_col9 {\n",
       "  background-color: #a1bbda;\n",
       "  color: #000000;\n",
       "}\n",
       "#T_142ef_row5_col0 {\n",
       "  background-color: #9fbad9;\n",
       "  color: #000000;\n",
       "}\n",
       "#T_142ef_row5_col1 {\n",
       "  background-color: #f9f2f8;\n",
       "  color: #000000;\n",
       "}\n",
       "#T_142ef_row5_col2 {\n",
       "  background-color: #e4e1ef;\n",
       "  color: #000000;\n",
       "}\n",
       "#T_142ef_row5_col4 {\n",
       "  background-color: #0872b1;\n",
       "  color: #f1f1f1;\n",
       "}\n",
       "#T_142ef_row5_col6, #T_142ef_row7_col2 {\n",
       "  background-color: #e1dfed;\n",
       "  color: #000000;\n",
       "}\n",
       "#T_142ef_row5_col9 {\n",
       "  background-color: #5c9fc9;\n",
       "  color: #f1f1f1;\n",
       "}\n",
       "#T_142ef_row6_col0 {\n",
       "  background-color: #adc1dd;\n",
       "  color: #000000;\n",
       "}\n",
       "#T_142ef_row6_col2 {\n",
       "  background-color: #f8f1f8;\n",
       "  color: #000000;\n",
       "}\n",
       "#T_142ef_row6_col4 {\n",
       "  background-color: #8fb4d6;\n",
       "  color: #000000;\n",
       "}\n",
       "#T_142ef_row6_col5 {\n",
       "  background-color: #dddbec;\n",
       "  color: #000000;\n",
       "}\n",
       "#T_142ef_row6_col8 {\n",
       "  background-color: #f5eff6;\n",
       "  color: #000000;\n",
       "}\n",
       "#T_142ef_row7_col0 {\n",
       "  background-color: #b3c3de;\n",
       "  color: #000000;\n",
       "}\n",
       "#T_142ef_row7_col1 {\n",
       "  background-color: #c2cbe2;\n",
       "  color: #000000;\n",
       "}\n",
       "#T_142ef_row7_col3 {\n",
       "  background-color: #6ba5cd;\n",
       "  color: #f1f1f1;\n",
       "}\n",
       "#T_142ef_row7_col4 {\n",
       "  background-color: #e7e3f0;\n",
       "  color: #000000;\n",
       "}\n",
       "#T_142ef_row7_col6 {\n",
       "  background-color: #a2bcda;\n",
       "  color: #000000;\n",
       "}\n",
       "#T_142ef_row7_col8 {\n",
       "  background-color: #f2ecf5;\n",
       "  color: #000000;\n",
       "}\n",
       "#T_142ef_row8_col3 {\n",
       "  background-color: #d4d4e8;\n",
       "  color: #000000;\n",
       "}\n",
       "#T_142ef_row8_col4 {\n",
       "  background-color: #e2dfee;\n",
       "  color: #000000;\n",
       "}\n",
       "#T_142ef_row8_col5 {\n",
       "  background-color: #ebe6f2;\n",
       "  color: #000000;\n",
       "}\n",
       "#T_142ef_row8_col6 {\n",
       "  background-color: #e3e0ee;\n",
       "  color: #000000;\n",
       "}\n",
       "#T_142ef_row9_col4 {\n",
       "  background-color: #83afd3;\n",
       "  color: #f1f1f1;\n",
       "}\n",
       "#T_142ef_row9_col5 {\n",
       "  background-color: #4697c4;\n",
       "  color: #f1f1f1;\n",
       "}\n",
       "#T_142ef_row9_col6 {\n",
       "  background-color: #f5eef6;\n",
       "  color: #000000;\n",
       "}\n",
       "#T_142ef_row9_col7 {\n",
       "  background-color: #c9cee4;\n",
       "  color: #000000;\n",
       "}\n",
       "#T_142ef_row9_col8 {\n",
       "  background-color: #dfddec;\n",
       "  color: #000000;\n",
       "}\n",
       "</style>\n",
       "<table id=\"T_142ef_\">\n",
       "  <thead>\n",
       "    <tr>\n",
       "      <th class=\"blank level0\" >&nbsp;</th>\n",
       "      <th class=\"col_heading level0 col0\" >energy_100g</th>\n",
       "      <th class=\"col_heading level0 col1\" >fat_100g</th>\n",
       "      <th class=\"col_heading level0 col2\" >saturated-fat_100g</th>\n",
       "      <th class=\"col_heading level0 col3\" >cholesterol_100g</th>\n",
       "      <th class=\"col_heading level0 col4\" >carbohydrates_100g</th>\n",
       "      <th class=\"col_heading level0 col5\" >sugars_100g</th>\n",
       "      <th class=\"col_heading level0 col6\" >fiber_100g</th>\n",
       "      <th class=\"col_heading level0 col7\" >proteins_100g</th>\n",
       "      <th class=\"col_heading level0 col8\" >sodium_100g</th>\n",
       "      <th class=\"col_heading level0 col9\" >nutrition-score-fr_100g</th>\n",
       "    </tr>\n",
       "  </thead>\n",
       "  <tbody>\n",
       "    <tr>\n",
       "      <th id=\"T_142ef_level0_row0\" class=\"row_heading level0 row0\" >energy_100g</th>\n",
       "      <td id=\"T_142ef_row0_col0\" class=\"data row0 col0\" >1.000000</td>\n",
       "      <td id=\"T_142ef_row0_col1\" class=\"data row0 col1\" >0.780098</td>\n",
       "      <td id=\"T_142ef_row0_col2\" class=\"data row0 col2\" >0.573007</td>\n",
       "      <td id=\"T_142ef_row0_col3\" class=\"data row0 col3\" >0.042814</td>\n",
       "      <td id=\"T_142ef_row0_col4\" class=\"data row0 col4\" >0.581042</td>\n",
       "      <td id=\"T_142ef_row0_col5\" class=\"data row0 col5\" >0.352318</td>\n",
       "      <td id=\"T_142ef_row0_col6\" class=\"data row0 col6\" >0.309744</td>\n",
       "      <td id=\"T_142ef_row0_col7\" class=\"data row0 col7\" >0.294528</td>\n",
       "      <td id=\"T_142ef_row0_col8\" class=\"data row0 col8\" >-0.067544</td>\n",
       "      <td id=\"T_142ef_row0_col9\" class=\"data row0 col9\" >0.643769</td>\n",
       "    </tr>\n",
       "    <tr>\n",
       "      <th id=\"T_142ef_level0_row1\" class=\"row_heading level0 row1\" >fat_100g</th>\n",
       "      <td id=\"T_142ef_row1_col0\" class=\"data row1 col0\" >0.780098</td>\n",
       "      <td id=\"T_142ef_row1_col1\" class=\"data row1 col1\" >1.000000</td>\n",
       "      <td id=\"T_142ef_row1_col2\" class=\"data row1 col2\" >0.724759</td>\n",
       "      <td id=\"T_142ef_row1_col3\" class=\"data row1 col3\" >0.183592</td>\n",
       "      <td id=\"T_142ef_row1_col4\" class=\"data row1 col4\" >-0.023395</td>\n",
       "      <td id=\"T_142ef_row1_col5\" class=\"data row1 col5\" >-0.004108</td>\n",
       "      <td id=\"T_142ef_row1_col6\" class=\"data row1 col6\" >0.165435</td>\n",
       "      <td id=\"T_142ef_row1_col7\" class=\"data row1 col7\" >0.259934</td>\n",
       "      <td id=\"T_142ef_row1_col8\" class=\"data row1 col8\" >-0.045179</td>\n",
       "      <td id=\"T_142ef_row1_col9\" class=\"data row1 col9\" >0.582036</td>\n",
       "    </tr>\n",
       "    <tr>\n",
       "      <th id=\"T_142ef_level0_row2\" class=\"row_heading level0 row2\" >saturated-fat_100g</th>\n",
       "      <td id=\"T_142ef_row2_col0\" class=\"data row2 col0\" >0.573007</td>\n",
       "      <td id=\"T_142ef_row2_col1\" class=\"data row2 col1\" >0.724759</td>\n",
       "      <td id=\"T_142ef_row2_col2\" class=\"data row2 col2\" >1.000000</td>\n",
       "      <td id=\"T_142ef_row2_col3\" class=\"data row2 col3\" >0.298757</td>\n",
       "      <td id=\"T_142ef_row2_col4\" class=\"data row2 col4\" >0.004255</td>\n",
       "      <td id=\"T_142ef_row2_col5\" class=\"data row2 col5\" >0.141707</td>\n",
       "      <td id=\"T_142ef_row2_col6\" class=\"data row2 col6\" >0.024270</td>\n",
       "      <td id=\"T_142ef_row2_col7\" class=\"data row2 col7\" >0.151719</td>\n",
       "      <td id=\"T_142ef_row2_col8\" class=\"data row2 col8\" >-0.026329</td>\n",
       "      <td id=\"T_142ef_row2_col9\" class=\"data row2 col9\" >0.620381</td>\n",
       "    </tr>\n",
       "    <tr>\n",
       "      <th id=\"T_142ef_level0_row3\" class=\"row_heading level0 row3\" >cholesterol_100g</th>\n",
       "      <td id=\"T_142ef_row3_col0\" class=\"data row3 col0\" >0.042814</td>\n",
       "      <td id=\"T_142ef_row3_col1\" class=\"data row3 col1\" >0.183592</td>\n",
       "      <td id=\"T_142ef_row3_col2\" class=\"data row3 col2\" >0.298757</td>\n",
       "      <td id=\"T_142ef_row3_col3\" class=\"data row3 col3\" >1.000000</td>\n",
       "      <td id=\"T_142ef_row3_col4\" class=\"data row3 col4\" >-0.286131</td>\n",
       "      <td id=\"T_142ef_row3_col5\" class=\"data row3 col5\" >-0.128255</td>\n",
       "      <td id=\"T_142ef_row3_col6\" class=\"data row3 col6\" >-0.219294</td>\n",
       "      <td id=\"T_142ef_row3_col7\" class=\"data row3 col7\" >0.381016</td>\n",
       "      <td id=\"T_142ef_row3_col8\" class=\"data row3 col8\" >0.014186</td>\n",
       "      <td id=\"T_142ef_row3_col9\" class=\"data row3 col9\" >0.237505</td>\n",
       "    </tr>\n",
       "    <tr>\n",
       "      <th id=\"T_142ef_level0_row4\" class=\"row_heading level0 row4\" >carbohydrates_100g</th>\n",
       "      <td id=\"T_142ef_row4_col0\" class=\"data row4 col0\" >0.581042</td>\n",
       "      <td id=\"T_142ef_row4_col1\" class=\"data row4 col1\" >-0.023395</td>\n",
       "      <td id=\"T_142ef_row4_col2\" class=\"data row4 col2\" >0.004255</td>\n",
       "      <td id=\"T_142ef_row4_col3\" class=\"data row4 col3\" >-0.286131</td>\n",
       "      <td id=\"T_142ef_row4_col4\" class=\"data row4 col4\" >1.000000</td>\n",
       "      <td id=\"T_142ef_row4_col5\" class=\"data row4 col5\" >0.664943</td>\n",
       "      <td id=\"T_142ef_row4_col6\" class=\"data row4 col6\" >0.271273</td>\n",
       "      <td id=\"T_142ef_row4_col7\" class=\"data row4 col7\" >-0.099164</td>\n",
       "      <td id=\"T_142ef_row4_col8\" class=\"data row4 col8\" >-0.067022</td>\n",
       "      <td id=\"T_142ef_row4_col9\" class=\"data row4 col9\" >0.308806</td>\n",
       "    </tr>\n",
       "    <tr>\n",
       "      <th id=\"T_142ef_level0_row5\" class=\"row_heading level0 row5\" >sugars_100g</th>\n",
       "      <td id=\"T_142ef_row5_col0\" class=\"data row5 col0\" >0.352318</td>\n",
       "      <td id=\"T_142ef_row5_col1\" class=\"data row5 col1\" >-0.004108</td>\n",
       "      <td id=\"T_142ef_row5_col2\" class=\"data row5 col2\" >0.141707</td>\n",
       "      <td id=\"T_142ef_row5_col3\" class=\"data row5 col3\" >-0.128255</td>\n",
       "      <td id=\"T_142ef_row5_col4\" class=\"data row5 col4\" >0.664943</td>\n",
       "      <td id=\"T_142ef_row5_col5\" class=\"data row5 col5\" >1.000000</td>\n",
       "      <td id=\"T_142ef_row5_col6\" class=\"data row5 col6\" >-0.007578</td>\n",
       "      <td id=\"T_142ef_row5_col7\" class=\"data row5 col7\" >-0.250765</td>\n",
       "      <td id=\"T_142ef_row5_col8\" class=\"data row5 col8\" >-0.085273</td>\n",
       "      <td id=\"T_142ef_row5_col9\" class=\"data row5 col9\" >0.488614</td>\n",
       "    </tr>\n",
       "    <tr>\n",
       "      <th id=\"T_142ef_level0_row6\" class=\"row_heading level0 row6\" >fiber_100g</th>\n",
       "      <td id=\"T_142ef_row6_col0\" class=\"data row6 col0\" >0.309744</td>\n",
       "      <td id=\"T_142ef_row6_col1\" class=\"data row6 col1\" >0.165435</td>\n",
       "      <td id=\"T_142ef_row6_col2\" class=\"data row6 col2\" >0.024270</td>\n",
       "      <td id=\"T_142ef_row6_col3\" class=\"data row6 col3\" >-0.219294</td>\n",
       "      <td id=\"T_142ef_row6_col4\" class=\"data row6 col4\" >0.271273</td>\n",
       "      <td id=\"T_142ef_row6_col5\" class=\"data row6 col5\" >-0.007578</td>\n",
       "      <td id=\"T_142ef_row6_col6\" class=\"data row6 col6\" >1.000000</td>\n",
       "      <td id=\"T_142ef_row6_col7\" class=\"data row6 col7\" >0.249446</td>\n",
       "      <td id=\"T_142ef_row6_col8\" class=\"data row6 col8\" >-0.015602</td>\n",
       "      <td id=\"T_142ef_row6_col9\" class=\"data row6 col9\" >-0.133982</td>\n",
       "    </tr>\n",
       "    <tr>\n",
       "      <th id=\"T_142ef_level0_row7\" class=\"row_heading level0 row7\" >proteins_100g</th>\n",
       "      <td id=\"T_142ef_row7_col0\" class=\"data row7 col0\" >0.294528</td>\n",
       "      <td id=\"T_142ef_row7_col1\" class=\"data row7 col1\" >0.259934</td>\n",
       "      <td id=\"T_142ef_row7_col2\" class=\"data row7 col2\" >0.151719</td>\n",
       "      <td id=\"T_142ef_row7_col3\" class=\"data row7 col3\" >0.381016</td>\n",
       "      <td id=\"T_142ef_row7_col4\" class=\"data row7 col4\" >-0.099164</td>\n",
       "      <td id=\"T_142ef_row7_col5\" class=\"data row7 col5\" >-0.250765</td>\n",
       "      <td id=\"T_142ef_row7_col6\" class=\"data row7 col6\" >0.249446</td>\n",
       "      <td id=\"T_142ef_row7_col7\" class=\"data row7 col7\" >1.000000</td>\n",
       "      <td id=\"T_142ef_row7_col8\" class=\"data row7 col8\" >0.005150</td>\n",
       "      <td id=\"T_142ef_row7_col9\" class=\"data row7 col9\" >0.091201</td>\n",
       "    </tr>\n",
       "    <tr>\n",
       "      <th id=\"T_142ef_level0_row8\" class=\"row_heading level0 row8\" >sodium_100g</th>\n",
       "      <td id=\"T_142ef_row8_col0\" class=\"data row8 col0\" >-0.067544</td>\n",
       "      <td id=\"T_142ef_row8_col1\" class=\"data row8 col1\" >-0.045179</td>\n",
       "      <td id=\"T_142ef_row8_col2\" class=\"data row8 col2\" >-0.026329</td>\n",
       "      <td id=\"T_142ef_row8_col3\" class=\"data row8 col3\" >0.014186</td>\n",
       "      <td id=\"T_142ef_row8_col4\" class=\"data row8 col4\" >-0.067022</td>\n",
       "      <td id=\"T_142ef_row8_col5\" class=\"data row8 col5\" >-0.085273</td>\n",
       "      <td id=\"T_142ef_row8_col6\" class=\"data row8 col6\" >-0.015602</td>\n",
       "      <td id=\"T_142ef_row8_col7\" class=\"data row8 col7\" >0.005150</td>\n",
       "      <td id=\"T_142ef_row8_col8\" class=\"data row8 col8\" >1.000000</td>\n",
       "      <td id=\"T_142ef_row8_col9\" class=\"data row8 col9\" >0.115544</td>\n",
       "    </tr>\n",
       "    <tr>\n",
       "      <th id=\"T_142ef_level0_row9\" class=\"row_heading level0 row9\" >nutrition-score-fr_100g</th>\n",
       "      <td id=\"T_142ef_row9_col0\" class=\"data row9 col0\" >0.643769</td>\n",
       "      <td id=\"T_142ef_row9_col1\" class=\"data row9 col1\" >0.582036</td>\n",
       "      <td id=\"T_142ef_row9_col2\" class=\"data row9 col2\" >0.620381</td>\n",
       "      <td id=\"T_142ef_row9_col3\" class=\"data row9 col3\" >0.237505</td>\n",
       "      <td id=\"T_142ef_row9_col4\" class=\"data row9 col4\" >0.308806</td>\n",
       "      <td id=\"T_142ef_row9_col5\" class=\"data row9 col5\" >0.488614</td>\n",
       "      <td id=\"T_142ef_row9_col6\" class=\"data row9 col6\" >-0.133982</td>\n",
       "      <td id=\"T_142ef_row9_col7\" class=\"data row9 col7\" >0.091201</td>\n",
       "      <td id=\"T_142ef_row9_col8\" class=\"data row9 col8\" >0.115544</td>\n",
       "      <td id=\"T_142ef_row9_col9\" class=\"data row9 col9\" >1.000000</td>\n",
       "    </tr>\n",
       "  </tbody>\n",
       "</table>\n"
      ],
      "text/plain": [
       "<pandas.io.formats.style.Styler at 0x13463d2ba60>"
      ]
     },
     "execution_count": 554,
     "metadata": {},
     "output_type": "execute_result"
    }
   ],
   "source": [
    "X_test.corr().style.background_gradient()"
   ]
  },
  {
   "cell_type": "markdown",
   "id": "5e616eb1",
   "metadata": {},
   "source": [
    "Les relations statistiques dans les 2 datasets sont similaires"
   ]
  },
  {
   "cell_type": "markdown",
   "id": "80856c62",
   "metadata": {},
   "source": [
    "## Iterative imputer\n",
    "Pour cette methode, les variables doivent avoir des valeurs numerique et doivent etre correle. Je fais une imputation sur les valeurs numeriques du dataset excepte le cholesterol et sodium qui sont faiblemnt correles avec les autres indicateurs"
   ]
  },
  {
   "cell_type": "markdown",
   "id": "a9e444b5",
   "metadata": {},
   "source": [
    "### Imputation sur le dataset complet"
   ]
  },
  {
   "cell_type": "code",
   "execution_count": 555,
   "id": "53c12230",
   "metadata": {},
   "outputs": [
    {
     "data": {
      "text/plain": [
       "Index(['energy_100g', 'fat_100g', 'saturated-fat_100g', 'cholesterol_100g',\n",
       "       'carbohydrates_100g', 'sugars_100g', 'fiber_100g', 'proteins_100g',\n",
       "       'sodium_100g', 'nutrition-score-fr_100g'],\n",
       "      dtype='object')"
      ]
     },
     "execution_count": 555,
     "metadata": {},
     "output_type": "execute_result"
    }
   ],
   "source": [
    "all_num=X_train.dtypes\n",
    "all_num=all_num[all_num=='float64'].index\n",
    "all_num"
   ]
  },
  {
   "cell_type": "code",
   "execution_count": 556,
   "id": "8486b0ca",
   "metadata": {},
   "outputs": [],
   "source": [
    "corrnum=['energy_100g', 'fat_100g', 'saturated-fat_100g', \n",
    "       'carbohydrates_100g', 'sugars_100g', 'fiber_100g', 'proteins_100g',\n",
    "        'nutrition-score-fr_100g']"
   ]
  },
  {
   "cell_type": "code",
   "execution_count": 557,
   "id": "99e22813",
   "metadata": {},
   "outputs": [
    {
     "data": {
      "text/plain": [
       "(156172, 8)"
      ]
     },
     "execution_count": 557,
     "metadata": {},
     "output_type": "execute_result"
    }
   ],
   "source": [
    "data=X_train[corrnum]\n",
    "data.shape"
   ]
  },
  {
   "cell_type": "code",
   "execution_count": 558,
   "id": "d5be20fe",
   "metadata": {},
   "outputs": [],
   "source": [
    "imp = IterativeImputer(max_iter=15, random_state=0)\n",
    "imp.fit(data)\n",
    "datana=imp.transform(data)"
   ]
  },
  {
   "cell_type": "code",
   "execution_count": 559,
   "id": "8808b249",
   "metadata": {},
   "outputs": [
    {
     "data": {
      "text/plain": [
       "(156172, 8)"
      ]
     },
     "execution_count": 559,
     "metadata": {},
     "output_type": "execute_result"
    }
   ],
   "source": [
    "datana.shape"
   ]
  },
  {
   "cell_type": "code",
   "execution_count": 560,
   "id": "26b9651a",
   "metadata": {},
   "outputs": [
    {
     "data": {
      "text/plain": [
       "energy_100g                0\n",
       "fat_100g                   0\n",
       "saturated-fat_100g         0\n",
       "carbohydrates_100g         0\n",
       "sugars_100g                0\n",
       "fiber_100g                 0\n",
       "proteins_100g              0\n",
       "nutrition-score-fr_100g    0\n",
       "dtype: int64"
      ]
     },
     "execution_count": 560,
     "metadata": {},
     "output_type": "execute_result"
    }
   ],
   "source": [
    "data_df = pd.DataFrame(datana, columns = corrnum)\n",
    "data_df.isna().sum()"
   ]
  },
  {
   "cell_type": "code",
   "execution_count": 561,
   "id": "d58e1b64",
   "metadata": {},
   "outputs": [
    {
     "data": {
      "text/html": [
       "<div>\n",
       "<style scoped>\n",
       "    .dataframe tbody tr th:only-of-type {\n",
       "        vertical-align: middle;\n",
       "    }\n",
       "\n",
       "    .dataframe tbody tr th {\n",
       "        vertical-align: top;\n",
       "    }\n",
       "\n",
       "    .dataframe thead th {\n",
       "        text-align: right;\n",
       "    }\n",
       "</style>\n",
       "<table border=\"1\" class=\"dataframe\">\n",
       "  <thead>\n",
       "    <tr style=\"text-align: right;\">\n",
       "      <th></th>\n",
       "      <th>count</th>\n",
       "      <th>mean</th>\n",
       "      <th>std</th>\n",
       "      <th>min</th>\n",
       "      <th>25%</th>\n",
       "      <th>50%</th>\n",
       "      <th>75%</th>\n",
       "      <th>max</th>\n",
       "    </tr>\n",
       "  </thead>\n",
       "  <tbody>\n",
       "    <tr>\n",
       "      <th>energy_100g</th>\n",
       "      <td>156172.0</td>\n",
       "      <td>1129.437597</td>\n",
       "      <td>757.865485</td>\n",
       "      <td>0.000000</td>\n",
       "      <td>423.000000</td>\n",
       "      <td>1100.00</td>\n",
       "      <td>1674.00</td>\n",
       "      <td>5128.830000</td>\n",
       "    </tr>\n",
       "    <tr>\n",
       "      <th>fat_100g</th>\n",
       "      <td>156172.0</td>\n",
       "      <td>12.504407</td>\n",
       "      <td>15.108941</td>\n",
       "      <td>-24.793716</td>\n",
       "      <td>0.770000</td>\n",
       "      <td>7.00</td>\n",
       "      <td>20.00</td>\n",
       "      <td>103.562988</td>\n",
       "    </tr>\n",
       "    <tr>\n",
       "      <th>saturated-fat_100g</th>\n",
       "      <td>156172.0</td>\n",
       "      <td>4.719132</td>\n",
       "      <td>7.266025</td>\n",
       "      <td>-13.449631</td>\n",
       "      <td>0.000000</td>\n",
       "      <td>1.79</td>\n",
       "      <td>6.67</td>\n",
       "      <td>100.000000</td>\n",
       "    </tr>\n",
       "    <tr>\n",
       "      <th>carbohydrates_100g</th>\n",
       "      <td>156172.0</td>\n",
       "      <td>32.194666</td>\n",
       "      <td>28.074399</td>\n",
       "      <td>-116.632024</td>\n",
       "      <td>6.780000</td>\n",
       "      <td>23.00</td>\n",
       "      <td>57.14</td>\n",
       "      <td>142.438933</td>\n",
       "    </tr>\n",
       "    <tr>\n",
       "      <th>sugars_100g</th>\n",
       "      <td>156172.0</td>\n",
       "      <td>15.289146</td>\n",
       "      <td>19.723701</td>\n",
       "      <td>-57.635264</td>\n",
       "      <td>1.500000</td>\n",
       "      <td>6.00</td>\n",
       "      <td>23.60</td>\n",
       "      <td>100.000000</td>\n",
       "    </tr>\n",
       "    <tr>\n",
       "      <th>fiber_100g</th>\n",
       "      <td>156172.0</td>\n",
       "      <td>2.566674</td>\n",
       "      <td>3.916276</td>\n",
       "      <td>-11.151473</td>\n",
       "      <td>0.000000</td>\n",
       "      <td>1.50</td>\n",
       "      <td>3.40</td>\n",
       "      <td>50.000000</td>\n",
       "    </tr>\n",
       "    <tr>\n",
       "      <th>proteins_100g</th>\n",
       "      <td>156172.0</td>\n",
       "      <td>7.271051</td>\n",
       "      <td>7.947205</td>\n",
       "      <td>-100.268801</td>\n",
       "      <td>1.297979</td>\n",
       "      <td>5.26</td>\n",
       "      <td>10.00</td>\n",
       "      <td>100.000000</td>\n",
       "    </tr>\n",
       "    <tr>\n",
       "      <th>nutrition-score-fr_100g</th>\n",
       "      <td>156172.0</td>\n",
       "      <td>9.065206</td>\n",
       "      <td>8.799328</td>\n",
       "      <td>-33.933867</td>\n",
       "      <td>1.497078</td>\n",
       "      <td>9.00</td>\n",
       "      <td>16.00</td>\n",
       "      <td>70.627205</td>\n",
       "    </tr>\n",
       "  </tbody>\n",
       "</table>\n",
       "</div>"
      ],
      "text/plain": [
       "                            count         mean         std         min  \\\n",
       "energy_100g              156172.0  1129.437597  757.865485    0.000000   \n",
       "fat_100g                 156172.0    12.504407   15.108941  -24.793716   \n",
       "saturated-fat_100g       156172.0     4.719132    7.266025  -13.449631   \n",
       "carbohydrates_100g       156172.0    32.194666   28.074399 -116.632024   \n",
       "sugars_100g              156172.0    15.289146   19.723701  -57.635264   \n",
       "fiber_100g               156172.0     2.566674    3.916276  -11.151473   \n",
       "proteins_100g            156172.0     7.271051    7.947205 -100.268801   \n",
       "nutrition-score-fr_100g  156172.0     9.065206    8.799328  -33.933867   \n",
       "\n",
       "                                25%      50%      75%          max  \n",
       "energy_100g              423.000000  1100.00  1674.00  5128.830000  \n",
       "fat_100g                   0.770000     7.00    20.00   103.562988  \n",
       "saturated-fat_100g         0.000000     1.79     6.67   100.000000  \n",
       "carbohydrates_100g         6.780000    23.00    57.14   142.438933  \n",
       "sugars_100g                1.500000     6.00    23.60   100.000000  \n",
       "fiber_100g                 0.000000     1.50     3.40    50.000000  \n",
       "proteins_100g              1.297979     5.26    10.00   100.000000  \n",
       "nutrition-score-fr_100g    1.497078     9.00    16.00    70.627205  "
      ]
     },
     "execution_count": 561,
     "metadata": {},
     "output_type": "execute_result"
    }
   ],
   "source": [
    "data_df.describe().transpose()"
   ]
  },
  {
   "cell_type": "code",
   "execution_count": 567,
   "id": "641290fc",
   "metadata": {},
   "outputs": [
    {
     "data": {
      "text/html": [
       "<div>\n",
       "<style scoped>\n",
       "    .dataframe tbody tr th:only-of-type {\n",
       "        vertical-align: middle;\n",
       "    }\n",
       "\n",
       "    .dataframe tbody tr th {\n",
       "        vertical-align: top;\n",
       "    }\n",
       "\n",
       "    .dataframe thead th {\n",
       "        text-align: right;\n",
       "    }\n",
       "</style>\n",
       "<table border=\"1\" class=\"dataframe\">\n",
       "  <thead>\n",
       "    <tr style=\"text-align: right;\">\n",
       "      <th></th>\n",
       "      <th>count</th>\n",
       "      <th>mean</th>\n",
       "      <th>std</th>\n",
       "      <th>min</th>\n",
       "      <th>25%</th>\n",
       "      <th>50%</th>\n",
       "      <th>75%</th>\n",
       "      <th>max</th>\n",
       "    </tr>\n",
       "  </thead>\n",
       "  <tbody>\n",
       "    <tr>\n",
       "      <th>energy_100g</th>\n",
       "      <td>155618.0</td>\n",
       "      <td>1129.310812</td>\n",
       "      <td>757.788131</td>\n",
       "      <td>0.0</td>\n",
       "      <td>423.00000</td>\n",
       "      <td>1100.000</td>\n",
       "      <td>1674.000000</td>\n",
       "      <td>5128.830</td>\n",
       "    </tr>\n",
       "    <tr>\n",
       "      <th>fat_100g</th>\n",
       "      <td>142342.0</td>\n",
       "      <td>12.491295</td>\n",
       "      <td>15.520257</td>\n",
       "      <td>0.0</td>\n",
       "      <td>0.50000</td>\n",
       "      <td>6.400</td>\n",
       "      <td>20.000000</td>\n",
       "      <td>100.000</td>\n",
       "    </tr>\n",
       "    <tr>\n",
       "      <th>saturated-fat_100g</th>\n",
       "      <td>141437.0</td>\n",
       "      <td>5.019219</td>\n",
       "      <td>7.485557</td>\n",
       "      <td>0.0</td>\n",
       "      <td>0.00000</td>\n",
       "      <td>2.000</td>\n",
       "      <td>7.140000</td>\n",
       "      <td>100.000</td>\n",
       "    </tr>\n",
       "    <tr>\n",
       "      <th>cholesterol_100g</th>\n",
       "      <td>81729.0</td>\n",
       "      <td>0.017850</td>\n",
       "      <td>0.035494</td>\n",
       "      <td>0.0</td>\n",
       "      <td>0.00000</td>\n",
       "      <td>0.000</td>\n",
       "      <td>0.023000</td>\n",
       "      <td>0.975</td>\n",
       "    </tr>\n",
       "    <tr>\n",
       "      <th>carbohydrates_100g</th>\n",
       "      <td>142765.0</td>\n",
       "      <td>32.354439</td>\n",
       "      <td>27.894113</td>\n",
       "      <td>0.0</td>\n",
       "      <td>7.00000</td>\n",
       "      <td>23.080</td>\n",
       "      <td>57.140000</td>\n",
       "      <td>100.000</td>\n",
       "    </tr>\n",
       "    <tr>\n",
       "      <th>sugars_100g</th>\n",
       "      <td>148356.0</td>\n",
       "      <td>15.610233</td>\n",
       "      <td>19.937635</td>\n",
       "      <td>0.0</td>\n",
       "      <td>1.50000</td>\n",
       "      <td>6.200</td>\n",
       "      <td>24.000000</td>\n",
       "      <td>100.000</td>\n",
       "    </tr>\n",
       "    <tr>\n",
       "      <th>fiber_100g</th>\n",
       "      <td>123546.0</td>\n",
       "      <td>2.814450</td>\n",
       "      <td>4.266660</td>\n",
       "      <td>0.0</td>\n",
       "      <td>0.00000</td>\n",
       "      <td>1.500</td>\n",
       "      <td>3.600000</td>\n",
       "      <td>50.000</td>\n",
       "    </tr>\n",
       "    <tr>\n",
       "      <th>proteins_100g</th>\n",
       "      <td>154637.0</td>\n",
       "      <td>7.274192</td>\n",
       "      <td>7.937764</td>\n",
       "      <td>0.0</td>\n",
       "      <td>1.27000</td>\n",
       "      <td>5.200</td>\n",
       "      <td>10.000000</td>\n",
       "      <td>100.000</td>\n",
       "    </tr>\n",
       "    <tr>\n",
       "      <th>sodium_100g</th>\n",
       "      <td>152110.0</td>\n",
       "      <td>0.634868</td>\n",
       "      <td>2.378554</td>\n",
       "      <td>0.0</td>\n",
       "      <td>0.03937</td>\n",
       "      <td>0.257</td>\n",
       "      <td>0.551181</td>\n",
       "      <td>100.000</td>\n",
       "    </tr>\n",
       "    <tr>\n",
       "      <th>nutrition-score-fr_100g</th>\n",
       "      <td>137215.0</td>\n",
       "      <td>9.322253</td>\n",
       "      <td>8.928824</td>\n",
       "      <td>-15.0</td>\n",
       "      <td>1.00000</td>\n",
       "      <td>10.000</td>\n",
       "      <td>16.000000</td>\n",
       "      <td>40.000</td>\n",
       "    </tr>\n",
       "  </tbody>\n",
       "</table>\n",
       "</div>"
      ],
      "text/plain": [
       "                            count         mean         std   min        25%  \\\n",
       "energy_100g              155618.0  1129.310812  757.788131   0.0  423.00000   \n",
       "fat_100g                 142342.0    12.491295   15.520257   0.0    0.50000   \n",
       "saturated-fat_100g       141437.0     5.019219    7.485557   0.0    0.00000   \n",
       "cholesterol_100g          81729.0     0.017850    0.035494   0.0    0.00000   \n",
       "carbohydrates_100g       142765.0    32.354439   27.894113   0.0    7.00000   \n",
       "sugars_100g              148356.0    15.610233   19.937635   0.0    1.50000   \n",
       "fiber_100g               123546.0     2.814450    4.266660   0.0    0.00000   \n",
       "proteins_100g            154637.0     7.274192    7.937764   0.0    1.27000   \n",
       "sodium_100g              152110.0     0.634868    2.378554   0.0    0.03937   \n",
       "nutrition-score-fr_100g  137215.0     9.322253    8.928824 -15.0    1.00000   \n",
       "\n",
       "                              50%          75%       max  \n",
       "energy_100g              1100.000  1674.000000  5128.830  \n",
       "fat_100g                    6.400    20.000000   100.000  \n",
       "saturated-fat_100g          2.000     7.140000   100.000  \n",
       "cholesterol_100g            0.000     0.023000     0.975  \n",
       "carbohydrates_100g         23.080    57.140000   100.000  \n",
       "sugars_100g                 6.200    24.000000   100.000  \n",
       "fiber_100g                  1.500     3.600000    50.000  \n",
       "proteins_100g               5.200    10.000000   100.000  \n",
       "sodium_100g                 0.257     0.551181   100.000  \n",
       "nutrition-score-fr_100g    10.000    16.000000    40.000  "
      ]
     },
     "execution_count": 567,
     "metadata": {},
     "output_type": "execute_result"
    }
   ],
   "source": [
    "X_train.describe().transpose()"
   ]
  },
  {
   "cell_type": "markdown",
   "id": "c920a88a",
   "metadata": {},
   "source": [
    "Cette fonction ne preserve pas les statistiques du dataset initial, on voit des valeurs minimles negatives et des valeurs maximale superieurs au maxima initiaux"
   ]
  },
  {
   "cell_type": "code",
   "execution_count": 568,
   "id": "ce279c1e",
   "metadata": {},
   "outputs": [
    {
     "data": {
      "text/plain": [
       "(156172, 3)"
      ]
     },
     "execution_count": 568,
     "metadata": {},
     "output_type": "execute_result"
    }
   ],
   "source": [
    "qual=X_train[['code', 'product_name','pnns_groups_1']]\n",
    "qual.shape"
   ]
  },
  {
   "cell_type": "code",
   "execution_count": 569,
   "id": "2405e1c5",
   "metadata": {},
   "outputs": [],
   "source": [
    "iterdata=qual.join(data_df)"
   ]
  },
  {
   "cell_type": "code",
   "execution_count": 570,
   "id": "c6aae36a",
   "metadata": {},
   "outputs": [],
   "source": [
    "iterdata.to_csv('Iterative Imputer methode.csv', index=False)"
   ]
  },
  {
   "cell_type": "markdown",
   "id": "f89d4fbd",
   "metadata": {},
   "source": [
    "## Knn Imputer\n",
    "Cette methode necessite un plus long temps de calcul mais est utile pour les variables non-correlee ou faiblement correle avec les autres tel le cholesterol ou sodium"
   ]
  },
  {
   "cell_type": "markdown",
   "id": "31e8f39e",
   "metadata": {},
   "source": [
    "## Fit Transform du training set"
   ]
  },
  {
   "cell_type": "code",
   "execution_count": 571,
   "id": "7dded865",
   "metadata": {},
   "outputs": [
    {
     "data": {
      "text/plain": [
       "KNNImputer(n_neighbors=3)"
      ]
     },
     "execution_count": 571,
     "metadata": {},
     "output_type": "execute_result"
    }
   ],
   "source": [
    "data = X_train[all_num]\n",
    "imputer = KNNImputer(n_neighbors=3)\n",
    "imputer.fit(data)"
   ]
  },
  {
   "cell_type": "code",
   "execution_count": 572,
   "id": "470dbb34",
   "metadata": {},
   "outputs": [],
   "source": [
    "datacomp_new=imputer.transform(data) "
   ]
  },
  {
   "cell_type": "code",
   "execution_count": 573,
   "id": "b87dc1ca",
   "metadata": {},
   "outputs": [
    {
     "data": {
      "text/html": [
       "<div>\n",
       "<style scoped>\n",
       "    .dataframe tbody tr th:only-of-type {\n",
       "        vertical-align: middle;\n",
       "    }\n",
       "\n",
       "    .dataframe tbody tr th {\n",
       "        vertical-align: top;\n",
       "    }\n",
       "\n",
       "    .dataframe thead th {\n",
       "        text-align: right;\n",
       "    }\n",
       "</style>\n",
       "<table border=\"1\" class=\"dataframe\">\n",
       "  <thead>\n",
       "    <tr style=\"text-align: right;\">\n",
       "      <th></th>\n",
       "      <th>energy_100g</th>\n",
       "      <th>fat_100g</th>\n",
       "      <th>saturated-fat_100g</th>\n",
       "      <th>cholesterol_100g</th>\n",
       "      <th>carbohydrates_100g</th>\n",
       "      <th>sugars_100g</th>\n",
       "      <th>fiber_100g</th>\n",
       "      <th>proteins_100g</th>\n",
       "      <th>sodium_100g</th>\n",
       "      <th>nutrition-score-fr_100g</th>\n",
       "    </tr>\n",
       "  </thead>\n",
       "  <tbody>\n",
       "    <tr>\n",
       "      <th>0</th>\n",
       "      <td>130.0</td>\n",
       "      <td>0.00</td>\n",
       "      <td>0.0</td>\n",
       "      <td>0.0</td>\n",
       "      <td>6.25</td>\n",
       "      <td>6.25</td>\n",
       "      <td>0.0</td>\n",
       "      <td>0.00</td>\n",
       "      <td>0.844</td>\n",
       "      <td>10.0</td>\n",
       "    </tr>\n",
       "    <tr>\n",
       "      <th>1</th>\n",
       "      <td>1481.0</td>\n",
       "      <td>1.04</td>\n",
       "      <td>0.0</td>\n",
       "      <td>0.0</td>\n",
       "      <td>62.50</td>\n",
       "      <td>2.08</td>\n",
       "      <td>14.6</td>\n",
       "      <td>20.83</td>\n",
       "      <td>0.010</td>\n",
       "      <td>-6.0</td>\n",
       "    </tr>\n",
       "  </tbody>\n",
       "</table>\n",
       "</div>"
      ],
      "text/plain": [
       "   energy_100g  fat_100g  saturated-fat_100g  cholesterol_100g  \\\n",
       "0        130.0      0.00                 0.0               0.0   \n",
       "1       1481.0      1.04                 0.0               0.0   \n",
       "\n",
       "   carbohydrates_100g  sugars_100g  fiber_100g  proteins_100g  sodium_100g  \\\n",
       "0                6.25         6.25         0.0           0.00        0.844   \n",
       "1               62.50         2.08        14.6          20.83        0.010   \n",
       "\n",
       "   nutrition-score-fr_100g  \n",
       "0                     10.0  \n",
       "1                     -6.0  "
      ]
     },
     "execution_count": 573,
     "metadata": {},
     "output_type": "execute_result"
    }
   ],
   "source": [
    "datacomp_new_df= pd.DataFrame(datacomp_new, columns = all_num)\n",
    "datacomp_new_df.head(2)"
   ]
  },
  {
   "cell_type": "code",
   "execution_count": 574,
   "id": "239a90d6",
   "metadata": {},
   "outputs": [
    {
     "data": {
      "text/plain": [
       "(156172, 10)"
      ]
     },
     "execution_count": 574,
     "metadata": {},
     "output_type": "execute_result"
    }
   ],
   "source": [
    "datacomp_new.shape"
   ]
  },
  {
   "cell_type": "code",
   "execution_count": 575,
   "id": "a30ff065",
   "metadata": {},
   "outputs": [
    {
     "data": {
      "text/html": [
       "<div>\n",
       "<style scoped>\n",
       "    .dataframe tbody tr th:only-of-type {\n",
       "        vertical-align: middle;\n",
       "    }\n",
       "\n",
       "    .dataframe tbody tr th {\n",
       "        vertical-align: top;\n",
       "    }\n",
       "\n",
       "    .dataframe thead th {\n",
       "        text-align: right;\n",
       "    }\n",
       "</style>\n",
       "<table border=\"1\" class=\"dataframe\">\n",
       "  <thead>\n",
       "    <tr style=\"text-align: right;\">\n",
       "      <th></th>\n",
       "      <th>count</th>\n",
       "      <th>mean</th>\n",
       "      <th>std</th>\n",
       "      <th>min</th>\n",
       "      <th>25%</th>\n",
       "      <th>50%</th>\n",
       "      <th>75%</th>\n",
       "      <th>max</th>\n",
       "    </tr>\n",
       "  </thead>\n",
       "  <tbody>\n",
       "    <tr>\n",
       "      <th>energy_100g</th>\n",
       "      <td>156172.0</td>\n",
       "      <td>1128.407124</td>\n",
       "      <td>757.406002</td>\n",
       "      <td>0.0</td>\n",
       "      <td>423.000000</td>\n",
       "      <td>1096.000000</td>\n",
       "      <td>1674.000000</td>\n",
       "      <td>5128.830</td>\n",
       "    </tr>\n",
       "    <tr>\n",
       "      <th>fat_100g</th>\n",
       "      <td>156172.0</td>\n",
       "      <td>12.079542</td>\n",
       "      <td>15.148028</td>\n",
       "      <td>0.0</td>\n",
       "      <td>0.400000</td>\n",
       "      <td>6.033333</td>\n",
       "      <td>19.782500</td>\n",
       "      <td>100.000</td>\n",
       "    </tr>\n",
       "    <tr>\n",
       "      <th>saturated-fat_100g</th>\n",
       "      <td>156172.0</td>\n",
       "      <td>4.709497</td>\n",
       "      <td>7.331436</td>\n",
       "      <td>0.0</td>\n",
       "      <td>0.000000</td>\n",
       "      <td>1.670000</td>\n",
       "      <td>6.700000</td>\n",
       "      <td>100.000</td>\n",
       "    </tr>\n",
       "    <tr>\n",
       "      <th>cholesterol_100g</th>\n",
       "      <td>156172.0</td>\n",
       "      <td>0.017893</td>\n",
       "      <td>0.034201</td>\n",
       "      <td>0.0</td>\n",
       "      <td>0.000000</td>\n",
       "      <td>0.000000</td>\n",
       "      <td>0.022667</td>\n",
       "      <td>0.975</td>\n",
       "    </tr>\n",
       "    <tr>\n",
       "      <th>carbohydrates_100g</th>\n",
       "      <td>156172.0</td>\n",
       "      <td>32.292647</td>\n",
       "      <td>27.337301</td>\n",
       "      <td>0.0</td>\n",
       "      <td>7.220000</td>\n",
       "      <td>24.000000</td>\n",
       "      <td>56.670000</td>\n",
       "      <td>100.000</td>\n",
       "    </tr>\n",
       "    <tr>\n",
       "      <th>sugars_100g</th>\n",
       "      <td>156172.0</td>\n",
       "      <td>15.317435</td>\n",
       "      <td>19.744705</td>\n",
       "      <td>0.0</td>\n",
       "      <td>1.333333</td>\n",
       "      <td>5.910000</td>\n",
       "      <td>23.500000</td>\n",
       "      <td>100.000</td>\n",
       "    </tr>\n",
       "    <tr>\n",
       "      <th>fiber_100g</th>\n",
       "      <td>156172.0</td>\n",
       "      <td>2.676220</td>\n",
       "      <td>4.267310</td>\n",
       "      <td>0.0</td>\n",
       "      <td>0.000000</td>\n",
       "      <td>1.200000</td>\n",
       "      <td>3.500000</td>\n",
       "      <td>50.000</td>\n",
       "    </tr>\n",
       "    <tr>\n",
       "      <th>proteins_100g</th>\n",
       "      <td>156172.0</td>\n",
       "      <td>7.269490</td>\n",
       "      <td>7.941661</td>\n",
       "      <td>0.0</td>\n",
       "      <td>1.220000</td>\n",
       "      <td>5.200000</td>\n",
       "      <td>10.000000</td>\n",
       "      <td>100.000</td>\n",
       "    </tr>\n",
       "    <tr>\n",
       "      <th>sodium_100g</th>\n",
       "      <td>156172.0</td>\n",
       "      <td>0.637790</td>\n",
       "      <td>2.357768</td>\n",
       "      <td>0.0</td>\n",
       "      <td>0.039370</td>\n",
       "      <td>0.259843</td>\n",
       "      <td>0.551181</td>\n",
       "      <td>100.000</td>\n",
       "    </tr>\n",
       "    <tr>\n",
       "      <th>nutrition-score-fr_100g</th>\n",
       "      <td>156172.0</td>\n",
       "      <td>9.414048</td>\n",
       "      <td>8.775288</td>\n",
       "      <td>-15.0</td>\n",
       "      <td>2.000000</td>\n",
       "      <td>10.000000</td>\n",
       "      <td>16.000000</td>\n",
       "      <td>40.000</td>\n",
       "    </tr>\n",
       "  </tbody>\n",
       "</table>\n",
       "</div>"
      ],
      "text/plain": [
       "                            count         mean         std   min         25%  \\\n",
       "energy_100g              156172.0  1128.407124  757.406002   0.0  423.000000   \n",
       "fat_100g                 156172.0    12.079542   15.148028   0.0    0.400000   \n",
       "saturated-fat_100g       156172.0     4.709497    7.331436   0.0    0.000000   \n",
       "cholesterol_100g         156172.0     0.017893    0.034201   0.0    0.000000   \n",
       "carbohydrates_100g       156172.0    32.292647   27.337301   0.0    7.220000   \n",
       "sugars_100g              156172.0    15.317435   19.744705   0.0    1.333333   \n",
       "fiber_100g               156172.0     2.676220    4.267310   0.0    0.000000   \n",
       "proteins_100g            156172.0     7.269490    7.941661   0.0    1.220000   \n",
       "sodium_100g              156172.0     0.637790    2.357768   0.0    0.039370   \n",
       "nutrition-score-fr_100g  156172.0     9.414048    8.775288 -15.0    2.000000   \n",
       "\n",
       "                                 50%          75%       max  \n",
       "energy_100g              1096.000000  1674.000000  5128.830  \n",
       "fat_100g                    6.033333    19.782500   100.000  \n",
       "saturated-fat_100g          1.670000     6.700000   100.000  \n",
       "cholesterol_100g            0.000000     0.022667     0.975  \n",
       "carbohydrates_100g         24.000000    56.670000   100.000  \n",
       "sugars_100g                 5.910000    23.500000   100.000  \n",
       "fiber_100g                  1.200000     3.500000    50.000  \n",
       "proteins_100g               5.200000    10.000000   100.000  \n",
       "sodium_100g                 0.259843     0.551181   100.000  \n",
       "nutrition-score-fr_100g    10.000000    16.000000    40.000  "
      ]
     },
     "execution_count": 575,
     "metadata": {},
     "output_type": "execute_result"
    }
   ],
   "source": [
    "datacomp_new_df.describe().transpose()"
   ]
  },
  {
   "cell_type": "code",
   "execution_count": 576,
   "id": "b6c7192b",
   "metadata": {},
   "outputs": [
    {
     "data": {
      "text/html": [
       "<div>\n",
       "<style scoped>\n",
       "    .dataframe tbody tr th:only-of-type {\n",
       "        vertical-align: middle;\n",
       "    }\n",
       "\n",
       "    .dataframe tbody tr th {\n",
       "        vertical-align: top;\n",
       "    }\n",
       "\n",
       "    .dataframe thead th {\n",
       "        text-align: right;\n",
       "    }\n",
       "</style>\n",
       "<table border=\"1\" class=\"dataframe\">\n",
       "  <thead>\n",
       "    <tr style=\"text-align: right;\">\n",
       "      <th></th>\n",
       "      <th>count</th>\n",
       "      <th>mean</th>\n",
       "      <th>std</th>\n",
       "      <th>min</th>\n",
       "      <th>25%</th>\n",
       "      <th>50%</th>\n",
       "      <th>75%</th>\n",
       "      <th>max</th>\n",
       "    </tr>\n",
       "  </thead>\n",
       "  <tbody>\n",
       "    <tr>\n",
       "      <th>energy_100g</th>\n",
       "      <td>155618.0</td>\n",
       "      <td>1129.310812</td>\n",
       "      <td>757.788131</td>\n",
       "      <td>0.0</td>\n",
       "      <td>423.00000</td>\n",
       "      <td>1100.000</td>\n",
       "      <td>1674.000000</td>\n",
       "      <td>5128.830</td>\n",
       "    </tr>\n",
       "    <tr>\n",
       "      <th>fat_100g</th>\n",
       "      <td>142342.0</td>\n",
       "      <td>12.491295</td>\n",
       "      <td>15.520257</td>\n",
       "      <td>0.0</td>\n",
       "      <td>0.50000</td>\n",
       "      <td>6.400</td>\n",
       "      <td>20.000000</td>\n",
       "      <td>100.000</td>\n",
       "    </tr>\n",
       "    <tr>\n",
       "      <th>saturated-fat_100g</th>\n",
       "      <td>141437.0</td>\n",
       "      <td>5.019219</td>\n",
       "      <td>7.485557</td>\n",
       "      <td>0.0</td>\n",
       "      <td>0.00000</td>\n",
       "      <td>2.000</td>\n",
       "      <td>7.140000</td>\n",
       "      <td>100.000</td>\n",
       "    </tr>\n",
       "    <tr>\n",
       "      <th>cholesterol_100g</th>\n",
       "      <td>81729.0</td>\n",
       "      <td>0.017850</td>\n",
       "      <td>0.035494</td>\n",
       "      <td>0.0</td>\n",
       "      <td>0.00000</td>\n",
       "      <td>0.000</td>\n",
       "      <td>0.023000</td>\n",
       "      <td>0.975</td>\n",
       "    </tr>\n",
       "    <tr>\n",
       "      <th>carbohydrates_100g</th>\n",
       "      <td>142765.0</td>\n",
       "      <td>32.354439</td>\n",
       "      <td>27.894113</td>\n",
       "      <td>0.0</td>\n",
       "      <td>7.00000</td>\n",
       "      <td>23.080</td>\n",
       "      <td>57.140000</td>\n",
       "      <td>100.000</td>\n",
       "    </tr>\n",
       "    <tr>\n",
       "      <th>sugars_100g</th>\n",
       "      <td>148356.0</td>\n",
       "      <td>15.610233</td>\n",
       "      <td>19.937635</td>\n",
       "      <td>0.0</td>\n",
       "      <td>1.50000</td>\n",
       "      <td>6.200</td>\n",
       "      <td>24.000000</td>\n",
       "      <td>100.000</td>\n",
       "    </tr>\n",
       "    <tr>\n",
       "      <th>fiber_100g</th>\n",
       "      <td>123546.0</td>\n",
       "      <td>2.814450</td>\n",
       "      <td>4.266660</td>\n",
       "      <td>0.0</td>\n",
       "      <td>0.00000</td>\n",
       "      <td>1.500</td>\n",
       "      <td>3.600000</td>\n",
       "      <td>50.000</td>\n",
       "    </tr>\n",
       "    <tr>\n",
       "      <th>proteins_100g</th>\n",
       "      <td>154637.0</td>\n",
       "      <td>7.274192</td>\n",
       "      <td>7.937764</td>\n",
       "      <td>0.0</td>\n",
       "      <td>1.27000</td>\n",
       "      <td>5.200</td>\n",
       "      <td>10.000000</td>\n",
       "      <td>100.000</td>\n",
       "    </tr>\n",
       "    <tr>\n",
       "      <th>sodium_100g</th>\n",
       "      <td>152110.0</td>\n",
       "      <td>0.634868</td>\n",
       "      <td>2.378554</td>\n",
       "      <td>0.0</td>\n",
       "      <td>0.03937</td>\n",
       "      <td>0.257</td>\n",
       "      <td>0.551181</td>\n",
       "      <td>100.000</td>\n",
       "    </tr>\n",
       "    <tr>\n",
       "      <th>nutrition-score-fr_100g</th>\n",
       "      <td>137215.0</td>\n",
       "      <td>9.322253</td>\n",
       "      <td>8.928824</td>\n",
       "      <td>-15.0</td>\n",
       "      <td>1.00000</td>\n",
       "      <td>10.000</td>\n",
       "      <td>16.000000</td>\n",
       "      <td>40.000</td>\n",
       "    </tr>\n",
       "  </tbody>\n",
       "</table>\n",
       "</div>"
      ],
      "text/plain": [
       "                            count         mean         std   min        25%  \\\n",
       "energy_100g              155618.0  1129.310812  757.788131   0.0  423.00000   \n",
       "fat_100g                 142342.0    12.491295   15.520257   0.0    0.50000   \n",
       "saturated-fat_100g       141437.0     5.019219    7.485557   0.0    0.00000   \n",
       "cholesterol_100g          81729.0     0.017850    0.035494   0.0    0.00000   \n",
       "carbohydrates_100g       142765.0    32.354439   27.894113   0.0    7.00000   \n",
       "sugars_100g              148356.0    15.610233   19.937635   0.0    1.50000   \n",
       "fiber_100g               123546.0     2.814450    4.266660   0.0    0.00000   \n",
       "proteins_100g            154637.0     7.274192    7.937764   0.0    1.27000   \n",
       "sodium_100g              152110.0     0.634868    2.378554   0.0    0.03937   \n",
       "nutrition-score-fr_100g  137215.0     9.322253    8.928824 -15.0    1.00000   \n",
       "\n",
       "                              50%          75%       max  \n",
       "energy_100g              1100.000  1674.000000  5128.830  \n",
       "fat_100g                    6.400    20.000000   100.000  \n",
       "saturated-fat_100g          2.000     7.140000   100.000  \n",
       "cholesterol_100g            0.000     0.023000     0.975  \n",
       "carbohydrates_100g         23.080    57.140000   100.000  \n",
       "sugars_100g                 6.200    24.000000   100.000  \n",
       "fiber_100g                  1.500     3.600000    50.000  \n",
       "proteins_100g               5.200    10.000000   100.000  \n",
       "sodium_100g                 0.257     0.551181   100.000  \n",
       "nutrition-score-fr_100g    10.000    16.000000    40.000  "
      ]
     },
     "execution_count": 576,
     "metadata": {},
     "output_type": "execute_result"
    }
   ],
   "source": [
    "X_train.describe().transpose()"
   ]
  },
  {
   "cell_type": "code",
   "execution_count": 593,
   "id": "2508cbfc",
   "metadata": {},
   "outputs": [
    {
     "data": {
      "text/html": [
       "<style type=\"text/css\">\n",
       "#T_b0541_row0_col0, #T_b0541_row1_col1, #T_b0541_row2_col2, #T_b0541_row3_col3, #T_b0541_row4_col4, #T_b0541_row5_col5, #T_b0541_row6_col6, #T_b0541_row7_col7, #T_b0541_row8_col8, #T_b0541_row9_col9 {\n",
       "  background-color: #023858;\n",
       "  color: #f1f1f1;\n",
       "}\n",
       "#T_b0541_row0_col1 {\n",
       "  background-color: #0872b1;\n",
       "  color: #f1f1f1;\n",
       "}\n",
       "#T_b0541_row0_col2 {\n",
       "  background-color: #4697c4;\n",
       "  color: #f1f1f1;\n",
       "}\n",
       "#T_b0541_row0_col3 {\n",
       "  background-color: #cacee5;\n",
       "  color: #000000;\n",
       "}\n",
       "#T_b0541_row0_col4 {\n",
       "  background-color: #328dbf;\n",
       "  color: #f1f1f1;\n",
       "}\n",
       "#T_b0541_row0_col5 {\n",
       "  background-color: #7eadd1;\n",
       "  color: #f1f1f1;\n",
       "}\n",
       "#T_b0541_row0_col6 {\n",
       "  background-color: #abbfdc;\n",
       "  color: #000000;\n",
       "}\n",
       "#T_b0541_row0_col7 {\n",
       "  background-color: #8eb3d5;\n",
       "  color: #000000;\n",
       "}\n",
       "#T_b0541_row0_col8 {\n",
       "  background-color: #fdf5fa;\n",
       "  color: #000000;\n",
       "}\n",
       "#T_b0541_row0_col9 {\n",
       "  background-color: #2685bb;\n",
       "  color: #f1f1f1;\n",
       "}\n",
       "#T_b0541_row1_col0 {\n",
       "  background-color: #0570b0;\n",
       "  color: #f1f1f1;\n",
       "}\n",
       "#T_b0541_row1_col2, #T_b0541_row2_col1 {\n",
       "  background-color: #2383ba;\n",
       "  color: #f1f1f1;\n",
       "}\n",
       "#T_b0541_row1_col3, #T_b0541_row1_col7 {\n",
       "  background-color: #9fbad9;\n",
       "  color: #000000;\n",
       "}\n",
       "#T_b0541_row1_col4 {\n",
       "  background-color: #e2dfee;\n",
       "  color: #000000;\n",
       "}\n",
       "#T_b0541_row1_col5, #T_b0541_row7_col9, #T_b0541_row8_col9 {\n",
       "  background-color: #dddbec;\n",
       "  color: #000000;\n",
       "}\n",
       "#T_b0541_row1_col6 {\n",
       "  background-color: #d6d6e9;\n",
       "  color: #000000;\n",
       "}\n",
       "#T_b0541_row1_col8, #T_b0541_row2_col8, #T_b0541_row4_col2, #T_b0541_row6_col2 {\n",
       "  background-color: #f8f1f8;\n",
       "  color: #000000;\n",
       "}\n",
       "#T_b0541_row1_col9 {\n",
       "  background-color: #4c99c5;\n",
       "  color: #f1f1f1;\n",
       "}\n",
       "#T_b0541_row2_col0 {\n",
       "  background-color: #4094c3;\n",
       "  color: #f1f1f1;\n",
       "}\n",
       "#T_b0541_row2_col3 {\n",
       "  background-color: #8bb2d4;\n",
       "  color: #000000;\n",
       "}\n",
       "#T_b0541_row2_col4, #T_b0541_row7_col2, #T_b0541_row8_col7 {\n",
       "  background-color: #dad9ea;\n",
       "  color: #000000;\n",
       "}\n",
       "#T_b0541_row2_col5 {\n",
       "  background-color: #c2cbe2;\n",
       "  color: #000000;\n",
       "}\n",
       "#T_b0541_row2_col6 {\n",
       "  background-color: #ede8f3;\n",
       "  color: #000000;\n",
       "}\n",
       "#T_b0541_row2_col7 {\n",
       "  background-color: #b3c3de;\n",
       "  color: #000000;\n",
       "}\n",
       "#T_b0541_row2_col9, #T_b0541_row9_col0 {\n",
       "  background-color: #2c89bd;\n",
       "  color: #f1f1f1;\n",
       "}\n",
       "#T_b0541_row3_col0, #T_b0541_row5_col2 {\n",
       "  background-color: #e7e3f0;\n",
       "  color: #000000;\n",
       "}\n",
       "#T_b0541_row3_col1 {\n",
       "  background-color: #c9cee4;\n",
       "  color: #000000;\n",
       "}\n",
       "#T_b0541_row3_col2 {\n",
       "  background-color: #b4c4df;\n",
       "  color: #000000;\n",
       "}\n",
       "#T_b0541_row3_col4, #T_b0541_row3_col6, #T_b0541_row4_col3, #T_b0541_row5_col7, #T_b0541_row5_col8, #T_b0541_row6_col9, #T_b0541_row7_col5, #T_b0541_row8_col0, #T_b0541_row8_col1, #T_b0541_row8_col2 {\n",
       "  background-color: #fff7fb;\n",
       "  color: #000000;\n",
       "}\n",
       "#T_b0541_row3_col5, #T_b0541_row5_col3 {\n",
       "  background-color: #f4edf6;\n",
       "  color: #000000;\n",
       "}\n",
       "#T_b0541_row3_col7 {\n",
       "  background-color: #78abd0;\n",
       "  color: #f1f1f1;\n",
       "}\n",
       "#T_b0541_row3_col8 {\n",
       "  background-color: #f2ecf5;\n",
       "  color: #000000;\n",
       "}\n",
       "#T_b0541_row3_col9 {\n",
       "  background-color: #bdc8e1;\n",
       "  color: #000000;\n",
       "}\n",
       "#T_b0541_row4_col0, #T_b0541_row9_col5 {\n",
       "  background-color: #4e9ac6;\n",
       "  color: #f1f1f1;\n",
       "}\n",
       "#T_b0541_row4_col1, #T_b0541_row9_col6 {\n",
       "  background-color: #fef6fa;\n",
       "  color: #000000;\n",
       "}\n",
       "#T_b0541_row4_col5, #T_b0541_row5_col4 {\n",
       "  background-color: #1e80b8;\n",
       "  color: #f1f1f1;\n",
       "}\n",
       "#T_b0541_row4_col6 {\n",
       "  background-color: #b8c6e0;\n",
       "  color: #000000;\n",
       "}\n",
       "#T_b0541_row4_col7, #T_b0541_row7_col4 {\n",
       "  background-color: #ece7f2;\n",
       "  color: #000000;\n",
       "}\n",
       "#T_b0541_row4_col8 {\n",
       "  background-color: #fcf4fa;\n",
       "  color: #000000;\n",
       "}\n",
       "#T_b0541_row4_col9 {\n",
       "  background-color: #acc0dd;\n",
       "  color: #000000;\n",
       "}\n",
       "#T_b0541_row5_col0 {\n",
       "  background-color: #a1bbda;\n",
       "  color: #000000;\n",
       "}\n",
       "#T_b0541_row5_col1 {\n",
       "  background-color: #faf3f9;\n",
       "  color: #000000;\n",
       "}\n",
       "#T_b0541_row5_col6 {\n",
       "  background-color: #f1ebf4;\n",
       "  color: #000000;\n",
       "}\n",
       "#T_b0541_row5_col9 {\n",
       "  background-color: #65a3cb;\n",
       "  color: #f1f1f1;\n",
       "}\n",
       "#T_b0541_row6_col0 {\n",
       "  background-color: #b7c5df;\n",
       "  color: #000000;\n",
       "}\n",
       "#T_b0541_row6_col1 {\n",
       "  background-color: #e5e1ef;\n",
       "  color: #000000;\n",
       "}\n",
       "#T_b0541_row6_col3, #T_b0541_row7_col8, #T_b0541_row8_col6 {\n",
       "  background-color: #f1ebf5;\n",
       "  color: #000000;\n",
       "}\n",
       "#T_b0541_row6_col4, #T_b0541_row6_col7 {\n",
       "  background-color: #a2bcda;\n",
       "  color: #000000;\n",
       "}\n",
       "#T_b0541_row6_col5 {\n",
       "  background-color: #e0dded;\n",
       "  color: #000000;\n",
       "}\n",
       "#T_b0541_row6_col8 {\n",
       "  background-color: #f6eff7;\n",
       "  color: #000000;\n",
       "}\n",
       "#T_b0541_row7_col0 {\n",
       "  background-color: #b0c2de;\n",
       "  color: #000000;\n",
       "}\n",
       "#T_b0541_row7_col1, #T_b0541_row9_col7 {\n",
       "  background-color: #c8cde4;\n",
       "  color: #000000;\n",
       "}\n",
       "#T_b0541_row7_col3 {\n",
       "  background-color: #79abd0;\n",
       "  color: #f1f1f1;\n",
       "}\n",
       "#T_b0541_row7_col6 {\n",
       "  background-color: #b9c6e0;\n",
       "  color: #000000;\n",
       "}\n",
       "#T_b0541_row8_col3 {\n",
       "  background-color: #dcdaeb;\n",
       "  color: #000000;\n",
       "}\n",
       "#T_b0541_row8_col4 {\n",
       "  background-color: #e8e4f0;\n",
       "  color: #000000;\n",
       "}\n",
       "#T_b0541_row8_col5 {\n",
       "  background-color: #ede7f2;\n",
       "  color: #000000;\n",
       "}\n",
       "#T_b0541_row9_col1 {\n",
       "  background-color: #5a9ec9;\n",
       "  color: #f1f1f1;\n",
       "}\n",
       "#T_b0541_row9_col2 {\n",
       "  background-color: #358fc0;\n",
       "  color: #f1f1f1;\n",
       "}\n",
       "#T_b0541_row9_col3 {\n",
       "  background-color: #a5bddb;\n",
       "  color: #000000;\n",
       "}\n",
       "#T_b0541_row9_col4 {\n",
       "  background-color: #93b5d6;\n",
       "  color: #000000;\n",
       "}\n",
       "#T_b0541_row9_col8 {\n",
       "  background-color: #e0deed;\n",
       "  color: #000000;\n",
       "}\n",
       "</style>\n",
       "<table id=\"T_b0541_\">\n",
       "  <thead>\n",
       "    <tr>\n",
       "      <th class=\"blank level0\" >&nbsp;</th>\n",
       "      <th class=\"col_heading level0 col0\" >energy_100g</th>\n",
       "      <th class=\"col_heading level0 col1\" >fat_100g</th>\n",
       "      <th class=\"col_heading level0 col2\" >saturated-fat_100g</th>\n",
       "      <th class=\"col_heading level0 col3\" >cholesterol_100g</th>\n",
       "      <th class=\"col_heading level0 col4\" >carbohydrates_100g</th>\n",
       "      <th class=\"col_heading level0 col5\" >sugars_100g</th>\n",
       "      <th class=\"col_heading level0 col6\" >fiber_100g</th>\n",
       "      <th class=\"col_heading level0 col7\" >proteins_100g</th>\n",
       "      <th class=\"col_heading level0 col8\" >sodium_100g</th>\n",
       "      <th class=\"col_heading level0 col9\" >nutrition-score-fr_100g</th>\n",
       "    </tr>\n",
       "  </thead>\n",
       "  <tbody>\n",
       "    <tr>\n",
       "      <th id=\"T_b0541_level0_row0\" class=\"row_heading level0 row0\" >energy_100g</th>\n",
       "      <td id=\"T_b0541_row0_col0\" class=\"data row0 col0\" >1.000000</td>\n",
       "      <td id=\"T_b0541_row0_col1\" class=\"data row0 col1\" >0.728191</td>\n",
       "      <td id=\"T_b0541_row0_col2\" class=\"data row0 col2\" >0.572962</td>\n",
       "      <td id=\"T_b0541_row0_col3\" class=\"data row0 col3\" >0.089558</td>\n",
       "      <td id=\"T_b0541_row0_col4\" class=\"data row0 col4\" >0.543057</td>\n",
       "      <td id=\"T_b0541_row0_col5\" class=\"data row0 col5\" >0.344917</td>\n",
       "      <td id=\"T_b0541_row0_col6\" class=\"data row0 col6\" >0.277299</td>\n",
       "      <td id=\"T_b0541_row0_col7\" class=\"data row0 col7\" >0.296866</td>\n",
       "      <td id=\"T_b0541_row0_col8\" class=\"data row0 col8\" >-0.073813</td>\n",
       "      <td id=\"T_b0541_row0_col9\" class=\"data row0 col9\" >0.626481</td>\n",
       "    </tr>\n",
       "    <tr>\n",
       "      <th id=\"T_b0541_level0_row1\" class=\"row_heading level0 row1\" >fat_100g</th>\n",
       "      <td id=\"T_b0541_row1_col0\" class=\"data row1 col0\" >0.728191</td>\n",
       "      <td id=\"T_b0541_row1_col1\" class=\"data row1 col1\" >1.000000</td>\n",
       "      <td id=\"T_b0541_row1_col2\" class=\"data row1 col2\" >0.658301</td>\n",
       "      <td id=\"T_b0541_row1_col3\" class=\"data row1 col3\" >0.241905</td>\n",
       "      <td id=\"T_b0541_row1_col4\" class=\"data row1 col4\" >-0.034846</td>\n",
       "      <td id=\"T_b0541_row1_col5\" class=\"data row1 col5\" >-0.006459</td>\n",
       "      <td id=\"T_b0541_row1_col6\" class=\"data row1 col6\" >0.121554</td>\n",
       "      <td id=\"T_b0541_row1_col7\" class=\"data row1 col7\" >0.242910</td>\n",
       "      <td id=\"T_b0541_row1_col8\" class=\"data row1 col8\" >-0.043068</td>\n",
       "      <td id=\"T_b0541_row1_col9\" class=\"data row1 col9\" >0.532043</td>\n",
       "    </tr>\n",
       "    <tr>\n",
       "      <th id=\"T_b0541_level0_row2\" class=\"row_heading level0 row2\" >saturated-fat_100g</th>\n",
       "      <td id=\"T_b0541_row2_col0\" class=\"data row2 col0\" >0.572962</td>\n",
       "      <td id=\"T_b0541_row2_col1\" class=\"data row2 col1\" >0.658301</td>\n",
       "      <td id=\"T_b0541_row2_col2\" class=\"data row2 col2\" >1.000000</td>\n",
       "      <td id=\"T_b0541_row2_col3\" class=\"data row2 col3\" >0.306196</td>\n",
       "      <td id=\"T_b0541_row2_col4\" class=\"data row2 col4\" >0.009943</td>\n",
       "      <td id=\"T_b0541_row2_col5\" class=\"data row2 col5\" >0.115100</td>\n",
       "      <td id=\"T_b0541_row2_col6\" class=\"data row2 col6\" >0.003629</td>\n",
       "      <td id=\"T_b0541_row2_col7\" class=\"data row2 col7\" >0.172475</td>\n",
       "      <td id=\"T_b0541_row2_col8\" class=\"data row2 col8\" >-0.042277</td>\n",
       "      <td id=\"T_b0541_row2_col9\" class=\"data row2 col9\" >0.610809</td>\n",
       "    </tr>\n",
       "    <tr>\n",
       "      <th id=\"T_b0541_level0_row3\" class=\"row_heading level0 row3\" >cholesterol_100g</th>\n",
       "      <td id=\"T_b0541_row3_col0\" class=\"data row3 col0\" >0.089558</td>\n",
       "      <td id=\"T_b0541_row3_col1\" class=\"data row3 col1\" >0.241905</td>\n",
       "      <td id=\"T_b0541_row3_col2\" class=\"data row3 col2\" >0.306196</td>\n",
       "      <td id=\"T_b0541_row3_col3\" class=\"data row3 col3\" >1.000000</td>\n",
       "      <td id=\"T_b0541_row3_col4\" class=\"data row3 col4\" >-0.246152</td>\n",
       "      <td id=\"T_b0541_row3_col5\" class=\"data row3 col5\" >-0.151464</td>\n",
       "      <td id=\"T_b0541_row3_col6\" class=\"data row3 col6\" >-0.130761</td>\n",
       "      <td id=\"T_b0541_row3_col7\" class=\"data row3 col7\" >0.362283</td>\n",
       "      <td id=\"T_b0541_row3_col8\" class=\"data row3 col8\" >-0.000115</td>\n",
       "      <td id=\"T_b0541_row3_col9\" class=\"data row3 col9\" >0.221886</td>\n",
       "    </tr>\n",
       "    <tr>\n",
       "      <th id=\"T_b0541_level0_row4\" class=\"row_heading level0 row4\" >carbohydrates_100g</th>\n",
       "      <td id=\"T_b0541_row4_col0\" class=\"data row4 col0\" >0.543057</td>\n",
       "      <td id=\"T_b0541_row4_col1\" class=\"data row4 col1\" >-0.034846</td>\n",
       "      <td id=\"T_b0541_row4_col2\" class=\"data row4 col2\" >0.009943</td>\n",
       "      <td id=\"T_b0541_row4_col3\" class=\"data row4 col3\" >-0.246152</td>\n",
       "      <td id=\"T_b0541_row4_col4\" class=\"data row4 col4\" >1.000000</td>\n",
       "      <td id=\"T_b0541_row4_col5\" class=\"data row4 col5\" >0.607083</td>\n",
       "      <td id=\"T_b0541_row4_col6\" class=\"data row4 col6\" >0.231437</td>\n",
       "      <td id=\"T_b0541_row4_col7\" class=\"data row4 col7\" >-0.089943</td>\n",
       "      <td id=\"T_b0541_row4_col8\" class=\"data row4 col8\" >-0.069570</td>\n",
       "      <td id=\"T_b0541_row4_col9\" class=\"data row4 col9\" >0.282655</td>\n",
       "    </tr>\n",
       "    <tr>\n",
       "      <th id=\"T_b0541_level0_row5\" class=\"row_heading level0 row5\" >sugars_100g</th>\n",
       "      <td id=\"T_b0541_row5_col0\" class=\"data row5 col0\" >0.344917</td>\n",
       "      <td id=\"T_b0541_row5_col1\" class=\"data row5 col1\" >-0.006459</td>\n",
       "      <td id=\"T_b0541_row5_col2\" class=\"data row5 col2\" >0.115100</td>\n",
       "      <td id=\"T_b0541_row5_col3\" class=\"data row5 col3\" >-0.151464</td>\n",
       "      <td id=\"T_b0541_row5_col4\" class=\"data row5 col4\" >0.607083</td>\n",
       "      <td id=\"T_b0541_row5_col5\" class=\"data row5 col5\" >1.000000</td>\n",
       "      <td id=\"T_b0541_row5_col6\" class=\"data row5 col6\" >-0.021825</td>\n",
       "      <td id=\"T_b0541_row5_col7\" class=\"data row5 col7\" >-0.248005</td>\n",
       "      <td id=\"T_b0541_row5_col8\" class=\"data row5 col8\" >-0.093882</td>\n",
       "      <td id=\"T_b0541_row5_col9\" class=\"data row5 col9\" >0.472238</td>\n",
       "    </tr>\n",
       "    <tr>\n",
       "      <th id=\"T_b0541_level0_row6\" class=\"row_heading level0 row6\" >fiber_100g</th>\n",
       "      <td id=\"T_b0541_row6_col0\" class=\"data row6 col0\" >0.277299</td>\n",
       "      <td id=\"T_b0541_row6_col1\" class=\"data row6 col1\" >0.121554</td>\n",
       "      <td id=\"T_b0541_row6_col2\" class=\"data row6 col2\" >0.003629</td>\n",
       "      <td id=\"T_b0541_row6_col3\" class=\"data row6 col3\" >-0.130761</td>\n",
       "      <td id=\"T_b0541_row6_col4\" class=\"data row6 col4\" >0.231437</td>\n",
       "      <td id=\"T_b0541_row6_col5\" class=\"data row6 col5\" >-0.021825</td>\n",
       "      <td id=\"T_b0541_row6_col6\" class=\"data row6 col6\" >1.000000</td>\n",
       "      <td id=\"T_b0541_row6_col7\" class=\"data row6 col7\" >0.230078</td>\n",
       "      <td id=\"T_b0541_row6_col8\" class=\"data row6 col8\" >-0.025654</td>\n",
       "      <td id=\"T_b0541_row6_col9\" class=\"data row6 col9\" >-0.119307</td>\n",
       "    </tr>\n",
       "    <tr>\n",
       "      <th id=\"T_b0541_level0_row7\" class=\"row_heading level0 row7\" >proteins_100g</th>\n",
       "      <td id=\"T_b0541_row7_col0\" class=\"data row7 col0\" >0.296866</td>\n",
       "      <td id=\"T_b0541_row7_col1\" class=\"data row7 col1\" >0.242910</td>\n",
       "      <td id=\"T_b0541_row7_col2\" class=\"data row7 col2\" >0.172475</td>\n",
       "      <td id=\"T_b0541_row7_col3\" class=\"data row7 col3\" >0.362283</td>\n",
       "      <td id=\"T_b0541_row7_col4\" class=\"data row7 col4\" >-0.089943</td>\n",
       "      <td id=\"T_b0541_row7_col5\" class=\"data row7 col5\" >-0.248005</td>\n",
       "      <td id=\"T_b0541_row7_col6\" class=\"data row7 col6\" >0.230078</td>\n",
       "      <td id=\"T_b0541_row7_col7\" class=\"data row7 col7\" >1.000000</td>\n",
       "      <td id=\"T_b0541_row7_col8\" class=\"data row7 col8\" >0.006149</td>\n",
       "      <td id=\"T_b0541_row7_col9\" class=\"data row7 col9\" >0.094971</td>\n",
       "    </tr>\n",
       "    <tr>\n",
       "      <th id=\"T_b0541_level0_row8\" class=\"row_heading level0 row8\" >sodium_100g</th>\n",
       "      <td id=\"T_b0541_row8_col0\" class=\"data row8 col0\" >-0.073813</td>\n",
       "      <td id=\"T_b0541_row8_col1\" class=\"data row8 col1\" >-0.043068</td>\n",
       "      <td id=\"T_b0541_row8_col2\" class=\"data row8 col2\" >-0.042277</td>\n",
       "      <td id=\"T_b0541_row8_col3\" class=\"data row8 col3\" >-0.000115</td>\n",
       "      <td id=\"T_b0541_row8_col4\" class=\"data row8 col4\" >-0.069570</td>\n",
       "      <td id=\"T_b0541_row8_col5\" class=\"data row8 col5\" >-0.093882</td>\n",
       "      <td id=\"T_b0541_row8_col6\" class=\"data row8 col6\" >-0.025654</td>\n",
       "      <td id=\"T_b0541_row8_col7\" class=\"data row8 col7\" >0.006149</td>\n",
       "      <td id=\"T_b0541_row8_col8\" class=\"data row8 col8\" >1.000000</td>\n",
       "      <td id=\"T_b0541_row8_col9\" class=\"data row8 col9\" >0.098788</td>\n",
       "    </tr>\n",
       "    <tr>\n",
       "      <th id=\"T_b0541_level0_row9\" class=\"row_heading level0 row9\" >nutrition-score-fr_100g</th>\n",
       "      <td id=\"T_b0541_row9_col0\" class=\"data row9 col0\" >0.626481</td>\n",
       "      <td id=\"T_b0541_row9_col1\" class=\"data row9 col1\" >0.532043</td>\n",
       "      <td id=\"T_b0541_row9_col2\" class=\"data row9 col2\" >0.610809</td>\n",
       "      <td id=\"T_b0541_row9_col3\" class=\"data row9 col3\" >0.221886</td>\n",
       "      <td id=\"T_b0541_row9_col4\" class=\"data row9 col4\" >0.282655</td>\n",
       "      <td id=\"T_b0541_row9_col5\" class=\"data row9 col5\" >0.472238</td>\n",
       "      <td id=\"T_b0541_row9_col6\" class=\"data row9 col6\" >-0.119307</td>\n",
       "      <td id=\"T_b0541_row9_col7\" class=\"data row9 col7\" >0.094971</td>\n",
       "      <td id=\"T_b0541_row9_col8\" class=\"data row9 col8\" >0.098788</td>\n",
       "      <td id=\"T_b0541_row9_col9\" class=\"data row9 col9\" >1.000000</td>\n",
       "    </tr>\n",
       "  </tbody>\n",
       "</table>\n"
      ],
      "text/plain": [
       "<pandas.io.formats.style.Styler at 0x1340142eb50>"
      ]
     },
     "execution_count": 593,
     "metadata": {},
     "output_type": "execute_result"
    }
   ],
   "source": [
    "datacomp_new_df.corr().style.background_gradient()"
   ]
  },
  {
   "cell_type": "markdown",
   "id": "f45c96da",
   "metadata": {},
   "source": [
    "Les resultats semblent plus realistes dans le cas d'une imputation par knn que dans le cas d'une imputation interative imputer"
   ]
  },
  {
   "cell_type": "code",
   "execution_count": 578,
   "id": "73d76951",
   "metadata": {},
   "outputs": [],
   "source": [
    "qual=X_train[['code', 'product_name',  'pnns_groups_1']]"
   ]
  },
  {
   "cell_type": "code",
   "execution_count": 579,
   "id": "7e566fc2",
   "metadata": {},
   "outputs": [],
   "source": [
    "qual.reset_index(inplace=True)"
   ]
  },
  {
   "cell_type": "code",
   "execution_count": 580,
   "id": "46384caa",
   "metadata": {},
   "outputs": [],
   "source": [
    "knndata=qual.join(datacomp_new_df)"
   ]
  },
  {
   "cell_type": "code",
   "execution_count": 581,
   "id": "cb24585a",
   "metadata": {},
   "outputs": [
    {
     "data": {
      "text/plain": [
       "index                      0\n",
       "code                       0\n",
       "product_name               0\n",
       "pnns_groups_1              0\n",
       "energy_100g                0\n",
       "fat_100g                   0\n",
       "saturated-fat_100g         0\n",
       "cholesterol_100g           0\n",
       "carbohydrates_100g         0\n",
       "sugars_100g                0\n",
       "fiber_100g                 0\n",
       "proteins_100g              0\n",
       "sodium_100g                0\n",
       "nutrition-score-fr_100g    0\n",
       "dtype: int64"
      ]
     },
     "execution_count": 581,
     "metadata": {},
     "output_type": "execute_result"
    }
   ],
   "source": [
    "knndata.isna().sum()"
   ]
  },
  {
   "cell_type": "code",
   "execution_count": 582,
   "id": "1d3c7b28",
   "metadata": {},
   "outputs": [],
   "source": [
    "knndata.drop(columns=['index'], inplace=True)"
   ]
  },
  {
   "cell_type": "code",
   "execution_count": 583,
   "id": "825daf04",
   "metadata": {},
   "outputs": [],
   "source": [
    "knndata.to_csv('Knn_train.csv', index=False)"
   ]
  },
  {
   "cell_type": "markdown",
   "id": "66ac0a4b",
   "metadata": {},
   "source": [
    "## Tranform du testing set\n",
    "Pour le test set je fait un transform sans faire de fit pour reduire la correlation entre les resultats"
   ]
  },
  {
   "cell_type": "code",
   "execution_count": 584,
   "id": "b00c95bf",
   "metadata": {},
   "outputs": [],
   "source": [
    "data_test = X_test[all_num]\n",
    "data_test_impute=imputer.transform(data_test) "
   ]
  },
  {
   "cell_type": "code",
   "execution_count": 585,
   "id": "d6df70d2",
   "metadata": {},
   "outputs": [
    {
     "data": {
      "text/html": [
       "<div>\n",
       "<style scoped>\n",
       "    .dataframe tbody tr th:only-of-type {\n",
       "        vertical-align: middle;\n",
       "    }\n",
       "\n",
       "    .dataframe tbody tr th {\n",
       "        vertical-align: top;\n",
       "    }\n",
       "\n",
       "    .dataframe thead th {\n",
       "        text-align: right;\n",
       "    }\n",
       "</style>\n",
       "<table border=\"1\" class=\"dataframe\">\n",
       "  <thead>\n",
       "    <tr style=\"text-align: right;\">\n",
       "      <th></th>\n",
       "      <th>count</th>\n",
       "      <th>mean</th>\n",
       "      <th>std</th>\n",
       "      <th>min</th>\n",
       "      <th>25%</th>\n",
       "      <th>50%</th>\n",
       "      <th>75%</th>\n",
       "      <th>max</th>\n",
       "    </tr>\n",
       "  </thead>\n",
       "  <tbody>\n",
       "    <tr>\n",
       "      <th>energy_100g</th>\n",
       "      <td>38899.0</td>\n",
       "      <td>1124.683490</td>\n",
       "      <td>756.126886</td>\n",
       "      <td>0.0</td>\n",
       "      <td>418.00000</td>\n",
       "      <td>1088.000</td>\n",
       "      <td>1674.000000</td>\n",
       "      <td>6001.191648</td>\n",
       "    </tr>\n",
       "    <tr>\n",
       "      <th>fat_100g</th>\n",
       "      <td>35509.0</td>\n",
       "      <td>12.383270</td>\n",
       "      <td>15.431559</td>\n",
       "      <td>0.0</td>\n",
       "      <td>0.50000</td>\n",
       "      <td>6.430</td>\n",
       "      <td>20.000000</td>\n",
       "      <td>100.000000</td>\n",
       "    </tr>\n",
       "    <tr>\n",
       "      <th>saturated-fat_100g</th>\n",
       "      <td>35389.0</td>\n",
       "      <td>4.983343</td>\n",
       "      <td>7.510934</td>\n",
       "      <td>0.0</td>\n",
       "      <td>0.00000</td>\n",
       "      <td>2.000</td>\n",
       "      <td>7.070000</td>\n",
       "      <td>100.000000</td>\n",
       "    </tr>\n",
       "    <tr>\n",
       "      <th>cholesterol_100g</th>\n",
       "      <td>20315.0</td>\n",
       "      <td>0.018218</td>\n",
       "      <td>0.037800</td>\n",
       "      <td>0.0</td>\n",
       "      <td>0.00000</td>\n",
       "      <td>0.000</td>\n",
       "      <td>0.023000</td>\n",
       "      <td>0.996000</td>\n",
       "    </tr>\n",
       "    <tr>\n",
       "      <th>carbohydrates_100g</th>\n",
       "      <td>35650.0</td>\n",
       "      <td>32.275782</td>\n",
       "      <td>27.896494</td>\n",
       "      <td>0.0</td>\n",
       "      <td>7.00000</td>\n",
       "      <td>23.080</td>\n",
       "      <td>57.140000</td>\n",
       "      <td>100.000000</td>\n",
       "    </tr>\n",
       "    <tr>\n",
       "      <th>sugars_100g</th>\n",
       "      <td>37121.0</td>\n",
       "      <td>15.591373</td>\n",
       "      <td>20.021175</td>\n",
       "      <td>0.0</td>\n",
       "      <td>1.50000</td>\n",
       "      <td>6.000</td>\n",
       "      <td>23.760000</td>\n",
       "      <td>100.000000</td>\n",
       "    </tr>\n",
       "    <tr>\n",
       "      <th>fiber_100g</th>\n",
       "      <td>30914.0</td>\n",
       "      <td>2.818752</td>\n",
       "      <td>4.293195</td>\n",
       "      <td>0.0</td>\n",
       "      <td>0.00000</td>\n",
       "      <td>1.500</td>\n",
       "      <td>3.600000</td>\n",
       "      <td>50.000000</td>\n",
       "    </tr>\n",
       "    <tr>\n",
       "      <th>proteins_100g</th>\n",
       "      <td>38639.0</td>\n",
       "      <td>7.240988</td>\n",
       "      <td>7.927235</td>\n",
       "      <td>0.0</td>\n",
       "      <td>1.25000</td>\n",
       "      <td>5.130</td>\n",
       "      <td>10.000000</td>\n",
       "      <td>100.000000</td>\n",
       "    </tr>\n",
       "    <tr>\n",
       "      <th>sodium_100g</th>\n",
       "      <td>37999.0</td>\n",
       "      <td>0.624532</td>\n",
       "      <td>2.337309</td>\n",
       "      <td>0.0</td>\n",
       "      <td>0.03937</td>\n",
       "      <td>0.257</td>\n",
       "      <td>0.551181</td>\n",
       "      <td>92.500000</td>\n",
       "    </tr>\n",
       "    <tr>\n",
       "      <th>nutrition-score-fr_100g</th>\n",
       "      <td>34370.0</td>\n",
       "      <td>9.277015</td>\n",
       "      <td>8.905430</td>\n",
       "      <td>-14.0</td>\n",
       "      <td>1.00000</td>\n",
       "      <td>10.000</td>\n",
       "      <td>16.000000</td>\n",
       "      <td>40.000000</td>\n",
       "    </tr>\n",
       "  </tbody>\n",
       "</table>\n",
       "</div>"
      ],
      "text/plain": [
       "                           count         mean         std   min        25%  \\\n",
       "energy_100g              38899.0  1124.683490  756.126886   0.0  418.00000   \n",
       "fat_100g                 35509.0    12.383270   15.431559   0.0    0.50000   \n",
       "saturated-fat_100g       35389.0     4.983343    7.510934   0.0    0.00000   \n",
       "cholesterol_100g         20315.0     0.018218    0.037800   0.0    0.00000   \n",
       "carbohydrates_100g       35650.0    32.275782   27.896494   0.0    7.00000   \n",
       "sugars_100g              37121.0    15.591373   20.021175   0.0    1.50000   \n",
       "fiber_100g               30914.0     2.818752    4.293195   0.0    0.00000   \n",
       "proteins_100g            38639.0     7.240988    7.927235   0.0    1.25000   \n",
       "sodium_100g              37999.0     0.624532    2.337309   0.0    0.03937   \n",
       "nutrition-score-fr_100g  34370.0     9.277015    8.905430 -14.0    1.00000   \n",
       "\n",
       "                              50%          75%          max  \n",
       "energy_100g              1088.000  1674.000000  6001.191648  \n",
       "fat_100g                    6.430    20.000000   100.000000  \n",
       "saturated-fat_100g          2.000     7.070000   100.000000  \n",
       "cholesterol_100g            0.000     0.023000     0.996000  \n",
       "carbohydrates_100g         23.080    57.140000   100.000000  \n",
       "sugars_100g                 6.000    23.760000   100.000000  \n",
       "fiber_100g                  1.500     3.600000    50.000000  \n",
       "proteins_100g               5.130    10.000000   100.000000  \n",
       "sodium_100g                 0.257     0.551181    92.500000  \n",
       "nutrition-score-fr_100g    10.000    16.000000    40.000000  "
      ]
     },
     "execution_count": 585,
     "metadata": {},
     "output_type": "execute_result"
    }
   ],
   "source": [
    "data_test.describe().transpose()"
   ]
  },
  {
   "cell_type": "code",
   "execution_count": 586,
   "id": "36f39a36",
   "metadata": {},
   "outputs": [
    {
     "data": {
      "text/plain": [
       "(39043, 10)"
      ]
     },
     "execution_count": 586,
     "metadata": {},
     "output_type": "execute_result"
    }
   ],
   "source": [
    "data_test_impute_df= pd.DataFrame(data_test_impute, columns = all_num)\n",
    "data_test_impute_df.shape"
   ]
  },
  {
   "cell_type": "code",
   "execution_count": 587,
   "id": "bc42bcb4",
   "metadata": {},
   "outputs": [
    {
     "data": {
      "text/html": [
       "<div>\n",
       "<style scoped>\n",
       "    .dataframe tbody tr th:only-of-type {\n",
       "        vertical-align: middle;\n",
       "    }\n",
       "\n",
       "    .dataframe tbody tr th {\n",
       "        vertical-align: top;\n",
       "    }\n",
       "\n",
       "    .dataframe thead th {\n",
       "        text-align: right;\n",
       "    }\n",
       "</style>\n",
       "<table border=\"1\" class=\"dataframe\">\n",
       "  <thead>\n",
       "    <tr style=\"text-align: right;\">\n",
       "      <th></th>\n",
       "      <th>count</th>\n",
       "      <th>mean</th>\n",
       "      <th>std</th>\n",
       "      <th>min</th>\n",
       "      <th>25%</th>\n",
       "      <th>50%</th>\n",
       "      <th>75%</th>\n",
       "      <th>max</th>\n",
       "    </tr>\n",
       "  </thead>\n",
       "  <tbody>\n",
       "    <tr>\n",
       "      <th>energy_100g</th>\n",
       "      <td>39043.0</td>\n",
       "      <td>1123.535035</td>\n",
       "      <td>755.934656</td>\n",
       "      <td>0.0</td>\n",
       "      <td>418.00000</td>\n",
       "      <td>1084.000</td>\n",
       "      <td>1674.000000</td>\n",
       "      <td>6001.191648</td>\n",
       "    </tr>\n",
       "    <tr>\n",
       "      <th>fat_100g</th>\n",
       "      <td>39043.0</td>\n",
       "      <td>11.971055</td>\n",
       "      <td>15.058317</td>\n",
       "      <td>0.0</td>\n",
       "      <td>0.40000</td>\n",
       "      <td>6.030</td>\n",
       "      <td>19.283333</td>\n",
       "      <td>100.000000</td>\n",
       "    </tr>\n",
       "    <tr>\n",
       "      <th>saturated-fat_100g</th>\n",
       "      <td>39043.0</td>\n",
       "      <td>4.684528</td>\n",
       "      <td>7.349806</td>\n",
       "      <td>0.0</td>\n",
       "      <td>0.00000</td>\n",
       "      <td>1.670</td>\n",
       "      <td>6.670000</td>\n",
       "      <td>100.000000</td>\n",
       "    </tr>\n",
       "    <tr>\n",
       "      <th>cholesterol_100g</th>\n",
       "      <td>39043.0</td>\n",
       "      <td>0.018218</td>\n",
       "      <td>0.035755</td>\n",
       "      <td>0.0</td>\n",
       "      <td>0.00000</td>\n",
       "      <td>0.000</td>\n",
       "      <td>0.023300</td>\n",
       "      <td>0.996000</td>\n",
       "    </tr>\n",
       "    <tr>\n",
       "      <th>carbohydrates_100g</th>\n",
       "      <td>39043.0</td>\n",
       "      <td>32.193951</td>\n",
       "      <td>27.329565</td>\n",
       "      <td>0.0</td>\n",
       "      <td>7.14000</td>\n",
       "      <td>24.000</td>\n",
       "      <td>56.140000</td>\n",
       "      <td>100.000000</td>\n",
       "    </tr>\n",
       "    <tr>\n",
       "      <th>sugars_100g</th>\n",
       "      <td>39043.0</td>\n",
       "      <td>15.312767</td>\n",
       "      <td>19.825713</td>\n",
       "      <td>0.0</td>\n",
       "      <td>1.30000</td>\n",
       "      <td>5.830</td>\n",
       "      <td>23.330000</td>\n",
       "      <td>100.000000</td>\n",
       "    </tr>\n",
       "    <tr>\n",
       "      <th>fiber_100g</th>\n",
       "      <td>39043.0</td>\n",
       "      <td>2.681067</td>\n",
       "      <td>4.279887</td>\n",
       "      <td>0.0</td>\n",
       "      <td>0.00000</td>\n",
       "      <td>1.200</td>\n",
       "      <td>3.500000</td>\n",
       "      <td>50.000000</td>\n",
       "    </tr>\n",
       "    <tr>\n",
       "      <th>proteins_100g</th>\n",
       "      <td>39043.0</td>\n",
       "      <td>7.239463</td>\n",
       "      <td>7.931748</td>\n",
       "      <td>0.0</td>\n",
       "      <td>1.22000</td>\n",
       "      <td>5.130</td>\n",
       "      <td>10.000000</td>\n",
       "      <td>100.000000</td>\n",
       "    </tr>\n",
       "    <tr>\n",
       "      <th>sodium_100g</th>\n",
       "      <td>39043.0</td>\n",
       "      <td>0.626700</td>\n",
       "      <td>2.316339</td>\n",
       "      <td>0.0</td>\n",
       "      <td>0.03937</td>\n",
       "      <td>0.259</td>\n",
       "      <td>0.551181</td>\n",
       "      <td>92.500000</td>\n",
       "    </tr>\n",
       "    <tr>\n",
       "      <th>nutrition-score-fr_100g</th>\n",
       "      <td>39043.0</td>\n",
       "      <td>9.369900</td>\n",
       "      <td>8.755494</td>\n",
       "      <td>-14.0</td>\n",
       "      <td>2.00000</td>\n",
       "      <td>10.000</td>\n",
       "      <td>16.000000</td>\n",
       "      <td>40.000000</td>\n",
       "    </tr>\n",
       "  </tbody>\n",
       "</table>\n",
       "</div>"
      ],
      "text/plain": [
       "                           count         mean         std   min        25%  \\\n",
       "energy_100g              39043.0  1123.535035  755.934656   0.0  418.00000   \n",
       "fat_100g                 39043.0    11.971055   15.058317   0.0    0.40000   \n",
       "saturated-fat_100g       39043.0     4.684528    7.349806   0.0    0.00000   \n",
       "cholesterol_100g         39043.0     0.018218    0.035755   0.0    0.00000   \n",
       "carbohydrates_100g       39043.0    32.193951   27.329565   0.0    7.14000   \n",
       "sugars_100g              39043.0    15.312767   19.825713   0.0    1.30000   \n",
       "fiber_100g               39043.0     2.681067    4.279887   0.0    0.00000   \n",
       "proteins_100g            39043.0     7.239463    7.931748   0.0    1.22000   \n",
       "sodium_100g              39043.0     0.626700    2.316339   0.0    0.03937   \n",
       "nutrition-score-fr_100g  39043.0     9.369900    8.755494 -14.0    2.00000   \n",
       "\n",
       "                              50%          75%          max  \n",
       "energy_100g              1084.000  1674.000000  6001.191648  \n",
       "fat_100g                    6.030    19.283333   100.000000  \n",
       "saturated-fat_100g          1.670     6.670000   100.000000  \n",
       "cholesterol_100g            0.000     0.023300     0.996000  \n",
       "carbohydrates_100g         24.000    56.140000   100.000000  \n",
       "sugars_100g                 5.830    23.330000   100.000000  \n",
       "fiber_100g                  1.200     3.500000    50.000000  \n",
       "proteins_100g               5.130    10.000000   100.000000  \n",
       "sodium_100g                 0.259     0.551181    92.500000  \n",
       "nutrition-score-fr_100g    10.000    16.000000    40.000000  "
      ]
     },
     "execution_count": 587,
     "metadata": {},
     "output_type": "execute_result"
    }
   ],
   "source": [
    "data_test_impute_df.describe().transpose()"
   ]
  },
  {
   "cell_type": "code",
   "execution_count": 588,
   "id": "266413c9",
   "metadata": {},
   "outputs": [
    {
     "data": {
      "text/plain": [
       "(39043, 3)"
      ]
     },
     "execution_count": 588,
     "metadata": {},
     "output_type": "execute_result"
    }
   ],
   "source": [
    "qual=X_test[['code', 'product_name', 'pnns_groups_1']]\n",
    "qual.shape"
   ]
  },
  {
   "cell_type": "code",
   "execution_count": 589,
   "id": "24eaa560",
   "metadata": {},
   "outputs": [],
   "source": [
    "qual.reset_index(inplace=True)"
   ]
  },
  {
   "cell_type": "code",
   "execution_count": 590,
   "id": "63263f64",
   "metadata": {},
   "outputs": [],
   "source": [
    "knndata_test=qual.join(data_test_impute_df)\n",
    "knndata_test.drop(columns=['index'], inplace=True)"
   ]
  },
  {
   "cell_type": "code",
   "execution_count": 591,
   "id": "023c10a8",
   "metadata": {},
   "outputs": [],
   "source": [
    "knndata_test.to_csv('Knn_test.csv', index=False)"
   ]
  },
  {
   "cell_type": "code",
   "execution_count": null,
   "id": "b9c0f307",
   "metadata": {},
   "outputs": [],
   "source": []
  }
 ],
 "metadata": {
  "kernelspec": {
   "display_name": "Python 3 (ipykernel)",
   "language": "python",
   "name": "python3"
  },
  "language_info": {
   "codemirror_mode": {
    "name": "ipython",
    "version": 3
   },
   "file_extension": ".py",
   "mimetype": "text/x-python",
   "name": "python",
   "nbconvert_exporter": "python",
   "pygments_lexer": "ipython3",
   "version": "3.9.7"
  }
 },
 "nbformat": 4,
 "nbformat_minor": 5
}
